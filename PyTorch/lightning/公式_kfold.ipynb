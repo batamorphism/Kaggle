{
 "cells": [
  {
   "cell_type": "markdown",
   "metadata": {},
   "source": [
    "<https://github.com/PyTorchLightning/pytorch-lightning/blob/master/pl_examples/loop_examples/kfold.py>"
   ]
  },
  {
   "cell_type": "markdown",
   "metadata": {},
   "source": [
    "## Import Lib"
   ]
  },
  {
   "cell_type": "code",
   "execution_count": 1,
   "metadata": {},
   "outputs": [
    {
     "ename": "ModuleNotFoundError",
     "evalue": "No module named 'pl_examples'",
     "output_type": "error",
     "traceback": [
      "\u001b[1;31m---------------------------------------------------------------------------\u001b[0m",
      "\u001b[1;31mModuleNotFoundError\u001b[0m                       Traceback (most recent call last)",
      "\u001b[1;32md:\\Users\\Takanori\\Documents\\github\\Kaggle\\PyTorch\\公式_kfold.ipynb Cell 3'\u001b[0m in \u001b[0;36m<cell line: 16>\u001b[1;34m()\u001b[0m\n\u001b[0;32m     <a href='vscode-notebook-cell:/d%3A/Users/Takanori/Documents/github/Kaggle/PyTorch/%E5%85%AC%E5%BC%8F_kfold.ipynb#ch0000000?line=12'>13</a>\u001b[0m \u001b[39mfrom\u001b[39;00m \u001b[39mtorch\u001b[39;00m\u001b[39m.\u001b[39;00m\u001b[39mutils\u001b[39;00m\u001b[39m.\u001b[39;00m\u001b[39mdata\u001b[39;00m\u001b[39m.\u001b[39;00m\u001b[39mdataset\u001b[39;00m \u001b[39mimport\u001b[39;00m Dataset, Subset\n\u001b[0;32m     <a href='vscode-notebook-cell:/d%3A/Users/Takanori/Documents/github/Kaggle/PyTorch/%E5%85%AC%E5%BC%8F_kfold.ipynb#ch0000000?line=13'>14</a>\u001b[0m \u001b[39mfrom\u001b[39;00m \u001b[39mtorchmetrics\u001b[39;00m\u001b[39m.\u001b[39;00m\u001b[39mclassification\u001b[39;00m\u001b[39m.\u001b[39;00m\u001b[39maccuracy\u001b[39;00m \u001b[39mimport\u001b[39;00m Accuracy\n\u001b[1;32m---> <a href='vscode-notebook-cell:/d%3A/Users/Takanori/Documents/github/Kaggle/PyTorch/%E5%85%AC%E5%BC%8F_kfold.ipynb#ch0000000?line=15'>16</a>\u001b[0m \u001b[39mfrom\u001b[39;00m \u001b[39mpl_examples\u001b[39;00m \u001b[39mimport\u001b[39;00m _DATASETS_PATH\n\u001b[0;32m     <a href='vscode-notebook-cell:/d%3A/Users/Takanori/Documents/github/Kaggle/PyTorch/%E5%85%AC%E5%BC%8F_kfold.ipynb#ch0000000?line=16'>17</a>\u001b[0m \u001b[39mfrom\u001b[39;00m \u001b[39mpl_examples\u001b[39;00m\u001b[39m.\u001b[39;00m\u001b[39mbasic_examples\u001b[39;00m\u001b[39m.\u001b[39;00m\u001b[39mmnist_datamodule\u001b[39;00m \u001b[39mimport\u001b[39;00m MNIST\n\u001b[0;32m     <a href='vscode-notebook-cell:/d%3A/Users/Takanori/Documents/github/Kaggle/PyTorch/%E5%85%AC%E5%BC%8F_kfold.ipynb#ch0000000?line=17'>18</a>\u001b[0m \u001b[39mfrom\u001b[39;00m \u001b[39mpl_examples\u001b[39;00m\u001b[39m.\u001b[39;00m\u001b[39mbasic_examples\u001b[39;00m\u001b[39m.\u001b[39;00m\u001b[39mmnist_examples\u001b[39;00m\u001b[39m.\u001b[39;00m\u001b[39mimage_classifier_4_lightning_module\u001b[39;00m \u001b[39mimport\u001b[39;00m ImageClassifier\n",
      "\u001b[1;31mModuleNotFoundError\u001b[0m: No module named 'pl_examples'"
     ]
    }
   ],
   "source": [
    "import os.path as osp\n",
    "from abc import ABC, abstractmethod\n",
    "from copy import deepcopy\n",
    "from dataclasses import dataclass\n",
    "from typing import Any, Dict, List, Optional, Type\n",
    "\n",
    "import torch\n",
    "import torchvision.transforms as T\n",
    "from sklearn.model_selection import KFold\n",
    "from torch.nn import functional as F\n",
    "from torch.utils.data import random_split\n",
    "from torch.utils.data.dataloader import DataLoader\n",
    "from torch.utils.data.dataset import Dataset, Subset\n",
    "from torchmetrics.classification.accuracy import Accuracy\n",
    "\n",
    "from pl_examples import _DATASETS_PATH\n",
    "from pl_examples.basic_examples.mnist_datamodule import MNIST\n",
    "from pl_examples.basic_examples.mnist_examples.image_classifier_4_lightning_module import ImageClassifier\n",
    "from pytorch_lightning import LightningDataModule, seed_everything, Trainer\n",
    "from pytorch_lightning.core.lightning import LightningModule\n",
    "from pytorch_lightning.loops.base import Loop\n",
    "from pytorch_lightning.loops.fit_loop import FitLoop\n",
    "from pytorch_lightning.trainer.states import TrainerFn"
   ]
  },
  {
   "cell_type": "markdown",
   "metadata": {},
   "source": [
    "## Step1\n",
    "\n",
    "KFold DataModule は `setup_folds` と `setup_fold_index` メソッドを実装する必要があります。"
   ]
  },
  {
   "cell_type": "code",
   "execution_count": null,
   "metadata": {},
   "outputs": [],
   "source": [
    "class BaseKFoldDataModule(LightningDataModule, ABC):\n",
    "    # 抽象クラスで、必要なメソッドを定義する\n",
    "    @abstractmethod\n",
    "    def setup_folds(self, num_folds: int) -> None:\n",
    "        pass\n",
    "\n",
    "    @abstractmethod\n",
    "    def setup_fold_index(self, fold_index: int) -> None:\n",
    "        pass"
   ]
  },
  {
   "cell_type": "markdown",
   "metadata": {},
   "source": [
    "## Step2\n",
    "\n",
    "`KFoldDataModule` は、訓練データとテストデータセットを受け取る。\n",
    "`setup_folds` では、与えられた引数 `num_folds` に応じてフォルドが生成される。 `setup_fold_index` では、与えられた訓練データセットが現在のフォルド分割に応じて分割される。"
   ]
  },
  {
   "cell_type": "code",
   "execution_count": null,
   "metadata": {},
   "outputs": [],
   "source": [
    "@dataclass  # __init__や__str__等の特殊メソッドを自動生成する\n",
    "class MNISTKFoldDataModule(BaseKFoldDataModule):\n",
    "\n",
    "    train_dataset: Optional[Dataset] = None\n",
    "    test_dataset: Optional[Dataset] = None\n",
    "    train_fold: Optional[Dataset] = None\n",
    "    val_fold: Optional[Dataset] = None\n",
    "\n",
    "    def prepare_data(self) -> None:\n",
    "        # データセットの準備を行う\n",
    "        # この関数はマルチ GPU 環境では、1つの GPU でしか呼ばれないため、状態を変更するような処理は行ってはいけない。\n",
    "        MNIST(_DATASETS_PATH, transform=T.Compose([T.ToTensor(), T.Normalize(mean=(0.5,), std=(0.5,))]))\n",
    "\n",
    "    def setup(self, stage: Optional[str] = None) -> None:\n",
    "        # データを読み込んでデータセットを作成するなどの処理を行います。\n",
    "        # どの段階のデータセットを準備する必要があるのかが引数 stage で渡される\n",
    "        # 今回は、train_datasetとtest_datasetを分解する\n",
    "        dataset = MNIST(_DATASETS_PATH, transform=T.Compose([T.ToTensor(), T.Normalize(mean=(0.5,), std=(0.5,))]))\n",
    "        self.train_dataset, self.test_dataset = random_split(dataset, [50000, 10000])\n",
    "\n",
    "    def setup_folds(self, num_folds: int) -> None:\n",
    "        # 必須のメソッドです。\n",
    "        self.num_folds = num_folds\n",
    "        # [0, ..., train_datasetのレコード数-1]をKFoldして得られた\n",
    "        # KFold用のindexを、splitsに格納する\n",
    "        self.splits = [split for split in KFold(num_folds).split(range(len(self.train_dataset)))]\n",
    "\n",
    "    def setup_fold_index(self, fold_index: int) -> None:\n",
    "        # 必須のメソッドです。\n",
    "        # あらかじめ計算されたsplitsに従い、データを分割したものを\n",
    "        # train_foldとval_foldに返す\n",
    "        train_indices, val_indices = self.splits[fold_index]\n",
    "        self.train_fold = Subset(self.train_dataset, train_indices)\n",
    "        self.val_fold = Subset(self.train_dataset, val_indices)\n",
    "\n",
    "    def train_dataloader(self) -> DataLoader:\n",
    "        return DataLoader(self.train_fold)\n",
    "\n",
    "    def val_dataloader(self) -> DataLoader:\n",
    "        return DataLoader(self.val_fold)\n",
    "\n",
    "    def test_dataloader(self) -> DataLoader:\n",
    "        return DataLoader(self.test_dataset)\n",
    "\n",
    "    def __post_init__(cls):\n",
    "        super().__init__()"
   ]
  },
  {
   "cell_type": "markdown",
   "metadata": {},
   "source": [
    "## Step3\n",
    "\n",
    "`EnsembleVotingModel` は、カスタム LightningModule と複数の checkpoint_path を受け取ります。"
   ]
  },
  {
   "cell_type": "code",
   "execution_count": null,
   "metadata": {},
   "outputs": [],
   "source": [
    "class EnsembleVotingModel(LightningModule):\n",
    "    def __init__(self, model_cls: Type[LightningModule], checkpoint_paths: List[str]) -> None:\n",
    "        super().__init__()\n",
    "        # `num_folds` モデルとそれに関連するフォールドの重みを作成する。\n",
    "        self.models = torch.nn.ModuleList([model_cls.load_from_checkpoint(p) for p in checkpoint_paths])\n",
    "        self.test_acc = Accuracy()\n",
    "\n",
    "    def test_step(self, batch: Any, batch_idx: int, dataloader_idx: int = 0) -> None:\n",
    "        # `num_folds` 個のモデルについて、平均化された予測値を計算する。\n",
    "        logits = torch.stack([m(batch[0]) for m in self.models]).mean(0)\n",
    "        loss = F.nll_loss(logits, batch[1])\n",
    "        self.test_acc(logits, batch[1])\n",
    "        self.log(\"test_acc\", self.test_acc)\n",
    "        self.log(\"test_loss\", loss)"
   ]
  },
  {
   "cell_type": "markdown",
   "metadata": {},
   "source": [
    "## Step 4\n",
    "\n",
    "Lightning v1.5から、独自のループを実装することが可能になりました。そのためにはいくつかのステップがあり、詳しくはドキュメントに記載されています。\n",
    "https://pytorch-lightning.readthedocs.io/en/latest/extensions/loops.html\n",
    "ここでは、外側のfit_loopを実装します。つまり、ベースループのサブクラスを実装して、現在のトレーナー `fit_loop` をラップします。"
   ]
  },
  {
   "cell_type": "code",
   "execution_count": null,
   "metadata": {},
   "outputs": [],
   "source": [
    "class KFoldLoop(Loop):\n",
    "    def __init__(self, num_folds: int, export_path: str) -> None:\n",
    "        super().__init__()\n",
    "        self.num_folds = num_folds\n",
    "        self.current_fold: int = 0\n",
    "        self.export_path = export_path\n",
    "\n",
    "    @property\n",
    "    def done(self) -> bool:\n",
    "        return self.current_fold >= self.num_folds\n",
    "\n",
    "    def connect(self, fit_loop: FitLoop) -> None:\n",
    "        self.fit_loop = fit_loop\n",
    "\n",
    "    def reset(self) -> None:\n",
    "        \"\"\"Nothing to reset in this loop.\"\"\"\n",
    "\n",
    "    def on_run_start(self, *args: Any, **kwargs: Any) -> None:\n",
    "        \"\"\"Used to call `setup_folds` from the `BaseKFoldDataModule` instance and store the original weights of the\n",
    "        model.\"\"\"\n",
    "        assert isinstance(self.trainer.datamodule, BaseKFoldDataModule)\n",
    "        self.trainer.datamodule.setup_folds(self.num_folds)\n",
    "        self.lightning_module_state_dict = deepcopy(self.trainer.lightning_module.state_dict())\n",
    "\n",
    "    def on_advance_start(self, *args: Any, **kwargs: Any) -> None:\n",
    "        \"\"\"Used to call `setup_fold_index` from the `BaseKFoldDataModule` instance.\"\"\"\n",
    "        print(f\"STARTING FOLD {self.current_fold}\")\n",
    "        assert isinstance(self.trainer.datamodule, BaseKFoldDataModule)\n",
    "        self.trainer.datamodule.setup_fold_index(self.current_fold)\n",
    "\n",
    "    def advance(self, *args: Any, **kwargs: Any) -> None:\n",
    "        \"\"\"Used to the run a fitting and testing on the current hold.\"\"\"\n",
    "        self._reset_fitting()  # requires to reset the tracking stage.\n",
    "        self.fit_loop.run()\n",
    "\n",
    "        self._reset_testing()  # requires to reset the tracking stage.\n",
    "        self.trainer.test_loop.run()\n",
    "        self.current_fold += 1  # increment fold tracking number.\n",
    "\n",
    "    def on_advance_end(self) -> None:\n",
    "        \"\"\"Used to save the weights of the current fold and reset the LightningModule and its optimizers.\"\"\"\n",
    "        self.trainer.save_checkpoint(osp.join(self.export_path, f\"model.{self.current_fold}.pt\"))\n",
    "        # restore the original weights + optimizers and schedulers.\n",
    "        self.trainer.lightning_module.load_state_dict(self.lightning_module_state_dict)\n",
    "        self.trainer.strategy.setup_optimizers(self.trainer)\n",
    "        self.replace(fit_loop=FitLoop)\n",
    "\n",
    "    def on_run_end(self) -> None:\n",
    "        \"\"\"Used to compute the performance of the ensemble model on the test set.\"\"\"\n",
    "        checkpoint_paths = [osp.join(self.export_path, f\"model.{f_idx + 1}.pt\") for f_idx in range(self.num_folds)]\n",
    "        voting_model = EnsembleVotingModel(type(self.trainer.lightning_module), checkpoint_paths)\n",
    "        voting_model.trainer = self.trainer\n",
    "        # This requires to connect the new model and move it the right device.\n",
    "        self.trainer.strategy.connect(voting_model)\n",
    "        self.trainer.strategy.model_to_device()\n",
    "        self.trainer.test_loop.run()\n",
    "\n",
    "    def on_save_checkpoint(self) -> Dict[str, int]:\n",
    "        return {\"current_fold\": self.current_fold}\n",
    "\n",
    "    def on_load_checkpoint(self, state_dict: Dict) -> None:\n",
    "        self.current_fold = state_dict[\"current_fold\"]\n",
    "\n",
    "    def _reset_fitting(self) -> None:\n",
    "        self.trainer.reset_train_dataloader()\n",
    "        self.trainer.reset_val_dataloader()\n",
    "        self.trainer.state.fn = TrainerFn.FITTING\n",
    "        self.trainer.training = True\n",
    "\n",
    "    def _reset_testing(self) -> None:\n",
    "        self.trainer.reset_test_dataloader()\n",
    "        self.trainer.state.fn = TrainerFn.TESTING\n",
    "        self.trainer.testing = True\n",
    "\n",
    "    def __getattr__(self, key) -> Any:\n",
    "        # requires to be overridden as attributes of the wrapped loop are being accessed.\n",
    "        if key not in self.__dict__:\n",
    "            return getattr(self.fit_loop, key)\n",
    "        return self.__dict__[key]\n",
    "\n",
    "    def __setstate__(self, state: Dict[str, Any]) -> None:\n",
    "        self.__dict__.update(state)\n",
    "\n",
    "\n",
    "class LitImageClassifier(ImageClassifier):\n",
    "    def __init__(self) -> None:\n",
    "        super().__init__()\n",
    "        self.val_acc = Accuracy()\n",
    "\n",
    "    def validation_step(self, batch: Any, batch_idx: int) -> None:\n",
    "        x, y = batch\n",
    "        logits = self.forward(x)\n",
    "        loss = F.nll_loss(logits, y.long())\n",
    "        self.val_acc(logits, y)\n",
    "        self.log(\"val_acc\", self.val_acc)\n",
    "        self.log(\"val_loss\", loss)"
   ]
  },
  {
   "cell_type": "markdown",
   "metadata": {},
   "source": [
    "## Step5\n",
    "\n",
    "KFoldDataModule` とモデルを作成した後、`KFoldLoop` を Trainer に接続します。\n",
    "最後に、`trainer.fit` を使ってクロスバリデーションの学習を開始する。"
   ]
  },
  {
   "cell_type": "code",
   "execution_count": null,
   "metadata": {},
   "outputs": [],
   "source": [
    "seed_everything(42)\n",
    "model = LitImageClassifier()\n",
    "datamodule = MNISTKFoldDataModule()\n",
    "trainer = Trainer(\n",
    "    max_epochs=10,\n",
    "    limit_train_batches=2,\n",
    "    limit_val_batches=2,\n",
    "    limit_test_batches=2,\n",
    "    num_sanity_val_steps=0,\n",
    "    devices=2,\n",
    "    accelerator=\"auto\",\n",
    "    strategy=\"ddp\",\n",
    ")\n",
    "internal_fit_loop = trainer.fit_loop\n",
    "trainer.fit_loop = KFoldLoop(5, export_path=\"./\")\n",
    "trainer.fit_loop.connect(internal_fit_loop)\n",
    "trainer.fit(model, datamodule)"
   ]
  }
 ],
 "metadata": {
  "interpreter": {
   "hash": "60f8cdbf2a96461788475085dd1e9d6dd7137de331e19aa3c17c37cb4f0963a7"
  },
  "kernelspec": {
   "display_name": "Python 3.8.13 ('yourenvname')",
   "language": "python",
   "name": "python3"
  },
  "language_info": {
   "codemirror_mode": {
    "name": "ipython",
    "version": 3
   },
   "file_extension": ".py",
   "mimetype": "text/x-python",
   "name": "python",
   "nbconvert_exporter": "python",
   "pygments_lexer": "ipython3",
   "version": "3.8.13"
  },
  "orig_nbformat": 4
 },
 "nbformat": 4,
 "nbformat_minor": 2
}
