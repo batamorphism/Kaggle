{
 "cells": [
  {
   "cell_type": "code",
   "execution_count": 3,
   "metadata": {},
   "outputs": [],
   "source": [
    "from kaggle.api.kaggle_api_extended import KaggleApi\n",
    "import csv"
   ]
  },
  {
   "cell_type": "code",
   "execution_count": 4,
   "metadata": {},
   "outputs": [],
   "source": [
    "# get api\n",
    "kaggle_api = KaggleApi()\n",
    "kaggle_api.authenticate()"
   ]
  },
  {
   "cell_type": "code",
   "execution_count": 5,
   "metadata": {},
   "outputs": [],
   "source": [
    "# setup competions\n",
    "competition_name = \"titanic\"\n",
    "\n",
    "# create csv\n",
    "csv_dir = 'D:\\\\Users\\\\Takanori\\\\Documents\\\\Kaggle_Work_Folder\\\\'\n",
    "csv_name = 'test.csv'"
   ]
  },
  {
   "cell_type": "code",
   "execution_count": null,
   "metadata": {},
   "outputs": [],
   "source": [
    "# download zip\n",
    "kaggle_api.competition_download_files(competition_name)"
   ]
  },
  {
   "cell_type": "code",
   "execution_count": null,
   "metadata": {},
   "outputs": [],
   "source": [
    "# create output csv\n",
    "csv_path = csv_dir + csv_name\n",
    "with open(csv_path, 'a') as f:\n",
    "    writer = csv.writer(f)\n",
    "    writer.writerow('test')"
   ]
  },
  {
   "cell_type": "code",
   "execution_count": 13,
   "metadata": {},
   "outputs": [
    {
     "name": "stderr",
     "output_type": "stream",
     "text": [
      "100%|██████████| 20.0/20.0 [00:03<00:00, 5.48B/s]\n"
     ]
    },
    {
     "data": {
      "text/plain": [
       "Successfully submitted to Titanic - Machine Learning from Disaster"
      ]
     },
     "execution_count": 13,
     "metadata": {},
     "output_type": "execute_result"
    }
   ],
   "source": [
    "# submit csv\n",
    "kaggle_api.competition_submit(csv_path, \"hoge\", \"titanic\")"
   ]
  }
 ],
 "metadata": {
  "interpreter": {
   "hash": "f2a1534ca7ab28c7e826feaf6171392fbba122c8b12f3f6922ef1415ce719538"
  },
  "kernelspec": {
   "display_name": "Python 3.9.7 64-bit",
   "language": "python",
   "name": "python3"
  },
  "language_info": {
   "codemirror_mode": {
    "name": "ipython",
    "version": 3
   },
   "file_extension": ".py",
   "mimetype": "text/x-python",
   "name": "python",
   "nbconvert_exporter": "python",
   "pygments_lexer": "ipython3",
   "version": "3.9.7"
  },
  "orig_nbformat": 4
 },
 "nbformat": 4,
 "nbformat_minor": 2
}
