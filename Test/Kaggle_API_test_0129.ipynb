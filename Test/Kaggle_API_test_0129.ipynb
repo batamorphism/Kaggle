{
 "cells": [
  {
   "cell_type": "code",
   "execution_count": 12,
   "metadata": {},
   "outputs": [],
   "source": [
    "class KaggleLoadSubmit:\n",
    "    def __init__(self, competition_name, csv_dir):\n",
    "        \"\"\"Kaggleのデータのダウンロードおよび提出を行うクラス\n",
    "\n",
    "        Args:\n",
    "            competition_name (string): Kaggleのコンペ名\n",
    "            csv_dir (string): ダウンロード先と、提出先のcsvのディレクトリをstringで指定\n",
    "        \"\"\"\n",
    "        self.kaggle_api = KaggleApi()\n",
    "        self.csv_dir = csv_dir\n",
    "        self.competition_name = competition_name\n",
    "        if self.csv_dir[-1] != '\\\\':\n",
    "            self.csv_dir += '\\\\'\n",
    "        self.kaggle_api.authenticate()\n",
    "\n",
    "    def download_zip(self):\n",
    "        \"\"\"コンペティションのzipファイルをダウンロードする\n",
    "        \"\"\"\n",
    "        ret = self.kaggle_api.competition_download_files(self.competition_name, self.csv_dir, force=True)\n",
    "        print(ret)\n",
    "\n",
    "    def submit_csv(self, csv_name, message):\n",
    "        \"\"\"csvデータを提出する\n",
    "\n",
    "        Args:\n",
    "            csv_name (string): csvの名前\n",
    "            message (string): 提出メッセージ\n",
    "        \"\"\"\n",
    "        csv_path = self.csv_dir + csv_name\n",
    "        self.kaggle_api.competition_submit(csv_path, message, self.competition_name)"
   ]
  },
  {
   "cell_type": "code",
   "execution_count": 13,
   "metadata": {},
   "outputs": [
    {
     "name": "stdout",
     "output_type": "stream",
     "text": [
      "None\n"
     ]
    },
    {
     "name": "stderr",
     "output_type": "stream",
     "text": [
      "100%|██████████| 30.0/30.0 [00:03<00:00, 8.59B/s]\n"
     ]
    }
   ],
   "source": [
    "kls = KaggleLoadSubmit('titanic', 'D:\\\\Users\\\\Takanori\\\\Documents\\\\Kaggle_Work_Folder\\\\')\n",
    "kls.download_zip()\n",
    "kls.submit_csv('test.csv', 'hoge')"
   ]
  },
  {
   "cell_type": "markdown",
   "metadata": {},
   "source": []
  }
 ],
 "metadata": {
  "interpreter": {
   "hash": "f2a1534ca7ab28c7e826feaf6171392fbba122c8b12f3f6922ef1415ce719538"
  },
  "kernelspec": {
   "display_name": "Python 3.9.7 64-bit",
   "language": "python",
   "name": "python3"
  },
  "language_info": {
   "codemirror_mode": {
    "name": "ipython",
    "version": 3
   },
   "file_extension": ".py",
   "mimetype": "text/x-python",
   "name": "python",
   "nbconvert_exporter": "python",
   "pygments_lexer": "ipython3",
   "version": "3.9.7"
  },
  "orig_nbformat": 4
 },
 "nbformat": 4,
 "nbformat_minor": 2
}
