{
 "cells": [
  {
   "cell_type": "code",
   "execution_count": 61,
   "metadata": {},
   "outputs": [],
   "source": [
    "from kaggle.api.kaggle_api_extended import KaggleApi\n",
    "import csv\n",
    "import os"
   ]
  },
  {
   "cell_type": "code",
   "execution_count": 62,
   "metadata": {},
   "outputs": [],
   "source": [
    "class KaggleLoadSubmit:\n",
    "    def __init__(self, competition_name, csv_dir):\n",
    "        \"\"\"Kaggleのデータのダウンロードおよび提出を行うクラス\n",
    "\n",
    "        Args:\n",
    "            competition_name (string): Kaggleのコンペ名\n",
    "            csv_dir (string): ダウンロード先と、提出先のcsvのディレクトリをstringで指定\n",
    "        \"\"\"\n",
    "        self.kaggle_api = KaggleApi()\n",
    "        self.csv_dir = csv_dir\n",
    "        self.competition_name = competition_name\n",
    "        if self.csv_dir[-1] != '\\\\':\n",
    "            self.csv_dir += '\\\\'\n",
    "        self.kaggle_api.authenticate()\n",
    "\n",
    "    def download_zip(self):\n",
    "        \"\"\"コンペティションのzipファイルをダウンロードする\n",
    "        \"\"\"\n",
    "        ret = self.kaggle_api.competition_download_files(self.competition_name, self.csv_dir, force=True)\n",
    "        print(ret)\n",
    "\n",
    "    def submit_csv(self, csv_name, message):\n",
    "        \"\"\"csvデータを提出する\n",
    "\n",
    "        Args:\n",
    "            csv_name (string): csvの名前\n",
    "            message (string): 提出メッセージ\n",
    "        \"\"\"\n",
    "        csv_path = self.csv_dir + csv_name\n",
    "        self.kaggle_api.competition_submit(csv_path, message, self.competition_name)"
   ]
  },
  {
   "cell_type": "code",
   "execution_count": 63,
   "metadata": {},
   "outputs": [],
   "source": [
    "kls = KaggleLoadSubmit('titanic', 'C:\\\\Users\\\\Takanori\\\\Desktop\\\\Kaggle\\\\titanic\\\\data')"
   ]
  },
  {
   "cell_type": "markdown",
   "metadata": {},
   "source": [
    "# Titanic\n",
    "https://www.kaggle.com/c/titanic/"
   ]
  },
  {
   "cell_type": "code",
   "execution_count": 64,
   "metadata": {},
   "outputs": [],
   "source": [
    "import numpy as np\n",
    "import pandas as pd"
   ]
  },
  {
   "cell_type": "code",
   "execution_count": 65,
   "metadata": {},
   "outputs": [],
   "source": [
    "# データの読み込み\n",
    "data_dir = 'C:\\\\Users\\\\Takanori\\\\Desktop\\\\Kaggle\\\\titanic\\\\data'\n",
    "train = pd.read_csv(os.path.join(data_dir, 'train.csv'))\n",
    "test = pd.read_csv(os.path.join(data_dir, 'test.csv'))\n",
    "\n",
    "def fix(data):\n",
    "    # 明らかに要らないデータを削除\n",
    "    delete_columns = ['Name', 'PassengerId', 'Ticket', 'Cabin']\n",
    "    data.drop(delete_columns, axis=1, inplace=True)\n",
    "    # 文字列を数値に\n",
    "    data['Sex'].replace(['male', 'female'], [0, 1], inplace=True)\n",
    "    data['Embarked'].fillna(('S'), inplace=True)\n",
    "    data['Embarked'] = data['Embarked'].map({'S': 0, 'C': 1, 'Q': 2}).astype(int)\n",
    "    data['Fare'].fillna(np.mean(data['Fare']), inplace=True)\n",
    "    data['Age'].fillna(data['Age'].median(), inplace=True)\n",
    "    data['FamilySize'] = data['Parch'] + data['SibSp'] + 1\n",
    "    data['IsAlone'] = 0\n",
    "    data.loc[data['FamilySize'] == 1, 'IsAlone'] = 1\n",
    "\n",
    "for data in [train, test]:\n",
    "    fix(data)\n"
   ]
  },
  {
   "cell_type": "code",
   "execution_count": 66,
   "metadata": {},
   "outputs": [],
   "source": [
    "# LightGBM\n",
    "# 1.データを学習用と検証用に分割\n",
    "X_train = train.drop('Survived', axis=1)\n",
    "Y_train = train['Survived']\n",
    "X_test = test[:]\n",
    "\n",
    "from sklearn.model_selection import train_test_split\n",
    "X_train, X_valid, Y_train, Y_valid = train_test_split(X_train, Y_train, test_size=0.3, random_state=0, stratify=Y_train)"
   ]
  },
  {
   "cell_type": "code",
   "execution_count": 67,
   "metadata": {},
   "outputs": [],
   "source": [
    "# 2. カテゴリ変数（文字列等）を列挙\n",
    "categorical_features = ['Embarked', 'Pclass', 'Sex']"
   ]
  },
  {
   "cell_type": "code",
   "execution_count": 68,
   "metadata": {},
   "outputs": [
    {
     "name": "stdout",
     "output_type": "stream",
     "text": [
      "[LightGBM] [Info] Number of positive: 239, number of negative: 384\n",
      "[LightGBM] [Warning] Auto-choosing row-wise multi-threading, the overhead of testing was 0.000155 seconds.\n",
      "You can set `force_row_wise=true` to remove the overhead.\n",
      "And if memory is not enough, you can set `force_col_wise=true`.\n",
      "[LightGBM] [Info] Total Bins 205\n",
      "[LightGBM] [Info] Number of data points in the train set: 623, number of used features: 9\n",
      "[LightGBM] [Info] [binary:BoostFromScore]: pavg=0.383628 -> initscore=-0.474179\n",
      "[LightGBM] [Info] Start training from score -0.474179\n",
      "[LightGBM] [Warning] No further splits with positive gain, best gain: -inf\n",
      "Training until validation scores don't improve for 10 rounds\n",
      "[LightGBM] [Warning] No further splits with positive gain, best gain: -inf\n",
      "[LightGBM] [Warning] No further splits with positive gain, best gain: -inf\n",
      "[LightGBM] [Warning] No further splits with positive gain, best gain: -inf\n",
      "[LightGBM] [Warning] No further splits with positive gain, best gain: -inf\n",
      "[LightGBM] [Warning] No further splits with positive gain, best gain: -inf\n",
      "[LightGBM] [Warning] No further splits with positive gain, best gain: -inf\n",
      "[LightGBM] [Warning] No further splits with positive gain, best gain: -inf\n",
      "[LightGBM] [Warning] No further splits with positive gain, best gain: -inf\n",
      "[LightGBM] [Warning] No further splits with positive gain, best gain: -inf\n",
      "[10]\ttraining's binary_logloss: 0.420386\tvalid_1's binary_logloss: 0.476708\n",
      "[LightGBM] [Warning] No further splits with positive gain, best gain: -inf\n",
      "[LightGBM] [Warning] No further splits with positive gain, best gain: -inf\n",
      "[LightGBM] [Warning] No further splits with positive gain, best gain: -inf\n",
      "[LightGBM] [Warning] No further splits with positive gain, best gain: -inf\n",
      "[LightGBM] [Warning] No further splits with positive gain, best gain: -inf\n",
      "[LightGBM] [Warning] No further splits with positive gain, best gain: -inf\n",
      "[LightGBM] [Warning] No further splits with positive gain, best gain: -inf\n",
      "[LightGBM] [Warning] No further splits with positive gain, best gain: -inf\n",
      "[LightGBM] [Warning] No further splits with positive gain, best gain: -inf\n",
      "[LightGBM] [Warning] No further splits with positive gain, best gain: -inf\n",
      "[20]\ttraining's binary_logloss: 0.34128\tvalid_1's binary_logloss: 0.437279\n",
      "[LightGBM] [Warning] No further splits with positive gain, best gain: -inf\n",
      "[LightGBM] [Warning] No further splits with positive gain, best gain: -inf\n",
      "[LightGBM] [Warning] No further splits with positive gain, best gain: -inf\n",
      "[LightGBM] [Warning] No further splits with positive gain, best gain: -inf\n",
      "[LightGBM] [Warning] No further splits with positive gain, best gain: -inf\n",
      "[LightGBM] [Warning] No further splits with positive gain, best gain: -inf\n",
      "[LightGBM] [Warning] No further splits with positive gain, best gain: -inf\n",
      "[LightGBM] [Warning] No further splits with positive gain, best gain: -inf\n",
      "[LightGBM] [Warning] No further splits with positive gain, best gain: -inf\n",
      "[LightGBM] [Warning] No further splits with positive gain, best gain: -inf\n",
      "[30]\ttraining's binary_logloss: 0.297138\tvalid_1's binary_logloss: 0.437636\n",
      "[LightGBM] [Warning] No further splits with positive gain, best gain: -inf\n",
      "[LightGBM] [Warning] No further splits with positive gain, best gain: -inf\n",
      "[LightGBM] [Warning] No further splits with positive gain, best gain: -inf\n",
      "Early stopping, best iteration is:\n",
      "[23]\ttraining's binary_logloss: 0.326948\tvalid_1's binary_logloss: 0.435703\n"
     ]
    },
    {
     "name": "stderr",
     "output_type": "stream",
     "text": [
      "C:\\Users\\Takanori\\AppData\\Local\\Programs\\Python\\Python39\\lib\\site-packages\\lightgbm\\engine.py:181: UserWarning: 'early_stopping_rounds' argument is deprecated and will be removed in a future release of LightGBM. Pass 'early_stopping()' callback via 'callbacks' argument instead.\n",
      "  _log_warning(\"'early_stopping_rounds' argument is deprecated and will be removed in a future release of LightGBM. \"\n",
      "C:\\Users\\Takanori\\AppData\\Local\\Programs\\Python\\Python39\\lib\\site-packages\\lightgbm\\basic.py:2065: UserWarning: Using categorical_feature in Dataset.\n",
      "  _log_warning('Using categorical_feature in Dataset.')\n",
      "C:\\Users\\Takanori\\AppData\\Local\\Programs\\Python\\Python39\\lib\\site-packages\\lightgbm\\engine.py:239: UserWarning: 'verbose_eval' argument is deprecated and will be removed in a future release of LightGBM. Pass 'log_evaluation()' callback via 'callbacks' argument instead.\n",
      "  _log_warning(\"'verbose_eval' argument is deprecated and will be removed in a future release of LightGBM. \"\n",
      "C:\\Users\\Takanori\\AppData\\Local\\Programs\\Python\\Python39\\lib\\site-packages\\lightgbm\\basic.py:1780: UserWarning: Overriding the parameters from Reference Dataset.\n",
      "  _log_warning('Overriding the parameters from Reference Dataset.')\n",
      "C:\\Users\\Takanori\\AppData\\Local\\Programs\\Python\\Python39\\lib\\site-packages\\lightgbm\\basic.py:1513: UserWarning: categorical_column in param dict is overridden.\n",
      "  _log_warning(f'{cat_alias} in param dict is overridden.')\n"
     ]
    }
   ],
   "source": [
    "# 3.predict\n",
    "import lightgbm as lgb\n",
    "\n",
    "lgb_train = lgb.Dataset(X_train, Y_train, categorical_feature=categorical_features)\n",
    "lgb_eval = lgb.Dataset(X_valid, Y_valid, reference=lgb_train, categorical_feature=categorical_features)\n",
    "\n",
    "params = {'objective': 'binary'}\n",
    "\n",
    "model = lgb.train(params, lgb_train,\n",
    "                  valid_sets=[lgb_train, lgb_eval],\n",
    "                  verbose_eval=10,\n",
    "                  num_boost_round=1000,\n",
    "                  early_stopping_rounds=10)\n",
    "\n",
    "Y_pred = model.predict(X_test, num_iteration=model.best_iteration)"
   ]
  },
  {
   "cell_type": "code",
   "execution_count": 69,
   "metadata": {},
   "outputs": [],
   "source": [
    "Y_pred = (Y_pred > 0.5).astype(int)"
   ]
  },
  {
   "cell_type": "code",
   "execution_count": 70,
   "metadata": {},
   "outputs": [],
   "source": [
    "# save_csv\n",
    "sub = pd.read_csv(os.path.join(data_dir, 'gender_submission.csv'))\n",
    "sub['Survived'] = Y_pred\n",
    "sub.to_csv(os.path.join(data_dir, 'my_submission.csv'), index=False)"
   ]
  },
  {
   "cell_type": "code",
   "execution_count": 71,
   "metadata": {},
   "outputs": [
    {
     "name": "stderr",
     "output_type": "stream",
     "text": [
      "100%|██████████| 3.18k/3.18k [00:04<00:00, 796B/s]\n"
     ]
    }
   ],
   "source": [
    "kls.submit_csv(os.path.join('my_submission.csv'), '0316')"
   ]
  }
 ],
 "metadata": {
  "interpreter": {
   "hash": "f2a1534ca7ab28c7e826feaf6171392fbba122c8b12f3f6922ef1415ce719538"
  },
  "kernelspec": {
   "display_name": "Python 3.9.7 64-bit",
   "language": "python",
   "name": "python3"
  },
  "language_info": {
   "codemirror_mode": {
    "name": "ipython",
    "version": 3
   },
   "file_extension": ".py",
   "mimetype": "text/x-python",
   "name": "python",
   "nbconvert_exporter": "python",
   "pygments_lexer": "ipython3",
   "version": "3.9.7"
  },
  "orig_nbformat": 4
 },
 "nbformat": 4,
 "nbformat_minor": 2
}
