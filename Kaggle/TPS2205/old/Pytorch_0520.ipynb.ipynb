{
 "cells": [
  {
   "cell_type": "markdown",
   "id": "ae860c2b",
   "metadata": {
    "papermill": {
     "duration": 0.034996,
     "end_time": "2022-05-10T10:45:57.032613",
     "exception": false,
     "start_time": "2022-05-10T10:45:56.997617",
     "status": "completed"
    },
    "tags": []
   },
   "source": [
    "I'm a beginner, so please be gentle with me."
   ]
  },
  {
   "cell_type": "code",
   "execution_count": 1,
   "id": "6b3d28c7",
   "metadata": {
    "execution": {
     "iopub.execute_input": "2022-05-10T10:45:57.103286Z",
     "iopub.status.busy": "2022-05-10T10:45:57.102673Z",
     "iopub.status.idle": "2022-05-10T10:45:57.112212Z",
     "shell.execute_reply": "2022-05-10T10:45:57.111601Z"
    },
    "papermill": {
     "duration": 0.046307,
     "end_time": "2022-05-10T10:45:57.114120",
     "exception": false,
     "start_time": "2022-05-10T10:45:57.067813",
     "status": "completed"
    },
    "tags": []
   },
   "outputs": [],
   "source": [
    "import os\n",
    "os.chdir('C:/Users/Takanori/Desktop/Kaggle/TPS2205/input')"
   ]
  },
  {
   "cell_type": "markdown",
   "id": "d9dad9fc",
   "metadata": {
    "papermill": {
     "duration": 0.036574,
     "end_time": "2022-05-10T10:45:57.186644",
     "exception": false,
     "start_time": "2022-05-10T10:45:57.150070",
     "status": "completed"
    },
    "tags": []
   },
   "source": [
    "# DataSet & Library Loading"
   ]
  },
  {
   "cell_type": "code",
   "execution_count": 2,
   "id": "80a9139d",
   "metadata": {
    "execution": {
     "iopub.execute_input": "2022-05-10T10:45:57.258391Z",
     "iopub.status.busy": "2022-05-10T10:45:57.257775Z",
     "iopub.status.idle": "2022-05-10T10:45:58.440360Z",
     "shell.execute_reply": "2022-05-10T10:45:58.439632Z"
    },
    "papermill": {
     "duration": 1.221023,
     "end_time": "2022-05-10T10:45:58.442806",
     "exception": false,
     "start_time": "2022-05-10T10:45:57.221783",
     "status": "completed"
    },
    "tags": []
   },
   "outputs": [],
   "source": [
    "import numpy as np\n",
    "import pandas as pd\n",
    "import seaborn as sns\n",
    "import matplotlib.pyplot as plt\n",
    "import math\n",
    "from collections import Counter\n",
    "from sklearn.model_selection import StratifiedKFold\n",
    "from sklearn.metrics import roc_auc_score\n",
    "import time, gc\n",
    "from tqdm import tqdm\n",
    "import torch\n",
    "import torch.nn as nn\n",
    "from torch.nn import functional as F\n",
    "from torch.utils.data import DataLoader, Dataset\n",
    "from torch import optim\n",
    "from torch.optim import lr_scheduler\n",
    "import string"
   ]
  },
  {
   "cell_type": "code",
   "execution_count": 3,
   "id": "0172b282",
   "metadata": {},
   "outputs": [],
   "source": [
    "os.makedirs('model', exist_ok=True)"
   ]
  },
  {
   "cell_type": "code",
   "execution_count": 4,
   "id": "5a52b815",
   "metadata": {
    "execution": {
     "iopub.execute_input": "2022-05-10T10:46:00.172631Z",
     "iopub.status.busy": "2022-05-10T10:46:00.172381Z",
     "iopub.status.idle": "2022-05-10T10:46:00.233166Z",
     "shell.execute_reply": "2022-05-10T10:46:00.232467Z"
    },
    "papermill": {
     "duration": 0.097454,
     "end_time": "2022-05-10T10:46:00.234896",
     "exception": false,
     "start_time": "2022-05-10T10:46:00.137442",
     "status": "completed"
    },
    "tags": []
   },
   "outputs": [],
   "source": [
    "class CFG:\n",
    "    label = 'target'  # 目標変数\n",
    "    batch_size = 10_000  # バッチサイズ\n",
    "    apex=True  # 混合精度を使い、float16でも行けるようにする\n",
    "    seed=42\n",
    "    n_fold = 5\n",
    "    max_grad_norm=1000\n",
    "    print_batch_freq=100\n",
    "    print_epoch_freq = 1\n",
    "    num_workers=0\n",
    "    trn_fold=[0,1,2,3,4]\n",
    "    lr=1e-2\n",
    "    lr_min=1e-4\n",
    "    lr_gamma=0.9\n",
    "    epochs=100\n",
    "    device = torch.device('cuda:0' if torch.cuda.is_available() else 'cpu')\n",
    "    num_emb=128"
   ]
  },
  {
   "cell_type": "markdown",
   "id": "89b398ae",
   "metadata": {
    "papermill": {
     "duration": 0.033438,
     "end_time": "2022-05-10T10:46:00.375455",
     "exception": false,
     "start_time": "2022-05-10T10:46:00.342017",
     "status": "completed"
    },
    "tags": []
   },
   "source": [
    "## FE"
   ]
  },
  {
   "cell_type": "code",
   "execution_count": 5,
   "id": "f1d54ae1",
   "metadata": {
    "execution": {
     "iopub.execute_input": "2022-05-10T10:46:00.443728Z",
     "iopub.status.busy": "2022-05-10T10:46:00.443465Z",
     "iopub.status.idle": "2022-05-10T10:46:13.082467Z",
     "shell.execute_reply": "2022-05-10T10:46:13.081692Z"
    },
    "papermill": {
     "duration": 12.675348,
     "end_time": "2022-05-10T10:46:13.084261",
     "exception": false,
     "start_time": "2022-05-10T10:46:00.408913",
     "status": "completed"
    },
    "tags": []
   },
   "outputs": [],
   "source": [
    "# データセット読み込み\n",
    "train = pd.read_csv(\"../input/tabular-playground-series-may-2022/train.csv\")\n",
    "test = pd.read_csv(\"../input/tabular-playground-series-may-2022/test.csv\")\n",
    "sub = pd.read_csv(\"../input/tabular-playground-series-may-2022/sample_submission.csv\")"
   ]
  },
  {
   "cell_type": "code",
   "execution_count": 6,
   "id": "d7de71d8",
   "metadata": {
    "execution": {
     "iopub.execute_input": "2022-05-10T10:46:40.820930Z",
     "iopub.status.busy": "2022-05-10T10:46:40.820437Z",
     "iopub.status.idle": "2022-05-10T10:46:41.118621Z",
     "shell.execute_reply": "2022-05-10T10:46:41.117881Z"
    },
    "papermill": {
     "duration": 0.345384,
     "end_time": "2022-05-10T10:46:41.120719",
     "exception": false,
     "start_time": "2022-05-10T10:46:40.775335",
     "status": "completed"
    },
    "tags": []
   },
   "outputs": [],
   "source": [
    "df_all = pd.concat([train, test])"
   ]
  },
  {
   "cell_type": "code",
   "execution_count": 7,
   "id": "99dac062",
   "metadata": {
    "execution": {
     "iopub.execute_input": "2022-05-10T10:46:41.213655Z",
     "iopub.status.busy": "2022-05-10T10:46:41.213231Z",
     "iopub.status.idle": "2022-05-10T10:46:41.290021Z",
     "shell.execute_reply": "2022-05-10T10:46:41.289295Z"
    },
    "papermill": {
     "duration": 0.12841,
     "end_time": "2022-05-10T10:46:41.292354",
     "exception": false,
     "start_time": "2022-05-10T10:46:41.163944",
     "status": "completed"
    },
    "tags": []
   },
   "outputs": [],
   "source": [
    "df_all['i_02_21'] = (df_all.f_21 + df_all.f_02 > 5.2).astype(int) - (df_all.f_21 + df_all.f_02 < -5.3).astype(int)\n",
    "df_all['i_05_22'] = (df_all.f_22 + df_all.f_05 > 5.1).astype(int) - (df_all.f_22 + df_all.f_05 < -5.4).astype(int)\n",
    "i_00_01_26 = df_all.f_00 + df_all.f_01 + df_all.f_26\n",
    "df_all['i_00_01_26'] = (i_00_01_26 > 5.0).astype(int) - (i_00_01_26 < -5.0).astype(int)"
   ]
  },
  {
   "cell_type": "code",
   "execution_count": 8,
   "id": "d85d739e",
   "metadata": {
    "execution": {
     "iopub.execute_input": "2022-05-10T10:46:41.926670Z",
     "iopub.status.busy": "2022-05-10T10:46:41.926402Z",
     "iopub.status.idle": "2022-05-10T10:46:42.168811Z",
     "shell.execute_reply": "2022-05-10T10:46:42.168083Z"
    },
    "papermill": {
     "duration": 0.297427,
     "end_time": "2022-05-10T10:46:42.173145",
     "exception": false,
     "start_time": "2022-05-10T10:46:41.875718",
     "status": "completed"
    },
    "tags": []
   },
   "outputs": [],
   "source": [
    "# NA埋め\n",
    "df_all.fillna(df_all.mean(numeric_only=True), inplace=True)"
   ]
  },
  {
   "cell_type": "code",
   "execution_count": 9,
   "id": "99bb1adc",
   "metadata": {
    "execution": {
     "iopub.execute_input": "2022-05-10T10:46:42.336348Z",
     "iopub.status.busy": "2022-05-10T10:46:42.336088Z",
     "iopub.status.idle": "2022-05-10T10:48:10.965245Z",
     "shell.execute_reply": "2022-05-10T10:48:10.964513Z"
    },
    "papermill": {
     "duration": 88.711742,
     "end_time": "2022-05-10T10:48:10.967544",
     "exception": false,
     "start_time": "2022-05-10T10:46:42.255802",
     "status": "completed"
    },
    "tags": []
   },
   "outputs": [],
   "source": [
    "# f_27を分解\n",
    "def splitter(text):\n",
    "    arr = tuple(text)\n",
    "    return arr\n",
    "\n",
    "column_list = ['f_27_' + str(i) for i in range(10)]\n",
    "df_all[column_list] = df_all.apply(lambda x: splitter(x['f_27']), axis=1, result_type='expand')"
   ]
  },
  {
   "cell_type": "code",
   "execution_count": 10,
   "id": "56c9fe5b",
   "metadata": {
    "execution": {
     "iopub.execute_input": "2022-05-10T10:48:11.147428Z",
     "iopub.status.busy": "2022-05-10T10:48:11.147224Z",
     "iopub.status.idle": "2022-05-10T10:48:20.402015Z",
     "shell.execute_reply": "2022-05-10T10:48:20.401286Z"
    },
    "papermill": {
     "duration": 9.300861,
     "end_time": "2022-05-10T10:48:20.404086",
     "exception": false,
     "start_time": "2022-05-10T10:48:11.103225",
     "status": "completed"
    },
    "tags": []
   },
   "outputs": [],
   "source": [
    "# f_27_0~9を数値に\n",
    "for column in column_list:\n",
    "    df_all[column] = df_all[column].apply(lambda x: ord(x)-ord('A'))"
   ]
  },
  {
   "cell_type": "code",
   "execution_count": 11,
   "id": "5bd562ee",
   "metadata": {
    "execution": {
     "iopub.execute_input": "2022-05-10T11:03:00.098914Z",
     "iopub.status.busy": "2022-05-10T11:03:00.098672Z",
     "iopub.status.idle": "2022-05-10T11:03:08.482513Z",
     "shell.execute_reply": "2022-05-10T11:03:08.481810Z"
    },
    "papermill": {
     "duration": 10.44301,
     "end_time": "2022-05-10T11:03:08.484982",
     "exception": false,
     "start_time": "2022-05-10T11:02:58.041972",
     "status": "completed"
    },
    "tags": []
   },
   "outputs": [],
   "source": [
    "# f_27に出てくる文字が、何種類あるかを返す\n",
    "def calc_cnt_of(txt):\n",
    "    cnt_of = Counter(list(txt))\n",
    "    return len(cnt_of)\n",
    "\n",
    "df_all['len_cnt_of'] = df_all['f_27'].apply(calc_cnt_of)"
   ]
  },
  {
   "cell_type": "code",
   "execution_count": 12,
   "id": "d1530f11",
   "metadata": {
    "execution": {
     "iopub.execute_input": "2022-05-10T11:03:12.900198Z",
     "iopub.status.busy": "2022-05-10T11:03:12.899528Z",
     "iopub.status.idle": "2022-05-10T11:05:06.909316Z",
     "shell.execute_reply": "2022-05-10T11:05:06.908614Z"
    },
    "papermill": {
     "duration": 116.34471,
     "end_time": "2022-05-10T11:05:06.911508",
     "exception": false,
     "start_time": "2022-05-10T11:03:10.566798",
     "status": "completed"
    },
    "tags": []
   },
   "outputs": [],
   "source": [
    "# f_27に各文字が何回出てくるかを数える\n",
    "def calc_char_cnt(txt):\n",
    "    cnt_of = Counter(list(txt))\n",
    "    ret = []\n",
    "    for c in string.ascii_uppercase:\n",
    "        ret.append(cnt_of[c])\n",
    "    return tuple(ret)\n",
    "\n",
    "\n",
    "column_list = []\n",
    "for c in string.ascii_uppercase:\n",
    "    column_list.append('f_27_cnt_' + c)\n",
    "\n",
    "df_all[column_list] = df_all.apply(lambda x: calc_char_cnt(x['f_27']), axis=1, result_type='expand')"
   ]
  },
  {
   "cell_type": "code",
   "execution_count": 13,
   "id": "11eb1e5d",
   "metadata": {
    "execution": {
     "iopub.execute_input": "2022-05-10T11:05:11.262099Z",
     "iopub.status.busy": "2022-05-10T11:05:11.261859Z",
     "iopub.status.idle": "2022-05-10T11:05:11.967679Z",
     "shell.execute_reply": "2022-05-10T11:05:11.966951Z"
    },
    "papermill": {
     "duration": 2.852553,
     "end_time": "2022-05-10T11:05:11.969954",
     "exception": false,
     "start_time": "2022-05-10T11:05:09.117401",
     "status": "completed"
    },
    "tags": []
   },
   "outputs": [],
   "source": [
    "# 不要になったカテゴリ変数を削除\n",
    "df_all.drop(['f_27'], axis=1, inplace=True)"
   ]
  },
  {
   "cell_type": "code",
   "execution_count": 14,
   "id": "a6b60a1c",
   "metadata": {},
   "outputs": [],
   "source": [
    "cat_features = []\n",
    "val_features = []"
   ]
  },
  {
   "cell_type": "code",
   "execution_count": 15,
   "id": "b8d2ecbe",
   "metadata": {},
   "outputs": [
    {
     "data": {
      "text/plain": [
       "['f_07',\n",
       " 'f_08',\n",
       " 'f_09',\n",
       " 'f_10',\n",
       " 'f_11',\n",
       " 'f_12',\n",
       " 'f_13',\n",
       " 'f_14',\n",
       " 'f_15',\n",
       " 'f_16',\n",
       " 'f_17',\n",
       " 'f_18',\n",
       " 'f_29',\n",
       " 'f_30',\n",
       " 'f_27_0',\n",
       " 'f_27_1',\n",
       " 'f_27_2',\n",
       " 'f_27_3',\n",
       " 'f_27_4',\n",
       " 'f_27_5',\n",
       " 'f_27_6',\n",
       " 'f_27_7',\n",
       " 'f_27_8',\n",
       " 'f_27_9',\n",
       " 'len_cnt_of',\n",
       " 'f_27_cnt_A',\n",
       " 'f_27_cnt_B',\n",
       " 'f_27_cnt_C',\n",
       " 'f_27_cnt_D',\n",
       " 'f_27_cnt_E',\n",
       " 'f_27_cnt_F',\n",
       " 'f_27_cnt_G',\n",
       " 'f_27_cnt_H',\n",
       " 'f_27_cnt_I',\n",
       " 'f_27_cnt_J',\n",
       " 'f_27_cnt_K',\n",
       " 'f_27_cnt_L',\n",
       " 'f_27_cnt_M',\n",
       " 'f_27_cnt_N',\n",
       " 'f_27_cnt_O',\n",
       " 'f_27_cnt_P',\n",
       " 'f_27_cnt_Q',\n",
       " 'f_27_cnt_R',\n",
       " 'f_27_cnt_S',\n",
       " 'f_27_cnt_T',\n",
       " 'f_27_cnt_U',\n",
       " 'f_27_cnt_V',\n",
       " 'f_27_cnt_W',\n",
       " 'f_27_cnt_X',\n",
       " 'f_27_cnt_Y',\n",
       " 'f_27_cnt_Z']"
      ]
     },
     "metadata": {},
     "output_type": "display_data"
    },
    {
     "data": {
      "text/plain": [
       "['f_00',\n",
       " 'f_01',\n",
       " 'f_02',\n",
       " 'f_03',\n",
       " 'f_04',\n",
       " 'f_05',\n",
       " 'f_06',\n",
       " 'f_19',\n",
       " 'f_20',\n",
       " 'f_21',\n",
       " 'f_22',\n",
       " 'f_23',\n",
       " 'f_24',\n",
       " 'f_25',\n",
       " 'f_26',\n",
       " 'f_28',\n",
       " 'i_02_21',\n",
       " 'i_05_22',\n",
       " 'i_00_01_26']"
      ]
     },
     "metadata": {},
     "output_type": "display_data"
    }
   ],
   "source": [
    "for column in df_all.columns:\n",
    "    if column in ['id', CFG.label]:\n",
    "        continue\n",
    "    # int型であり、num_emb未満の種類数しかない場合は、cat_featuresに追加\n",
    "    if df_all[column].dtype == 'int64' and df_all[column].nunique() < CFG.num_emb:\n",
    "        cat_features.append(column)\n",
    "    else:\n",
    "        val_features.append(column)\n",
    "print(cat_features)\n",
    "print(val_features)"
   ]
  },
  {
   "cell_type": "code",
   "execution_count": 16,
   "id": "384dd618",
   "metadata": {
    "execution": {
     "iopub.execute_input": "2022-05-10T11:05:27.532150Z",
     "iopub.status.busy": "2022-05-10T11:05:27.531904Z",
     "iopub.status.idle": "2022-05-10T11:05:27.580124Z",
     "shell.execute_reply": "2022-05-10T11:05:27.579432Z"
    },
    "papermill": {
     "duration": 2.160102,
     "end_time": "2022-05-10T11:05:27.581844",
     "exception": false,
     "start_time": "2022-05-10T11:05:25.421742",
     "status": "completed"
    },
    "tags": []
   },
   "outputs": [],
   "source": [
    "train = df_all[:len(train)]\n",
    "test = df_all[len(train):]"
   ]
  },
  {
   "cell_type": "markdown",
   "id": "ddac65b6",
   "metadata": {},
   "source": [
    "## CV"
   ]
  },
  {
   "cell_type": "code",
   "execution_count": 17,
   "id": "fd7ddb0a",
   "metadata": {},
   "outputs": [
    {
     "name": "stderr",
     "output_type": "stream",
     "text": [
      "C:\\Users\\Takanori\\AppData\\Local\\Temp\\ipykernel_24652\\998641302.py:4: SettingWithCopyWarning: \n",
      "A value is trying to be set on a copy of a slice from a DataFrame.\n",
      "Try using .loc[row_indexer,col_indexer] = value instead\n",
      "\n",
      "See the caveats in the documentation: https://pandas.pydata.org/pandas-docs/stable/user_guide/indexing.html#returning-a-view-versus-a-copy\n",
      "  train.loc[val_index, 'fold'] = int(n)\n",
      "C:\\Users\\Takanori\\AppData\\Local\\Temp\\ipykernel_24652\\998641302.py:5: SettingWithCopyWarning: \n",
      "A value is trying to be set on a copy of a slice from a DataFrame.\n",
      "Try using .loc[row_indexer,col_indexer] = value instead\n",
      "\n",
      "See the caveats in the documentation: https://pandas.pydata.org/pandas-docs/stable/user_guide/indexing.html#returning-a-view-versus-a-copy\n",
      "  train['fold'] = train['fold'].astype(int)\n"
     ]
    },
    {
     "data": {
      "text/plain": [
       "fold\n",
       "0    180000\n",
       "1    180000\n",
       "2    180000\n",
       "3    180000\n",
       "4    180000\n",
       "dtype: int64"
      ]
     },
     "metadata": {},
     "output_type": "display_data"
    }
   ],
   "source": [
    "# CV Split\n",
    "skf = StratifiedKFold(n_splits=CFG.n_fold, shuffle=True, random_state=CFG.seed)\n",
    "for n, (train_index, val_index) in enumerate(skf.split(train, train[CFG.label])):\n",
    "    train.loc[val_index, 'fold'] = int(n)\n",
    "train['fold'] = train['fold'].astype(int)\n",
    "display(train.groupby('fold').size())"
   ]
  },
  {
   "cell_type": "markdown",
   "id": "317aaa7c",
   "metadata": {
    "papermill": {
     "duration": 2.115464,
     "end_time": "2022-05-10T11:05:42.927539",
     "exception": false,
     "start_time": "2022-05-10T11:05:40.812075",
     "status": "completed"
    },
    "tags": []
   },
   "source": [
    "# Pytorch"
   ]
  },
  {
   "cell_type": "markdown",
   "id": "32d6655e",
   "metadata": {},
   "source": [
    "## Define DateLoader"
   ]
  },
  {
   "cell_type": "code",
   "execution_count": 18,
   "id": "ebac9f7d",
   "metadata": {},
   "outputs": [],
   "source": [
    "class TrainDataset(Dataset):\n",
    "    def __init__(self, df, cat_features, val_features, target):\n",
    "        self.cat_data = df[cat_features].values\n",
    "        self.val_data = df[val_features].values\n",
    "        self.target = df[target].values\n",
    "\n",
    "    def __len__(self):\n",
    "        return len(self.target)\n",
    "\n",
    "    def __getitem__(self, item):\n",
    "        cat_inputs = torch.tensor(self.cat_data[item], dtype=torch.long)\n",
    "        val_inputs = torch.tensor(self.val_data[item], dtype=torch.float32)\n",
    "        labels = torch.tensor(self.target[item], dtype=torch.float32)\n",
    "        return cat_inputs, val_inputs, labels"
   ]
  },
  {
   "cell_type": "markdown",
   "id": "d9dd7775",
   "metadata": {
    "papermill": {
     "duration": 2.121208,
     "end_time": "2022-05-10T11:05:52.630053",
     "exception": false,
     "start_time": "2022-05-10T11:05:50.508845",
     "status": "completed"
    },
    "tags": []
   },
   "source": [
    "## Define Pytorch Model"
   ]
  },
  {
   "cell_type": "code",
   "execution_count": 19,
   "id": "76687e95",
   "metadata": {},
   "outputs": [],
   "source": [
    "class EarlyStopping:\n",
    "    def __init__(self, window):\n",
    "        from collections import deque\n",
    "        self.que1 = deque()\n",
    "        self.que2 = deque()\n",
    "        self.window = window\n",
    "\n",
    "    def step(self, loss):\n",
    "        self.que1.append(loss)\n",
    "        if len(self.que1) > self.window:\n",
    "            rm = self.que1.popleft()\n",
    "            self.que2.append(rm)\n",
    "        if len(self.que2) > self.window:\n",
    "            rm = self.que2.popleft()\n",
    "        # que1が最近のloss, que2が過去のloss\n",
    "        # 最近のlossのほうが高い場合は、処理を停止させるためにTrueを返す\n",
    "        if len(self.que2) < self.window:\n",
    "            return False\n",
    "        if sum(self.que1) > sum(self.que2):\n",
    "            print(self.que1)\n",
    "            print(self.que2)\n",
    "            return True\n",
    "        return False"
   ]
  },
  {
   "cell_type": "code",
   "execution_count": 20,
   "id": "49e91653",
   "metadata": {},
   "outputs": [],
   "source": [
    "class AverageMeter(object):\n",
    "    \"\"\"Computes and stores the average and current value\"\"\"\n",
    "    def __init__(self):\n",
    "        self.reset()\n",
    "\n",
    "    def reset(self):\n",
    "        self.val = 0\n",
    "        self.avg = 0\n",
    "        self.sum = 0\n",
    "        self.count = 0\n",
    "\n",
    "    def update(self, val, n=1):\n",
    "        self.val = val\n",
    "        self.sum += val * n\n",
    "        self.count += n\n",
    "        self.avg = self.sum / self.count"
   ]
  },
  {
   "cell_type": "code",
   "execution_count": 21,
   "id": "d9effbb6",
   "metadata": {
    "execution": {
     "iopub.execute_input": "2022-05-10T11:05:56.811361Z",
     "iopub.status.busy": "2022-05-10T11:05:56.810812Z",
     "iopub.status.idle": "2022-05-10T11:05:56.821834Z",
     "shell.execute_reply": "2022-05-10T11:05:56.821039Z"
    },
    "papermill": {
     "duration": 2.108222,
     "end_time": "2022-05-10T11:05:56.823948",
     "exception": false,
     "start_time": "2022-05-10T11:05:54.715726",
     "status": "completed"
    },
    "tags": []
   },
   "outputs": [],
   "source": [
    "class Net1(nn.Module):\n",
    "    def __init__(self, fold):\n",
    "        super(Net1, self).__init__()\n",
    "\n",
    "        self.first_bn = nn.BatchNorm1d(len(val_features), momentum=0.01)  # とりあえず入れてみた。momentumが小さいといいことあるんかな・・？\n",
    "        self.fc1 = nn.Linear(len(val_features)+len(cat_features)*1, 512)\n",
    "        self.bn1 = nn.BatchNorm1d(512)\n",
    "        self.fc2 = nn.Linear(512, 384)\n",
    "        self.bn2 = nn.BatchNorm1d(384)\n",
    "        self.fc3 = nn.Linear(384, 256)\n",
    "        self.bn3 = nn.BatchNorm1d(256)\n",
    "        self.fc4 = nn.Linear(256, 128)\n",
    "        self.bn4 = nn.BatchNorm1d(128)\n",
    "        self.fc5 = nn.Linear(128, 64)\n",
    "        self.bn5 = nn.BatchNorm1d(64)\n",
    "        self.fc6 = nn.Linear(64, 32)\n",
    "        self.bn6 = nn.BatchNorm1d(32)\n",
    "        self.fc7 = nn.Linear(32, 1)\n",
    "        self.bn7 = nn.BatchNorm1d(1)\n",
    "        emb_list = [nn.Embedding(CFG.num_emb, 1) for _ in range(len(cat_features))]\n",
    "        self.emb_list = nn.ModuleList(emb_list)\n",
    "\n",
    "        self.prepare_data(fold)\n",
    "        self.criterion = nn.BCEWithLogitsLoss()\n",
    "        self.device = CFG.device\n",
    "        self.configure_optimizer()\n",
    "\n",
    "    def forward(self, cat_inputs, val_inputs):\n",
    "        # dropoutの後にbnを置いてはならない\n",
    "        # nbは、活性化関数の前に置く\n",
    "        x0 = self.first_bn(val_inputs)\n",
    "        embs = [self.emb_list[i](cat_inputs[:, i]) for i in range(len(cat_features))]\n",
    "        x1 = torch.cat(embs, dim=1)\n",
    "        x1 = x1.view(x1.size(0), -1)\n",
    "        x = torch.cat([x0, x1], dim=1)\n",
    "        x = F.silu(self.bn1((self.fc1(x))))\n",
    "        x = F.silu(self.bn2((self.fc2(x))))\n",
    "        x = F.silu(self.bn3((self.fc3(x))))\n",
    "        x = F.silu(self.bn4((self.fc4(x))))\n",
    "        x = F.silu(self.bn5((self.fc5(x))))\n",
    "        x = F.silu(self.bn6((self.fc6(x))))\n",
    "        x = self.bn7((self.fc7(x)))\n",
    "        return x\n",
    "\n",
    "    # Setup DataLoaders\n",
    "    def prepare_data(self, fold):\n",
    "        train_folds = train[train['fold'] != fold].reset_index(drop=True)  # 参照が消えたりする？しないか。\n",
    "        valid_folds = train[train['fold'] == fold].reset_index(drop=True)\n",
    "        self.train_dataset = TrainDataset(train_folds, cat_features, val_features, CFG.label)\n",
    "        self.valid_dataset = TrainDataset(valid_folds, cat_features, val_features, CFG.label)\n",
    "        self.valid_labels = valid_folds[CFG.label].values\n",
    "        self.test_dataset = TrainDataset(test, cat_features, val_features, CFG.label)\n",
    "        self.test_labels = test[CFG.label].values\n",
    "\n",
    "    def train_dataloader(self):\n",
    "        data_loader = DataLoader(self.train_dataset,\n",
    "                                batch_size=CFG.batch_size,\n",
    "                                shuffle=True,\n",
    "                                num_workers=CFG.num_workers,\n",
    "                                pin_memory=True,\n",
    "                                drop_last=True)\n",
    "        return data_loader\n",
    "\n",
    "    def valid_dataloader(self):\n",
    "        data_loader = DataLoader(self.valid_dataset,\n",
    "                                batch_size=CFG.batch_size,\n",
    "                                shuffle=False,\n",
    "                                num_workers=CFG.num_workers,\n",
    "                                pin_memory=True,\n",
    "                                drop_last=False)\n",
    "        return data_loader\n",
    "\n",
    "    def test_dataloader(self):\n",
    "        data_loader = DataLoader(self.test_dataset,\n",
    "                                batch_size=CFG.batch_size,\n",
    "                                shuffle=False,\n",
    "                                num_workers=CFG.num_workers,\n",
    "                                pin_memory=True,\n",
    "                                drop_last=False)\n",
    "        return data_loader\n",
    "\n",
    "    # Setup Optimizer and Scheduler\n",
    "    def configure_optimizer(self):\n",
    "        optimizer = optim.Adam(self.parameters(), lr=CFG.lr)\n",
    "\n",
    "        # CFG.lrからCFG.lr_minに収束させる\n",
    "        num_train_steps = len(self.train_dataset) // CFG.batch_size * CFG.epochs\n",
    "        n = math.log(CFG.lr_min) / math.log(CFG.lr_gamma)\n",
    "        step_size = math.ceil(num_train_steps / n)\n",
    "        scheduler = lr_scheduler.StepLR(optimizer, step_size=step_size, gamma=CFG.lr_gamma)\n",
    "        self.optimizer = optimizer\n",
    "        self.scheduler = scheduler\n",
    "\n",
    "    # training valid test steps\n",
    "    def training_step(self):\n",
    "        losses = AverageMeter()\n",
    "        for step, (cat_inputs, val_inputs, labels) in enumerate(self.train_dataloader()):\n",
    "            cat_inputs, val_inputs, labels = cat_inputs.to(self.device), val_inputs.to(self.device), labels.to(self.device)\n",
    "            self.optimizer.zero_grad()\n",
    "            outputs = self(cat_inputs, val_inputs).squeeze()\n",
    "            loss = self.criterion(outputs, labels)\n",
    "            losses.update(loss.item(), cat_inputs.size(0))\n",
    "            loss.backward()\n",
    "            self.optimizer.step()\n",
    "            self.scheduler.step()\n",
    "        return losses.avg\n",
    "\n",
    "    def validation_step(self):\n",
    "        losses = AverageMeter()\n",
    "        preds = []\n",
    "        with torch.no_grad():\n",
    "            for step, (cat_inputs, val_inputs, labels) in enumerate(self.valid_dataloader()):\n",
    "                cat_inputs, val_inputs, labels = cat_inputs.to(self.device), val_inputs.to(self.device), labels.to(self.device)\n",
    "                outputs = self(cat_inputs, val_inputs).squeeze()\n",
    "                loss = self.criterion(outputs, labels)\n",
    "                losses.update(loss.item(), cat_inputs.size(0))\n",
    "                outputs = torch.sigmoid(outputs)\n",
    "                preds.append(outputs.cpu().numpy())\n",
    "        return losses.avg, np.concatenate(preds, axis=0)\n",
    "\n",
    "    def test_step(self):\n",
    "        preds = []\n",
    "        with torch.no_grad():\n",
    "            for step, (cat_inputs, val_inputs, labels) in enumerate(self.test_dataloader()):\n",
    "                cat_inputs, val_inputs, labels = cat_inputs.to(self.device), val_inputs.to(self.device), labels.to(self.device)\n",
    "                outputs = self(cat_inputs, val_inputs).squeeze()\n",
    "                outputs = torch.sigmoid(outputs)  # 予測時は活性化関数を書ける\n",
    "                preds.append(outputs.cpu().numpy())\n",
    "        return np.concatenate(preds, axis=0)"
   ]
  },
  {
   "cell_type": "markdown",
   "id": "ecb15b53",
   "metadata": {
    "papermill": {
     "duration": 2.175418,
     "end_time": "2022-05-10T11:06:10.801940",
     "exception": false,
     "start_time": "2022-05-10T11:06:08.626522",
     "status": "completed"
    },
    "tags": []
   },
   "source": [
    "# Pytorch Training"
   ]
  },
  {
   "cell_type": "code",
   "execution_count": 22,
   "id": "2ab4b0eb",
   "metadata": {
    "execution": {
     "iopub.execute_input": "2022-05-10T11:06:28.007973Z",
     "iopub.status.busy": "2022-05-10T11:06:28.007730Z",
     "iopub.status.idle": "2022-05-10T11:06:28.034874Z",
     "shell.execute_reply": "2022-05-10T11:06:28.034206Z"
    },
    "papermill": {
     "duration": 2.146747,
     "end_time": "2022-05-10T11:06:28.036655",
     "exception": false,
     "start_time": "2022-05-10T11:06:25.889908",
     "status": "completed"
    },
    "tags": []
   },
   "outputs": [
    {
     "name": "stdout",
     "output_type": "stream",
     "text": [
      "========== fold 0 ==========\n",
      "Epoch: 0/1000 \tTrain Loss: 0.3731 \tValid Loss: 0.3308 \tLR: 0.0100 \tAUC: 0.9474\n",
      "best loss updated: inf -> 0.3308 saving model...\n",
      "Epoch: 1/1000 \tTrain Loss: 0.2144 \tValid Loss: 0.2455 \tLR: 0.0100 \tAUC: 0.9688\n",
      "best loss updated: 0.3308 -> 0.2455 saving model...\n",
      "Epoch: 2/1000 \tTrain Loss: 0.1534 \tValid Loss: 0.1693 \tLR: 0.0100 \tAUC: 0.9877\n",
      "best loss updated: 0.2455 -> 0.1693 saving model...\n",
      "Epoch: 3/1000 \tTrain Loss: 0.1215 \tValid Loss: 0.1358 \tLR: 0.0100 \tAUC: 0.9922\n",
      "best loss updated: 0.1693 -> 0.1358 saving model...\n",
      "Epoch: 4/1000 \tTrain Loss: 0.1030 \tValid Loss: 0.1055 \tLR: 0.0100 \tAUC: 0.9951\n",
      "best loss updated: 0.1358 -> 0.1055 saving model...\n",
      "Epoch: 5/1000 \tTrain Loss: 0.0898 \tValid Loss: 0.0920 \tLR: 0.0100 \tAUC: 0.9963\n",
      "best loss updated: 0.1055 -> 0.0920 saving model...\n",
      "Epoch: 6/1000 \tTrain Loss: 0.0808 \tValid Loss: 0.0858 \tLR: 0.0100 \tAUC: 0.9966\n",
      "best loss updated: 0.0920 -> 0.0858 saving model...\n",
      "Epoch: 7/1000 \tTrain Loss: 0.0736 \tValid Loss: 0.0801 \tLR: 0.0100 \tAUC: 0.9967\n",
      "best loss updated: 0.0858 -> 0.0801 saving model...\n",
      "Epoch: 8/1000 \tTrain Loss: 0.0683 \tValid Loss: 0.0773 \tLR: 0.0100 \tAUC: 0.9969\n",
      "best loss updated: 0.0801 -> 0.0773 saving model...\n",
      "Epoch: 9/1000 \tTrain Loss: 0.0637 \tValid Loss: 0.0799 \tLR: 0.0100 \tAUC: 0.9968\n",
      "Epoch: 10/1000 \tTrain Loss: 0.0597 \tValid Loss: 0.0772 \tLR: 0.0100 \tAUC: 0.9968\n",
      "best loss updated: 0.0773 -> 0.0772 saving model...\n",
      "Epoch: 11/1000 \tTrain Loss: 0.0559 \tValid Loss: 0.0765 \tLR: 0.0100 \tAUC: 0.9969\n",
      "best loss updated: 0.0772 -> 0.0765 saving model...\n",
      "Epoch: 12/1000 \tTrain Loss: 0.0523 \tValid Loss: 0.0786 \tLR: 0.0100 \tAUC: 0.9967\n",
      "Epoch: 13/1000 \tTrain Loss: 0.0499 \tValid Loss: 0.0795 \tLR: 0.0100 \tAUC: 0.9964\n",
      "Epoch: 14/1000 \tTrain Loss: 0.0463 \tValid Loss: 0.0823 \tLR: 0.0100 \tAUC: 0.9960\n",
      "Epoch: 15/1000 \tTrain Loss: 0.0416 \tValid Loss: 0.0843 \tLR: 0.0090 \tAUC: 0.9961\n",
      "Epoch: 16/1000 \tTrain Loss: 0.0381 \tValid Loss: 0.0923 \tLR: 0.0090 \tAUC: 0.9949\n",
      "Epoch: 17/1000 \tTrain Loss: 0.0360 \tValid Loss: 0.0908 \tLR: 0.0090 \tAUC: 0.9955\n",
      "Epoch: 18/1000 \tTrain Loss: 0.0335 \tValid Loss: 0.0930 \tLR: 0.0090 \tAUC: 0.9951\n",
      "Epoch: 19/1000 \tTrain Loss: 0.0294 \tValid Loss: 0.0979 \tLR: 0.0090 \tAUC: 0.9945\n",
      "Epoch: 20/1000 \tTrain Loss: 0.0276 \tValid Loss: 0.0987 \tLR: 0.0090 \tAUC: 0.9943\n",
      "Epoch: 21/1000 \tTrain Loss: 0.0249 \tValid Loss: 0.1070 \tLR: 0.0090 \tAUC: 0.9943\n",
      "Epoch: 22/1000 \tTrain Loss: 0.0231 \tValid Loss: 0.1071 \tLR: 0.0090 \tAUC: 0.9941\n",
      "deque([0.07954163725177447, 0.08232131972908974, 0.08433683133787578, 0.09227312356233597, 0.09075333302219708, 0.09295141283008787, 0.09787815064191818, 0.0986921629971928, 0.10702232312824991, 0.10706019401550293])\n",
      "deque([0.13576653020249474, 0.10551714897155762, 0.09204018985231717, 0.0858006440103054, 0.08006992563605309, 0.07726105716493395, 0.07993050457702743, 0.07722537881798214, 0.07646111523111661, 0.07864266923732227])\n",
      "early stopping\n",
      "========== fold 1 ==========\n",
      "Epoch: 0/1000 \tTrain Loss: 0.3795 \tValid Loss: 0.3373 \tLR: 0.0100 \tAUC: 0.9436\n",
      "best loss updated: inf -> 0.3373 saving model...\n",
      "Epoch: 1/1000 \tTrain Loss: 0.2167 \tValid Loss: 0.2547 \tLR: 0.0100 \tAUC: 0.9590\n",
      "best loss updated: 0.3373 -> 0.2547 saving model...\n",
      "Epoch: 2/1000 \tTrain Loss: 0.1533 \tValid Loss: 0.1729 \tLR: 0.0100 \tAUC: 0.9839\n",
      "best loss updated: 0.2547 -> 0.1729 saving model...\n",
      "Epoch: 3/1000 \tTrain Loss: 0.1210 \tValid Loss: 0.1328 \tLR: 0.0100 \tAUC: 0.9933\n",
      "best loss updated: 0.1729 -> 0.1328 saving model...\n",
      "Epoch: 4/1000 \tTrain Loss: 0.1013 \tValid Loss: 0.1040 \tLR: 0.0100 \tAUC: 0.9954\n",
      "best loss updated: 0.1328 -> 0.1040 saving model...\n",
      "Epoch: 5/1000 \tTrain Loss: 0.0892 \tValid Loss: 0.0903 \tLR: 0.0100 \tAUC: 0.9964\n",
      "best loss updated: 0.1040 -> 0.0903 saving model...\n"
     ]
    },
    {
     "ename": "KeyboardInterrupt",
     "evalue": "",
     "output_type": "error",
     "traceback": [
      "\u001b[1;31m---------------------------------------------------------------------------\u001b[0m",
      "\u001b[1;31mKeyboardInterrupt\u001b[0m                         Traceback (most recent call last)",
      "\u001b[1;32md:\\Users\\Takanori\\Documents\\github\\myprivate\\Kaggle\\TPS2205\\Pytorch_0520.ipynb.ipynb Cell 30'\u001b[0m in \u001b[0;36m<cell line: 1>\u001b[1;34m()\u001b[0m\n\u001b[0;32m      <a href='vscode-notebook-cell:/d%3A/Users/Takanori/Documents/github/myprivate/Kaggle/TPS2205/Pytorch_0520.ipynb.ipynb#ch0000041?line=7'>8</a>\u001b[0m \u001b[39mfor\u001b[39;00m epoch \u001b[39min\u001b[39;00m \u001b[39mrange\u001b[39m(CFG\u001b[39m.\u001b[39mepochs):\n\u001b[0;32m      <a href='vscode-notebook-cell:/d%3A/Users/Takanori/Documents/github/myprivate/Kaggle/TPS2205/Pytorch_0520.ipynb.ipynb#ch0000041?line=8'>9</a>\u001b[0m     model\u001b[39m.\u001b[39mtrain()\n\u001b[1;32m---> <a href='vscode-notebook-cell:/d%3A/Users/Takanori/Documents/github/myprivate/Kaggle/TPS2205/Pytorch_0520.ipynb.ipynb#ch0000041?line=9'>10</a>\u001b[0m     train_loss \u001b[39m=\u001b[39m model\u001b[39m.\u001b[39;49mtraining_step()\n\u001b[0;32m     <a href='vscode-notebook-cell:/d%3A/Users/Takanori/Documents/github/myprivate/Kaggle/TPS2205/Pytorch_0520.ipynb.ipynb#ch0000041?line=11'>12</a>\u001b[0m     model\u001b[39m.\u001b[39meval()\n\u001b[0;32m     <a href='vscode-notebook-cell:/d%3A/Users/Takanori/Documents/github/myprivate/Kaggle/TPS2205/Pytorch_0520.ipynb.ipynb#ch0000041?line=12'>13</a>\u001b[0m     valid_loss, preds \u001b[39m=\u001b[39m model\u001b[39m.\u001b[39mvalidation_step()\n",
      "\u001b[1;32md:\\Users\\Takanori\\Documents\\github\\myprivate\\Kaggle\\TPS2205\\Pytorch_0520.ipynb.ipynb Cell 28'\u001b[0m in \u001b[0;36mNet1.training_step\u001b[1;34m(self)\u001b[0m\n\u001b[0;32m     <a href='vscode-notebook-cell:/d%3A/Users/Takanori/Documents/github/myprivate/Kaggle/TPS2205/Pytorch_0520.ipynb.ipynb#ch0000034?line=94'>95</a>\u001b[0m \u001b[39mdef\u001b[39;00m \u001b[39mtraining_step\u001b[39m(\u001b[39mself\u001b[39m):\n\u001b[0;32m     <a href='vscode-notebook-cell:/d%3A/Users/Takanori/Documents/github/myprivate/Kaggle/TPS2205/Pytorch_0520.ipynb.ipynb#ch0000034?line=95'>96</a>\u001b[0m     losses \u001b[39m=\u001b[39m AverageMeter()\n\u001b[1;32m---> <a href='vscode-notebook-cell:/d%3A/Users/Takanori/Documents/github/myprivate/Kaggle/TPS2205/Pytorch_0520.ipynb.ipynb#ch0000034?line=96'>97</a>\u001b[0m     \u001b[39mfor\u001b[39;00m step, (cat_inputs, val_inputs, labels) \u001b[39min\u001b[39;00m \u001b[39menumerate\u001b[39m(\u001b[39mself\u001b[39m\u001b[39m.\u001b[39mtrain_dataloader()):\n\u001b[0;32m     <a href='vscode-notebook-cell:/d%3A/Users/Takanori/Documents/github/myprivate/Kaggle/TPS2205/Pytorch_0520.ipynb.ipynb#ch0000034?line=97'>98</a>\u001b[0m         cat_inputs, val_inputs, labels \u001b[39m=\u001b[39m cat_inputs\u001b[39m.\u001b[39mto(\u001b[39mself\u001b[39m\u001b[39m.\u001b[39mdevice), val_inputs\u001b[39m.\u001b[39mto(\u001b[39mself\u001b[39m\u001b[39m.\u001b[39mdevice), labels\u001b[39m.\u001b[39mto(\u001b[39mself\u001b[39m\u001b[39m.\u001b[39mdevice)\n\u001b[0;32m     <a href='vscode-notebook-cell:/d%3A/Users/Takanori/Documents/github/myprivate/Kaggle/TPS2205/Pytorch_0520.ipynb.ipynb#ch0000034?line=98'>99</a>\u001b[0m         \u001b[39mself\u001b[39m\u001b[39m.\u001b[39moptimizer\u001b[39m.\u001b[39mzero_grad()\n",
      "File \u001b[1;32mc:\\Users\\Takanori\\MiniConda3\\envs\\yourenvname\\lib\\site-packages\\torch\\utils\\data\\dataloader.py:530\u001b[0m, in \u001b[0;36m_BaseDataLoaderIter.__next__\u001b[1;34m(self)\u001b[0m\n\u001b[0;32m    <a href='file:///c%3A/Users/Takanori/MiniConda3/envs/yourenvname/lib/site-packages/torch/utils/data/dataloader.py?line=527'>528</a>\u001b[0m \u001b[39mif\u001b[39;00m \u001b[39mself\u001b[39m\u001b[39m.\u001b[39m_sampler_iter \u001b[39mis\u001b[39;00m \u001b[39mNone\u001b[39;00m:\n\u001b[0;32m    <a href='file:///c%3A/Users/Takanori/MiniConda3/envs/yourenvname/lib/site-packages/torch/utils/data/dataloader.py?line=528'>529</a>\u001b[0m     \u001b[39mself\u001b[39m\u001b[39m.\u001b[39m_reset()\n\u001b[1;32m--> <a href='file:///c%3A/Users/Takanori/MiniConda3/envs/yourenvname/lib/site-packages/torch/utils/data/dataloader.py?line=529'>530</a>\u001b[0m data \u001b[39m=\u001b[39m \u001b[39mself\u001b[39;49m\u001b[39m.\u001b[39;49m_next_data()\n\u001b[0;32m    <a href='file:///c%3A/Users/Takanori/MiniConda3/envs/yourenvname/lib/site-packages/torch/utils/data/dataloader.py?line=530'>531</a>\u001b[0m \u001b[39mself\u001b[39m\u001b[39m.\u001b[39m_num_yielded \u001b[39m+\u001b[39m\u001b[39m=\u001b[39m \u001b[39m1\u001b[39m\n\u001b[0;32m    <a href='file:///c%3A/Users/Takanori/MiniConda3/envs/yourenvname/lib/site-packages/torch/utils/data/dataloader.py?line=531'>532</a>\u001b[0m \u001b[39mif\u001b[39;00m \u001b[39mself\u001b[39m\u001b[39m.\u001b[39m_dataset_kind \u001b[39m==\u001b[39m _DatasetKind\u001b[39m.\u001b[39mIterable \u001b[39mand\u001b[39;00m \\\n\u001b[0;32m    <a href='file:///c%3A/Users/Takanori/MiniConda3/envs/yourenvname/lib/site-packages/torch/utils/data/dataloader.py?line=532'>533</a>\u001b[0m         \u001b[39mself\u001b[39m\u001b[39m.\u001b[39m_IterableDataset_len_called \u001b[39mis\u001b[39;00m \u001b[39mnot\u001b[39;00m \u001b[39mNone\u001b[39;00m \u001b[39mand\u001b[39;00m \\\n\u001b[0;32m    <a href='file:///c%3A/Users/Takanori/MiniConda3/envs/yourenvname/lib/site-packages/torch/utils/data/dataloader.py?line=533'>534</a>\u001b[0m         \u001b[39mself\u001b[39m\u001b[39m.\u001b[39m_num_yielded \u001b[39m>\u001b[39m \u001b[39mself\u001b[39m\u001b[39m.\u001b[39m_IterableDataset_len_called:\n",
      "File \u001b[1;32mc:\\Users\\Takanori\\MiniConda3\\envs\\yourenvname\\lib\\site-packages\\torch\\utils\\data\\dataloader.py:570\u001b[0m, in \u001b[0;36m_SingleProcessDataLoaderIter._next_data\u001b[1;34m(self)\u001b[0m\n\u001b[0;32m    <a href='file:///c%3A/Users/Takanori/MiniConda3/envs/yourenvname/lib/site-packages/torch/utils/data/dataloader.py?line=567'>568</a>\u001b[0m \u001b[39mdef\u001b[39;00m \u001b[39m_next_data\u001b[39m(\u001b[39mself\u001b[39m):\n\u001b[0;32m    <a href='file:///c%3A/Users/Takanori/MiniConda3/envs/yourenvname/lib/site-packages/torch/utils/data/dataloader.py?line=568'>569</a>\u001b[0m     index \u001b[39m=\u001b[39m \u001b[39mself\u001b[39m\u001b[39m.\u001b[39m_next_index()  \u001b[39m# may raise StopIteration\u001b[39;00m\n\u001b[1;32m--> <a href='file:///c%3A/Users/Takanori/MiniConda3/envs/yourenvname/lib/site-packages/torch/utils/data/dataloader.py?line=569'>570</a>\u001b[0m     data \u001b[39m=\u001b[39m \u001b[39mself\u001b[39;49m\u001b[39m.\u001b[39;49m_dataset_fetcher\u001b[39m.\u001b[39;49mfetch(index)  \u001b[39m# may raise StopIteration\u001b[39;00m\n\u001b[0;32m    <a href='file:///c%3A/Users/Takanori/MiniConda3/envs/yourenvname/lib/site-packages/torch/utils/data/dataloader.py?line=570'>571</a>\u001b[0m     \u001b[39mif\u001b[39;00m \u001b[39mself\u001b[39m\u001b[39m.\u001b[39m_pin_memory:\n\u001b[0;32m    <a href='file:///c%3A/Users/Takanori/MiniConda3/envs/yourenvname/lib/site-packages/torch/utils/data/dataloader.py?line=571'>572</a>\u001b[0m         data \u001b[39m=\u001b[39m _utils\u001b[39m.\u001b[39mpin_memory\u001b[39m.\u001b[39mpin_memory(data)\n",
      "File \u001b[1;32mc:\\Users\\Takanori\\MiniConda3\\envs\\yourenvname\\lib\\site-packages\\torch\\utils\\data\\_utils\\fetch.py:49\u001b[0m, in \u001b[0;36m_MapDatasetFetcher.fetch\u001b[1;34m(self, possibly_batched_index)\u001b[0m\n\u001b[0;32m     <a href='file:///c%3A/Users/Takanori/MiniConda3/envs/yourenvname/lib/site-packages/torch/utils/data/_utils/fetch.py?line=46'>47</a>\u001b[0m \u001b[39mdef\u001b[39;00m \u001b[39mfetch\u001b[39m(\u001b[39mself\u001b[39m, possibly_batched_index):\n\u001b[0;32m     <a href='file:///c%3A/Users/Takanori/MiniConda3/envs/yourenvname/lib/site-packages/torch/utils/data/_utils/fetch.py?line=47'>48</a>\u001b[0m     \u001b[39mif\u001b[39;00m \u001b[39mself\u001b[39m\u001b[39m.\u001b[39mauto_collation:\n\u001b[1;32m---> <a href='file:///c%3A/Users/Takanori/MiniConda3/envs/yourenvname/lib/site-packages/torch/utils/data/_utils/fetch.py?line=48'>49</a>\u001b[0m         data \u001b[39m=\u001b[39m [\u001b[39mself\u001b[39m\u001b[39m.\u001b[39mdataset[idx] \u001b[39mfor\u001b[39;00m idx \u001b[39min\u001b[39;00m possibly_batched_index]\n\u001b[0;32m     <a href='file:///c%3A/Users/Takanori/MiniConda3/envs/yourenvname/lib/site-packages/torch/utils/data/_utils/fetch.py?line=49'>50</a>\u001b[0m     \u001b[39melse\u001b[39;00m:\n\u001b[0;32m     <a href='file:///c%3A/Users/Takanori/MiniConda3/envs/yourenvname/lib/site-packages/torch/utils/data/_utils/fetch.py?line=50'>51</a>\u001b[0m         data \u001b[39m=\u001b[39m \u001b[39mself\u001b[39m\u001b[39m.\u001b[39mdataset[possibly_batched_index]\n",
      "File \u001b[1;32mc:\\Users\\Takanori\\MiniConda3\\envs\\yourenvname\\lib\\site-packages\\torch\\utils\\data\\_utils\\fetch.py:49\u001b[0m, in \u001b[0;36m<listcomp>\u001b[1;34m(.0)\u001b[0m\n\u001b[0;32m     <a href='file:///c%3A/Users/Takanori/MiniConda3/envs/yourenvname/lib/site-packages/torch/utils/data/_utils/fetch.py?line=46'>47</a>\u001b[0m \u001b[39mdef\u001b[39;00m \u001b[39mfetch\u001b[39m(\u001b[39mself\u001b[39m, possibly_batched_index):\n\u001b[0;32m     <a href='file:///c%3A/Users/Takanori/MiniConda3/envs/yourenvname/lib/site-packages/torch/utils/data/_utils/fetch.py?line=47'>48</a>\u001b[0m     \u001b[39mif\u001b[39;00m \u001b[39mself\u001b[39m\u001b[39m.\u001b[39mauto_collation:\n\u001b[1;32m---> <a href='file:///c%3A/Users/Takanori/MiniConda3/envs/yourenvname/lib/site-packages/torch/utils/data/_utils/fetch.py?line=48'>49</a>\u001b[0m         data \u001b[39m=\u001b[39m [\u001b[39mself\u001b[39;49m\u001b[39m.\u001b[39;49mdataset[idx] \u001b[39mfor\u001b[39;00m idx \u001b[39min\u001b[39;00m possibly_batched_index]\n\u001b[0;32m     <a href='file:///c%3A/Users/Takanori/MiniConda3/envs/yourenvname/lib/site-packages/torch/utils/data/_utils/fetch.py?line=49'>50</a>\u001b[0m     \u001b[39melse\u001b[39;00m:\n\u001b[0;32m     <a href='file:///c%3A/Users/Takanori/MiniConda3/envs/yourenvname/lib/site-packages/torch/utils/data/_utils/fetch.py?line=50'>51</a>\u001b[0m         data \u001b[39m=\u001b[39m \u001b[39mself\u001b[39m\u001b[39m.\u001b[39mdataset[possibly_batched_index]\n",
      "\u001b[1;32md:\\Users\\Takanori\\Documents\\github\\myprivate\\Kaggle\\TPS2205\\Pytorch_0520.ipynb.ipynb Cell 24'\u001b[0m in \u001b[0;36mTrainDataset.__getitem__\u001b[1;34m(self, item)\u001b[0m\n\u001b[0;32m     <a href='vscode-notebook-cell:/d%3A/Users/Takanori/Documents/github/myprivate/Kaggle/TPS2205/Pytorch_0520.ipynb.ipynb#ch0000053?line=9'>10</a>\u001b[0m \u001b[39mdef\u001b[39;00m \u001b[39m__getitem__\u001b[39m(\u001b[39mself\u001b[39m, item):\n\u001b[0;32m     <a href='vscode-notebook-cell:/d%3A/Users/Takanori/Documents/github/myprivate/Kaggle/TPS2205/Pytorch_0520.ipynb.ipynb#ch0000053?line=10'>11</a>\u001b[0m     cat_inputs \u001b[39m=\u001b[39m torch\u001b[39m.\u001b[39mtensor(\u001b[39mself\u001b[39m\u001b[39m.\u001b[39mcat_data[item], dtype\u001b[39m=\u001b[39mtorch\u001b[39m.\u001b[39mlong)\n\u001b[1;32m---> <a href='vscode-notebook-cell:/d%3A/Users/Takanori/Documents/github/myprivate/Kaggle/TPS2205/Pytorch_0520.ipynb.ipynb#ch0000053?line=11'>12</a>\u001b[0m     val_inputs \u001b[39m=\u001b[39m torch\u001b[39m.\u001b[39;49mtensor(\u001b[39mself\u001b[39;49m\u001b[39m.\u001b[39;49mval_data[item], dtype\u001b[39m=\u001b[39;49mtorch\u001b[39m.\u001b[39;49mfloat32)\n\u001b[0;32m     <a href='vscode-notebook-cell:/d%3A/Users/Takanori/Documents/github/myprivate/Kaggle/TPS2205/Pytorch_0520.ipynb.ipynb#ch0000053?line=12'>13</a>\u001b[0m     labels \u001b[39m=\u001b[39m torch\u001b[39m.\u001b[39mtensor(\u001b[39mself\u001b[39m\u001b[39m.\u001b[39mtarget[item], dtype\u001b[39m=\u001b[39mtorch\u001b[39m.\u001b[39mfloat32)\n\u001b[0;32m     <a href='vscode-notebook-cell:/d%3A/Users/Takanori/Documents/github/myprivate/Kaggle/TPS2205/Pytorch_0520.ipynb.ipynb#ch0000053?line=13'>14</a>\u001b[0m     \u001b[39mreturn\u001b[39;00m cat_inputs, val_inputs, labels\n",
      "\u001b[1;31mKeyboardInterrupt\u001b[0m: "
     ]
    }
   ],
   "source": [
    "for fold in range(CFG.n_fold):\n",
    "    print('='*10, 'fold', fold, '='*10)\n",
    "\n",
    "    model = Net1(fold).to(CFG.device)\n",
    "    best_loss = float('inf')\n",
    "    es = EarlyStopping(window=10)\n",
    "\n",
    "    for epoch in range(CFG.epochs):\n",
    "        model.train()\n",
    "        train_loss = model.training_step()\n",
    "\n",
    "        model.eval()\n",
    "        valid_loss, preds = model.validation_step()\n",
    "        auc = roc_auc_score(model.valid_labels, preds)\n",
    "        if epoch % CFG.print_epoch_freq == 0:\n",
    "            print('Epoch: {}/{}'.format(epoch, CFG.epochs), '\\tTrain Loss: {:.4f}'.format(train_loss), '\\tValid Loss: {:.4f}'.format(valid_loss), '\\tLR: {:.4f}'.format(model.optimizer.param_groups[0]['lr']), '\\tAUC: {:.4f}'.format(auc))\n",
    "\n",
    "        if best_loss > valid_loss:\n",
    "            print('best loss updated: {:.4f} -> {:.4f}'.format(best_loss, valid_loss), 'saving model...')\n",
    "            best_loss = valid_loss\n",
    "            torch.save(model.state_dict(), './model/model_fold_{}.pth'.format(fold))\n",
    "        if es.step(valid_loss):\n",
    "            print('early stopping')\n",
    "            break\n",
    "    gc.collect()\n",
    "    torch.cuda.empty_cache()\n",
    "# TODO float16でも動くようにする\n",
    "# TODO emb_dimはいまいち、num_embに変更する"
   ]
  },
  {
   "cell_type": "markdown",
   "id": "9d964733",
   "metadata": {
    "papermill": {
     "duration": 2.424314,
     "end_time": "2022-05-10T11:32:47.067282",
     "exception": false,
     "start_time": "2022-05-10T11:32:44.642968",
     "status": "completed"
    },
    "tags": []
   },
   "source": [
    "# predictions"
   ]
  },
  {
   "cell_type": "code",
   "execution_count": null,
   "id": "7548fdc8",
   "metadata": {
    "execution": {
     "iopub.execute_input": "2022-05-10T11:32:51.518525Z",
     "iopub.status.busy": "2022-05-10T11:32:51.518274Z",
     "iopub.status.idle": "2022-05-10T11:32:51.521997Z",
     "shell.execute_reply": "2022-05-10T11:32:51.521195Z"
    },
    "papermill": {
     "duration": 2.252508,
     "end_time": "2022-05-10T11:32:51.523896",
     "exception": false,
     "start_time": "2022-05-10T11:32:49.271388",
     "status": "completed"
    },
    "tags": []
   },
   "outputs": [],
   "source": [
    "import glob"
   ]
  },
  {
   "cell_type": "code",
   "execution_count": null,
   "id": "9ac58276",
   "metadata": {},
   "outputs": [
    {
     "name": "stdout",
     "output_type": "stream",
     "text": [
      "['./model\\\\model_fold_0.pth' './model\\\\model_fold_1.pth'\n",
      " './model\\\\model_fold_2.pth' './model\\\\model_fold_3.pth'\n",
      " './model\\\\model_fold_4.pth']\n"
     ]
    }
   ],
   "source": [
    "models = np.sort(glob.glob(f\"./model/*.pth\"))\n",
    "print(models)\n",
    "# fold別に作った10個のモデルをロードする"
   ]
  },
  {
   "cell_type": "code",
   "execution_count": null,
   "id": "f9144080",
   "metadata": {
    "execution": {
     "iopub.execute_input": "2022-05-10T11:32:56.238155Z",
     "iopub.status.busy": "2022-05-10T11:32:56.237891Z",
     "iopub.status.idle": "2022-05-10T11:33:00.469795Z",
     "shell.execute_reply": "2022-05-10T11:33:00.469137Z"
    },
    "papermill": {
     "duration": 6.7499,
     "end_time": "2022-05-10T11:33:00.471680",
     "exception": false,
     "start_time": "2022-05-10T11:32:53.721780",
     "status": "completed"
    },
    "tags": []
   },
   "outputs": [
    {
     "name": "stdout",
     "output_type": "stream",
     "text": [
      "[[0.9752137 ]\n",
      " [0.9764059 ]\n",
      " [0.02119529]\n",
      " ...\n",
      " [0.01168523]\n",
      " [0.0249472 ]\n",
      " [0.02150796]]\n"
     ]
    },
    {
     "data": {
      "text/html": [
       "<div>\n",
       "<style scoped>\n",
       "    .dataframe tbody tr th:only-of-type {\n",
       "        vertical-align: middle;\n",
       "    }\n",
       "\n",
       "    .dataframe tbody tr th {\n",
       "        vertical-align: top;\n",
       "    }\n",
       "\n",
       "    .dataframe thead th {\n",
       "        text-align: right;\n",
       "    }\n",
       "</style>\n",
       "<table border=\"1\" class=\"dataframe\">\n",
       "  <thead>\n",
       "    <tr style=\"text-align: right;\">\n",
       "      <th></th>\n",
       "      <th>0</th>\n",
       "    </tr>\n",
       "  </thead>\n",
       "  <tbody>\n",
       "    <tr>\n",
       "      <th>0</th>\n",
       "      <td>0.975214</td>\n",
       "    </tr>\n",
       "    <tr>\n",
       "      <th>1</th>\n",
       "      <td>0.976406</td>\n",
       "    </tr>\n",
       "    <tr>\n",
       "      <th>2</th>\n",
       "      <td>0.021195</td>\n",
       "    </tr>\n",
       "    <tr>\n",
       "      <th>3</th>\n",
       "      <td>0.019454</td>\n",
       "    </tr>\n",
       "    <tr>\n",
       "      <th>4</th>\n",
       "      <td>0.974685</td>\n",
       "    </tr>\n",
       "    <tr>\n",
       "      <th>...</th>\n",
       "      <td>...</td>\n",
       "    </tr>\n",
       "    <tr>\n",
       "      <th>699995</th>\n",
       "      <td>0.317303</td>\n",
       "    </tr>\n",
       "    <tr>\n",
       "      <th>699996</th>\n",
       "      <td>0.976512</td>\n",
       "    </tr>\n",
       "    <tr>\n",
       "      <th>699997</th>\n",
       "      <td>0.011685</td>\n",
       "    </tr>\n",
       "    <tr>\n",
       "      <th>699998</th>\n",
       "      <td>0.024947</td>\n",
       "    </tr>\n",
       "    <tr>\n",
       "      <th>699999</th>\n",
       "      <td>0.021508</td>\n",
       "    </tr>\n",
       "  </tbody>\n",
       "</table>\n",
       "<p>700000 rows × 1 columns</p>\n",
       "</div>"
      ],
      "text/plain": [
       "               0\n",
       "0       0.975214\n",
       "1       0.976406\n",
       "2       0.021195\n",
       "3       0.019454\n",
       "4       0.974685\n",
       "...          ...\n",
       "699995  0.317303\n",
       "699996  0.976512\n",
       "699997  0.011685\n",
       "699998  0.024947\n",
       "699999  0.021508\n",
       "\n",
       "[700000 rows x 1 columns]"
      ]
     },
     "metadata": {},
     "output_type": "display_data"
    },
    {
     "name": "stdout",
     "output_type": "stream",
     "text": [
      "[[0.9763256 ]\n",
      " [0.9798013 ]\n",
      " [0.02124067]\n",
      " ...\n",
      " [0.03036187]\n",
      " [0.02803684]\n",
      " [0.02402741]]\n"
     ]
    },
    {
     "data": {
      "text/html": [
       "<div>\n",
       "<style scoped>\n",
       "    .dataframe tbody tr th:only-of-type {\n",
       "        vertical-align: middle;\n",
       "    }\n",
       "\n",
       "    .dataframe tbody tr th {\n",
       "        vertical-align: top;\n",
       "    }\n",
       "\n",
       "    .dataframe thead th {\n",
       "        text-align: right;\n",
       "    }\n",
       "</style>\n",
       "<table border=\"1\" class=\"dataframe\">\n",
       "  <thead>\n",
       "    <tr style=\"text-align: right;\">\n",
       "      <th></th>\n",
       "      <th>0</th>\n",
       "    </tr>\n",
       "  </thead>\n",
       "  <tbody>\n",
       "    <tr>\n",
       "      <th>0</th>\n",
       "      <td>0.976326</td>\n",
       "    </tr>\n",
       "    <tr>\n",
       "      <th>1</th>\n",
       "      <td>0.979801</td>\n",
       "    </tr>\n",
       "    <tr>\n",
       "      <th>2</th>\n",
       "      <td>0.021241</td>\n",
       "    </tr>\n",
       "    <tr>\n",
       "      <th>3</th>\n",
       "      <td>0.019621</td>\n",
       "    </tr>\n",
       "    <tr>\n",
       "      <th>4</th>\n",
       "      <td>0.976439</td>\n",
       "    </tr>\n",
       "    <tr>\n",
       "      <th>...</th>\n",
       "      <td>...</td>\n",
       "    </tr>\n",
       "    <tr>\n",
       "      <th>699995</th>\n",
       "      <td>0.943249</td>\n",
       "    </tr>\n",
       "    <tr>\n",
       "      <th>699996</th>\n",
       "      <td>0.976103</td>\n",
       "    </tr>\n",
       "    <tr>\n",
       "      <th>699997</th>\n",
       "      <td>0.030362</td>\n",
       "    </tr>\n",
       "    <tr>\n",
       "      <th>699998</th>\n",
       "      <td>0.028037</td>\n",
       "    </tr>\n",
       "    <tr>\n",
       "      <th>699999</th>\n",
       "      <td>0.024027</td>\n",
       "    </tr>\n",
       "  </tbody>\n",
       "</table>\n",
       "<p>700000 rows × 1 columns</p>\n",
       "</div>"
      ],
      "text/plain": [
       "               0\n",
       "0       0.976326\n",
       "1       0.979801\n",
       "2       0.021241\n",
       "3       0.019621\n",
       "4       0.976439\n",
       "...          ...\n",
       "699995  0.943249\n",
       "699996  0.976103\n",
       "699997  0.030362\n",
       "699998  0.028037\n",
       "699999  0.024027\n",
       "\n",
       "[700000 rows x 1 columns]"
      ]
     },
     "metadata": {},
     "output_type": "display_data"
    },
    {
     "name": "stdout",
     "output_type": "stream",
     "text": [
      "[[0.977869  ]\n",
      " [0.9778541 ]\n",
      " [0.02024253]\n",
      " ...\n",
      " [0.03639641]\n",
      " [0.02660423]\n",
      " [0.02752425]]\n"
     ]
    },
    {
     "data": {
      "text/html": [
       "<div>\n",
       "<style scoped>\n",
       "    .dataframe tbody tr th:only-of-type {\n",
       "        vertical-align: middle;\n",
       "    }\n",
       "\n",
       "    .dataframe tbody tr th {\n",
       "        vertical-align: top;\n",
       "    }\n",
       "\n",
       "    .dataframe thead th {\n",
       "        text-align: right;\n",
       "    }\n",
       "</style>\n",
       "<table border=\"1\" class=\"dataframe\">\n",
       "  <thead>\n",
       "    <tr style=\"text-align: right;\">\n",
       "      <th></th>\n",
       "      <th>0</th>\n",
       "    </tr>\n",
       "  </thead>\n",
       "  <tbody>\n",
       "    <tr>\n",
       "      <th>0</th>\n",
       "      <td>0.977869</td>\n",
       "    </tr>\n",
       "    <tr>\n",
       "      <th>1</th>\n",
       "      <td>0.977854</td>\n",
       "    </tr>\n",
       "    <tr>\n",
       "      <th>2</th>\n",
       "      <td>0.020243</td>\n",
       "    </tr>\n",
       "    <tr>\n",
       "      <th>3</th>\n",
       "      <td>0.022278</td>\n",
       "    </tr>\n",
       "    <tr>\n",
       "      <th>4</th>\n",
       "      <td>0.976386</td>\n",
       "    </tr>\n",
       "    <tr>\n",
       "      <th>...</th>\n",
       "      <td>...</td>\n",
       "    </tr>\n",
       "    <tr>\n",
       "      <th>699995</th>\n",
       "      <td>0.866609</td>\n",
       "    </tr>\n",
       "    <tr>\n",
       "      <th>699996</th>\n",
       "      <td>0.974557</td>\n",
       "    </tr>\n",
       "    <tr>\n",
       "      <th>699997</th>\n",
       "      <td>0.036396</td>\n",
       "    </tr>\n",
       "    <tr>\n",
       "      <th>699998</th>\n",
       "      <td>0.026604</td>\n",
       "    </tr>\n",
       "    <tr>\n",
       "      <th>699999</th>\n",
       "      <td>0.027524</td>\n",
       "    </tr>\n",
       "  </tbody>\n",
       "</table>\n",
       "<p>700000 rows × 1 columns</p>\n",
       "</div>"
      ],
      "text/plain": [
       "               0\n",
       "0       0.977869\n",
       "1       0.977854\n",
       "2       0.020243\n",
       "3       0.022278\n",
       "4       0.976386\n",
       "...          ...\n",
       "699995  0.866609\n",
       "699996  0.974557\n",
       "699997  0.036396\n",
       "699998  0.026604\n",
       "699999  0.027524\n",
       "\n",
       "[700000 rows x 1 columns]"
      ]
     },
     "metadata": {},
     "output_type": "display_data"
    },
    {
     "name": "stdout",
     "output_type": "stream",
     "text": [
      "[[0.9735782 ]\n",
      " [0.9757076 ]\n",
      " [0.02386909]\n",
      " ...\n",
      " [0.02657172]\n",
      " [0.02519219]\n",
      " [0.0249288 ]]\n"
     ]
    },
    {
     "data": {
      "text/html": [
       "<div>\n",
       "<style scoped>\n",
       "    .dataframe tbody tr th:only-of-type {\n",
       "        vertical-align: middle;\n",
       "    }\n",
       "\n",
       "    .dataframe tbody tr th {\n",
       "        vertical-align: top;\n",
       "    }\n",
       "\n",
       "    .dataframe thead th {\n",
       "        text-align: right;\n",
       "    }\n",
       "</style>\n",
       "<table border=\"1\" class=\"dataframe\">\n",
       "  <thead>\n",
       "    <tr style=\"text-align: right;\">\n",
       "      <th></th>\n",
       "      <th>0</th>\n",
       "    </tr>\n",
       "  </thead>\n",
       "  <tbody>\n",
       "    <tr>\n",
       "      <th>0</th>\n",
       "      <td>0.973578</td>\n",
       "    </tr>\n",
       "    <tr>\n",
       "      <th>1</th>\n",
       "      <td>0.975708</td>\n",
       "    </tr>\n",
       "    <tr>\n",
       "      <th>2</th>\n",
       "      <td>0.023869</td>\n",
       "    </tr>\n",
       "    <tr>\n",
       "      <th>3</th>\n",
       "      <td>0.021889</td>\n",
       "    </tr>\n",
       "    <tr>\n",
       "      <th>4</th>\n",
       "      <td>0.976312</td>\n",
       "    </tr>\n",
       "    <tr>\n",
       "      <th>...</th>\n",
       "      <td>...</td>\n",
       "    </tr>\n",
       "    <tr>\n",
       "      <th>699995</th>\n",
       "      <td>0.777773</td>\n",
       "    </tr>\n",
       "    <tr>\n",
       "      <th>699996</th>\n",
       "      <td>0.975972</td>\n",
       "    </tr>\n",
       "    <tr>\n",
       "      <th>699997</th>\n",
       "      <td>0.026572</td>\n",
       "    </tr>\n",
       "    <tr>\n",
       "      <th>699998</th>\n",
       "      <td>0.025192</td>\n",
       "    </tr>\n",
       "    <tr>\n",
       "      <th>699999</th>\n",
       "      <td>0.024929</td>\n",
       "    </tr>\n",
       "  </tbody>\n",
       "</table>\n",
       "<p>700000 rows × 1 columns</p>\n",
       "</div>"
      ],
      "text/plain": [
       "               0\n",
       "0       0.973578\n",
       "1       0.975708\n",
       "2       0.023869\n",
       "3       0.021889\n",
       "4       0.976312\n",
       "...          ...\n",
       "699995  0.777773\n",
       "699996  0.975972\n",
       "699997  0.026572\n",
       "699998  0.025192\n",
       "699999  0.024929\n",
       "\n",
       "[700000 rows x 1 columns]"
      ]
     },
     "metadata": {},
     "output_type": "display_data"
    },
    {
     "name": "stdout",
     "output_type": "stream",
     "text": [
      "[[0.97171324]\n",
      " [0.97452515]\n",
      " [0.02127126]\n",
      " ...\n",
      " [0.02477803]\n",
      " [0.02724473]\n",
      " [0.02345986]]\n"
     ]
    },
    {
     "data": {
      "text/html": [
       "<div>\n",
       "<style scoped>\n",
       "    .dataframe tbody tr th:only-of-type {\n",
       "        vertical-align: middle;\n",
       "    }\n",
       "\n",
       "    .dataframe tbody tr th {\n",
       "        vertical-align: top;\n",
       "    }\n",
       "\n",
       "    .dataframe thead th {\n",
       "        text-align: right;\n",
       "    }\n",
       "</style>\n",
       "<table border=\"1\" class=\"dataframe\">\n",
       "  <thead>\n",
       "    <tr style=\"text-align: right;\">\n",
       "      <th></th>\n",
       "      <th>0</th>\n",
       "    </tr>\n",
       "  </thead>\n",
       "  <tbody>\n",
       "    <tr>\n",
       "      <th>0</th>\n",
       "      <td>0.971713</td>\n",
       "    </tr>\n",
       "    <tr>\n",
       "      <th>1</th>\n",
       "      <td>0.974525</td>\n",
       "    </tr>\n",
       "    <tr>\n",
       "      <th>2</th>\n",
       "      <td>0.021271</td>\n",
       "    </tr>\n",
       "    <tr>\n",
       "      <th>3</th>\n",
       "      <td>0.020475</td>\n",
       "    </tr>\n",
       "    <tr>\n",
       "      <th>4</th>\n",
       "      <td>0.976128</td>\n",
       "    </tr>\n",
       "    <tr>\n",
       "      <th>...</th>\n",
       "      <td>...</td>\n",
       "    </tr>\n",
       "    <tr>\n",
       "      <th>699995</th>\n",
       "      <td>0.746653</td>\n",
       "    </tr>\n",
       "    <tr>\n",
       "      <th>699996</th>\n",
       "      <td>0.976701</td>\n",
       "    </tr>\n",
       "    <tr>\n",
       "      <th>699997</th>\n",
       "      <td>0.024778</td>\n",
       "    </tr>\n",
       "    <tr>\n",
       "      <th>699998</th>\n",
       "      <td>0.027245</td>\n",
       "    </tr>\n",
       "    <tr>\n",
       "      <th>699999</th>\n",
       "      <td>0.023460</td>\n",
       "    </tr>\n",
       "  </tbody>\n",
       "</table>\n",
       "<p>700000 rows × 1 columns</p>\n",
       "</div>"
      ],
      "text/plain": [
       "               0\n",
       "0       0.971713\n",
       "1       0.974525\n",
       "2       0.021271\n",
       "3       0.020475\n",
       "4       0.976128\n",
       "...          ...\n",
       "699995  0.746653\n",
       "699996  0.976701\n",
       "699997  0.024778\n",
       "699998  0.027245\n",
       "699999  0.023460\n",
       "\n",
       "[700000 rows x 1 columns]"
      ]
     },
     "metadata": {},
     "output_type": "display_data"
    },
    {
     "data": {
      "text/html": [
       "<div>\n",
       "<style scoped>\n",
       "    .dataframe tbody tr th:only-of-type {\n",
       "        vertical-align: middle;\n",
       "    }\n",
       "\n",
       "    .dataframe tbody tr th {\n",
       "        vertical-align: top;\n",
       "    }\n",
       "\n",
       "    .dataframe thead th {\n",
       "        text-align: right;\n",
       "    }\n",
       "</style>\n",
       "<table border=\"1\" class=\"dataframe\">\n",
       "  <thead>\n",
       "    <tr style=\"text-align: right;\">\n",
       "      <th></th>\n",
       "      <th>0</th>\n",
       "      <th>0</th>\n",
       "      <th>0</th>\n",
       "      <th>0</th>\n",
       "      <th>0</th>\n",
       "    </tr>\n",
       "  </thead>\n",
       "  <tbody>\n",
       "    <tr>\n",
       "      <th>0</th>\n",
       "      <td>0.975214</td>\n",
       "      <td>0.976326</td>\n",
       "      <td>0.977869</td>\n",
       "      <td>0.973578</td>\n",
       "      <td>0.971713</td>\n",
       "    </tr>\n",
       "    <tr>\n",
       "      <th>1</th>\n",
       "      <td>0.976406</td>\n",
       "      <td>0.979801</td>\n",
       "      <td>0.977854</td>\n",
       "      <td>0.975708</td>\n",
       "      <td>0.974525</td>\n",
       "    </tr>\n",
       "    <tr>\n",
       "      <th>2</th>\n",
       "      <td>0.021195</td>\n",
       "      <td>0.021241</td>\n",
       "      <td>0.020243</td>\n",
       "      <td>0.023869</td>\n",
       "      <td>0.021271</td>\n",
       "    </tr>\n",
       "    <tr>\n",
       "      <th>3</th>\n",
       "      <td>0.019454</td>\n",
       "      <td>0.019621</td>\n",
       "      <td>0.022278</td>\n",
       "      <td>0.021889</td>\n",
       "      <td>0.020475</td>\n",
       "    </tr>\n",
       "    <tr>\n",
       "      <th>4</th>\n",
       "      <td>0.974685</td>\n",
       "      <td>0.976439</td>\n",
       "      <td>0.976386</td>\n",
       "      <td>0.976312</td>\n",
       "      <td>0.976128</td>\n",
       "    </tr>\n",
       "    <tr>\n",
       "      <th>...</th>\n",
       "      <td>...</td>\n",
       "      <td>...</td>\n",
       "      <td>...</td>\n",
       "      <td>...</td>\n",
       "      <td>...</td>\n",
       "    </tr>\n",
       "    <tr>\n",
       "      <th>699995</th>\n",
       "      <td>0.317303</td>\n",
       "      <td>0.943249</td>\n",
       "      <td>0.866609</td>\n",
       "      <td>0.777773</td>\n",
       "      <td>0.746653</td>\n",
       "    </tr>\n",
       "    <tr>\n",
       "      <th>699996</th>\n",
       "      <td>0.976512</td>\n",
       "      <td>0.976103</td>\n",
       "      <td>0.974557</td>\n",
       "      <td>0.975972</td>\n",
       "      <td>0.976701</td>\n",
       "    </tr>\n",
       "    <tr>\n",
       "      <th>699997</th>\n",
       "      <td>0.011685</td>\n",
       "      <td>0.030362</td>\n",
       "      <td>0.036396</td>\n",
       "      <td>0.026572</td>\n",
       "      <td>0.024778</td>\n",
       "    </tr>\n",
       "    <tr>\n",
       "      <th>699998</th>\n",
       "      <td>0.024947</td>\n",
       "      <td>0.028037</td>\n",
       "      <td>0.026604</td>\n",
       "      <td>0.025192</td>\n",
       "      <td>0.027245</td>\n",
       "    </tr>\n",
       "    <tr>\n",
       "      <th>699999</th>\n",
       "      <td>0.021508</td>\n",
       "      <td>0.024027</td>\n",
       "      <td>0.027524</td>\n",
       "      <td>0.024929</td>\n",
       "      <td>0.023460</td>\n",
       "    </tr>\n",
       "  </tbody>\n",
       "</table>\n",
       "<p>700000 rows × 5 columns</p>\n",
       "</div>"
      ],
      "text/plain": [
       "               0         0         0         0         0\n",
       "0       0.975214  0.976326  0.977869  0.973578  0.971713\n",
       "1       0.976406  0.979801  0.977854  0.975708  0.974525\n",
       "2       0.021195  0.021241  0.020243  0.023869  0.021271\n",
       "3       0.019454  0.019621  0.022278  0.021889  0.020475\n",
       "4       0.974685  0.976439  0.976386  0.976312  0.976128\n",
       "...          ...       ...       ...       ...       ...\n",
       "699995  0.317303  0.943249  0.866609  0.777773  0.746653\n",
       "699996  0.976512  0.976103  0.974557  0.975972  0.976701\n",
       "699997  0.011685  0.030362  0.036396  0.026572  0.024778\n",
       "699998  0.024947  0.028037  0.026604  0.025192  0.027245\n",
       "699999  0.021508  0.024027  0.027524  0.024929  0.023460\n",
       "\n",
       "[700000 rows x 5 columns]"
      ]
     },
     "execution_count": 37,
     "metadata": {},
     "output_type": "execute_result"
    }
   ],
   "source": [
    "predictions = pd.DataFrame()\n",
    "with torch.no_grad():\n",
    "    for i, model_name in enumerate(models):\n",
    "        model = Net1(i, len(all_features), 1).to(CFG.device)\n",
    "        model.load_state_dict(torch.load(model_name,))\n",
    "        pred = model.test_step()\n",
    "        predictions = pd.concat([predictions, pd.DataFrame(pred)], axis=1)\n",
    "\n",
    "predictions"
   ]
  },
  {
   "cell_type": "code",
   "execution_count": null,
   "id": "2f493d47",
   "metadata": {},
   "outputs": [],
   "source": [
    "sub[CFG.label] = predictions.mean(axis=1)"
   ]
  },
  {
   "cell_type": "code",
   "execution_count": null,
   "id": "3906bc91",
   "metadata": {
    "execution": {
     "iopub.execute_input": "2022-05-10T11:33:15.018839Z",
     "iopub.status.busy": "2022-05-10T11:33:15.018589Z",
     "iopub.status.idle": "2022-05-10T11:33:16.940312Z",
     "shell.execute_reply": "2022-05-10T11:33:16.939600Z"
    },
    "papermill": {
     "duration": 4.162619,
     "end_time": "2022-05-10T11:33:16.942301",
     "exception": false,
     "start_time": "2022-05-10T11:33:12.779682",
     "status": "completed"
    },
    "tags": []
   },
   "outputs": [],
   "source": [
    "sub.to_csv('submission.csv', index=False)"
   ]
  },
  {
   "cell_type": "code",
   "execution_count": null,
   "id": "c87b8c9e",
   "metadata": {
    "execution": {
     "iopub.execute_input": "2022-05-10T11:33:21.396464Z",
     "iopub.status.busy": "2022-05-10T11:33:21.396219Z",
     "iopub.status.idle": "2022-05-10T11:33:21.404388Z",
     "shell.execute_reply": "2022-05-10T11:33:21.403746Z"
    },
    "papermill": {
     "duration": 2.236115,
     "end_time": "2022-05-10T11:33:21.406575",
     "exception": false,
     "start_time": "2022-05-10T11:33:19.170460",
     "status": "completed"
    },
    "tags": []
   },
   "outputs": [
    {
     "data": {
      "text/html": [
       "<div>\n",
       "<style scoped>\n",
       "    .dataframe tbody tr th:only-of-type {\n",
       "        vertical-align: middle;\n",
       "    }\n",
       "\n",
       "    .dataframe tbody tr th {\n",
       "        vertical-align: top;\n",
       "    }\n",
       "\n",
       "    .dataframe thead th {\n",
       "        text-align: right;\n",
       "    }\n",
       "</style>\n",
       "<table border=\"1\" class=\"dataframe\">\n",
       "  <thead>\n",
       "    <tr style=\"text-align: right;\">\n",
       "      <th></th>\n",
       "      <th>id</th>\n",
       "      <th>target</th>\n",
       "    </tr>\n",
       "  </thead>\n",
       "  <tbody>\n",
       "    <tr>\n",
       "      <th>0</th>\n",
       "      <td>900000</td>\n",
       "      <td>0.974940</td>\n",
       "    </tr>\n",
       "    <tr>\n",
       "      <th>1</th>\n",
       "      <td>900001</td>\n",
       "      <td>0.976859</td>\n",
       "    </tr>\n",
       "    <tr>\n",
       "      <th>2</th>\n",
       "      <td>900002</td>\n",
       "      <td>0.021564</td>\n",
       "    </tr>\n",
       "    <tr>\n",
       "      <th>3</th>\n",
       "      <td>900003</td>\n",
       "      <td>0.020744</td>\n",
       "    </tr>\n",
       "    <tr>\n",
       "      <th>4</th>\n",
       "      <td>900004</td>\n",
       "      <td>0.975990</td>\n",
       "    </tr>\n",
       "    <tr>\n",
       "      <th>5</th>\n",
       "      <td>900005</td>\n",
       "      <td>0.025832</td>\n",
       "    </tr>\n",
       "    <tr>\n",
       "      <th>6</th>\n",
       "      <td>900006</td>\n",
       "      <td>0.373095</td>\n",
       "    </tr>\n",
       "    <tr>\n",
       "      <th>7</th>\n",
       "      <td>900007</td>\n",
       "      <td>0.976420</td>\n",
       "    </tr>\n",
       "    <tr>\n",
       "      <th>8</th>\n",
       "      <td>900008</td>\n",
       "      <td>0.022587</td>\n",
       "    </tr>\n",
       "    <tr>\n",
       "      <th>9</th>\n",
       "      <td>900009</td>\n",
       "      <td>0.976356</td>\n",
       "    </tr>\n",
       "  </tbody>\n",
       "</table>\n",
       "</div>"
      ],
      "text/plain": [
       "       id    target\n",
       "0  900000  0.974940\n",
       "1  900001  0.976859\n",
       "2  900002  0.021564\n",
       "3  900003  0.020744\n",
       "4  900004  0.975990\n",
       "5  900005  0.025832\n",
       "6  900006  0.373095\n",
       "7  900007  0.976420\n",
       "8  900008  0.022587\n",
       "9  900009  0.976356"
      ]
     },
     "execution_count": 40,
     "metadata": {},
     "output_type": "execute_result"
    }
   ],
   "source": [
    "sub.head(10)"
   ]
  }
 ],
 "metadata": {
  "interpreter": {
   "hash": "60f8cdbf2a96461788475085dd1e9d6dd7137de331e19aa3c17c37cb4f0963a7"
  },
  "kernelspec": {
   "display_name": "Python 3.8.13 ('yourenvname')",
   "language": "python",
   "name": "python3"
  },
  "language_info": {
   "codemirror_mode": {
    "name": "ipython",
    "version": 3
   },
   "file_extension": ".py",
   "mimetype": "text/x-python",
   "name": "python",
   "nbconvert_exporter": "python",
   "pygments_lexer": "ipython3",
   "version": "3.8.13"
  },
  "papermill": {
   "default_parameters": {},
   "duration": 2856.084635,
   "end_time": "2022-05-10T11:33:24.796536",
   "environment_variables": {},
   "exception": null,
   "input_path": "__notebook__.ipynb",
   "output_path": "__notebook__.ipynb",
   "parameters": {},
   "start_time": "2022-05-10T10:45:48.711901",
   "version": "2.3.4"
  }
 },
 "nbformat": 4,
 "nbformat_minor": 5
}
