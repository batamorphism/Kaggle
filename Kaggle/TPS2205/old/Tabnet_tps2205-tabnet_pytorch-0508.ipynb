{
 "cells": [
  {
   "cell_type": "markdown",
   "id": "ae860c2b",
   "metadata": {
    "papermill": {
     "duration": 0.034996,
     "end_time": "2022-05-10T10:45:57.032613",
     "exception": false,
     "start_time": "2022-05-10T10:45:56.997617",
     "status": "completed"
    },
    "tags": []
   },
   "source": [
    "I'm a beginner, so please be gentle with me."
   ]
  },
  {
   "cell_type": "code",
   "execution_count": 16,
   "id": "6b3d28c7",
   "metadata": {
    "execution": {
     "iopub.execute_input": "2022-05-10T10:45:57.103286Z",
     "iopub.status.busy": "2022-05-10T10:45:57.102673Z",
     "iopub.status.idle": "2022-05-10T10:45:57.112212Z",
     "shell.execute_reply": "2022-05-10T10:45:57.111601Z"
    },
    "papermill": {
     "duration": 0.046307,
     "end_time": "2022-05-10T10:45:57.114120",
     "exception": false,
     "start_time": "2022-05-10T10:45:57.067813",
     "status": "completed"
    },
    "tags": []
   },
   "outputs": [],
   "source": [
    "import os\n",
    "os.chdir('C:/Users/Takanori/Desktop/Kaggle/TPS2205/input')"
   ]
  },
  {
   "cell_type": "code",
   "execution_count": 17,
   "id": "b6bf01e8",
   "metadata": {},
   "outputs": [],
   "source": [
    "# %%capture\n",
    "# pip install pytorch-tabnet"
   ]
  },
  {
   "cell_type": "markdown",
   "id": "d9dad9fc",
   "metadata": {
    "papermill": {
     "duration": 0.036574,
     "end_time": "2022-05-10T10:45:57.186644",
     "exception": false,
     "start_time": "2022-05-10T10:45:57.150070",
     "status": "completed"
    },
    "tags": []
   },
   "source": [
    "# DataSet & Library Loading"
   ]
  },
  {
   "cell_type": "code",
   "execution_count": 18,
   "id": "80a9139d",
   "metadata": {
    "execution": {
     "iopub.execute_input": "2022-05-10T10:45:57.258391Z",
     "iopub.status.busy": "2022-05-10T10:45:57.257775Z",
     "iopub.status.idle": "2022-05-10T10:45:58.440360Z",
     "shell.execute_reply": "2022-05-10T10:45:58.439632Z"
    },
    "papermill": {
     "duration": 1.221023,
     "end_time": "2022-05-10T10:45:58.442806",
     "exception": false,
     "start_time": "2022-05-10T10:45:57.221783",
     "status": "completed"
    },
    "tags": []
   },
   "outputs": [],
   "source": [
    "import numpy as np\n",
    "import pandas as pd\n",
    "import seaborn as sns\n",
    "import matplotlib.pyplot as plt\n",
    "from collections import Counter\n",
    "from sklearn.utils import shuffle\n",
    "from sklearn.preprocessing import StandardScaler\n",
    "from sklearn.linear_model import LogisticRegression\n",
    "from sklearn.model_selection import train_test_split\n",
    "from sklearn.model_selection import StratifiedKFold\n",
    "from sklearn.metrics import roc_auc_score\n",
    "import time, gc"
   ]
  },
  {
   "cell_type": "code",
   "execution_count": 19,
   "id": "1183066f",
   "metadata": {
    "execution": {
     "iopub.execute_input": "2022-05-10T10:45:58.552859Z",
     "iopub.status.busy": "2022-05-10T10:45:58.552537Z",
     "iopub.status.idle": "2022-05-10T10:46:00.100804Z",
     "shell.execute_reply": "2022-05-10T10:46:00.100079Z"
    },
    "papermill": {
     "duration": 1.605567,
     "end_time": "2022-05-10T10:46:00.102892",
     "exception": false,
     "start_time": "2022-05-10T10:45:58.497325",
     "status": "completed"
    },
    "tags": []
   },
   "outputs": [],
   "source": [
    "import torch\n",
    "import torch.nn as nn\n",
    "from torch.nn import functional as F\n",
    "from torch.autograd import Variable\n",
    "from torch.optim import lr_scheduler"
   ]
  },
  {
   "cell_type": "code",
   "execution_count": 20,
   "id": "5a52b815",
   "metadata": {
    "execution": {
     "iopub.execute_input": "2022-05-10T10:46:00.172631Z",
     "iopub.status.busy": "2022-05-10T10:46:00.172381Z",
     "iopub.status.idle": "2022-05-10T10:46:00.233166Z",
     "shell.execute_reply": "2022-05-10T10:46:00.232467Z"
    },
    "papermill": {
     "duration": 0.097454,
     "end_time": "2022-05-10T10:46:00.234896",
     "exception": false,
     "start_time": "2022-05-10T10:46:00.137442",
     "status": "completed"
    },
    "tags": []
   },
   "outputs": [],
   "source": [
    "class CFG:\n",
    "    batch_size = 100_000\n",
    "    epochs = 10_000  # 最大のepoch数\n",
    "    folds = 10  # クロスバリデーションにおけるfold数\n",
    "    seed = 42  # TODO 機能させる\n",
    "    target = 'target'  # 目標変数\n",
    "    model_path = \"models\"  # モデルを保存するフォルダ\n",
    "    test_pred = []  # 各foldで作ったモデル別の、testを予測した結果のカラム名\n",
    "    pred = 'pred'  # trainを予測した結果のカラム名\n",
    "    increase_batch = 9999  # 何epoch間lossが改善しなかったbatchを増やすか\n",
    "    early_stopping = 100  # 何epochでearly stoppingをするか\n",
    "    lr = 1  # optimizerの学習率\n",
    "    # min_lr = 1e-3  # 学習率の最低値\n",
    "    lr_patience = 10  # 学習率を引き下げる間隔\n",
    "    lr_factor = 0.5  # lrを何倍にするか\n",
    "    device = torch.device('cuda:0' if torch.cuda.is_available() else 'cpu')\n",
    "    delta = 1e-4  # AUC等がいくつ変わらなかったら学習などをやめるか"
   ]
  },
  {
   "cell_type": "code",
   "execution_count": 21,
   "id": "5f29f4c9",
   "metadata": {
    "execution": {
     "iopub.execute_input": "2022-05-10T10:46:00.303177Z",
     "iopub.status.busy": "2022-05-10T10:46:00.302952Z",
     "iopub.status.idle": "2022-05-10T10:46:00.306928Z",
     "shell.execute_reply": "2022-05-10T10:46:00.306203Z"
    },
    "papermill": {
     "duration": 0.040032,
     "end_time": "2022-05-10T10:46:00.308537",
     "exception": false,
     "start_time": "2022-05-10T10:46:00.268505",
     "status": "completed"
    },
    "tags": []
   },
   "outputs": [],
   "source": [
    "os.makedirs(CFG.model_path, exist_ok=True)"
   ]
  },
  {
   "cell_type": "markdown",
   "id": "89b398ae",
   "metadata": {
    "papermill": {
     "duration": 0.033438,
     "end_time": "2022-05-10T10:46:00.375455",
     "exception": false,
     "start_time": "2022-05-10T10:46:00.342017",
     "status": "completed"
    },
    "tags": []
   },
   "source": [
    "## FE"
   ]
  },
  {
   "cell_type": "code",
   "execution_count": 22,
   "id": "f1d54ae1",
   "metadata": {
    "execution": {
     "iopub.execute_input": "2022-05-10T10:46:00.443728Z",
     "iopub.status.busy": "2022-05-10T10:46:00.443465Z",
     "iopub.status.idle": "2022-05-10T10:46:13.082467Z",
     "shell.execute_reply": "2022-05-10T10:46:13.081692Z"
    },
    "papermill": {
     "duration": 12.675348,
     "end_time": "2022-05-10T10:46:13.084261",
     "exception": false,
     "start_time": "2022-05-10T10:46:00.408913",
     "status": "completed"
    },
    "tags": []
   },
   "outputs": [
    {
     "data": {
      "text/html": [
       "<div>\n",
       "<style scoped>\n",
       "    .dataframe tbody tr th:only-of-type {\n",
       "        vertical-align: middle;\n",
       "    }\n",
       "\n",
       "    .dataframe tbody tr th {\n",
       "        vertical-align: top;\n",
       "    }\n",
       "\n",
       "    .dataframe thead th {\n",
       "        text-align: right;\n",
       "    }\n",
       "</style>\n",
       "<table border=\"1\" class=\"dataframe\">\n",
       "  <thead>\n",
       "    <tr style=\"text-align: right;\">\n",
       "      <th></th>\n",
       "      <th>id</th>\n",
       "      <th>f_00</th>\n",
       "      <th>f_01</th>\n",
       "      <th>f_02</th>\n",
       "      <th>f_03</th>\n",
       "      <th>f_04</th>\n",
       "      <th>f_05</th>\n",
       "      <th>f_06</th>\n",
       "      <th>f_07</th>\n",
       "      <th>f_08</th>\n",
       "      <th>...</th>\n",
       "      <th>f_22</th>\n",
       "      <th>f_23</th>\n",
       "      <th>f_24</th>\n",
       "      <th>f_25</th>\n",
       "      <th>f_26</th>\n",
       "      <th>f_27</th>\n",
       "      <th>f_28</th>\n",
       "      <th>f_29</th>\n",
       "      <th>f_30</th>\n",
       "      <th>target</th>\n",
       "    </tr>\n",
       "  </thead>\n",
       "  <tbody>\n",
       "    <tr>\n",
       "      <th>0</th>\n",
       "      <td>0</td>\n",
       "      <td>-1.373246</td>\n",
       "      <td>0.238887</td>\n",
       "      <td>-0.243376</td>\n",
       "      <td>0.567405</td>\n",
       "      <td>-0.647715</td>\n",
       "      <td>0.839326</td>\n",
       "      <td>0.113133</td>\n",
       "      <td>1</td>\n",
       "      <td>5</td>\n",
       "      <td>...</td>\n",
       "      <td>-2.540739</td>\n",
       "      <td>0.766952</td>\n",
       "      <td>-2.730628</td>\n",
       "      <td>-0.208177</td>\n",
       "      <td>1.363402</td>\n",
       "      <td>ABABDADBAB</td>\n",
       "      <td>67.609153</td>\n",
       "      <td>0</td>\n",
       "      <td>0</td>\n",
       "      <td>0</td>\n",
       "    </tr>\n",
       "    <tr>\n",
       "      <th>1</th>\n",
       "      <td>1</td>\n",
       "      <td>1.697021</td>\n",
       "      <td>-1.710322</td>\n",
       "      <td>-2.230332</td>\n",
       "      <td>-0.545661</td>\n",
       "      <td>1.113173</td>\n",
       "      <td>-1.552175</td>\n",
       "      <td>0.447825</td>\n",
       "      <td>1</td>\n",
       "      <td>3</td>\n",
       "      <td>...</td>\n",
       "      <td>2.278315</td>\n",
       "      <td>-0.633658</td>\n",
       "      <td>-1.217077</td>\n",
       "      <td>-3.782194</td>\n",
       "      <td>-0.058316</td>\n",
       "      <td>ACACCADCEB</td>\n",
       "      <td>377.096415</td>\n",
       "      <td>0</td>\n",
       "      <td>0</td>\n",
       "      <td>1</td>\n",
       "    </tr>\n",
       "    <tr>\n",
       "      <th>2</th>\n",
       "      <td>2</td>\n",
       "      <td>1.681726</td>\n",
       "      <td>0.616746</td>\n",
       "      <td>-1.027689</td>\n",
       "      <td>0.810492</td>\n",
       "      <td>-0.609086</td>\n",
       "      <td>0.113965</td>\n",
       "      <td>-0.708660</td>\n",
       "      <td>1</td>\n",
       "      <td>0</td>\n",
       "      <td>...</td>\n",
       "      <td>-1.385775</td>\n",
       "      <td>-0.520558</td>\n",
       "      <td>-0.009121</td>\n",
       "      <td>2.788536</td>\n",
       "      <td>-3.703488</td>\n",
       "      <td>AAAEABCKAD</td>\n",
       "      <td>-195.599702</td>\n",
       "      <td>0</td>\n",
       "      <td>2</td>\n",
       "      <td>1</td>\n",
       "    </tr>\n",
       "    <tr>\n",
       "      <th>3</th>\n",
       "      <td>3</td>\n",
       "      <td>-0.118172</td>\n",
       "      <td>-0.587835</td>\n",
       "      <td>-0.804638</td>\n",
       "      <td>2.086822</td>\n",
       "      <td>0.371005</td>\n",
       "      <td>-0.128831</td>\n",
       "      <td>-0.282575</td>\n",
       "      <td>3</td>\n",
       "      <td>2</td>\n",
       "      <td>...</td>\n",
       "      <td>0.572594</td>\n",
       "      <td>-1.653213</td>\n",
       "      <td>1.686035</td>\n",
       "      <td>-2.533098</td>\n",
       "      <td>-0.608601</td>\n",
       "      <td>BDBBAACBCB</td>\n",
       "      <td>210.826205</td>\n",
       "      <td>0</td>\n",
       "      <td>0</td>\n",
       "      <td>1</td>\n",
       "    </tr>\n",
       "    <tr>\n",
       "      <th>4</th>\n",
       "      <td>4</td>\n",
       "      <td>1.148481</td>\n",
       "      <td>-0.176567</td>\n",
       "      <td>-0.664871</td>\n",
       "      <td>-1.101343</td>\n",
       "      <td>0.467875</td>\n",
       "      <td>0.500117</td>\n",
       "      <td>0.407515</td>\n",
       "      <td>3</td>\n",
       "      <td>3</td>\n",
       "      <td>...</td>\n",
       "      <td>-3.912929</td>\n",
       "      <td>-1.430366</td>\n",
       "      <td>2.127649</td>\n",
       "      <td>-3.306784</td>\n",
       "      <td>4.371371</td>\n",
       "      <td>BDBCBBCHFE</td>\n",
       "      <td>-217.211798</td>\n",
       "      <td>0</td>\n",
       "      <td>1</td>\n",
       "      <td>1</td>\n",
       "    </tr>\n",
       "  </tbody>\n",
       "</table>\n",
       "<p>5 rows × 33 columns</p>\n",
       "</div>"
      ],
      "text/plain": [
       "   id      f_00      f_01      f_02      f_03      f_04      f_05      f_06  \\\n",
       "0   0 -1.373246  0.238887 -0.243376  0.567405 -0.647715  0.839326  0.113133   \n",
       "1   1  1.697021 -1.710322 -2.230332 -0.545661  1.113173 -1.552175  0.447825   \n",
       "2   2  1.681726  0.616746 -1.027689  0.810492 -0.609086  0.113965 -0.708660   \n",
       "3   3 -0.118172 -0.587835 -0.804638  2.086822  0.371005 -0.128831 -0.282575   \n",
       "4   4  1.148481 -0.176567 -0.664871 -1.101343  0.467875  0.500117  0.407515   \n",
       "\n",
       "   f_07  f_08  ...      f_22      f_23      f_24      f_25      f_26  \\\n",
       "0     1     5  ... -2.540739  0.766952 -2.730628 -0.208177  1.363402   \n",
       "1     1     3  ...  2.278315 -0.633658 -1.217077 -3.782194 -0.058316   \n",
       "2     1     0  ... -1.385775 -0.520558 -0.009121  2.788536 -3.703488   \n",
       "3     3     2  ...  0.572594 -1.653213  1.686035 -2.533098 -0.608601   \n",
       "4     3     3  ... -3.912929 -1.430366  2.127649 -3.306784  4.371371   \n",
       "\n",
       "         f_27        f_28  f_29  f_30  target  \n",
       "0  ABABDADBAB   67.609153     0     0       0  \n",
       "1  ACACCADCEB  377.096415     0     0       1  \n",
       "2  AAAEABCKAD -195.599702     0     2       1  \n",
       "3  BDBBAACBCB  210.826205     0     0       1  \n",
       "4  BDBCBBCHFE -217.211798     0     1       1  \n",
       "\n",
       "[5 rows x 33 columns]"
      ]
     },
     "metadata": {},
     "output_type": "display_data"
    },
    {
     "data": {
      "text/html": [
       "<div>\n",
       "<style scoped>\n",
       "    .dataframe tbody tr th:only-of-type {\n",
       "        vertical-align: middle;\n",
       "    }\n",
       "\n",
       "    .dataframe tbody tr th {\n",
       "        vertical-align: top;\n",
       "    }\n",
       "\n",
       "    .dataframe thead th {\n",
       "        text-align: right;\n",
       "    }\n",
       "</style>\n",
       "<table border=\"1\" class=\"dataframe\">\n",
       "  <thead>\n",
       "    <tr style=\"text-align: right;\">\n",
       "      <th></th>\n",
       "      <th>id</th>\n",
       "      <th>f_00</th>\n",
       "      <th>f_01</th>\n",
       "      <th>f_02</th>\n",
       "      <th>f_03</th>\n",
       "      <th>f_04</th>\n",
       "      <th>f_05</th>\n",
       "      <th>f_06</th>\n",
       "      <th>f_07</th>\n",
       "      <th>f_08</th>\n",
       "      <th>...</th>\n",
       "      <th>f_21</th>\n",
       "      <th>f_22</th>\n",
       "      <th>f_23</th>\n",
       "      <th>f_24</th>\n",
       "      <th>f_25</th>\n",
       "      <th>f_26</th>\n",
       "      <th>f_27</th>\n",
       "      <th>f_28</th>\n",
       "      <th>f_29</th>\n",
       "      <th>f_30</th>\n",
       "    </tr>\n",
       "  </thead>\n",
       "  <tbody>\n",
       "    <tr>\n",
       "      <th>0</th>\n",
       "      <td>900000</td>\n",
       "      <td>0.442517</td>\n",
       "      <td>0.174380</td>\n",
       "      <td>-0.999816</td>\n",
       "      <td>0.762741</td>\n",
       "      <td>0.186778</td>\n",
       "      <td>-1.074775</td>\n",
       "      <td>0.501888</td>\n",
       "      <td>6</td>\n",
       "      <td>6</td>\n",
       "      <td>...</td>\n",
       "      <td>-1.006400</td>\n",
       "      <td>-1.193879</td>\n",
       "      <td>-2.435736</td>\n",
       "      <td>-2.427430</td>\n",
       "      <td>-1.966887</td>\n",
       "      <td>5.734205</td>\n",
       "      <td>BAAABADLAC</td>\n",
       "      <td>99.478419</td>\n",
       "      <td>0</td>\n",
       "      <td>0</td>\n",
       "    </tr>\n",
       "    <tr>\n",
       "      <th>1</th>\n",
       "      <td>900001</td>\n",
       "      <td>-0.605598</td>\n",
       "      <td>-0.305715</td>\n",
       "      <td>0.627667</td>\n",
       "      <td>-0.578898</td>\n",
       "      <td>-1.750931</td>\n",
       "      <td>1.355550</td>\n",
       "      <td>-0.190911</td>\n",
       "      <td>1</td>\n",
       "      <td>3</td>\n",
       "      <td>...</td>\n",
       "      <td>2.382405</td>\n",
       "      <td>0.149442</td>\n",
       "      <td>1.883322</td>\n",
       "      <td>-2.848714</td>\n",
       "      <td>-0.725155</td>\n",
       "      <td>3.194219</td>\n",
       "      <td>AFABBAEGCB</td>\n",
       "      <td>-65.993825</td>\n",
       "      <td>1</td>\n",
       "      <td>0</td>\n",
       "    </tr>\n",
       "    <tr>\n",
       "      <th>2</th>\n",
       "      <td>900002</td>\n",
       "      <td>0.303990</td>\n",
       "      <td>2.445110</td>\n",
       "      <td>0.246515</td>\n",
       "      <td>0.818248</td>\n",
       "      <td>0.359731</td>\n",
       "      <td>-1.331845</td>\n",
       "      <td>1.358622</td>\n",
       "      <td>3</td>\n",
       "      <td>3</td>\n",
       "      <td>...</td>\n",
       "      <td>-7.026098</td>\n",
       "      <td>1.312277</td>\n",
       "      <td>-5.157192</td>\n",
       "      <td>1.714005</td>\n",
       "      <td>0.585032</td>\n",
       "      <td>0.066898</td>\n",
       "      <td>BBACABBKEE</td>\n",
       "      <td>-87.405622</td>\n",
       "      <td>0</td>\n",
       "      <td>1</td>\n",
       "    </tr>\n",
       "    <tr>\n",
       "      <th>3</th>\n",
       "      <td>900003</td>\n",
       "      <td>0.154053</td>\n",
       "      <td>0.260126</td>\n",
       "      <td>-1.367092</td>\n",
       "      <td>-0.093175</td>\n",
       "      <td>-1.111034</td>\n",
       "      <td>-0.948481</td>\n",
       "      <td>1.119220</td>\n",
       "      <td>0</td>\n",
       "      <td>0</td>\n",
       "      <td>...</td>\n",
       "      <td>-0.594532</td>\n",
       "      <td>-3.939475</td>\n",
       "      <td>1.754570</td>\n",
       "      <td>-2.364007</td>\n",
       "      <td>-1.003320</td>\n",
       "      <td>3.893099</td>\n",
       "      <td>AEBEAACQCC</td>\n",
       "      <td>-281.293460</td>\n",
       "      <td>0</td>\n",
       "      <td>0</td>\n",
       "    </tr>\n",
       "    <tr>\n",
       "      <th>4</th>\n",
       "      <td>900004</td>\n",
       "      <td>-1.651904</td>\n",
       "      <td>-0.424266</td>\n",
       "      <td>-0.667356</td>\n",
       "      <td>-0.322124</td>\n",
       "      <td>-0.089462</td>\n",
       "      <td>0.181705</td>\n",
       "      <td>1.784983</td>\n",
       "      <td>2</td>\n",
       "      <td>2</td>\n",
       "      <td>...</td>\n",
       "      <td>0.084906</td>\n",
       "      <td>-0.985736</td>\n",
       "      <td>-0.130467</td>\n",
       "      <td>-3.557893</td>\n",
       "      <td>1.210687</td>\n",
       "      <td>1.861884</td>\n",
       "      <td>AEBBBBDABF</td>\n",
       "      <td>25.629415</td>\n",
       "      <td>0</td>\n",
       "      <td>2</td>\n",
       "    </tr>\n",
       "  </tbody>\n",
       "</table>\n",
       "<p>5 rows × 32 columns</p>\n",
       "</div>"
      ],
      "text/plain": [
       "       id      f_00      f_01      f_02      f_03      f_04      f_05  \\\n",
       "0  900000  0.442517  0.174380 -0.999816  0.762741  0.186778 -1.074775   \n",
       "1  900001 -0.605598 -0.305715  0.627667 -0.578898 -1.750931  1.355550   \n",
       "2  900002  0.303990  2.445110  0.246515  0.818248  0.359731 -1.331845   \n",
       "3  900003  0.154053  0.260126 -1.367092 -0.093175 -1.111034 -0.948481   \n",
       "4  900004 -1.651904 -0.424266 -0.667356 -0.322124 -0.089462  0.181705   \n",
       "\n",
       "       f_06  f_07  f_08  ...      f_21      f_22      f_23      f_24  \\\n",
       "0  0.501888     6     6  ... -1.006400 -1.193879 -2.435736 -2.427430   \n",
       "1 -0.190911     1     3  ...  2.382405  0.149442  1.883322 -2.848714   \n",
       "2  1.358622     3     3  ... -7.026098  1.312277 -5.157192  1.714005   \n",
       "3  1.119220     0     0  ... -0.594532 -3.939475  1.754570 -2.364007   \n",
       "4  1.784983     2     2  ...  0.084906 -0.985736 -0.130467 -3.557893   \n",
       "\n",
       "       f_25      f_26        f_27        f_28  f_29  f_30  \n",
       "0 -1.966887  5.734205  BAAABADLAC   99.478419     0     0  \n",
       "1 -0.725155  3.194219  AFABBAEGCB  -65.993825     1     0  \n",
       "2  0.585032  0.066898  BBACABBKEE  -87.405622     0     1  \n",
       "3 -1.003320  3.893099  AEBEAACQCC -281.293460     0     0  \n",
       "4  1.210687  1.861884  AEBBBBDABF   25.629415     0     2  \n",
       "\n",
       "[5 rows x 32 columns]"
      ]
     },
     "metadata": {},
     "output_type": "display_data"
    },
    {
     "data": {
      "text/html": [
       "<div>\n",
       "<style scoped>\n",
       "    .dataframe tbody tr th:only-of-type {\n",
       "        vertical-align: middle;\n",
       "    }\n",
       "\n",
       "    .dataframe tbody tr th {\n",
       "        vertical-align: top;\n",
       "    }\n",
       "\n",
       "    .dataframe thead th {\n",
       "        text-align: right;\n",
       "    }\n",
       "</style>\n",
       "<table border=\"1\" class=\"dataframe\">\n",
       "  <thead>\n",
       "    <tr style=\"text-align: right;\">\n",
       "      <th></th>\n",
       "      <th>id</th>\n",
       "      <th>target</th>\n",
       "    </tr>\n",
       "  </thead>\n",
       "  <tbody>\n",
       "    <tr>\n",
       "      <th>0</th>\n",
       "      <td>900000</td>\n",
       "      <td>0.5</td>\n",
       "    </tr>\n",
       "    <tr>\n",
       "      <th>1</th>\n",
       "      <td>900001</td>\n",
       "      <td>0.5</td>\n",
       "    </tr>\n",
       "    <tr>\n",
       "      <th>2</th>\n",
       "      <td>900002</td>\n",
       "      <td>0.5</td>\n",
       "    </tr>\n",
       "    <tr>\n",
       "      <th>3</th>\n",
       "      <td>900003</td>\n",
       "      <td>0.5</td>\n",
       "    </tr>\n",
       "    <tr>\n",
       "      <th>4</th>\n",
       "      <td>900004</td>\n",
       "      <td>0.5</td>\n",
       "    </tr>\n",
       "  </tbody>\n",
       "</table>\n",
       "</div>"
      ],
      "text/plain": [
       "       id  target\n",
       "0  900000     0.5\n",
       "1  900001     0.5\n",
       "2  900002     0.5\n",
       "3  900003     0.5\n",
       "4  900004     0.5"
      ]
     },
     "metadata": {},
     "output_type": "display_data"
    }
   ],
   "source": [
    "# データセット読み込み\n",
    "df_train = pd.read_csv(\"../input/tabular-playground-series-may-2022/train.csv\")\n",
    "df_test = pd.read_csv(\"../input/tabular-playground-series-may-2022/test.csv\")\n",
    "df_sub = pd.read_csv(\"../input/tabular-playground-series-may-2022/sample_submission.csv\")\n",
    "display(df_train.head())\n",
    "display(df_test.head())\n",
    "display(df_sub.head())"
   ]
  },
  {
   "cell_type": "code",
   "execution_count": 23,
   "id": "8725a2fc",
   "metadata": {},
   "outputs": [],
   "source": [
    "from sklearn.preprocessing import LabelEncoder"
   ]
  },
  {
   "cell_type": "code",
   "execution_count": 24,
   "id": "1392a7e4",
   "metadata": {
    "execution": {
     "iopub.execute_input": "2022-05-10T10:46:13.158480Z",
     "iopub.status.busy": "2022-05-10T10:46:13.158250Z",
     "iopub.status.idle": "2022-05-10T10:46:13.164820Z",
     "shell.execute_reply": "2022-05-10T10:46:13.164055Z"
    },
    "papermill": {
     "duration": 0.046606,
     "end_time": "2022-05-10T10:46:13.167428",
     "exception": false,
     "start_time": "2022-05-10T10:46:13.120822",
     "status": "completed"
    },
    "tags": []
   },
   "outputs": [
    {
     "data": {
      "text/plain": [
       "(900000, 33)"
      ]
     },
     "metadata": {},
     "output_type": "display_data"
    },
    {
     "data": {
      "text/plain": [
       "(700000, 32)"
      ]
     },
     "metadata": {},
     "output_type": "display_data"
    }
   ],
   "source": [
    "display(df_train.shape)\n",
    "display(df_test.shape)"
   ]
  },
  {
   "cell_type": "code",
   "execution_count": 25,
   "id": "d7de71d8",
   "metadata": {
    "execution": {
     "iopub.execute_input": "2022-05-10T10:46:40.820930Z",
     "iopub.status.busy": "2022-05-10T10:46:40.820437Z",
     "iopub.status.idle": "2022-05-10T10:46:41.118621Z",
     "shell.execute_reply": "2022-05-10T10:46:41.117881Z"
    },
    "papermill": {
     "duration": 0.345384,
     "end_time": "2022-05-10T10:46:41.120719",
     "exception": false,
     "start_time": "2022-05-10T10:46:40.775335",
     "status": "completed"
    },
    "tags": []
   },
   "outputs": [],
   "source": [
    "df_all = pd.concat([df_train, df_test])"
   ]
  },
  {
   "cell_type": "code",
   "execution_count": 26,
   "id": "99dac062",
   "metadata": {
    "execution": {
     "iopub.execute_input": "2022-05-10T10:46:41.213655Z",
     "iopub.status.busy": "2022-05-10T10:46:41.213231Z",
     "iopub.status.idle": "2022-05-10T10:46:41.290021Z",
     "shell.execute_reply": "2022-05-10T10:46:41.289295Z"
    },
    "papermill": {
     "duration": 0.12841,
     "end_time": "2022-05-10T10:46:41.292354",
     "exception": false,
     "start_time": "2022-05-10T10:46:41.163944",
     "status": "completed"
    },
    "tags": []
   },
   "outputs": [],
   "source": [
    "df_all['i_02_21'] = (df_all.f_21 + df_all.f_02 > 5.2).astype(int) - (df_all.f_21 + df_all.f_02 < -5.3).astype(int)\n",
    "df_all['i_05_22'] = (df_all.f_22 + df_all.f_05 > 5.1).astype(int) - (df_all.f_22 + df_all.f_05 < -5.4).astype(int)\n",
    "i_00_01_26 = df_all.f_00 + df_all.f_01 + df_all.f_26\n",
    "df_all['i_00_01_26'] = (i_00_01_26 > 5.0).astype(int) - (i_00_01_26 < -5.0).astype(int)"
   ]
  },
  {
   "cell_type": "code",
   "execution_count": 27,
   "id": "945f551d",
   "metadata": {
    "execution": {
     "iopub.execute_input": "2022-05-10T10:46:41.377982Z",
     "iopub.status.busy": "2022-05-10T10:46:41.377734Z",
     "iopub.status.idle": "2022-05-10T10:46:41.824831Z",
     "shell.execute_reply": "2022-05-10T10:46:41.824034Z"
    },
    "papermill": {
     "duration": 0.492669,
     "end_time": "2022-05-10T10:46:41.827176",
     "exception": false,
     "start_time": "2022-05-10T10:46:41.334507",
     "status": "completed"
    },
    "tags": []
   },
   "outputs": [],
   "source": [
    "# 不要データを削除\n",
    "df_all.drop(['id'], axis=1, inplace=True)"
   ]
  },
  {
   "cell_type": "code",
   "execution_count": 28,
   "id": "d85d739e",
   "metadata": {
    "execution": {
     "iopub.execute_input": "2022-05-10T10:46:41.926670Z",
     "iopub.status.busy": "2022-05-10T10:46:41.926402Z",
     "iopub.status.idle": "2022-05-10T10:46:42.168811Z",
     "shell.execute_reply": "2022-05-10T10:46:42.168083Z"
    },
    "papermill": {
     "duration": 0.297427,
     "end_time": "2022-05-10T10:46:42.173145",
     "exception": false,
     "start_time": "2022-05-10T10:46:41.875718",
     "status": "completed"
    },
    "tags": []
   },
   "outputs": [],
   "source": [
    "# NA埋め\n",
    "df_all.fillna(df_all.mean(numeric_only=True), inplace=True)"
   ]
  },
  {
   "cell_type": "code",
   "execution_count": 29,
   "id": "99bb1adc",
   "metadata": {
    "execution": {
     "iopub.execute_input": "2022-05-10T10:46:42.336348Z",
     "iopub.status.busy": "2022-05-10T10:46:42.336088Z",
     "iopub.status.idle": "2022-05-10T10:48:10.965245Z",
     "shell.execute_reply": "2022-05-10T10:48:10.964513Z"
    },
    "papermill": {
     "duration": 88.711742,
     "end_time": "2022-05-10T10:48:10.967544",
     "exception": false,
     "start_time": "2022-05-10T10:46:42.255802",
     "status": "completed"
    },
    "tags": []
   },
   "outputs": [],
   "source": [
    "# f_27を分解\n",
    "def splitter(text):\n",
    "    arr = tuple(text)\n",
    "    return arr\n",
    "\n",
    "column_list = ['f_27_' + str(i) for i in range(10)]\n",
    "df_all[column_list] = df_all.apply(lambda x: splitter(x['f_27']), axis=1, result_type='expand')"
   ]
  },
  {
   "cell_type": "code",
   "execution_count": 30,
   "id": "56c9fe5b",
   "metadata": {
    "execution": {
     "iopub.execute_input": "2022-05-10T10:48:11.147428Z",
     "iopub.status.busy": "2022-05-10T10:48:11.147224Z",
     "iopub.status.idle": "2022-05-10T10:48:20.402015Z",
     "shell.execute_reply": "2022-05-10T10:48:20.401286Z"
    },
    "papermill": {
     "duration": 9.300861,
     "end_time": "2022-05-10T10:48:20.404086",
     "exception": false,
     "start_time": "2022-05-10T10:48:11.103225",
     "status": "completed"
    },
    "tags": []
   },
   "outputs": [],
   "source": [
    "# f_27_0~9を数値に\n",
    "for column in column_list:\n",
    "    df_all[column] = df_all[column].apply(lambda x: ord(x)-ord('A'))"
   ]
  },
  {
   "cell_type": "code",
   "execution_count": 31,
   "id": "5bd562ee",
   "metadata": {
    "execution": {
     "iopub.execute_input": "2022-05-10T11:03:00.098914Z",
     "iopub.status.busy": "2022-05-10T11:03:00.098672Z",
     "iopub.status.idle": "2022-05-10T11:03:08.482513Z",
     "shell.execute_reply": "2022-05-10T11:03:08.481810Z"
    },
    "papermill": {
     "duration": 10.44301,
     "end_time": "2022-05-10T11:03:08.484982",
     "exception": false,
     "start_time": "2022-05-10T11:02:58.041972",
     "status": "completed"
    },
    "tags": []
   },
   "outputs": [],
   "source": [
    "# f_27に出てくる文字が、何種類あるかを返す\n",
    "def calc_cnt_of(txt):\n",
    "    from collections import Counter\n",
    "    cnt_of = Counter(list(txt))\n",
    "    return len(cnt_of)\n",
    "\n",
    "df_all['len_cnt_of'] = df_all['f_27'].apply(calc_cnt_of)"
   ]
  },
  {
   "cell_type": "code",
   "execution_count": 32,
   "id": "11eb1e5d",
   "metadata": {
    "execution": {
     "iopub.execute_input": "2022-05-10T11:05:11.262099Z",
     "iopub.status.busy": "2022-05-10T11:05:11.261859Z",
     "iopub.status.idle": "2022-05-10T11:05:11.967679Z",
     "shell.execute_reply": "2022-05-10T11:05:11.966951Z"
    },
    "papermill": {
     "duration": 2.852553,
     "end_time": "2022-05-10T11:05:11.969954",
     "exception": false,
     "start_time": "2022-05-10T11:05:09.117401",
     "status": "completed"
    },
    "tags": []
   },
   "outputs": [],
   "source": [
    "# 不要になったカテゴリ変数を削除\n",
    "df_all.drop(['f_27'], axis=1, inplace=True)"
   ]
  },
  {
   "cell_type": "code",
   "execution_count": null,
   "id": "ad45130e",
   "metadata": {},
   "outputs": [],
   "source": []
  },
  {
   "cell_type": "code",
   "execution_count": 33,
   "id": "384dd618",
   "metadata": {
    "execution": {
     "iopub.execute_input": "2022-05-10T11:05:27.532150Z",
     "iopub.status.busy": "2022-05-10T11:05:27.531904Z",
     "iopub.status.idle": "2022-05-10T11:05:27.580124Z",
     "shell.execute_reply": "2022-05-10T11:05:27.579432Z"
    },
    "papermill": {
     "duration": 2.160102,
     "end_time": "2022-05-10T11:05:27.581844",
     "exception": false,
     "start_time": "2022-05-10T11:05:25.421742",
     "status": "completed"
    },
    "tags": []
   },
   "outputs": [],
   "source": [
    "df_train = df_all[:len(df_train)]\n",
    "df_test = df_all[len(df_train):]"
   ]
  },
  {
   "cell_type": "code",
   "execution_count": 34,
   "id": "ced54af9",
   "metadata": {
    "execution": {
     "iopub.execute_input": "2022-05-10T11:05:32.386896Z",
     "iopub.status.busy": "2022-05-10T11:05:32.386652Z",
     "iopub.status.idle": "2022-05-10T11:05:33.705082Z",
     "shell.execute_reply": "2022-05-10T11:05:33.704329Z"
    },
    "papermill": {
     "duration": 3.969914,
     "end_time": "2022-05-10T11:05:33.707122",
     "exception": false,
     "start_time": "2022-05-10T11:05:29.737208",
     "status": "completed"
    },
    "tags": []
   },
   "outputs": [],
   "source": [
    "df_train.to_pickle('train_fe.pkl')\n",
    "df_test.to_pickle('test_fe.pkl')"
   ]
  },
  {
   "cell_type": "markdown",
   "id": "317aaa7c",
   "metadata": {
    "papermill": {
     "duration": 2.115464,
     "end_time": "2022-05-10T11:05:42.927539",
     "exception": false,
     "start_time": "2022-05-10T11:05:40.812075",
     "status": "completed"
    },
    "tags": []
   },
   "source": [
    "## Pytorch_Tabular"
   ]
  },
  {
   "cell_type": "code",
   "execution_count": 35,
   "id": "1afb7150",
   "metadata": {
    "execution": {
     "iopub.execute_input": "2022-05-10T11:05:47.611277Z",
     "iopub.status.busy": "2022-05-10T11:05:47.611026Z",
     "iopub.status.idle": "2022-05-10T11:05:48.421358Z",
     "shell.execute_reply": "2022-05-10T11:05:48.420607Z"
    },
    "papermill": {
     "duration": 3.302225,
     "end_time": "2022-05-10T11:05:48.423437",
     "exception": false,
     "start_time": "2022-05-10T11:05:45.121212",
     "status": "completed"
    },
    "tags": []
   },
   "outputs": [],
   "source": [
    "df_train = pd.read_pickle('train_fe.pkl')\n",
    "df_test = pd.read_pickle('test_fe.pkl')"
   ]
  },
  {
   "cell_type": "markdown",
   "id": "d9dd7775",
   "metadata": {
    "papermill": {
     "duration": 2.121208,
     "end_time": "2022-05-10T11:05:52.630053",
     "exception": false,
     "start_time": "2022-05-10T11:05:50.508845",
     "status": "completed"
    },
    "tags": []
   },
   "source": [
    "## Define Pytorch Model"
   ]
  },
  {
   "cell_type": "markdown",
   "id": "ab5337bf",
   "metadata": {
    "papermill": {
     "duration": 2.11413,
     "end_time": "2022-05-10T11:06:01.323176",
     "exception": false,
     "start_time": "2022-05-10T11:05:59.209046",
     "status": "completed"
    },
    "tags": []
   },
   "source": [
    "# Pytorch Loss Function"
   ]
  },
  {
   "cell_type": "code",
   "execution_count": 36,
   "id": "df351c59",
   "metadata": {
    "execution": {
     "iopub.execute_input": "2022-05-10T11:06:06.243287Z",
     "iopub.status.busy": "2022-05-10T11:06:06.243043Z",
     "iopub.status.idle": "2022-05-10T11:06:06.247199Z",
     "shell.execute_reply": "2022-05-10T11:06:06.246492Z"
    },
    "papermill": {
     "duration": 2.795336,
     "end_time": "2022-05-10T11:06:06.248996",
     "exception": false,
     "start_time": "2022-05-10T11:06:03.453660",
     "status": "completed"
    },
    "tags": []
   },
   "outputs": [],
   "source": [
    "criterion = nn.BCEWithLogitsLoss()"
   ]
  },
  {
   "cell_type": "markdown",
   "id": "ecb15b53",
   "metadata": {
    "papermill": {
     "duration": 2.175418,
     "end_time": "2022-05-10T11:06:10.801940",
     "exception": false,
     "start_time": "2022-05-10T11:06:08.626522",
     "status": "completed"
    },
    "tags": []
   },
   "source": [
    "# Pytorch Training"
   ]
  },
  {
   "cell_type": "code",
   "execution_count": null,
   "id": "21a243a2",
   "metadata": {
    "execution": {
     "iopub.execute_input": "2022-05-10T11:06:15.006082Z",
     "iopub.status.busy": "2022-05-10T11:06:15.005839Z",
     "iopub.status.idle": "2022-05-10T11:06:15.013820Z",
     "shell.execute_reply": "2022-05-10T11:06:15.013150Z"
    },
    "papermill": {
     "duration": 2.114609,
     "end_time": "2022-05-10T11:06:15.015486",
     "exception": false,
     "start_time": "2022-05-10T11:06:12.900877",
     "status": "completed"
    },
    "tags": []
   },
   "outputs": [],
   "source": [
    "class LossChecker:\n",
    "    # 指定した回数、loss等が改善されていなければTrueを返す\n",
    "    def __init__(self, patience=20, strategy=\"min\", delta=1e-6):\n",
    "        self.patience = patience\n",
    "        self.bef_epoch = 0\n",
    "        self.strategy = strategy\n",
    "        self.delta = delta\n",
    "        if strategy == \"max\":\n",
    "            self.val = -float('inf')\n",
    "        else:\n",
    "            self.val = float('inf')\n",
    "\n",
    "    def step(self, epoch, loss):\n",
    "        if self.strategy == \"max\":\n",
    "            if self.val < loss:\n",
    "                self.val = loss + self.delta\n",
    "                self.bef_epoch = epoch\n",
    "            if epoch - self.bef_epoch > self.patience:\n",
    "                self.bef_epoch = epoch\n",
    "                return True\n",
    "            else:\n",
    "                return False\n",
    "        else:\n",
    "            if self.val > loss:\n",
    "                self.val = loss - self.delta\n",
    "                self.bef_epoch = epoch\n",
    "            if epoch - self.bef_epoch > self.patience:\n",
    "                self.bef_epoch = epoch\n",
    "                return True\n",
    "            else:\n",
    "                return False\n"
   ]
  },
  {
   "cell_type": "code",
   "execution_count": 37,
   "id": "0a47f940",
   "metadata": {
    "execution": {
     "iopub.execute_input": "2022-05-10T11:06:19.415289Z",
     "iopub.status.busy": "2022-05-10T11:06:19.414975Z",
     "iopub.status.idle": "2022-05-10T11:06:19.419328Z",
     "shell.execute_reply": "2022-05-10T11:06:19.418613Z"
    },
    "papermill": {
     "duration": 2.228949,
     "end_time": "2022-05-10T11:06:19.421623",
     "exception": false,
     "start_time": "2022-05-10T11:06:17.192674",
     "status": "completed"
    },
    "tags": []
   },
   "outputs": [],
   "source": [
    "# 学習の対象とする特徴量を列挙する\n",
    "all_features = df_train.columns.tolist()\n",
    "all_features.remove(CFG.target)"
   ]
  },
  {
   "cell_type": "code",
   "execution_count": 38,
   "id": "9b7c6f7e",
   "metadata": {},
   "outputs": [],
   "source": [
    "# カテゴリ変数を列挙する\n",
    "cat_idxs = []\n",
    "cat_dims = []\n",
    "cat_emb_dim = []\n",
    "for i, col in enumerate(df_all.columns):\n",
    "    if col == CFG.target:\n",
    "        continue\n",
    "    if df_all[col].dtype in ['object', 'int64']:\n",
    "        cat_idxs.append(i)\n",
    "        cat_dims.append(len(df_all[col].unique()))\n",
    "        cat_emb_dim.append(1)"
   ]
  },
  {
   "cell_type": "code",
   "execution_count": 39,
   "id": "9018192d",
   "metadata": {},
   "outputs": [
    {
     "data": {
      "text/plain": [
       "(900000, 45)"
      ]
     },
     "execution_count": 39,
     "metadata": {},
     "output_type": "execute_result"
    }
   ],
   "source": [
    "df_train.shape"
   ]
  },
  {
   "cell_type": "code",
   "execution_count": 40,
   "id": "bfcc729c",
   "metadata": {},
   "outputs": [
    {
     "name": "stdout",
     "output_type": "stream",
     "text": [
      "7 17\n",
      "8 16\n",
      "9 16\n",
      "10 16\n",
      "11 15\n",
      "12 17\n",
      "13 14\n",
      "14 14\n",
      "15 15\n",
      "16 16\n",
      "17 15\n",
      "18 14\n",
      "28 2\n",
      "29 3\n",
      "34 2\n",
      "35 15\n",
      "36 2\n",
      "37 15\n",
      "38 15\n",
      "39 2\n",
      "40 15\n",
      "41 20\n",
      "42 15\n",
      "43 15\n",
      "44 9\n"
     ]
    }
   ],
   "source": [
    "for i, d in zip(cat_idxs, cat_dims):\n",
    "    print(i, d)"
   ]
  },
  {
   "cell_type": "code",
   "execution_count": 16,
   "id": "21f1d010",
   "metadata": {},
   "outputs": [],
   "source": [
    "from pytorch_tabnet.pretraining import TabNetPretrainer\n",
    "from pytorch_tabnet.tab_model import TabNetClassifier"
   ]
  },
  {
   "cell_type": "code",
   "execution_count": 17,
   "id": "b115fb44",
   "metadata": {},
   "outputs": [
    {
     "data": {
      "text/plain": [
       "100000"
      ]
     },
     "execution_count": 17,
     "metadata": {},
     "output_type": "execute_result"
    }
   ],
   "source": [
    "CFG.batch_size"
   ]
  },
  {
   "cell_type": "code",
   "execution_count": 18,
   "id": "2ab4b0eb",
   "metadata": {
    "execution": {
     "iopub.execute_input": "2022-05-10T11:06:28.007973Z",
     "iopub.status.busy": "2022-05-10T11:06:28.007730Z",
     "iopub.status.idle": "2022-05-10T11:06:28.034874Z",
     "shell.execute_reply": "2022-05-10T11:06:28.034206Z"
    },
    "papermill": {
     "duration": 2.146747,
     "end_time": "2022-05-10T11:06:28.036655",
     "exception": false,
     "start_time": "2022-05-10T11:06:25.889908",
     "status": "completed"
    },
    "tags": []
   },
   "outputs": [
    {
     "name": "stdout",
     "output_type": "stream",
     "text": [
      "----- 0 -----\n",
      "Device used : cuda\n",
      "epoch 0  | loss: 0.74134 | train_auc: 0.55016 | valid_auc: 0.54774 |  0:01:20s\n"
     ]
    },
    {
     "ename": "",
     "evalue": "",
     "output_type": "error",
     "traceback": [
      "\u001b[1;31mCanceled future for execute_request message before replies were done"
     ]
    },
    {
     "ename": "",
     "evalue": "",
     "output_type": "error",
     "traceback": [
      "\u001b[1;31mThe Kernel crashed while executing code in the the current cell or a previous cell. Please review the code in the cell(s) to identify a possible cause of the failure. Click <a href='https://aka.ms/vscodeJupyterKernelCrash'>here</a> for more info. View Jupyter <a href='command:jupyter.viewOutput'>log</a> for further details."
     ]
    }
   ],
   "source": [
    "df_train = df_train.sample(frac=1).reset_index(drop=True)  # df_trainをシャッフル\n",
    "\n",
    "skf = StratifiedKFold(n_splits=CFG.folds, shuffle=True, random_state=CFG.seed)\n",
    "\n",
    "for fold, (train_index, valid_index) in enumerate(skf.split(df_train, df_train[CFG.target])):\n",
    "    print('-----', fold, '-----')\n",
    "\n",
    "    X_train = df_train[all_features].to_numpy()[train_index]\n",
    "    y_train = df_train[CFG.target].to_numpy()[train_index]\n",
    "    X_valid = df_train[all_features].to_numpy()[valid_index]\n",
    "    y_valid = df_train[CFG.target].to_numpy()[valid_index]\n",
    "    X_test = df_test[all_features].to_numpy()\n",
    "\n",
    "    # fold毎に初期化する設定\n",
    "    # TODO: TABNETを実装\n",
    "    # https://www.kaggle.com/code/hiro5299834/tps-may-2022-tabnet-baseline\n",
    "    # https://github.com/dreamquark-ai/tabnet\n",
    "    tabnet_params = dict(\n",
    "        n_d=8,  # Width of the decision prediction layer. Bigger values gives more capacity to the model with the risk of overfitting. Values typically range from 8 to 64.\n",
    "        n_a=8,  # Width of the attention embedding for each mask. According to the paper n_d=n_a is usually a good choice. (default=8)\n",
    "        n_steps=5,  # Number of steps in the architecture (usually between 3 and 10)\n",
    "        gamma=1.3,  # This is the coefficient for feature reusage in the masks. A value close to 1 will make mask selection least correlated between layers. Values range from 1.0 to 2.0.\n",
    "        # cat_idxs=cat_idxs, # list of int (default=[] - Mandatory for embeddings). List of categorical features indices.\n",
    "        # cat_dims=cat_dims,  # list of int (default=[] - Mandatory for embeddings). List of categorical features number of modalities (number of unique values for a categorical feature) /!\\ no new modalities can be predicted\n",
    "        # cat_emb_dim=cat_emb_dim,  # list of int (optional). List of embeddings size for each categorical features. (default =1)\n",
    "        n_independent=3,  # Number of independent Gated Linear Units layers at each step. Usual values range from 1 to 5.\n",
    "        n_shared=3,  # Number of shared Gated Linear Units at each step Usual values range from 1 to 5.\n",
    "        # epsilon=1e-15   # Should be left untouched.\n",
    "        seed=CFG.seed,\n",
    "        momentum=0.01,  # Momentum for batch normalization, typically ranges from 0.01 to 0.4 (default=0.02)\n",
    "        clip_value=None,  # float (default None). If a float is given this will clip the gradient at clip_value.\n",
    "        lambda_sparse=1e-6,  # float (default = 1e-3). This is the extra sparsity loss coefficient as proposed in the original paper. The bigger this coefficient is, the sparser your model will be in terms of feature selection. Depending on the difficulty of your problem, reducing this value could help.\n",
    "\n",
    "        optimizer_fn=torch.optim.Adam,\n",
    "        optimizer_params=dict(\n",
    "            lr=1e-2,\n",
    "            weight_decay=1e-7\n",
    "        ),\n",
    "        scheduler_fn=torch.optim.lr_scheduler.ReduceLROnPlateau,\n",
    "        scheduler_params=dict(\n",
    "            mode='max',\n",
    "            factor=0.9,\n",
    "            patience=3,\n",
    "            min_lr=1e-6,\n",
    "        ),\n",
    "        verbose=10,  # Verbosity for notebooks plots, set to 1 to see every epoch, 0 to get None.\n",
    "        device_name='auto',  #  str (default='auto') 'cpu' for cpu training, 'gpu' for gpu training, 'auto' to automatically detect gpu\n",
    "        mask_type='sparsemax',  # (default='sparsemax') Either \"sparsemax\" or \"entmax\" : this is the masking function to use for selecting features.\n",
    "    )\n",
    "\n",
    "    # Defining TabNet model\n",
    "    model = TabNetClassifier(**tabnet_params)\n",
    "    model.fit(\n",
    "        X_train=X_train,\n",
    "        y_train=y_train,\n",
    "        from_unsupervised=None,\n",
    "        eval_set=[(X_train, y_train), (X_valid, y_valid)],\n",
    "        eval_name=[\"train\", \"valid\"],\n",
    "        eval_metric=[\"auc\"],\n",
    "        # batch_size=CFG.batch_size,\n",
    "        batch_size=32_768,\n",
    "        virtual_batch_size=4_096,\n",
    "        max_epochs=200,\n",
    "        drop_last=True,\n",
    "        pin_memory=True,\n",
    "        patience=20,\n",
    "        num_workers=4,\n",
    "    )\n",
    "    df_train.loc[valid_index, CFG.pred] = model.predict_proba(X_valid)[:, -1]\n",
    "    auc = roc_auc_score(y_true=y_valid, y_score=df_train.loc[valid_index, CFG.pred])\n",
    "    print('AUC:', auc)\n",
    "    df_test[CFG.pred + str(fold)] = model.predict_proba(X_test)[:, -1]\n",
    "\n",
    "    # TEST\n",
    "    print('----- this is test run -----')\n",
    "    break"
   ]
  },
  {
   "cell_type": "markdown",
   "id": "9d964733",
   "metadata": {
    "papermill": {
     "duration": 2.424314,
     "end_time": "2022-05-10T11:32:47.067282",
     "exception": false,
     "start_time": "2022-05-10T11:32:44.642968",
     "status": "completed"
    },
    "tags": []
   },
   "source": [
    "# predictions"
   ]
  },
  {
   "cell_type": "code",
   "execution_count": null,
   "id": "8b315ce4",
   "metadata": {},
   "outputs": [],
   "source": [
    "cols = [col for col in df_test.columns if CFG.tab_pred in col]\n",
    "\n",
    "df_sub[CFG.target] = df_test[cols].mean(axis=1)\n",
    "df_sub.to_csv(\"submission.csv\", index=False)\n",
    "df_sub"
   ]
  },
  {
   "cell_type": "code",
   "execution_count": null,
   "id": "fe303977",
   "metadata": {
    "execution": {
     "iopub.execute_input": "2022-05-10T11:33:10.514720Z",
     "iopub.status.busy": "2022-05-10T11:33:10.514463Z",
     "iopub.status.idle": "2022-05-10T11:33:10.517751Z",
     "shell.execute_reply": "2022-05-10T11:33:10.517068Z"
    },
    "papermill": {
     "duration": 2.291903,
     "end_time": "2022-05-10T11:33:10.519366",
     "exception": false,
     "start_time": "2022-05-10T11:33:08.227463",
     "status": "completed"
    },
    "tags": []
   },
   "outputs": [],
   "source": [
    "# df_sub[CFG.target] = (df_sub[CFG.target] > 0.5).astype(int)"
   ]
  },
  {
   "cell_type": "code",
   "execution_count": null,
   "id": "3906bc91",
   "metadata": {
    "execution": {
     "iopub.execute_input": "2022-05-10T11:33:15.018839Z",
     "iopub.status.busy": "2022-05-10T11:33:15.018589Z",
     "iopub.status.idle": "2022-05-10T11:33:16.940312Z",
     "shell.execute_reply": "2022-05-10T11:33:16.939600Z"
    },
    "papermill": {
     "duration": 4.162619,
     "end_time": "2022-05-10T11:33:16.942301",
     "exception": false,
     "start_time": "2022-05-10T11:33:12.779682",
     "status": "completed"
    },
    "tags": []
   },
   "outputs": [],
   "source": [
    "df_sub.to_csv('submission.csv', index=False)"
   ]
  },
  {
   "cell_type": "code",
   "execution_count": null,
   "id": "c87b8c9e",
   "metadata": {
    "execution": {
     "iopub.execute_input": "2022-05-10T11:33:21.396464Z",
     "iopub.status.busy": "2022-05-10T11:33:21.396219Z",
     "iopub.status.idle": "2022-05-10T11:33:21.404388Z",
     "shell.execute_reply": "2022-05-10T11:33:21.403746Z"
    },
    "papermill": {
     "duration": 2.236115,
     "end_time": "2022-05-10T11:33:21.406575",
     "exception": false,
     "start_time": "2022-05-10T11:33:19.170460",
     "status": "completed"
    },
    "tags": []
   },
   "outputs": [
    {
     "data": {
      "text/html": [
       "<div>\n",
       "<style scoped>\n",
       "    .dataframe tbody tr th:only-of-type {\n",
       "        vertical-align: middle;\n",
       "    }\n",
       "\n",
       "    .dataframe tbody tr th {\n",
       "        vertical-align: top;\n",
       "    }\n",
       "\n",
       "    .dataframe thead th {\n",
       "        text-align: right;\n",
       "    }\n",
       "</style>\n",
       "<table border=\"1\" class=\"dataframe\">\n",
       "  <thead>\n",
       "    <tr style=\"text-align: right;\">\n",
       "      <th></th>\n",
       "      <th>id</th>\n",
       "      <th>target</th>\n",
       "    </tr>\n",
       "  </thead>\n",
       "  <tbody>\n",
       "    <tr>\n",
       "      <th>0</th>\n",
       "      <td>900000</td>\n",
       "      <td>0.999988</td>\n",
       "    </tr>\n",
       "    <tr>\n",
       "      <th>1</th>\n",
       "      <td>900001</td>\n",
       "      <td>0.999955</td>\n",
       "    </tr>\n",
       "    <tr>\n",
       "      <th>2</th>\n",
       "      <td>900002</td>\n",
       "      <td>0.000021</td>\n",
       "    </tr>\n",
       "    <tr>\n",
       "      <th>3</th>\n",
       "      <td>900003</td>\n",
       "      <td>0.000066</td>\n",
       "    </tr>\n",
       "    <tr>\n",
       "      <th>4</th>\n",
       "      <td>900004</td>\n",
       "      <td>0.998805</td>\n",
       "    </tr>\n",
       "    <tr>\n",
       "      <th>5</th>\n",
       "      <td>900005</td>\n",
       "      <td>0.005635</td>\n",
       "    </tr>\n",
       "    <tr>\n",
       "      <th>6</th>\n",
       "      <td>900006</td>\n",
       "      <td>0.089053</td>\n",
       "    </tr>\n",
       "    <tr>\n",
       "      <th>7</th>\n",
       "      <td>900007</td>\n",
       "      <td>0.999996</td>\n",
       "    </tr>\n",
       "    <tr>\n",
       "      <th>8</th>\n",
       "      <td>900008</td>\n",
       "      <td>0.004963</td>\n",
       "    </tr>\n",
       "    <tr>\n",
       "      <th>9</th>\n",
       "      <td>900009</td>\n",
       "      <td>0.999887</td>\n",
       "    </tr>\n",
       "  </tbody>\n",
       "</table>\n",
       "</div>"
      ],
      "text/plain": [
       "       id    target\n",
       "0  900000  0.999988\n",
       "1  900001  0.999955\n",
       "2  900002  0.000021\n",
       "3  900003  0.000066\n",
       "4  900004  0.998805\n",
       "5  900005  0.005635\n",
       "6  900006  0.089053\n",
       "7  900007  0.999996\n",
       "8  900008  0.004963\n",
       "9  900009  0.999887"
      ]
     },
     "execution_count": 42,
     "metadata": {},
     "output_type": "execute_result"
    }
   ],
   "source": [
    "df_sub.head(10)"
   ]
  }
 ],
 "metadata": {
  "interpreter": {
   "hash": "60f8cdbf2a96461788475085dd1e9d6dd7137de331e19aa3c17c37cb4f0963a7"
  },
  "kernelspec": {
   "display_name": "Python 3.8.13 ('yourenvname')",
   "language": "python",
   "name": "python3"
  },
  "language_info": {
   "codemirror_mode": {
    "name": "ipython",
    "version": 3
   },
   "file_extension": ".py",
   "mimetype": "text/x-python",
   "name": "python",
   "nbconvert_exporter": "python",
   "pygments_lexer": "ipython3",
   "version": "3.8.13"
  },
  "papermill": {
   "default_parameters": {},
   "duration": 2856.084635,
   "end_time": "2022-05-10T11:33:24.796536",
   "environment_variables": {},
   "exception": null,
   "input_path": "__notebook__.ipynb",
   "output_path": "__notebook__.ipynb",
   "parameters": {},
   "start_time": "2022-05-10T10:45:48.711901",
   "version": "2.3.4"
  }
 },
 "nbformat": 4,
 "nbformat_minor": 5
}
