{
 "cells": [
  {
   "cell_type": "code",
   "execution_count": 1,
   "id": "2c2072bc",
   "metadata": {
    "execution": {
     "iopub.execute_input": "2022-05-28T07:16:02.699605Z",
     "iopub.status.busy": "2022-05-28T07:16:02.698796Z",
     "iopub.status.idle": "2022-05-28T07:16:02.703999Z",
     "shell.execute_reply": "2022-05-28T07:16:02.703286Z"
    },
    "executionInfo": {
     "elapsed": 21498,
     "status": "ok",
     "timestamp": 1653714107261,
     "user": {
      "displayName": "A B",
      "userId": "01479832894597183373"
     },
     "user_tz": -540
    },
    "id": "f-9KIJtOVHcs",
    "outputId": "dfebcc57-4f8c-4e32-c80d-81d4570da849",
    "papermill": {
     "duration": 0.036557,
     "end_time": "2022-05-28T07:16:02.705867",
     "exception": false,
     "start_time": "2022-05-28T07:16:02.669310",
     "status": "completed"
    },
    "tags": []
   },
   "outputs": [],
   "source": [
    "# For Google Colab\n",
    "# from google.colab import drive\n",
    "# drive.mount('/content/drive')"
   ]
  },
  {
   "cell_type": "code",
   "execution_count": 2,
   "id": "eb4ee593",
   "metadata": {
    "execution": {
     "iopub.execute_input": "2022-05-28T07:16:02.764704Z",
     "iopub.status.busy": "2022-05-28T07:16:02.763790Z",
     "iopub.status.idle": "2022-05-28T07:16:02.771974Z",
     "shell.execute_reply": "2022-05-28T07:16:02.771331Z"
    },
    "executionInfo": {
     "elapsed": 987,
     "status": "ok",
     "timestamp": 1653714108243,
     "user": {
      "displayName": "A B",
      "userId": "01479832894597183373"
     },
     "user_tz": -540
    },
    "id": "6b3d28c7",
    "papermill": {
     "duration": 0.034125,
     "end_time": "2022-05-28T07:16:02.773686",
     "exception": false,
     "start_time": "2022-05-28T07:16:02.739561",
     "status": "completed"
    },
    "tags": []
   },
   "outputs": [],
   "source": [
    "import os\n",
    "# os.chdir('/content/drive/My Drive/colab_data/TPS2205/input')"
   ]
  },
  {
   "cell_type": "code",
   "execution_count": 3,
   "id": "1894520c",
   "metadata": {
    "execution": {
     "iopub.execute_input": "2022-05-28T07:16:02.846648Z",
     "iopub.status.busy": "2022-05-28T07:16:02.846321Z",
     "iopub.status.idle": "2022-05-28T07:16:02.850139Z",
     "shell.execute_reply": "2022-05-28T07:16:02.849428Z"
    },
    "executionInfo": {
     "elapsed": 6,
     "status": "ok",
     "timestamp": 1653714108244,
     "user": {
      "displayName": "A B",
      "userId": "01479832894597183373"
     },
     "user_tz": -540
    },
    "id": "qsmDphu3DXbZ",
    "papermill": {
     "duration": 0.041791,
     "end_time": "2022-05-28T07:16:02.851811",
     "exception": false,
     "start_time": "2022-05-28T07:16:02.810020",
     "status": "completed"
    },
    "tags": []
   },
   "outputs": [],
   "source": [
    "# os.environ['CUDA_LAUNCH_BLOCKING'] = \"1\"  # its for debug"
   ]
  },
  {
   "cell_type": "code",
   "execution_count": null,
   "id": "09408f8a",
   "metadata": {
    "executionInfo": {
     "elapsed": 1237,
     "status": "ok",
     "timestamp": 1653714109476,
     "user": {
      "displayName": "A B",
      "userId": "01479832894597183373"
     },
     "user_tz": -540
    },
    "id": "1N1lBZFqaqFo",
    "papermill": {
     "duration": 0.023421,
     "end_time": "2022-05-28T07:16:02.898691",
     "exception": false,
     "start_time": "2022-05-28T07:16:02.875270",
     "status": "completed"
    },
    "tags": []
   },
   "outputs": [],
   "source": []
  },
  {
   "cell_type": "code",
   "execution_count": 4,
   "id": "bd29619c",
   "metadata": {
    "execution": {
     "iopub.execute_input": "2022-05-28T07:16:02.946232Z",
     "iopub.status.busy": "2022-05-28T07:16:02.945875Z",
     "iopub.status.idle": "2022-05-28T07:16:22.959210Z",
     "shell.execute_reply": "2022-05-28T07:16:22.958186Z"
    },
    "executionInfo": {
     "elapsed": 20649,
     "status": "ok",
     "timestamp": 1653714130121,
     "user": {
      "displayName": "A B",
      "userId": "01479832894597183373"
     },
     "user_tz": -540
    },
    "id": "CHhVKHrhVohN",
    "papermill": {
     "duration": 20.039868,
     "end_time": "2022-05-28T07:16:22.961808",
     "exception": false,
     "start_time": "2022-05-28T07:16:02.921940",
     "status": "completed"
    },
    "tags": []
   },
   "outputs": [],
   "source": [
    "%%capture\n",
    "!pip install wandb\n",
    "!pip install pytorch_lightning"
   ]
  },
  {
   "cell_type": "code",
   "execution_count": 5,
   "id": "c941c694",
   "metadata": {
    "execution": {
     "iopub.execute_input": "2022-05-28T07:16:23.010977Z",
     "iopub.status.busy": "2022-05-28T07:16:23.010639Z",
     "iopub.status.idle": "2022-05-28T07:16:33.454485Z",
     "shell.execute_reply": "2022-05-28T07:16:33.453358Z"
    },
    "executionInfo": {
     "elapsed": 4044,
     "status": "ok",
     "timestamp": 1653714134155,
     "user": {
      "displayName": "A B",
      "userId": "01479832894597183373"
     },
     "user_tz": -540
    },
    "id": "9Y044twV9BqS",
    "papermill": {
     "duration": 10.470725,
     "end_time": "2022-05-28T07:16:33.456796",
     "exception": false,
     "start_time": "2022-05-28T07:16:22.986071",
     "status": "completed"
    },
    "tags": []
   },
   "outputs": [],
   "source": [
    "%%capture\n",
    "!pip install pytorch-tabnet"
   ]
  },
  {
   "cell_type": "markdown",
   "id": "206c3d86",
   "metadata": {
    "id": "d9dad9fc",
    "papermill": {
     "duration": 0.024602,
     "end_time": "2022-05-28T07:16:33.507464",
     "exception": false,
     "start_time": "2022-05-28T07:16:33.482862",
     "status": "completed"
    },
    "tags": []
   },
   "source": [
    "# DataSet & Library Loading"
   ]
  },
  {
   "cell_type": "code",
   "execution_count": 6,
   "id": "92fae381",
   "metadata": {
    "execution": {
     "iopub.execute_input": "2022-05-28T07:16:33.561032Z",
     "iopub.status.busy": "2022-05-28T07:16:33.560646Z",
     "iopub.status.idle": "2022-05-28T07:16:44.939662Z",
     "shell.execute_reply": "2022-05-28T07:16:44.938815Z"
    },
    "executionInfo": {
     "elapsed": 5086,
     "status": "ok",
     "timestamp": 1653714139229,
     "user": {
      "displayName": "A B",
      "userId": "01479832894597183373"
     },
     "user_tz": -540
    },
    "id": "80a9139d",
    "papermill": {
     "duration": 11.408485,
     "end_time": "2022-05-28T07:16:44.941762",
     "exception": false,
     "start_time": "2022-05-28T07:16:33.533277",
     "status": "completed"
    },
    "tags": []
   },
   "outputs": [
    {
     "data": {
      "text/html": [
       "<style type='text/css'>\n",
       ".datatable table.frame { margin-bottom: 0; }\n",
       ".datatable table.frame thead { border-bottom: none; }\n",
       ".datatable table.frame tr.coltypes td {  color: #FFFFFF;  line-height: 6px;  padding: 0 0.5em;}\n",
       ".datatable .bool    { background: #DDDD99; }\n",
       ".datatable .object  { background: #565656; }\n",
       ".datatable .int     { background: #5D9E5D; }\n",
       ".datatable .float   { background: #4040CC; }\n",
       ".datatable .str     { background: #CC4040; }\n",
       ".datatable .time    { background: #40CC40; }\n",
       ".datatable .row_index {  background: var(--jp-border-color3);  border-right: 1px solid var(--jp-border-color0);  color: var(--jp-ui-font-color3);  font-size: 9px;}\n",
       ".datatable .frame tbody td { text-align: left; }\n",
       ".datatable .frame tr.coltypes .row_index {  background: var(--jp-border-color0);}\n",
       ".datatable th:nth-child(2) { padding-left: 12px; }\n",
       ".datatable .hellipsis {  color: var(--jp-cell-editor-border-color);}\n",
       ".datatable .vellipsis {  background: var(--jp-layout-color0);  color: var(--jp-cell-editor-border-color);}\n",
       ".datatable .na {  color: var(--jp-cell-editor-border-color);  font-size: 80%;}\n",
       ".datatable .sp {  opacity: 0.25;}\n",
       ".datatable .footer { font-size: 9px; }\n",
       ".datatable .frame_dimensions {  background: var(--jp-border-color3);  border-top: 1px solid var(--jp-border-color0);  color: var(--jp-ui-font-color3);  display: inline-block;  opacity: 0.6;  padding: 1px 10px 1px 5px;}\n",
       "</style>\n"
      ],
      "text/plain": [
       "<IPython.core.display.HTML object>"
      ]
     },
     "metadata": {},
     "output_type": "display_data"
    }
   ],
   "source": [
    "# common\n",
    "import numpy as np\n",
    "import pandas as pd\n",
    "import seaborn as sns\n",
    "import matplotlib.pyplot as plt\n",
    "from collections import Counter\n",
    "import time, gc, string, math\n",
    "from tqdm import tqdm\n",
    "import warnings\n",
    "import shutil\n",
    "\n",
    "# sklearn\n",
    "from sklearn.model_selection import StratifiedKFold\n",
    "from sklearn.metrics import roc_auc_score\n",
    "from sklearn.preprocessing import StandardScaler\n",
    "\n",
    "# pytorch\n",
    "import torch\n",
    "import torch.nn as nn\n",
    "from torch.nn import functional as F\n",
    "from torch.utils.data import DataLoader, Dataset\n",
    "from torch import optim\n",
    "from torch.optim import lr_scheduler\n",
    "\n",
    "# pytorch lightning\n",
    "import pytorch_lightning as pl\n",
    "from pytorch_lightning.loggers import WandbLogger\n",
    "\n",
    "# LGBM\n",
    "from lightgbm import LGBMClassifier\n",
    "import lightgbm as lgb\n",
    "\n",
    "# XGBoost\n",
    "from xgboost import XGBClassifier\n",
    "\n",
    "# TabNet\n",
    "from pytorch_tabnet.pretraining import TabNetPretrainer\n",
    "from pytorch_tabnet.tab_model import TabNetClassifier"
   ]
  },
  {
   "cell_type": "code",
   "execution_count": 7,
   "id": "fd656e98",
   "metadata": {
    "execution": {
     "iopub.execute_input": "2022-05-28T07:16:44.990816Z",
     "iopub.status.busy": "2022-05-28T07:16:44.990315Z",
     "iopub.status.idle": "2022-05-28T07:16:47.076572Z",
     "shell.execute_reply": "2022-05-28T07:16:47.075547Z"
    },
    "executionInfo": {
     "elapsed": 30298,
     "status": "ok",
     "timestamp": 1653714169505,
     "user": {
      "displayName": "A B",
      "userId": "01479832894597183373"
     },
     "user_tz": -540
    },
    "id": "5GxlAyFUVW1b",
    "outputId": "4d46d701-7002-472e-8587-8e7bc9d5787f",
    "papermill": {
     "duration": 2.11298,
     "end_time": "2022-05-28T07:16:47.078870",
     "exception": false,
     "start_time": "2022-05-28T07:16:44.965890",
     "status": "completed"
    },
    "tags": []
   },
   "outputs": [
    {
     "name": "stderr",
     "output_type": "stream",
     "text": [
      "\u001b[34m\u001b[1mwandb\u001b[0m: W&B API key is configured. Use \u001b[1m`wandb login --relogin`\u001b[0m to force relogin\n",
      "\u001b[34m\u001b[1mwandb\u001b[0m: \u001b[33mWARNING\u001b[0m If you're specifying your api key in code, ensure this code is not shared publicly.\n",
      "\u001b[34m\u001b[1mwandb\u001b[0m: \u001b[33mWARNING\u001b[0m Consider setting the WANDB_API_KEY environment variable, or running `wandb login` from the command line.\n",
      "\u001b[34m\u001b[1mwandb\u001b[0m: Appending key for api.wandb.ai to your netrc file: /root/.netrc\n"
     ]
    }
   ],
   "source": [
    "import wandb\n",
    "\n",
    "try:\n",
    "    # add-ons -> secrets -> set your wandb api key\n",
    "    from kaggle_secrets import UserSecretsClient\n",
    "    user_secrets = UserSecretsClient()\n",
    "    secret_value_0 = user_secrets.get_secret(\"wandb_api\")\n",
    "    wandb.login(key=secret_value_0)\n",
    "    anony = None\n",
    "except:\n",
    "    anony = \"must\"\n",
    "    print('If you want to use your W&B account, go to Add-ons -> Secrets and provide your W&B access token. Use the Label name as wandb_api. \\nGet your W&B access token from here: https://wandb.ai/authorize')"
   ]
  },
  {
   "cell_type": "code",
   "execution_count": 8,
   "id": "5299c90f",
   "metadata": {
    "execution": {
     "iopub.execute_input": "2022-05-28T07:16:47.130984Z",
     "iopub.status.busy": "2022-05-28T07:16:47.130663Z",
     "iopub.status.idle": "2022-05-28T07:16:47.134440Z",
     "shell.execute_reply": "2022-05-28T07:16:47.133709Z"
    },
    "executionInfo": {
     "elapsed": 50,
     "status": "ok",
     "timestamp": 1653714169506,
     "user": {
      "displayName": "A B",
      "userId": "01479832894597183373"
     },
     "user_tz": -540
    },
    "id": "BckN6ls208Jq",
    "papermill": {
     "duration": 0.032037,
     "end_time": "2022-05-28T07:16:47.136055",
     "exception": false,
     "start_time": "2022-05-28T07:16:47.104018",
     "status": "completed"
    },
    "tags": []
   },
   "outputs": [],
   "source": [
    "warnings.filterwarnings('ignore')"
   ]
  },
  {
   "cell_type": "code",
   "execution_count": 9,
   "id": "7dc25272",
   "metadata": {
    "execution": {
     "iopub.execute_input": "2022-05-28T07:16:47.185809Z",
     "iopub.status.busy": "2022-05-28T07:16:47.185027Z",
     "iopub.status.idle": "2022-05-28T07:16:47.189875Z",
     "shell.execute_reply": "2022-05-28T07:16:47.189214Z"
    },
    "executionInfo": {
     "elapsed": 47,
     "status": "ok",
     "timestamp": 1653714169507,
     "user": {
      "displayName": "A B",
      "userId": "01479832894597183373"
     },
     "user_tz": -540
    },
    "id": "gWDHAiVg68b0",
    "papermill": {
     "duration": 0.031576,
     "end_time": "2022-05-28T07:16:47.191523",
     "exception": false,
     "start_time": "2022-05-28T07:16:47.159947",
     "status": "completed"
    },
    "tags": []
   },
   "outputs": [],
   "source": [
    "os.makedirs('model', exist_ok=True)\n",
    "shutil.rmtree('./model/')"
   ]
  },
  {
   "cell_type": "code",
   "execution_count": 10,
   "id": "98a8679f",
   "metadata": {
    "execution": {
     "iopub.execute_input": "2022-05-28T07:16:47.241852Z",
     "iopub.status.busy": "2022-05-28T07:16:47.241107Z",
     "iopub.status.idle": "2022-05-28T07:16:47.245426Z",
     "shell.execute_reply": "2022-05-28T07:16:47.244640Z"
    },
    "executionInfo": {
     "elapsed": 46,
     "status": "ok",
     "timestamp": 1653714169508,
     "user": {
      "displayName": "A B",
      "userId": "01479832894597183373"
     },
     "user_tz": -540
    },
    "id": "0172b282",
    "papermill": {
     "duration": 0.031657,
     "end_time": "2022-05-28T07:16:47.247104",
     "exception": false,
     "start_time": "2022-05-28T07:16:47.215447",
     "status": "completed"
    },
    "tags": []
   },
   "outputs": [],
   "source": [
    "os.makedirs('model', exist_ok=True)"
   ]
  },
  {
   "cell_type": "code",
   "execution_count": 11,
   "id": "bac2ffb4",
   "metadata": {
    "execution": {
     "iopub.execute_input": "2022-05-28T07:16:47.297042Z",
     "iopub.status.busy": "2022-05-28T07:16:47.296329Z",
     "iopub.status.idle": "2022-05-28T07:16:47.363707Z",
     "shell.execute_reply": "2022-05-28T07:16:47.362926Z"
    },
    "executionInfo": {
     "elapsed": 46,
     "status": "ok",
     "timestamp": 1653714169509,
     "user": {
      "displayName": "A B",
      "userId": "01479832894597183373"
     },
     "user_tz": -540
    },
    "id": "QSMOYOsn2QjY",
    "papermill": {
     "duration": 0.094049,
     "end_time": "2022-05-28T07:16:47.365408",
     "exception": false,
     "start_time": "2022-05-28T07:16:47.271359",
     "status": "completed"
    },
    "tags": []
   },
   "outputs": [
    {
     "data": {
      "text/plain": [
       "device(type='cuda', index=0)"
      ]
     },
     "execution_count": 11,
     "metadata": {},
     "output_type": "execute_result"
    }
   ],
   "source": [
    "device = device = torch.device('cuda:0' if torch.cuda.is_available() else 'cpu')\n",
    "device"
   ]
  },
  {
   "cell_type": "code",
   "execution_count": 12,
   "id": "05623c3a",
   "metadata": {
    "execution": {
     "iopub.execute_input": "2022-05-28T07:16:47.416775Z",
     "iopub.status.busy": "2022-05-28T07:16:47.416153Z",
     "iopub.status.idle": "2022-05-28T07:16:47.422795Z",
     "shell.execute_reply": "2022-05-28T07:16:47.422076Z"
    },
    "executionInfo": {
     "elapsed": 46,
     "status": "ok",
     "timestamp": 1653714169510,
     "user": {
      "displayName": "A B",
      "userId": "01479832894597183373"
     },
     "user_tz": -540
    },
    "id": "5a52b815",
    "papermill": {
     "duration": 0.034466,
     "end_time": "2022-05-28T07:16:47.424510",
     "exception": false,
     "start_time": "2022-05-28T07:16:47.390044",
     "status": "completed"
    },
    "tags": []
   },
   "outputs": [],
   "source": [
    "class CFG:\n",
    "    # あまりかえないやつら\n",
    "    label = 'target'  # 目標変数\n",
    "    seed=42\n",
    "    print_batch_freq=100  # TODO 未実装\n",
    "    print_epoch_freq = 5\n",
    "    num_workers=2   # 1以外だと、なんかエラーが大量に出るかも。tqdmの問題っぽい\n",
    "    device = torch.device('cuda:0' if torch.cuda.is_available() else 'cpu')\n",
    "    # デバッグ時に変えるやつら\n",
    "    debug = False\n",
    "    n_fold = 5  # 5\n",
    "    trn_fold = [0,1,2,3,4]  # [0,1,2,3,4,5,6,7,8,9], [0,1,2,3,4]\n",
    "    epochs = 300  # 300\n",
    "    small_data = False  # True, False\n",
    "    n_estimators = 10_00  # LGBM用 10_000\n",
    "    # モデルに影響するやつら\n",
    "    batch_size = 2_048  # バッチサイズ\n",
    "    virtual_batch_size = 128  # TabNet用\n",
    "    lr=1e-2\n",
    "    lr_min=1e-4\n",
    "    lr_gamma=0.9\n",
    "    num_emb=32\n",
    "    scheduler_type = \"ReduceLR\"\n",
    "    weight_decay = 1e-5  # 大きいほど使う特徴量が少ないモデルになる"
   ]
  },
  {
   "cell_type": "code",
   "execution_count": 13,
   "id": "1138ad48",
   "metadata": {
    "execution": {
     "iopub.execute_input": "2022-05-28T07:16:47.473944Z",
     "iopub.status.busy": "2022-05-28T07:16:47.473276Z",
     "iopub.status.idle": "2022-05-28T07:16:47.477907Z",
     "shell.execute_reply": "2022-05-28T07:16:47.477152Z"
    },
    "executionInfo": {
     "elapsed": 46,
     "status": "ok",
     "timestamp": 1653714169511,
     "user": {
      "displayName": "A B",
      "userId": "01479832894597183373"
     },
     "user_tz": -540
    },
    "id": "TWhtItKi3GBD",
    "papermill": {
     "duration": 0.031502,
     "end_time": "2022-05-28T07:16:47.479777",
     "exception": false,
     "start_time": "2022-05-28T07:16:47.448275",
     "status": "completed"
    },
    "tags": []
   },
   "outputs": [],
   "source": [
    "if CFG.debug:\n",
    "    CFG.n_fold = 2  # 5\n",
    "    CFG.trn_fold = [0]  # [0,1,2,3,4,5,6,7,8,9], [0,1,2,3,4]\n",
    "    CFG.epochs = 1  # 300\n",
    "    CFG.small_data = True  # True, False\n",
    "    CFG.n_estimators = 1  # LGBM用 10_000"
   ]
  },
  {
   "cell_type": "code",
   "execution_count": 14,
   "id": "e832d42d",
   "metadata": {
    "execution": {
     "iopub.execute_input": "2022-05-28T07:16:47.534480Z",
     "iopub.status.busy": "2022-05-28T07:16:47.534004Z",
     "iopub.status.idle": "2022-05-28T07:16:47.543630Z",
     "shell.execute_reply": "2022-05-28T07:16:47.542735Z"
    },
    "executionInfo": {
     "elapsed": 45,
     "status": "ok",
     "timestamp": 1653714169511,
     "user": {
      "displayName": "A B",
      "userId": "01479832894597183373"
     },
     "user_tz": -540
    },
    "id": "cvhrbEB_XFNb",
    "outputId": "9e8d81a5-e2ef-43be-b06a-c4a5c5b26be0",
    "papermill": {
     "duration": 0.039046,
     "end_time": "2022-05-28T07:16:47.545496",
     "exception": false,
     "start_time": "2022-05-28T07:16:47.506450",
     "status": "completed"
    },
    "tags": []
   },
   "outputs": [
    {
     "data": {
      "text/plain": [
       "42"
      ]
     },
     "execution_count": 14,
     "metadata": {},
     "output_type": "execute_result"
    }
   ],
   "source": [
    "pl.utilities.seed.seed_everything(seed=CFG.seed)"
   ]
  },
  {
   "cell_type": "markdown",
   "id": "69557af7",
   "metadata": {
    "id": "89b398ae",
    "papermill": {
     "duration": 0.025997,
     "end_time": "2022-05-28T07:16:47.597861",
     "exception": false,
     "start_time": "2022-05-28T07:16:47.571864",
     "status": "completed"
    },
    "tags": []
   },
   "source": [
    "## FE"
   ]
  },
  {
   "cell_type": "code",
   "execution_count": 15,
   "id": "2244f934",
   "metadata": {
    "execution": {
     "iopub.execute_input": "2022-05-28T07:16:47.654400Z",
     "iopub.status.busy": "2022-05-28T07:16:47.653997Z",
     "iopub.status.idle": "2022-05-28T07:17:01.109710Z",
     "shell.execute_reply": "2022-05-28T07:17:01.108903Z"
    },
    "executionInfo": {
     "elapsed": 11027,
     "status": "ok",
     "timestamp": 1653714180497,
     "user": {
      "displayName": "A B",
      "userId": "01479832894597183373"
     },
     "user_tz": -540
    },
    "id": "f1d54ae1",
    "papermill": {
     "duration": 13.486207,
     "end_time": "2022-05-28T07:17:01.112029",
     "exception": false,
     "start_time": "2022-05-28T07:16:47.625822",
     "status": "completed"
    },
    "tags": []
   },
   "outputs": [],
   "source": [
    "# データセット読み込み\n",
    "train = pd.read_csv(\"../input/tabular-playground-series-may-2022/train.csv\")\n",
    "test = pd.read_csv(\"../input/tabular-playground-series-may-2022/test.csv\")\n",
    "sub = pd.read_csv(\"../input/tabular-playground-series-may-2022/sample_submission.csv\")\n",
    "test[CFG.label]=0\n",
    "if CFG.small_data:\n",
    "    train = train[:10000]\n",
    "    test = test[:10000]"
   ]
  },
  {
   "cell_type": "code",
   "execution_count": 16,
   "id": "44c525bc",
   "metadata": {
    "execution": {
     "iopub.execute_input": "2022-05-28T07:17:01.166445Z",
     "iopub.status.busy": "2022-05-28T07:17:01.165777Z",
     "iopub.status.idle": "2022-05-28T07:17:01.387267Z",
     "shell.execute_reply": "2022-05-28T07:17:01.386359Z"
    },
    "executionInfo": {
     "elapsed": 27,
     "status": "ok",
     "timestamp": 1653714180498,
     "user": {
      "displayName": "A B",
      "userId": "01479832894597183373"
     },
     "user_tz": -540
    },
    "id": "d7de71d8",
    "papermill": {
     "duration": 0.251376,
     "end_time": "2022-05-28T07:17:01.389623",
     "exception": false,
     "start_time": "2022-05-28T07:17:01.138247",
     "status": "completed"
    },
    "tags": []
   },
   "outputs": [],
   "source": [
    "df_all = pd.concat([train, test])"
   ]
  },
  {
   "cell_type": "code",
   "execution_count": 17,
   "id": "7e875bb4",
   "metadata": {
    "execution": {
     "iopub.execute_input": "2022-05-28T07:17:01.442514Z",
     "iopub.status.busy": "2022-05-28T07:17:01.441773Z",
     "iopub.status.idle": "2022-05-28T07:17:01.507286Z",
     "shell.execute_reply": "2022-05-28T07:17:01.506404Z"
    },
    "executionInfo": {
     "elapsed": 26,
     "status": "ok",
     "timestamp": 1653714180499,
     "user": {
      "displayName": "A B",
      "userId": "01479832894597183373"
     },
     "user_tz": -540
    },
    "id": "99dac062",
    "papermill": {
     "duration": 0.094163,
     "end_time": "2022-05-28T07:17:01.509640",
     "exception": false,
     "start_time": "2022-05-28T07:17:01.415477",
     "status": "completed"
    },
    "tags": []
   },
   "outputs": [],
   "source": [
    "df_all['i_02_21'] = (df_all.f_21 + df_all.f_02 > 5.2).astype(int) - (df_all.f_21 + df_all.f_02 < -5.3).astype(int) + 1\n",
    "df_all['i_05_22'] = (df_all.f_22 + df_all.f_05 > 5.1).astype(int) - (df_all.f_22 + df_all.f_05 < -5.4).astype(int) + 1\n",
    "i_00_01_26 = df_all.f_00 + df_all.f_01 + df_all.f_26\n",
    "df_all['i_00_01_26'] = (i_00_01_26 > 5.0).astype(int) - (i_00_01_26 < -5.0).astype(int)+1"
   ]
  },
  {
   "cell_type": "code",
   "execution_count": 18,
   "id": "0a907118",
   "metadata": {
    "execution": {
     "iopub.execute_input": "2022-05-28T07:17:01.562972Z",
     "iopub.status.busy": "2022-05-28T07:17:01.562357Z",
     "iopub.status.idle": "2022-05-28T07:17:01.566243Z",
     "shell.execute_reply": "2022-05-28T07:17:01.565318Z"
    },
    "executionInfo": {
     "elapsed": 26,
     "status": "ok",
     "timestamp": 1653714180499,
     "user": {
      "displayName": "A B",
      "userId": "01479832894597183373"
     },
     "user_tz": -540
    },
    "id": "d85d739e",
    "papermill": {
     "duration": 0.032892,
     "end_time": "2022-05-28T07:17:01.568483",
     "exception": false,
     "start_time": "2022-05-28T07:17:01.535591",
     "status": "completed"
    },
    "tags": []
   },
   "outputs": [],
   "source": [
    "# NA埋め\n",
    "# df_all.fillna(df_all.mean(numeric_only=True), inplace=True)"
   ]
  },
  {
   "cell_type": "code",
   "execution_count": 19,
   "id": "0fa3fba7",
   "metadata": {
    "execution": {
     "iopub.execute_input": "2022-05-28T07:17:01.620418Z",
     "iopub.status.busy": "2022-05-28T07:17:01.620027Z",
     "iopub.status.idle": "2022-05-28T07:17:03.158460Z",
     "shell.execute_reply": "2022-05-28T07:17:03.157595Z"
    },
    "executionInfo": {
     "elapsed": 1456,
     "status": "ok",
     "timestamp": 1653714181930,
     "user": {
      "displayName": "A B",
      "userId": "01479832894597183373"
     },
     "user_tz": -540
    },
    "id": "9BWLll4CPGU9",
    "papermill": {
     "duration": 1.567148,
     "end_time": "2022-05-28T07:17:03.160627",
     "exception": false,
     "start_time": "2022-05-28T07:17:01.593479",
     "status": "completed"
    },
    "tags": []
   },
   "outputs": [],
   "source": [
    "df_all[\"unique_characters\"] = df_all.f_27.apply(lambda s: len(set(s)))"
   ]
  },
  {
   "cell_type": "code",
   "execution_count": 20,
   "id": "ba473c8b",
   "metadata": {
    "execution": {
     "iopub.execute_input": "2022-05-28T07:17:03.212481Z",
     "iopub.status.busy": "2022-05-28T07:17:03.212132Z",
     "iopub.status.idle": "2022-05-28T07:18:31.328808Z",
     "shell.execute_reply": "2022-05-28T07:18:31.327994Z"
    },
    "executionInfo": {
     "elapsed": 62362,
     "status": "ok",
     "timestamp": 1653714244289,
     "user": {
      "displayName": "A B",
      "userId": "01479832894597183373"
     },
     "user_tz": -540
    },
    "id": "99bb1adc",
    "papermill": {
     "duration": 88.144369,
     "end_time": "2022-05-28T07:18:31.330970",
     "exception": false,
     "start_time": "2022-05-28T07:17:03.186601",
     "status": "completed"
    },
    "tags": []
   },
   "outputs": [],
   "source": [
    "# f_27を分解\n",
    "def splitter(text):\n",
    "    arr = tuple(text)\n",
    "    return arr\n",
    "\n",
    "column_list = ['f_27_' + str(i) for i in range(10)]\n",
    "df_all[column_list] = df_all.apply(lambda x: splitter(x['f_27']), axis=1, result_type='expand')\n",
    "lstm_features = column_list[:]"
   ]
  },
  {
   "cell_type": "code",
   "execution_count": 21,
   "id": "f4d2b8e9",
   "metadata": {
    "execution": {
     "iopub.execute_input": "2022-05-28T07:18:31.379628Z",
     "iopub.status.busy": "2022-05-28T07:18:31.379313Z",
     "iopub.status.idle": "2022-05-28T07:18:41.753852Z",
     "shell.execute_reply": "2022-05-28T07:18:41.753047Z"
    },
    "executionInfo": {
     "elapsed": 5501,
     "status": "ok",
     "timestamp": 1653714249781,
     "user": {
      "displayName": "A B",
      "userId": "01479832894597183373"
     },
     "user_tz": -540
    },
    "id": "56c9fe5b",
    "papermill": {
     "duration": 10.400877,
     "end_time": "2022-05-28T07:18:41.755908",
     "exception": false,
     "start_time": "2022-05-28T07:18:31.355031",
     "status": "completed"
    },
    "tags": []
   },
   "outputs": [],
   "source": [
    "# f_27_0~9を数値に\n",
    "for column in column_list:\n",
    "    df_all[column] = df_all[column].apply(lambda x: ord(x)-ord('A'))"
   ]
  },
  {
   "cell_type": "code",
   "execution_count": 22,
   "id": "bf1aca1b",
   "metadata": {
    "execution": {
     "iopub.execute_input": "2022-05-28T07:18:41.804766Z",
     "iopub.status.busy": "2022-05-28T07:18:41.804441Z",
     "iopub.status.idle": "2022-05-28T07:18:42.419132Z",
     "shell.execute_reply": "2022-05-28T07:18:42.418285Z"
    },
    "executionInfo": {
     "elapsed": 519,
     "status": "ok",
     "timestamp": 1653714250295,
     "user": {
      "displayName": "A B",
      "userId": "01479832894597183373"
     },
     "user_tz": -540
    },
    "id": "ezE73bb-Efta",
    "papermill": {
     "duration": 0.64155,
     "end_time": "2022-05-28T07:18:42.421464",
     "exception": false,
     "start_time": "2022-05-28T07:18:41.779914",
     "status": "completed"
    },
    "tags": []
   },
   "outputs": [],
   "source": [
    "# f_27_0~9の各種統計量を求める\n",
    "df_all['f_27_mean'] =  df_all[column_list].mean(axis=1)\n",
    "df_all['f_27_std'] =  df_all[column_list].std(axis=1)\n",
    "df_all['f_27_sm'] = df_all['f_27_std'] / (df_all['f_27_mean']+0.001)"
   ]
  },
  {
   "cell_type": "code",
   "execution_count": 23,
   "id": "57318fc9",
   "metadata": {
    "execution": {
     "iopub.execute_input": "2022-05-28T07:18:42.470771Z",
     "iopub.status.busy": "2022-05-28T07:18:42.470451Z",
     "iopub.status.idle": "2022-05-28T07:18:48.906298Z",
     "shell.execute_reply": "2022-05-28T07:18:48.905468Z"
    },
    "executionInfo": {
     "elapsed": 4967,
     "status": "ok",
     "timestamp": 1653714255257,
     "user": {
      "displayName": "A B",
      "userId": "01479832894597183373"
     },
     "user_tz": -540
    },
    "id": "5bd562ee",
    "papermill": {
     "duration": 6.462344,
     "end_time": "2022-05-28T07:18:48.908403",
     "exception": false,
     "start_time": "2022-05-28T07:18:42.446059",
     "status": "completed"
    },
    "tags": []
   },
   "outputs": [],
   "source": [
    "# f_27に出てくる文字が、何種類あるかを返す\n",
    "def calc_cnt_of(txt):\n",
    "    cnt_of = Counter(list(txt))\n",
    "    return len(cnt_of)\n",
    "\n",
    "df_all['len_cnt_of'] = df_all['f_27'].apply(calc_cnt_of)"
   ]
  },
  {
   "cell_type": "code",
   "execution_count": 24,
   "id": "1f93db57",
   "metadata": {
    "execution": {
     "iopub.execute_input": "2022-05-28T07:18:48.956574Z",
     "iopub.status.busy": "2022-05-28T07:18:48.956260Z",
     "iopub.status.idle": "2022-05-28T07:20:42.447031Z",
     "shell.execute_reply": "2022-05-28T07:20:42.446224Z"
    },
    "executionInfo": {
     "elapsed": 81050,
     "status": "ok",
     "timestamp": 1653714336271,
     "user": {
      "displayName": "A B",
      "userId": "01479832894597183373"
     },
     "user_tz": -540
    },
    "id": "d1530f11",
    "papermill": {
     "duration": 113.517083,
     "end_time": "2022-05-28T07:20:42.449190",
     "exception": false,
     "start_time": "2022-05-28T07:18:48.932107",
     "status": "completed"
    },
    "tags": []
   },
   "outputs": [],
   "source": [
    "# f_27に各文字が何回出てくるかを数える\n",
    "def calc_char_cnt(txt):\n",
    "    cnt_of = Counter(list(txt))\n",
    "    ret = []\n",
    "    for c in string.ascii_uppercase:\n",
    "        ret.append(float(cnt_of[c]))\n",
    "    return tuple(ret)\n",
    "\n",
    "\n",
    "column_list = []\n",
    "for c in string.ascii_uppercase:\n",
    "    column_list.append('f_27_cnt_' + c)\n",
    "\n",
    "df_all[column_list] = df_all.apply(lambda x: calc_char_cnt(x['f_27']), axis=1, result_type='expand')"
   ]
  },
  {
   "cell_type": "code",
   "execution_count": 25,
   "id": "02643b60",
   "metadata": {
    "execution": {
     "iopub.execute_input": "2022-05-28T07:20:42.498088Z",
     "iopub.status.busy": "2022-05-28T07:20:42.497785Z",
     "iopub.status.idle": "2022-05-28T07:20:43.146928Z",
     "shell.execute_reply": "2022-05-28T07:20:43.146069Z"
    },
    "executionInfo": {
     "elapsed": 587,
     "status": "ok",
     "timestamp": 1653714336815,
     "user": {
      "displayName": "A B",
      "userId": "01479832894597183373"
     },
     "user_tz": -540
    },
    "id": "11eb1e5d",
    "papermill": {
     "duration": 0.67603,
     "end_time": "2022-05-28T07:20:43.149316",
     "exception": false,
     "start_time": "2022-05-28T07:20:42.473286",
     "status": "completed"
    },
    "tags": []
   },
   "outputs": [],
   "source": [
    "# 不要になったカテゴリ変数を削除\n",
    "df_all.drop(['f_27'], axis=1, inplace=True)"
   ]
  },
  {
   "cell_type": "code",
   "execution_count": 26,
   "id": "7e198f26",
   "metadata": {
    "execution": {
     "iopub.execute_input": "2022-05-28T07:20:43.198879Z",
     "iopub.status.busy": "2022-05-28T07:20:43.198052Z",
     "iopub.status.idle": "2022-05-28T07:20:43.326611Z",
     "shell.execute_reply": "2022-05-28T07:20:43.325789Z"
    },
    "executionInfo": {
     "elapsed": 13,
     "status": "ok",
     "timestamp": 1653714336817,
     "user": {
      "displayName": "A B",
      "userId": "01479832894597183373"
     },
     "user_tz": -540
    },
    "id": "7uorW3fJ5-6w",
    "papermill": {
     "duration": 0.155458,
     "end_time": "2022-05-28T07:20:43.328764",
     "exception": false,
     "start_time": "2022-05-28T07:20:43.173306",
     "status": "completed"
    },
    "tags": []
   },
   "outputs": [],
   "source": [
    "for i,j in [(26, 21), (26, 22), (21, 22), (26, 30), (26, 25),\n",
    "            (22, 30), (22, 25), (21, 30), (21, 25), (30, 25)]:\n",
    "    df_all['f_{}_plus_f_{}'.format(i, j)] = df_all['f_{}'.format(i)] + df_all['f_{}'.format(j)]\n",
    "    df_all['f_{}_minus_f_{}'.format(i, j)] = df_all['f_{}'.format(i)] - df_all['f_{}'.format(j)]"
   ]
  },
  {
   "cell_type": "code",
   "execution_count": 27,
   "id": "5a70318e",
   "metadata": {
    "execution": {
     "iopub.execute_input": "2022-05-28T07:20:43.377477Z",
     "iopub.status.busy": "2022-05-28T07:20:43.376772Z",
     "iopub.status.idle": "2022-05-28T07:20:47.892288Z",
     "shell.execute_reply": "2022-05-28T07:20:47.891426Z"
    },
    "executionInfo": {
     "elapsed": 4926,
     "status": "ok",
     "timestamp": 1653714341732,
     "user": {
      "displayName": "A B",
      "userId": "01479832894597183373"
     },
     "user_tz": -540
    },
    "id": "PS8fq9-1Ckx4",
    "outputId": "704ff80d-e45b-4404-fed0-c802a076fd2c",
    "papermill": {
     "duration": 4.541835,
     "end_time": "2022-05-28T07:20:47.894439",
     "exception": false,
     "start_time": "2022-05-28T07:20:43.352604",
     "status": "completed"
    },
    "tags": []
   },
   "outputs": [
    {
     "name": "stdout",
     "output_type": "stream",
     "text": [
      "f_27_cnt_U\n",
      "f_27_cnt_V\n",
      "f_27_cnt_W\n",
      "f_27_cnt_X\n",
      "f_27_cnt_Y\n",
      "f_27_cnt_Z\n"
     ]
    }
   ],
   "source": [
    "# 明らかに要らない列を削除する\n",
    "del_list = []\n",
    "for column in df_all.columns:\n",
    "    if df_all[column].nunique() == 1:\n",
    "        print(column)\n",
    "        del_list.append(column)\n",
    "df_all.drop(del_list, axis=1, inplace=True)"
   ]
  },
  {
   "cell_type": "code",
   "execution_count": 28,
   "id": "265c2455",
   "metadata": {
    "execution": {
     "iopub.execute_input": "2022-05-28T07:20:47.944956Z",
     "iopub.status.busy": "2022-05-28T07:20:47.944630Z",
     "iopub.status.idle": "2022-05-28T07:20:47.948530Z",
     "shell.execute_reply": "2022-05-28T07:20:47.947684Z"
    },
    "executionInfo": {
     "elapsed": 13,
     "status": "ok",
     "timestamp": 1653714341733,
     "user": {
      "displayName": "A B",
      "userId": "01479832894597183373"
     },
     "user_tz": -540
    },
    "id": "a6b60a1c",
    "papermill": {
     "duration": 0.030787,
     "end_time": "2022-05-28T07:20:47.950433",
     "exception": false,
     "start_time": "2022-05-28T07:20:47.919646",
     "status": "completed"
    },
    "tags": []
   },
   "outputs": [],
   "source": [
    "features = []\n",
    "cat_features = []"
   ]
  },
  {
   "cell_type": "code",
   "execution_count": 29,
   "id": "26c4a761",
   "metadata": {
    "execution": {
     "iopub.execute_input": "2022-05-28T07:20:47.998274Z",
     "iopub.status.busy": "2022-05-28T07:20:47.997970Z",
     "iopub.status.idle": "2022-05-28T07:20:48.234804Z",
     "shell.execute_reply": "2022-05-28T07:20:48.234016Z"
    },
    "executionInfo": {
     "elapsed": 11,
     "status": "ok",
     "timestamp": 1653714341734,
     "user": {
      "displayName": "A B",
      "userId": "01479832894597183373"
     },
     "user_tz": -540
    },
    "id": "b8d2ecbe",
    "papermill": {
     "duration": 0.263491,
     "end_time": "2022-05-28T07:20:48.237287",
     "exception": false,
     "start_time": "2022-05-28T07:20:47.973796",
     "status": "completed"
    },
    "tags": []
   },
   "outputs": [],
   "source": [
    "#@title\n",
    "for column in df_all.columns:\n",
    "    if column in ['id', CFG.label]:\n",
    "        continue\n",
    "    if df_all[column].dtype == 'int64' and df_all[column].nunique() < CFG.num_emb:\n",
    "        features.append(column)\n",
    "        cat_features.append(column)\n",
    "    else:\n",
    "        features.append(column)"
   ]
  },
  {
   "cell_type": "code",
   "execution_count": 30,
   "id": "fdf5c3f2",
   "metadata": {
    "execution": {
     "iopub.execute_input": "2022-05-28T07:20:48.286359Z",
     "iopub.status.busy": "2022-05-28T07:20:48.285666Z",
     "iopub.status.idle": "2022-05-28T07:20:48.333961Z",
     "shell.execute_reply": "2022-05-28T07:20:48.333216Z"
    },
    "executionInfo": {
     "elapsed": 11,
     "status": "ok",
     "timestamp": 1653714341735,
     "user": {
      "displayName": "A B",
      "userId": "01479832894597183373"
     },
     "user_tz": -540
    },
    "id": "384dd618",
    "papermill": {
     "duration": 0.074795,
     "end_time": "2022-05-28T07:20:48.336011",
     "exception": false,
     "start_time": "2022-05-28T07:20:48.261216",
     "status": "completed"
    },
    "tags": []
   },
   "outputs": [],
   "source": [
    "train = df_all[:len(train)]\n",
    "test = df_all[len(train):]"
   ]
  },
  {
   "cell_type": "code",
   "execution_count": 31,
   "id": "a0e21680",
   "metadata": {
    "execution": {
     "iopub.execute_input": "2022-05-28T07:20:48.384725Z",
     "iopub.status.busy": "2022-05-28T07:20:48.384084Z",
     "iopub.status.idle": "2022-05-28T07:20:52.460243Z",
     "shell.execute_reply": "2022-05-28T07:20:52.459397Z"
    },
    "executionInfo": {
     "elapsed": 3764,
     "status": "ok",
     "timestamp": 1653714345489,
     "user": {
      "displayName": "A B",
      "userId": "01479832894597183373"
     },
     "user_tz": -540
    },
    "id": "kym-V3Qzx-b5",
    "papermill": {
     "duration": 4.103368,
     "end_time": "2022-05-28T07:20:52.463052",
     "exception": false,
     "start_time": "2022-05-28T07:20:48.359684",
     "status": "completed"
    },
    "tags": []
   },
   "outputs": [],
   "source": [
    "# Scaling test and train\n",
    "scaler = StandardScaler()\n",
    "train[features] = scaler.fit_transform(train[features])\n",
    "test[features] = scaler.transform(test[features])"
   ]
  },
  {
   "cell_type": "code",
   "execution_count": 32,
   "id": "2317f85e",
   "metadata": {
    "execution": {
     "iopub.execute_input": "2022-05-28T07:20:52.544088Z",
     "iopub.status.busy": "2022-05-28T07:20:52.543572Z",
     "iopub.status.idle": "2022-05-28T07:20:52.581598Z",
     "shell.execute_reply": "2022-05-28T07:20:52.580905Z"
    },
    "executionInfo": {
     "elapsed": 59,
     "status": "ok",
     "timestamp": 1653714345496,
     "user": {
      "displayName": "A B",
      "userId": "01479832894597183373"
     },
     "user_tz": -540
    },
    "id": "82y8LoLdQI1M",
    "outputId": "913091b5-8f34-4ba1-f583-54ecdf15da61",
    "papermill": {
     "duration": 0.080751,
     "end_time": "2022-05-28T07:20:52.583889",
     "exception": false,
     "start_time": "2022-05-28T07:20:52.503138",
     "status": "completed"
    },
    "tags": []
   },
   "outputs": [
    {
     "data": {
      "text/html": [
       "<div>\n",
       "<style scoped>\n",
       "    .dataframe tbody tr th:only-of-type {\n",
       "        vertical-align: middle;\n",
       "    }\n",
       "\n",
       "    .dataframe tbody tr th {\n",
       "        vertical-align: top;\n",
       "    }\n",
       "\n",
       "    .dataframe thead th {\n",
       "        text-align: right;\n",
       "    }\n",
       "</style>\n",
       "<table border=\"1\" class=\"dataframe\">\n",
       "  <thead>\n",
       "    <tr style=\"text-align: right;\">\n",
       "      <th></th>\n",
       "      <th>id</th>\n",
       "      <th>f_00</th>\n",
       "      <th>f_01</th>\n",
       "      <th>f_02</th>\n",
       "      <th>f_03</th>\n",
       "      <th>f_04</th>\n",
       "      <th>f_05</th>\n",
       "      <th>f_06</th>\n",
       "      <th>f_07</th>\n",
       "      <th>f_08</th>\n",
       "      <th>...</th>\n",
       "      <th>f_22_plus_f_30</th>\n",
       "      <th>f_22_minus_f_30</th>\n",
       "      <th>f_22_plus_f_25</th>\n",
       "      <th>f_22_minus_f_25</th>\n",
       "      <th>f_21_plus_f_30</th>\n",
       "      <th>f_21_minus_f_30</th>\n",
       "      <th>f_21_plus_f_25</th>\n",
       "      <th>f_21_minus_f_25</th>\n",
       "      <th>f_30_plus_f_25</th>\n",
       "      <th>f_30_minus_f_25</th>\n",
       "    </tr>\n",
       "  </thead>\n",
       "  <tbody>\n",
       "    <tr>\n",
       "      <th>0</th>\n",
       "      <td>0</td>\n",
       "      <td>-1.374490</td>\n",
       "      <td>0.237914</td>\n",
       "      <td>-0.244425</td>\n",
       "      <td>0.568674</td>\n",
       "      <td>-0.647037</td>\n",
       "      <td>0.839148</td>\n",
       "      <td>0.113849</td>\n",
       "      <td>-0.622798</td>\n",
       "      <td>1.849207</td>\n",
       "      <td>...</td>\n",
       "      <td>-1.254121</td>\n",
       "      <td>-0.657097</td>\n",
       "      <td>-0.790125</td>\n",
       "      <td>-0.676355</td>\n",
       "      <td>0.887198</td>\n",
       "      <td>1.542933</td>\n",
       "      <td>0.853300</td>\n",
       "      <td>0.997172</td>\n",
       "      <td>-0.516487</td>\n",
       "      <td>-0.256376</td>\n",
       "    </tr>\n",
       "    <tr>\n",
       "      <th>1</th>\n",
       "      <td>1</td>\n",
       "      <td>1.699197</td>\n",
       "      <td>-1.712872</td>\n",
       "      <td>-2.230360</td>\n",
       "      <td>-0.544198</td>\n",
       "      <td>1.113558</td>\n",
       "      <td>-1.552654</td>\n",
       "      <td>0.448561</td>\n",
       "      <td>-0.622798</td>\n",
       "      <td>0.592099</td>\n",
       "      <td>...</td>\n",
       "      <td>0.455973</td>\n",
       "      <td>1.414176</td>\n",
       "      <td>-0.452789</td>\n",
       "      <td>1.967978</td>\n",
       "      <td>0.534479</td>\n",
       "      <td>1.221180</td>\n",
       "      <td>-0.489461</td>\n",
       "      <td>1.743624</td>\n",
       "      <td>-1.847004</td>\n",
       "      <td>1.226471</td>\n",
       "    </tr>\n",
       "    <tr>\n",
       "      <th>2</th>\n",
       "      <td>2</td>\n",
       "      <td>1.683885</td>\n",
       "      <td>0.616078</td>\n",
       "      <td>-1.028335</td>\n",
       "      <td>0.811719</td>\n",
       "      <td>-0.608415</td>\n",
       "      <td>0.113695</td>\n",
       "      <td>-0.707992</td>\n",
       "      <td>-0.622798</td>\n",
       "      <td>-1.293562</td>\n",
       "      <td>...</td>\n",
       "      <td>-0.134548</td>\n",
       "      <td>-1.020301</td>\n",
       "      <td>0.334747</td>\n",
       "      <td>-1.256619</td>\n",
       "      <td>0.148154</td>\n",
       "      <td>-0.594591</td>\n",
       "      <td>0.598206</td>\n",
       "      <td>-0.897538</td>\n",
       "      <td>1.343664</td>\n",
       "      <td>-0.669909</td>\n",
       "    </tr>\n",
       "    <tr>\n",
       "      <th>3</th>\n",
       "      <td>3</td>\n",
       "      <td>-0.118017</td>\n",
       "      <td>-0.589476</td>\n",
       "      <td>-0.805398</td>\n",
       "      <td>2.087827</td>\n",
       "      <td>0.371515</td>\n",
       "      <td>-0.129132</td>\n",
       "      <td>-0.281882</td>\n",
       "      <td>0.584807</td>\n",
       "      <td>-0.036455</td>\n",
       "      <td>...</td>\n",
       "      <td>-0.149321</td>\n",
       "      <td>0.681042</td>\n",
       "      <td>-0.576509</td>\n",
       "      <td>1.037029</td>\n",
       "      <td>-1.279412</td>\n",
       "      <td>-0.433469</td>\n",
       "      <td>-1.476525</td>\n",
       "      <td>0.144644</td>\n",
       "      <td>-1.381997</td>\n",
       "      <td>0.708225</td>\n",
       "    </tr>\n",
       "    <tr>\n",
       "      <th>4</th>\n",
       "      <td>4</td>\n",
       "      <td>1.150047</td>\n",
       "      <td>-0.177876</td>\n",
       "      <td>-0.665703</td>\n",
       "      <td>-1.099783</td>\n",
       "      <td>0.468368</td>\n",
       "      <td>0.499896</td>\n",
       "      <td>0.408249</td>\n",
       "      <td>0.584807</td>\n",
       "      <td>0.592099</td>\n",
       "      <td>...</td>\n",
       "      <td>-1.386197</td>\n",
       "      <td>-1.676685</td>\n",
       "      <td>-2.001461</td>\n",
       "      <td>-0.132427</td>\n",
       "      <td>0.516277</td>\n",
       "      <td>0.472895</td>\n",
       "      <td>-0.661312</td>\n",
       "      <td>1.322325</td>\n",
       "      <td>-1.297746</td>\n",
       "      <td>1.444121</td>\n",
       "    </tr>\n",
       "  </tbody>\n",
       "</table>\n",
       "<p>5 rows × 90 columns</p>\n",
       "</div>"
      ],
      "text/plain": [
       "   id      f_00      f_01      f_02      f_03      f_04      f_05      f_06  \\\n",
       "0   0 -1.374490  0.237914 -0.244425  0.568674 -0.647037  0.839148  0.113849   \n",
       "1   1  1.699197 -1.712872 -2.230360 -0.544198  1.113558 -1.552654  0.448561   \n",
       "2   2  1.683885  0.616078 -1.028335  0.811719 -0.608415  0.113695 -0.707992   \n",
       "3   3 -0.118017 -0.589476 -0.805398  2.087827  0.371515 -0.129132 -0.281882   \n",
       "4   4  1.150047 -0.177876 -0.665703 -1.099783  0.468368  0.499896  0.408249   \n",
       "\n",
       "       f_07      f_08  ...  f_22_plus_f_30  f_22_minus_f_30  f_22_plus_f_25  \\\n",
       "0 -0.622798  1.849207  ...       -1.254121        -0.657097       -0.790125   \n",
       "1 -0.622798  0.592099  ...        0.455973         1.414176       -0.452789   \n",
       "2 -0.622798 -1.293562  ...       -0.134548        -1.020301        0.334747   \n",
       "3  0.584807 -0.036455  ...       -0.149321         0.681042       -0.576509   \n",
       "4  0.584807  0.592099  ...       -1.386197        -1.676685       -2.001461   \n",
       "\n",
       "   f_22_minus_f_25  f_21_plus_f_30  f_21_minus_f_30  f_21_plus_f_25  \\\n",
       "0        -0.676355        0.887198         1.542933        0.853300   \n",
       "1         1.967978        0.534479         1.221180       -0.489461   \n",
       "2        -1.256619        0.148154        -0.594591        0.598206   \n",
       "3         1.037029       -1.279412        -0.433469       -1.476525   \n",
       "4        -0.132427        0.516277         0.472895       -0.661312   \n",
       "\n",
       "   f_21_minus_f_25  f_30_plus_f_25  f_30_minus_f_25  \n",
       "0         0.997172       -0.516487        -0.256376  \n",
       "1         1.743624       -1.847004         1.226471  \n",
       "2        -0.897538        1.343664        -0.669909  \n",
       "3         0.144644       -1.381997         0.708225  \n",
       "4         1.322325       -1.297746         1.444121  \n",
       "\n",
       "[5 rows x 90 columns]"
      ]
     },
     "execution_count": 32,
     "metadata": {},
     "output_type": "execute_result"
    }
   ],
   "source": [
    "train.head()"
   ]
  },
  {
   "cell_type": "code",
   "execution_count": 33,
   "id": "b2d2f41e",
   "metadata": {
    "execution": {
     "iopub.execute_input": "2022-05-28T07:20:52.667934Z",
     "iopub.status.busy": "2022-05-28T07:20:52.667497Z",
     "iopub.status.idle": "2022-05-28T07:20:52.701496Z",
     "shell.execute_reply": "2022-05-28T07:20:52.700778Z"
    },
    "executionInfo": {
     "elapsed": 21,
     "status": "ok",
     "timestamp": 1653714345497,
     "user": {
      "displayName": "A B",
      "userId": "01479832894597183373"
     },
     "user_tz": -540
    },
    "id": "-zgTPWqwQJuM",
    "outputId": "58638458-3eb8-4563-fdee-2baa27661511",
    "papermill": {
     "duration": 0.07771,
     "end_time": "2022-05-28T07:20:52.703779",
     "exception": false,
     "start_time": "2022-05-28T07:20:52.626069",
     "status": "completed"
    },
    "tags": []
   },
   "outputs": [
    {
     "data": {
      "text/html": [
       "<div>\n",
       "<style scoped>\n",
       "    .dataframe tbody tr th:only-of-type {\n",
       "        vertical-align: middle;\n",
       "    }\n",
       "\n",
       "    .dataframe tbody tr th {\n",
       "        vertical-align: top;\n",
       "    }\n",
       "\n",
       "    .dataframe thead th {\n",
       "        text-align: right;\n",
       "    }\n",
       "</style>\n",
       "<table border=\"1\" class=\"dataframe\">\n",
       "  <thead>\n",
       "    <tr style=\"text-align: right;\">\n",
       "      <th></th>\n",
       "      <th>id</th>\n",
       "      <th>f_00</th>\n",
       "      <th>f_01</th>\n",
       "      <th>f_02</th>\n",
       "      <th>f_03</th>\n",
       "      <th>f_04</th>\n",
       "      <th>f_05</th>\n",
       "      <th>f_06</th>\n",
       "      <th>f_07</th>\n",
       "      <th>f_08</th>\n",
       "      <th>...</th>\n",
       "      <th>f_22_plus_f_30</th>\n",
       "      <th>f_22_minus_f_30</th>\n",
       "      <th>f_22_plus_f_25</th>\n",
       "      <th>f_22_minus_f_25</th>\n",
       "      <th>f_21_plus_f_30</th>\n",
       "      <th>f_21_minus_f_30</th>\n",
       "      <th>f_21_plus_f_25</th>\n",
       "      <th>f_21_minus_f_25</th>\n",
       "      <th>f_30_plus_f_25</th>\n",
       "      <th>f_30_minus_f_25</th>\n",
       "    </tr>\n",
       "  </thead>\n",
       "  <tbody>\n",
       "    <tr>\n",
       "      <th>0</th>\n",
       "      <td>900000</td>\n",
       "      <td>0.443296</td>\n",
       "      <td>0.173355</td>\n",
       "      <td>-1.000476</td>\n",
       "      <td>0.763976</td>\n",
       "      <td>0.187318</td>\n",
       "      <td>-1.075194</td>\n",
       "      <td>0.502626</td>\n",
       "      <td>2.396213</td>\n",
       "      <td>2.477760</td>\n",
       "      <td>...</td>\n",
       "      <td>-0.776173</td>\n",
       "      <td>-0.078204</td>\n",
       "      <td>-0.901713</td>\n",
       "      <td>0.302090</td>\n",
       "      <td>-0.743042</td>\n",
       "      <td>0.055813</td>\n",
       "      <td>-0.902568</td>\n",
       "      <td>0.358288</td>\n",
       "      <td>-1.171211</td>\n",
       "      <td>0.473306</td>\n",
       "    </tr>\n",
       "    <tr>\n",
       "      <th>1</th>\n",
       "      <td>900001</td>\n",
       "      <td>-0.605986</td>\n",
       "      <td>-0.307128</td>\n",
       "      <td>0.626171</td>\n",
       "      <td>-0.577429</td>\n",
       "      <td>-1.750070</td>\n",
       "      <td>1.355436</td>\n",
       "      <td>-0.190213</td>\n",
       "      <td>-0.622798</td>\n",
       "      <td>0.592099</td>\n",
       "      <td>...</td>\n",
       "      <td>-0.299481</td>\n",
       "      <td>0.499167</td>\n",
       "      <td>-0.201308</td>\n",
       "      <td>0.334097</td>\n",
       "      <td>0.616034</td>\n",
       "      <td>1.295575</td>\n",
       "      <td>0.493569</td>\n",
       "      <td>0.953081</td>\n",
       "      <td>-0.708945</td>\n",
       "      <td>-0.041884</td>\n",
       "    </tr>\n",
       "    <tr>\n",
       "      <th>2</th>\n",
       "      <td>900002</td>\n",
       "      <td>0.304615</td>\n",
       "      <td>2.445921</td>\n",
       "      <td>0.245214</td>\n",
       "      <td>0.819474</td>\n",
       "      <td>0.360241</td>\n",
       "      <td>-1.332297</td>\n",
       "      <td>1.359411</td>\n",
       "      <td>0.584807</td>\n",
       "      <td>0.592099</td>\n",
       "      <td>...</td>\n",
       "      <td>0.468025</td>\n",
       "      <td>0.569155</td>\n",
       "      <td>0.468742</td>\n",
       "      <td>0.287672</td>\n",
       "      <td>-2.756186</td>\n",
       "      <td>-2.512277</td>\n",
       "      <td>-1.948126</td>\n",
       "      <td>-2.016265</td>\n",
       "      <td>0.151080</td>\n",
       "      <td>-0.170580</td>\n",
       "    </tr>\n",
       "    <tr>\n",
       "      <th>3</th>\n",
       "      <td>900003</td>\n",
       "      <td>0.154511</td>\n",
       "      <td>0.259170</td>\n",
       "      <td>-1.367563</td>\n",
       "      <td>-0.091791</td>\n",
       "      <td>-1.110279</td>\n",
       "      <td>-0.948885</td>\n",
       "      <td>1.119995</td>\n",
       "      <td>-1.226600</td>\n",
       "      <td>-1.293562</td>\n",
       "      <td>...</td>\n",
       "      <td>-1.750479</td>\n",
       "      <td>-1.258286</td>\n",
       "      <td>-1.384543</td>\n",
       "      <td>-0.866524</td>\n",
       "      <td>-0.577863</td>\n",
       "      <td>0.206491</td>\n",
       "      <td>-0.487866</td>\n",
       "      <td>0.205454</td>\n",
       "      <td>-0.812499</td>\n",
       "      <td>0.073526</td>\n",
       "    </tr>\n",
       "    <tr>\n",
       "      <th>4</th>\n",
       "      <td>900004</td>\n",
       "      <td>-1.653458</td>\n",
       "      <td>-0.425775</td>\n",
       "      <td>-0.668187</td>\n",
       "      <td>-0.320700</td>\n",
       "      <td>-0.088877</td>\n",
       "      <td>0.181443</td>\n",
       "      <td>1.785797</td>\n",
       "      <td>-0.018996</td>\n",
       "      <td>-0.036455</td>\n",
       "      <td>...</td>\n",
       "      <td>0.007410</td>\n",
       "      <td>-0.848360</td>\n",
       "      <td>0.015627</td>\n",
       "      <td>-0.633463</td>\n",
       "      <td>0.496722</td>\n",
       "      <td>-0.276624</td>\n",
       "      <td>0.384526</td>\n",
       "      <td>-0.219660</td>\n",
       "      <td>0.756271</td>\n",
       "      <td>-0.015265</td>\n",
       "    </tr>\n",
       "  </tbody>\n",
       "</table>\n",
       "<p>5 rows × 90 columns</p>\n",
       "</div>"
      ],
      "text/plain": [
       "       id      f_00      f_01      f_02      f_03      f_04      f_05  \\\n",
       "0  900000  0.443296  0.173355 -1.000476  0.763976  0.187318 -1.075194   \n",
       "1  900001 -0.605986 -0.307128  0.626171 -0.577429 -1.750070  1.355436   \n",
       "2  900002  0.304615  2.445921  0.245214  0.819474  0.360241 -1.332297   \n",
       "3  900003  0.154511  0.259170 -1.367563 -0.091791 -1.110279 -0.948885   \n",
       "4  900004 -1.653458 -0.425775 -0.668187 -0.320700 -0.088877  0.181443   \n",
       "\n",
       "       f_06      f_07      f_08  ...  f_22_plus_f_30  f_22_minus_f_30  \\\n",
       "0  0.502626  2.396213  2.477760  ...       -0.776173        -0.078204   \n",
       "1 -0.190213 -0.622798  0.592099  ...       -0.299481         0.499167   \n",
       "2  1.359411  0.584807  0.592099  ...        0.468025         0.569155   \n",
       "3  1.119995 -1.226600 -1.293562  ...       -1.750479        -1.258286   \n",
       "4  1.785797 -0.018996 -0.036455  ...        0.007410        -0.848360   \n",
       "\n",
       "   f_22_plus_f_25  f_22_minus_f_25  f_21_plus_f_30  f_21_minus_f_30  \\\n",
       "0       -0.901713         0.302090       -0.743042         0.055813   \n",
       "1       -0.201308         0.334097        0.616034         1.295575   \n",
       "2        0.468742         0.287672       -2.756186        -2.512277   \n",
       "3       -1.384543        -0.866524       -0.577863         0.206491   \n",
       "4        0.015627        -0.633463        0.496722        -0.276624   \n",
       "\n",
       "   f_21_plus_f_25  f_21_minus_f_25  f_30_plus_f_25  f_30_minus_f_25  \n",
       "0       -0.902568         0.358288       -1.171211         0.473306  \n",
       "1        0.493569         0.953081       -0.708945        -0.041884  \n",
       "2       -1.948126        -2.016265        0.151080        -0.170580  \n",
       "3       -0.487866         0.205454       -0.812499         0.073526  \n",
       "4        0.384526        -0.219660        0.756271        -0.015265  \n",
       "\n",
       "[5 rows x 90 columns]"
      ]
     },
     "execution_count": 33,
     "metadata": {},
     "output_type": "execute_result"
    }
   ],
   "source": [
    "test.head()"
   ]
  },
  {
   "cell_type": "markdown",
   "id": "721117f8",
   "metadata": {
    "id": "ddac65b6",
    "papermill": {
     "duration": 0.051448,
     "end_time": "2022-05-28T07:20:52.822455",
     "exception": false,
     "start_time": "2022-05-28T07:20:52.771007",
     "status": "completed"
    },
    "tags": []
   },
   "source": [
    "## CV"
   ]
  },
  {
   "cell_type": "code",
   "execution_count": 34,
   "id": "1d703074",
   "metadata": {
    "execution": {
     "iopub.execute_input": "2022-05-28T07:20:52.874365Z",
     "iopub.status.busy": "2022-05-28T07:20:52.874002Z",
     "iopub.status.idle": "2022-05-28T07:20:53.149512Z",
     "shell.execute_reply": "2022-05-28T07:20:53.148729Z"
    },
    "executionInfo": {
     "elapsed": 18,
     "status": "ok",
     "timestamp": 1653714345498,
     "user": {
      "displayName": "A B",
      "userId": "01479832894597183373"
     },
     "user_tz": -540
    },
    "id": "fd7ddb0a",
    "outputId": "c3027c84-99c6-49bc-ac32-35640632a2af",
    "papermill": {
     "duration": 0.303199,
     "end_time": "2022-05-28T07:20:53.151865",
     "exception": false,
     "start_time": "2022-05-28T07:20:52.848666",
     "status": "completed"
    },
    "tags": []
   },
   "outputs": [
    {
     "data": {
      "text/plain": [
       "fold\n",
       "0    180000\n",
       "1    180000\n",
       "2    180000\n",
       "3    180000\n",
       "4    180000\n",
       "dtype: int64"
      ]
     },
     "metadata": {},
     "output_type": "display_data"
    }
   ],
   "source": [
    "# CV Split\n",
    "skf = StratifiedKFold(n_splits=CFG.n_fold, shuffle=True, random_state=CFG.seed)\n",
    "for n, (train_index, val_index) in enumerate(skf.split(train, train[CFG.label])):\n",
    "    train.loc[val_index, 'fold'] = int(n)\n",
    "train['fold'] = train['fold'].astype(int)\n",
    "display(train.groupby('fold').size())"
   ]
  },
  {
   "cell_type": "markdown",
   "id": "30455864",
   "metadata": {
    "id": "XiQNn-Wo9Jhj",
    "papermill": {
     "duration": 0.025153,
     "end_time": "2022-05-28T07:20:53.202250",
     "exception": false,
     "start_time": "2022-05-28T07:20:53.177097",
     "status": "completed"
    },
    "tags": []
   },
   "source": [
    "## TabNet"
   ]
  },
  {
   "cell_type": "code",
   "execution_count": 35,
   "id": "f91bdea7",
   "metadata": {
    "execution": {
     "iopub.execute_input": "2022-05-28T07:20:53.251458Z",
     "iopub.status.busy": "2022-05-28T07:20:53.251098Z",
     "iopub.status.idle": "2022-05-28T07:20:53.257248Z",
     "shell.execute_reply": "2022-05-28T07:20:53.256397Z"
    },
    "executionInfo": {
     "elapsed": 513,
     "status": "ok",
     "timestamp": 1653714345996,
     "user": {
      "displayName": "A B",
      "userId": "01479832894597183373"
     },
     "user_tz": -540
    },
    "id": "QEACLCfd_t90",
    "outputId": "83fe3c03-c1f4-4886-e742-3249aa579e83",
    "papermill": {
     "duration": 0.033811,
     "end_time": "2022-05-28T07:20:53.259941",
     "exception": false,
     "start_time": "2022-05-28T07:20:53.226130",
     "status": "completed"
    },
    "tags": []
   },
   "outputs": [
    {
     "data": {
      "text/plain": [
       "'\\ncat_idxs = [-1]*len(cat_features)\\ncat_dims = [128]*len(cat_features)\\nfor i, cat_f in enumerate(cat_features):\\n    idx = features.index(cat_f)\\n    cat_idxs[i] = idx\\n    cat_dims[i] = df_all[cat_f].nunique()+1\\n'"
      ]
     },
     "execution_count": 35,
     "metadata": {},
     "output_type": "execute_result"
    }
   ],
   "source": [
    "cat_idxs = []\n",
    "cat_dims = []\n",
    "\"\"\"\n",
    "cat_idxs = [-1]*len(cat_features)\n",
    "cat_dims = [128]*len(cat_features)\n",
    "for i, cat_f in enumerate(cat_features):\n",
    "    idx = features.index(cat_f)\n",
    "    cat_idxs[i] = idx\n",
    "    cat_dims[i] = df_all[cat_f].nunique()+1\n",
    "\"\"\""
   ]
  },
  {
   "cell_type": "code",
   "execution_count": 36,
   "id": "84cfc915",
   "metadata": {
    "execution": {
     "iopub.execute_input": "2022-05-28T07:20:53.313387Z",
     "iopub.status.busy": "2022-05-28T07:20:53.313052Z",
     "iopub.status.idle": "2022-05-28T07:20:53.326471Z",
     "shell.execute_reply": "2022-05-28T07:20:53.325712Z"
    },
    "executionInfo": {
     "elapsed": 26,
     "status": "ok",
     "timestamp": 1653714345998,
     "user": {
      "displayName": "A B",
      "userId": "01479832894597183373"
     },
     "user_tz": -540
    },
    "id": "lOBnPRZL9LPQ",
    "outputId": "c38d2301-28d7-419a-94f5-a56070488b56",
    "papermill": {
     "duration": 0.042635,
     "end_time": "2022-05-28T07:20:53.328256",
     "exception": false,
     "start_time": "2022-05-28T07:20:53.285621",
     "status": "completed"
    },
    "tags": []
   },
   "outputs": [
    {
     "data": {
      "text/plain": [
       "'\\npredictions = pd.DataFrame()\\nfor fold in CFG.trn_fold:\\n    print(\"=\"*10, fold, \"=\"*10)\\n    train_folds = train[train[\\'fold\\']!=fold]\\n    valid_folds = train[train[\\'fold\\']==fold]\\n    X_train = train_folds[features].to_numpy()\\n    y_train = train_folds[CFG.label].to_numpy()\\n    X_valid = valid_folds[features].to_numpy()\\n    y_valid = valid_folds[CFG.label].to_numpy()\\n    X_test = test[features].to_numpy()\\n\\n    tabnet_params = dict(\\n        # TODO ここら辺初期値にしてみる\\n        n_d=64,  # Width of the decision prediction layer. Bigger values gives more capacity to the model with the risk of overfitting. Values typically range from 8 to 64.\\n        n_a=64,  # Width of the attention embedding for each mask. According to the paper n_d=n_a is usually a good choice. (default=8)\\n        n_steps=5,  # Number of steps in the architecture (usually between 3 and 10)\\n        gamma=1.3,  # This is the coefficient for feature reusage in the masks. A value close to 1 will make mask selection least correlated between layers. Values range from 1.0 to 2.0.\\n        cat_idxs=cat_idxs, # list of int (default=[] - Mandatory for embeddings). List of categorical features indices.\\n        cat_dims=cat_dims,  # list of int (default=[] - Mandatory for embeddings). List of categorical features number of modalities (number of unique values for a categorical feature) /!\\\\ no new modalities can be predicted\\n        cat_emb_dim=2,  # list of int (optional). List of embeddings size for each categorical features. (default =1)\\n        n_independent=3,  # Number of independent Gated Linear Units layers at each step. Usual values range from 1 to 5.\\n        n_shared=3,  # Number of shared Gated Linear Units at each step Usual values range from 1 to 5.\\n        # epsilon=1e-15   # Should be left untouched.\\n        seed=CFG.seed,\\n        momentum=0.01,  # Momentum for batch normalization, typically ranges from 0.01 to 0.4 (default=0.02)\\n        clip_value=None,  # float (default None). If a float is given this will clip the gradient at clip_value.\\n        lambda_sparse=1e-6,  # float (default = 1e-3). This is the extra sparsity loss coefficient as proposed in the original paper. The bigger this coefficient is, the sparser your model will be in terms of feature selection. Depending on the difficulty of your problem, reducing this value could help.\\n\\n        optimizer_fn=torch.optim.Adam,\\n        optimizer_params=dict(\\n            lr=CFG.lr,\\n            weight_decay=1e-7\\n        ),\\n        scheduler_fn=lr_scheduler.ReduceLROnPlateau,\\n        scheduler_params=dict(\\n            mode=\\'max\\',\\n            factor=0.5,\\n            patience=3,\\n            min_lr=CFG.lr_min,\\n        ),\\n\\n        verbose=1,  # Verbosity for notebooks plots, set to 1 to see every epoch, 0 to get None.\\n        device_name=\\'auto\\',  #  str (default=\\'auto\\') \\'cpu\\' for cpu training, \\'gpu\\' for gpu training, \\'auto\\' to automatically detect gpu\\n        mask_type=\\'sparsemax\\',  # (default=\\'sparsemax\\') Either \"sparsemax\" or \"entmax\" : this is the masking function to use for selecting features.\\n    )\\n\\n    print(\\'unsupervised_model\\')\\n    unsupervised_model = TabNetPretrainer(\\n        cat_idxs=cat_idxs,\\n        cat_dims=cat_dims,\\n        cat_emb_dim=2,\\n        optimizer_fn=torch.optim.Adam,\\n        device_name=\\'auto\\',  #  str (default=\\'auto\\') \\'cpu\\' for cpu training, \\'gpu\\' for gpu training, \\'auto\\' to automatically detect gpu\\n        seed=CFG.seed,\\n    )\\n\\n    unsupervised_model.fit(\\n        X_train=X_train,\\n        eval_set=[X_valid],\\n        pretraining_ratio=0.8,\\n        batch_size=CFG.batch_size,\\n        virtual_batch_size=CFG.virtual_batch_size,  # 小さいとよいらしい\\n        patience=10,\\n        max_epochs=CFG.epochs,\\n        pin_memory=True,\\n        num_workers=2,\\n    )\\n\\n    print(\\'main model\\')\\n    # Defining TabNet model\\n    model = TabNetClassifier(**tabnet_params)\\n    model.fit(\\n        X_train=X_train,\\n        y_train=y_train,\\n        eval_set=[(X_train, y_train), (X_valid, y_valid)],\\n        eval_name=[\"train\", \"valid\"],\\n        eval_metric=[\"auc\"],\\n        batch_size=CFG.batch_size,\\n        virtual_batch_size=CFG.virtual_batch_size,  # 小さいとよいらしい\\n        max_epochs=CFG.epochs,\\n        drop_last=True,\\n        pin_memory=True,\\n        patience=10,\\n        num_workers=2,\\n        from_unsupervised=unsupervised_model,\\n        # weights=1,  # サンプリングするか否かっポイ default:0  # TODO weights=0の時との挙動の違いを見たい\\n    )\\n\\n    model.save_model(\"./model/{}_fold_{}\".format(\"stack9\", fold))\\n\\n    y_pred = model.predict_proba(X_valid)[:, 1]\\n\\n    auc = roc_auc_score(y_valid, y_pred)\\n    print(\"auc: \", auc)\\n    train.loc[train[\\'fold\\']==fold, \\'stack9\\'] = y_pred\\n\\n    # y_pred = model.predict_proba(X_test)[:, 1]\\n    # predictions = pd.concat([predictions, pd.DataFrame(y_pred)], axis=1)\\n    del model\\n    gc.collect()\\n'"
      ]
     },
     "execution_count": 36,
     "metadata": {},
     "output_type": "execute_result"
    }
   ],
   "source": [
    "\"\"\"\n",
    "predictions = pd.DataFrame()\n",
    "for fold in CFG.trn_fold:\n",
    "    print(\"=\"*10, fold, \"=\"*10)\n",
    "    train_folds = train[train['fold']!=fold]\n",
    "    valid_folds = train[train['fold']==fold]\n",
    "    X_train = train_folds[features].to_numpy()\n",
    "    y_train = train_folds[CFG.label].to_numpy()\n",
    "    X_valid = valid_folds[features].to_numpy()\n",
    "    y_valid = valid_folds[CFG.label].to_numpy()\n",
    "    X_test = test[features].to_numpy()\n",
    "\n",
    "    tabnet_params = dict(\n",
    "        # TODO ここら辺初期値にしてみる\n",
    "        n_d=64,  # Width of the decision prediction layer. Bigger values gives more capacity to the model with the risk of overfitting. Values typically range from 8 to 64.\n",
    "        n_a=64,  # Width of the attention embedding for each mask. According to the paper n_d=n_a is usually a good choice. (default=8)\n",
    "        n_steps=5,  # Number of steps in the architecture (usually between 3 and 10)\n",
    "        gamma=1.3,  # This is the coefficient for feature reusage in the masks. A value close to 1 will make mask selection least correlated between layers. Values range from 1.0 to 2.0.\n",
    "        cat_idxs=cat_idxs, # list of int (default=[] - Mandatory for embeddings). List of categorical features indices.\n",
    "        cat_dims=cat_dims,  # list of int (default=[] - Mandatory for embeddings). List of categorical features number of modalities (number of unique values for a categorical feature) /!\\ no new modalities can be predicted\n",
    "        cat_emb_dim=2,  # list of int (optional). List of embeddings size for each categorical features. (default =1)\n",
    "        n_independent=3,  # Number of independent Gated Linear Units layers at each step. Usual values range from 1 to 5.\n",
    "        n_shared=3,  # Number of shared Gated Linear Units at each step Usual values range from 1 to 5.\n",
    "        # epsilon=1e-15   # Should be left untouched.\n",
    "        seed=CFG.seed,\n",
    "        momentum=0.01,  # Momentum for batch normalization, typically ranges from 0.01 to 0.4 (default=0.02)\n",
    "        clip_value=None,  # float (default None). If a float is given this will clip the gradient at clip_value.\n",
    "        lambda_sparse=1e-6,  # float (default = 1e-3). This is the extra sparsity loss coefficient as proposed in the original paper. The bigger this coefficient is, the sparser your model will be in terms of feature selection. Depending on the difficulty of your problem, reducing this value could help.\n",
    "\n",
    "        optimizer_fn=torch.optim.Adam,\n",
    "        optimizer_params=dict(\n",
    "            lr=CFG.lr,\n",
    "            weight_decay=1e-7\n",
    "        ),\n",
    "        scheduler_fn=lr_scheduler.ReduceLROnPlateau,\n",
    "        scheduler_params=dict(\n",
    "            mode='max',\n",
    "            factor=0.5,\n",
    "            patience=3,\n",
    "            min_lr=CFG.lr_min,\n",
    "        ),\n",
    "\n",
    "        verbose=1,  # Verbosity for notebooks plots, set to 1 to see every epoch, 0 to get None.\n",
    "        device_name='auto',  #  str (default='auto') 'cpu' for cpu training, 'gpu' for gpu training, 'auto' to automatically detect gpu\n",
    "        mask_type='sparsemax',  # (default='sparsemax') Either \"sparsemax\" or \"entmax\" : this is the masking function to use for selecting features.\n",
    "    )\n",
    "\n",
    "    print('unsupervised_model')\n",
    "    unsupervised_model = TabNetPretrainer(\n",
    "        cat_idxs=cat_idxs,\n",
    "        cat_dims=cat_dims,\n",
    "        cat_emb_dim=2,\n",
    "        optimizer_fn=torch.optim.Adam,\n",
    "        device_name='auto',  #  str (default='auto') 'cpu' for cpu training, 'gpu' for gpu training, 'auto' to automatically detect gpu\n",
    "        seed=CFG.seed,\n",
    "    )\n",
    "\n",
    "    unsupervised_model.fit(\n",
    "        X_train=X_train,\n",
    "        eval_set=[X_valid],\n",
    "        pretraining_ratio=0.8,\n",
    "        batch_size=CFG.batch_size,\n",
    "        virtual_batch_size=CFG.virtual_batch_size,  # 小さいとよいらしい\n",
    "        patience=10,\n",
    "        max_epochs=CFG.epochs,\n",
    "        pin_memory=True,\n",
    "        num_workers=2,\n",
    "    )\n",
    "\n",
    "    print('main model')\n",
    "    # Defining TabNet model\n",
    "    model = TabNetClassifier(**tabnet_params)\n",
    "    model.fit(\n",
    "        X_train=X_train,\n",
    "        y_train=y_train,\n",
    "        eval_set=[(X_train, y_train), (X_valid, y_valid)],\n",
    "        eval_name=[\"train\", \"valid\"],\n",
    "        eval_metric=[\"auc\"],\n",
    "        batch_size=CFG.batch_size,\n",
    "        virtual_batch_size=CFG.virtual_batch_size,  # 小さいとよいらしい\n",
    "        max_epochs=CFG.epochs,\n",
    "        drop_last=True,\n",
    "        pin_memory=True,\n",
    "        patience=10,\n",
    "        num_workers=2,\n",
    "        from_unsupervised=unsupervised_model,\n",
    "        # weights=1,  # サンプリングするか否かっポイ default:0  # TODO weights=0の時との挙動の違いを見たい\n",
    "    )\n",
    "\n",
    "    model.save_model(\"./model/{}_fold_{}\".format(\"stack9\", fold))\n",
    "\n",
    "    y_pred = model.predict_proba(X_valid)[:, 1]\n",
    "\n",
    "    auc = roc_auc_score(y_valid, y_pred)\n",
    "    print(\"auc: \", auc)\n",
    "    train.loc[train['fold']==fold, 'stack9'] = y_pred\n",
    "\n",
    "    # y_pred = model.predict_proba(X_test)[:, 1]\n",
    "    # predictions = pd.concat([predictions, pd.DataFrame(y_pred)], axis=1)\n",
    "    del model\n",
    "    gc.collect()\n",
    "\"\"\""
   ]
  },
  {
   "cell_type": "markdown",
   "id": "5b7deee9",
   "metadata": {
    "id": "--IWkQokfk82",
    "papermill": {
     "duration": 0.026255,
     "end_time": "2022-05-28T07:20:53.380644",
     "exception": false,
     "start_time": "2022-05-28T07:20:53.354389",
     "status": "completed"
    },
    "tags": []
   },
   "source": [
    "## predict"
   ]
  },
  {
   "cell_type": "code",
   "execution_count": 37,
   "id": "159220cb",
   "metadata": {
    "execution": {
     "iopub.execute_input": "2022-05-28T07:20:53.434495Z",
     "iopub.status.busy": "2022-05-28T07:20:53.434139Z",
     "iopub.status.idle": "2022-05-28T07:20:53.440405Z",
     "shell.execute_reply": "2022-05-28T07:20:53.439443Z"
    },
    "executionInfo": {
     "elapsed": 21,
     "status": "ok",
     "timestamp": 1653714345999,
     "user": {
      "displayName": "A B",
      "userId": "01479832894597183373"
     },
     "user_tz": -540
    },
    "id": "dsjZNKd5frfa",
    "outputId": "36290488-4708-48b7-ed95-721c6b3f27a8",
    "papermill": {
     "duration": 0.035186,
     "end_time": "2022-05-28T07:20:53.442432",
     "exception": false,
     "start_time": "2022-05-28T07:20:53.407246",
     "status": "completed"
    },
    "tags": []
   },
   "outputs": [
    {
     "data": {
      "text/plain": [
       "'\\nimport glob\\n\\nmodels = np.sort(glob.glob(f\"../input/model/stack9*\"))\\nprint(models)\\npredictions = pd.DataFrame()\\n\\nfor model_path in models:\\n    X_test = test[features].to_numpy()\\n    model = TabNetClassifier()\\n    model.load_model(model_path)\\n\\n    y_pred = model.predict_proba(X_test)[:, 1]\\n    predictions = pd.concat([predictions, pd.DataFrame(y_pred)], axis=1)\\ntest[\\'stack9\\'] = predictions.mean(axis=1)\\n'"
      ]
     },
     "execution_count": 37,
     "metadata": {},
     "output_type": "execute_result"
    }
   ],
   "source": [
    "\"\"\"\n",
    "import glob\n",
    "\n",
    "models = np.sort(glob.glob(f\"../input/model/stack9*\"))\n",
    "print(models)\n",
    "predictions = pd.DataFrame()\n",
    "\n",
    "for model_path in models:\n",
    "    X_test = test[features].to_numpy()\n",
    "    model = TabNetClassifier()\n",
    "    model.load_model(model_path)\n",
    "\n",
    "    y_pred = model.predict_proba(X_test)[:, 1]\n",
    "    predictions = pd.concat([predictions, pd.DataFrame(y_pred)], axis=1)\n",
    "test['stack9'] = predictions.mean(axis=1)\n",
    "\"\"\""
   ]
  },
  {
   "cell_type": "code",
   "execution_count": 38,
   "id": "630c534e",
   "metadata": {
    "execution": {
     "iopub.execute_input": "2022-05-28T07:20:53.496559Z",
     "iopub.status.busy": "2022-05-28T07:20:53.496234Z",
     "iopub.status.idle": "2022-05-28T07:20:55.377541Z",
     "shell.execute_reply": "2022-05-28T07:20:55.376674Z"
    },
    "executionInfo": {
     "elapsed": 22693,
     "status": "ok",
     "timestamp": 1653714368674,
     "user": {
      "displayName": "A B",
      "userId": "01479832894597183373"
     },
     "user_tz": -540
    },
    "id": "u2232tBXhP0D",
    "papermill": {
     "duration": 1.910818,
     "end_time": "2022-05-28T07:20:55.379624",
     "exception": false,
     "start_time": "2022-05-28T07:20:53.468806",
     "status": "completed"
    },
    "tags": []
   },
   "outputs": [],
   "source": [
    "train.to_pickle(\"train.pkl\")\n",
    "test.to_pickle(\"test.pkl\")"
   ]
  },
  {
   "cell_type": "code",
   "execution_count": 39,
   "id": "7d7c2630",
   "metadata": {
    "execution": {
     "iopub.execute_input": "2022-05-28T07:20:55.431720Z",
     "iopub.status.busy": "2022-05-28T07:20:55.431072Z",
     "iopub.status.idle": "2022-05-28T07:20:56.650840Z",
     "shell.execute_reply": "2022-05-28T07:20:56.650040Z"
    },
    "executionInfo": {
     "elapsed": 1386,
     "status": "ok",
     "timestamp": 1653714370019,
     "user": {
      "displayName": "A B",
      "userId": "01479832894597183373"
     },
     "user_tz": -540
    },
    "id": "5j6LR53shfKc",
    "papermill": {
     "duration": 1.247613,
     "end_time": "2022-05-28T07:20:56.652934",
     "exception": false,
     "start_time": "2022-05-28T07:20:55.405321",
     "status": "completed"
    },
    "tags": []
   },
   "outputs": [],
   "source": [
    "train = pd.read_pickle(\"train.pkl\")\n",
    "test = pd.read_pickle(\"test.pkl\")"
   ]
  },
  {
   "cell_type": "markdown",
   "id": "dec127c3",
   "metadata": {
    "id": "317aaa7c",
    "papermill": {
     "duration": 0.024767,
     "end_time": "2022-05-28T07:20:56.702727",
     "exception": false,
     "start_time": "2022-05-28T07:20:56.677960",
     "status": "completed"
    },
    "tags": []
   },
   "source": [
    "# Pytorch"
   ]
  },
  {
   "cell_type": "markdown",
   "id": "5d8abc37",
   "metadata": {
    "id": "32d6655e",
    "papermill": {
     "duration": 0.024771,
     "end_time": "2022-05-28T07:20:56.752113",
     "exception": false,
     "start_time": "2022-05-28T07:20:56.727342",
     "status": "completed"
    },
    "tags": []
   },
   "source": [
    "## DataSet and DataLoader"
   ]
  },
  {
   "cell_type": "code",
   "execution_count": 40,
   "id": "c8e9cc7e",
   "metadata": {
    "execution": {
     "iopub.execute_input": "2022-05-28T07:20:56.803684Z",
     "iopub.status.busy": "2022-05-28T07:20:56.803110Z",
     "iopub.status.idle": "2022-05-28T07:20:56.809242Z",
     "shell.execute_reply": "2022-05-28T07:20:56.808481Z"
    },
    "executionInfo": {
     "elapsed": 31,
     "status": "ok",
     "timestamp": 1653714370021,
     "user": {
      "displayName": "A B",
      "userId": "01479832894597183373"
     },
     "user_tz": -540
    },
    "id": "ebac9f7d",
    "papermill": {
     "duration": 0.034135,
     "end_time": "2022-05-28T07:20:56.810881",
     "exception": false,
     "start_time": "2022-05-28T07:20:56.776746",
     "status": "completed"
    },
    "tags": []
   },
   "outputs": [],
   "source": [
    "class TrainDataset(Dataset):\n",
    "    def __init__(self, X_train, y_train):\n",
    "        self.X = X_train\n",
    "        self.y = y_train\n",
    "\n",
    "    def __len__(self):\n",
    "        return len(self.X)\n",
    "\n",
    "    def __getitem__(self, item):\n",
    "        inputs = torch.tensor(self.X[item], dtype=torch.float32)\n",
    "        labels = torch.tensor(self.y[item], dtype=torch.float32)\n",
    "\n",
    "        return inputs, labels"
   ]
  },
  {
   "cell_type": "code",
   "execution_count": 41,
   "id": "876393b6",
   "metadata": {
    "execution": {
     "iopub.execute_input": "2022-05-28T07:20:56.861069Z",
     "iopub.status.busy": "2022-05-28T07:20:56.860781Z",
     "iopub.status.idle": "2022-05-28T07:20:56.866741Z",
     "shell.execute_reply": "2022-05-28T07:20:56.866021Z"
    },
    "executionInfo": {
     "elapsed": 30,
     "status": "ok",
     "timestamp": 1653714370022,
     "user": {
      "displayName": "A B",
      "userId": "01479832894597183373"
     },
     "user_tz": -540
    },
    "id": "pjqlCP51VhaH",
    "papermill": {
     "duration": 0.033112,
     "end_time": "2022-05-28T07:20:56.868465",
     "exception": false,
     "start_time": "2022-05-28T07:20:56.835353",
     "status": "completed"
    },
    "tags": []
   },
   "outputs": [],
   "source": [
    "class TestDataset(Dataset):\n",
    "    def __init__(self, X_train):\n",
    "        self.X = X_train\n",
    "\n",
    "    def __len__(self):\n",
    "        return len(self.X)\n",
    "\n",
    "    def __getitem__(self, item):\n",
    "        inputs = torch.tensor(self.X[item], dtype=torch.float32)\n",
    "\n",
    "        return inputs"
   ]
  },
  {
   "cell_type": "code",
   "execution_count": 42,
   "id": "3c8d1751",
   "metadata": {
    "execution": {
     "iopub.execute_input": "2022-05-28T07:20:56.920163Z",
     "iopub.status.busy": "2022-05-28T07:20:56.919848Z",
     "iopub.status.idle": "2022-05-28T07:20:56.932276Z",
     "shell.execute_reply": "2022-05-28T07:20:56.931557Z"
    },
    "executionInfo": {
     "elapsed": 29,
     "status": "ok",
     "timestamp": 1653714370023,
     "user": {
      "displayName": "A B",
      "userId": "01479832894597183373"
     },
     "user_tz": -540
    },
    "id": "WSlwmBRQ-hP1",
    "papermill": {
     "duration": 0.04087,
     "end_time": "2022-05-28T07:20:56.933941",
     "exception": false,
     "start_time": "2022-05-28T07:20:56.893071",
     "status": "completed"
    },
    "tags": []
   },
   "outputs": [],
   "source": [
    "class MyDataModule(pl.LightningDataModule):\n",
    "    # train, val, testの3つのDataLoaderを定義する\n",
    "    # trainerにこれを渡すと、train, val, testのそれぞれのステップでこれを渡してくれる\n",
    "    def __init__(self, train_df: pd.DataFrame, test_df: pd.DataFrame = None, fold: int=0, features: list=[], target: str=\"\", batch_size: int = 10_000):\n",
    "        \"\"\"\n",
    "        train_df: trainとvalid用のデータフレーム\n",
    "        test_df: prediction用のデータフレーム 空の場合はvalid用の値を入れる\n",
    "        fold: CV用のfold\n",
    "        features: 学習対象のカラム名\n",
    "        target: 目標変数\n",
    "        batch_size: ミニバッチ法のバッチサイズ\n",
    "        \"\"\"\n",
    "        train_folds = train_df[train_df['fold'] != fold]\n",
    "        valid_folds = train_df[train_df['fold'] == fold]\n",
    "        self.X_train = train_folds[features].values\n",
    "        self.X_valid = valid_folds[features].values\n",
    "        self.y_train = train_folds[target].values\n",
    "        self.y_valid = valid_folds[target].values\n",
    "        if test_df is not None:\n",
    "            self.X_test = test_df[features].values\n",
    "        else:\n",
    "            self.X_test = self.X_valid  # 変更は加えないので参照でよい\n",
    "        self.batch_size = batch_size\n",
    "        self._log_hyperparams = None  # ナニコレ・・・\n",
    "\n",
    "    def train_dataloader(self):\n",
    "        ds = TrainDataset(self.X_train, self.y_train)\n",
    "        dl = DataLoader(ds, batch_size=self.batch_size, shuffle=True, pin_memory=True, drop_last=True, num_workers=CFG.num_workers, persistent_workers=True)\n",
    "        return dl\n",
    "\n",
    "    def val_dataloader(self):\n",
    "        ds = TrainDataset(self.X_valid, self.y_valid)\n",
    "        dl = DataLoader(ds, batch_size=self.batch_size, shuffle=False, pin_memory=True, drop_last=True, num_workers=CFG.num_workers, persistent_workers=True)\n",
    "        return dl\n",
    "\n",
    "    def predict_dataloader(self):\n",
    "        ds = TestDataset(self.X_test)\n",
    "        dl = DataLoader(ds, batch_size=self.batch_size, shuffle=False, pin_memory=True, drop_last=True, num_workers=CFG.num_workers, persistent_workers=True)\n",
    "        return dl\n",
    "\n",
    "    def prepare_data_per_node(self):\n",
    "        # TODO 本来要らないはずなんだけど・・・\n",
    "        pass\n",
    "\n",
    "    def teardown(self, stage=None):\n",
    "        self.X_train = None\n",
    "        self.X_valid = None\n",
    "        self.y_train = None\n",
    "        self.y_valid = None\n",
    "        self.X_test = None\n",
    "        torch.cuda.empty_cache()  # TODO: これであってるのか不明　何も出てこないんだよね\n",
    "        gc.collect()"
   ]
  },
  {
   "cell_type": "code",
   "execution_count": 43,
   "id": "3905b6b7",
   "metadata": {
    "execution": {
     "iopub.execute_input": "2022-05-28T07:20:56.984432Z",
     "iopub.status.busy": "2022-05-28T07:20:56.984082Z",
     "iopub.status.idle": "2022-05-28T07:20:56.990603Z",
     "shell.execute_reply": "2022-05-28T07:20:56.989813Z"
    },
    "executionInfo": {
     "elapsed": 29,
     "status": "ok",
     "timestamp": 1653714370024,
     "user": {
      "displayName": "A B",
      "userId": "01479832894597183373"
     },
     "user_tz": -540
    },
    "id": "AMIckqDTUKyH",
    "papermill": {
     "duration": 0.033611,
     "end_time": "2022-05-28T07:20:56.992235",
     "exception": false,
     "start_time": "2022-05-28T07:20:56.958624",
     "status": "completed"
    },
    "tags": []
   },
   "outputs": [],
   "source": [
    "class LSTMTrainDataset(Dataset):\n",
    "    def __init__(self, X_train, X_LSTM_train, y_train):\n",
    "        self.X = X_train\n",
    "        self.X_LSTM = X_LSTM_train\n",
    "        self.y = y_train\n",
    "\n",
    "    def __len__(self):\n",
    "        return len(self.X)\n",
    "\n",
    "    def __getitem__(self, item):\n",
    "        inputs = torch.tensor(self.X[item], dtype=torch.float32)\n",
    "        lstm_inputs = torch.tensor(self.X_LSTM[item], dtype=torch.float32)\n",
    "        labels = torch.tensor(self.y[item], dtype=torch.float32)\n",
    "\n",
    "        return (inputs, lstm_inputs), labels"
   ]
  },
  {
   "cell_type": "code",
   "execution_count": 44,
   "id": "aa2647a2",
   "metadata": {
    "execution": {
     "iopub.execute_input": "2022-05-28T07:20:57.042402Z",
     "iopub.status.busy": "2022-05-28T07:20:57.041720Z",
     "iopub.status.idle": "2022-05-28T07:20:57.047395Z",
     "shell.execute_reply": "2022-05-28T07:20:57.046668Z"
    },
    "executionInfo": {
     "elapsed": 29,
     "status": "ok",
     "timestamp": 1653714370025,
     "user": {
      "displayName": "A B",
      "userId": "01479832894597183373"
     },
     "user_tz": -540
    },
    "id": "3s2VLv0eUZYN",
    "papermill": {
     "duration": 0.032479,
     "end_time": "2022-05-28T07:20:57.049064",
     "exception": false,
     "start_time": "2022-05-28T07:20:57.016585",
     "status": "completed"
    },
    "tags": []
   },
   "outputs": [],
   "source": [
    "class LSTMTestDataset(Dataset):\n",
    "    def __init__(self, X_train, X_LSTM_train):\n",
    "        self.X = X_train\n",
    "        self.X_LSTM = X_LSTM_train\n",
    "\n",
    "    def __len__(self):\n",
    "        return len(self.X)\n",
    "\n",
    "    def __getitem__(self, item):\n",
    "        inputs = torch.tensor(self.X[item], dtype=torch.float32)\n",
    "        lstm_inputs = torch.tensor(self.X_LSTM[item], dtype=torch.float32)\n",
    "\n",
    "        return (inputs, lstm_inputs)"
   ]
  },
  {
   "cell_type": "code",
   "execution_count": 45,
   "id": "4c49eb32",
   "metadata": {
    "execution": {
     "iopub.execute_input": "2022-05-28T07:20:57.099539Z",
     "iopub.status.busy": "2022-05-28T07:20:57.099252Z",
     "iopub.status.idle": "2022-05-28T07:20:57.113606Z",
     "shell.execute_reply": "2022-05-28T07:20:57.112906Z"
    },
    "executionInfo": {
     "elapsed": 32,
     "status": "ok",
     "timestamp": 1653714370029,
     "user": {
      "displayName": "A B",
      "userId": "01479832894597183373"
     },
     "user_tz": -540
    },
    "id": "id1w7LD-UlNB",
    "papermill": {
     "duration": 0.041971,
     "end_time": "2022-05-28T07:20:57.115302",
     "exception": false,
     "start_time": "2022-05-28T07:20:57.073331",
     "status": "completed"
    },
    "tags": []
   },
   "outputs": [],
   "source": [
    "class LSTMDataModule(pl.LightningDataModule):\n",
    "    # train, val, testの3つのDataLoaderを定義する\n",
    "    # trainerにこれを渡すと、train, val, testのそれぞれのステップでこれを渡してくれる\n",
    "    def __init__(self, train_df: pd.DataFrame, test_df: pd.DataFrame = None, fold: int=0, features: list=[], target: str=\"\", batch_size: int = 10_000):\n",
    "        \"\"\"\n",
    "        train_df: trainとvalid用のデータフレーム\n",
    "        test_df: prediction用のデータフレーム 空の場合はvalid用の値を入れる\n",
    "        fold: CV用のfold\n",
    "        features: 学習対象のカラム名\n",
    "        target: 目標変数\n",
    "        batch_size: ミニバッチ法のバッチサイズ\n",
    "        \"\"\"\n",
    "        train_folds = train_df[train_df['fold'] != fold]\n",
    "        valid_folds = train_df[train_df['fold'] == fold]\n",
    "        self.X_train = train_folds[features].values\n",
    "        self.X_valid = valid_folds[features].values\n",
    "        self.X_LSTM_train = train_folds[lstm_features].values\n",
    "        self.X_LSTM_train = self.X_LSTM_train.reshape(self.X_LSTM_train.shape[0], -1, 1)\n",
    "        self.X_LSTM_valid = valid_folds[lstm_features].values\n",
    "        self.X_LSTM_valid = self.X_LSTM_valid.reshape(self.X_LSTM_valid.shape[0], -1, 1)\n",
    "        self.y_train = train_folds[target].values\n",
    "        self.y_valid = valid_folds[target].values\n",
    "        if test_df is not None:\n",
    "            self.X_test = test_df[features].values\n",
    "            self.X_LSTM_test = test_df[lstm_features].values\n",
    "            self.X_LSTM_test = self.X_LSTM_test.reshape(self.X_LSTM_test.shape[0], -1, 1)\n",
    "        else:\n",
    "            self.X_test = self.X_valid  # 変更は加えないので参照でよい\n",
    "            self.X_LSTM_test = self.X_LSTM_valid\n",
    "        self.batch_size = batch_size\n",
    "        self._log_hyperparams = None  # ナニコレ・・・\n",
    "\n",
    "    def train_dataloader(self):\n",
    "        ds = LSTMTrainDataset(self.X_train, self.X_LSTM_train, self.y_train)\n",
    "        dl = DataLoader(ds, batch_size=self.batch_size, shuffle=True, pin_memory=True, drop_last=True, num_workers=CFG.num_workers, persistent_workers=True)\n",
    "        return dl\n",
    "\n",
    "    def val_dataloader(self):\n",
    "        ds = LSTMTrainDataset(self.X_valid, self.X_LSTM_valid, self.y_valid)\n",
    "        dl = DataLoader(ds, batch_size=self.batch_size, shuffle=False, pin_memory=True, drop_last=True, num_workers=CFG.num_workers, persistent_workers=True)\n",
    "        return dl\n",
    "\n",
    "    def predict_dataloader(self):\n",
    "        ds = LSTMTestDataset(self.X_test, self.X_LSTM_test)\n",
    "        dl = DataLoader(ds, batch_size=self.batch_size, shuffle=False, pin_memory=True, drop_last=True, num_workers=CFG.num_workers, persistent_workers=True)\n",
    "        return dl\n",
    "\n",
    "    def prepare_data_per_node(self):\n",
    "        # TODO 本来要らないはずなんだけど・・・\n",
    "        pass\n",
    "\n",
    "    def teardown(self, stage=None):\n",
    "        self.X_train = None\n",
    "        self.X_valid = None\n",
    "        self.y_train = None\n",
    "        self.y_valid = None\n",
    "        self.X_test = None\n",
    "        torch.cuda.empty_cache()  # TODO: これであってるのか不明　何も出てこないんだよね\n",
    "        gc.collect()"
   ]
  },
  {
   "cell_type": "markdown",
   "id": "093cba14",
   "metadata": {
    "id": "d9dd7775",
    "papermill": {
     "duration": 0.024232,
     "end_time": "2022-05-28T07:20:57.164321",
     "exception": false,
     "start_time": "2022-05-28T07:20:57.140089",
     "status": "completed"
    },
    "tags": []
   },
   "source": [
    "## Define Pytorch Model"
   ]
  },
  {
   "cell_type": "code",
   "execution_count": 46,
   "id": "de2aeae6",
   "metadata": {
    "execution": {
     "iopub.execute_input": "2022-05-28T07:20:57.214299Z",
     "iopub.status.busy": "2022-05-28T07:20:57.213939Z",
     "iopub.status.idle": "2022-05-28T07:20:57.224401Z",
     "shell.execute_reply": "2022-05-28T07:20:57.223628Z"
    },
    "executionInfo": {
     "elapsed": 32,
     "status": "ok",
     "timestamp": 1653714370030,
     "user": {
      "displayName": "A B",
      "userId": "01479832894597183373"
     },
     "user_tz": -540
    },
    "id": "qMN0sCEf6Iy5",
    "papermill": {
     "duration": 0.037434,
     "end_time": "2022-05-28T07:20:57.226061",
     "exception": false,
     "start_time": "2022-05-28T07:20:57.188627",
     "status": "completed"
    },
    "tags": []
   },
   "outputs": [],
   "source": [
    "class NNModelImpl(nn.Module):\n",
    "    # NNModelの実装部分\n",
    "    def __init__(self, model_name, input_size):\n",
    "        self.name = model_name\n",
    "        super().__init__()\n",
    "        self.fc1 = nn.Linear(input_size, 512)\n",
    "        self.bn1 = nn.BatchNorm1d(512)\n",
    "        self.fc2 = nn.Linear(512, 384)\n",
    "        self.bn2 = nn.BatchNorm1d(384)\n",
    "        self.fc3 = nn.Linear(384, 256)\n",
    "        self.bn3 = nn.BatchNorm1d(256)\n",
    "        self.fc4 = nn.Linear(256, 128)\n",
    "        self.bn4 = nn.BatchNorm1d(128)\n",
    "        self.fc5 = nn.Linear(128, 64)\n",
    "        self.bn5 = nn.BatchNorm1d(64)\n",
    "        self.fc6 = nn.Linear(64, 32)\n",
    "        self.bn6 = nn.BatchNorm1d(32)\n",
    "        self.fc7 = nn.Linear(32, 1)\n",
    "        self.bn7 = nn.BatchNorm1d(1)\n",
    "    \n",
    "    def forward(self, x):\n",
    "        # dropoutとbnの併用禁止\n",
    "        # bnは活性化関数の前に\n",
    "        x = F.silu(self.bn1((self.fc1(x))))\n",
    "        x = F.silu(self.bn2((self.fc2(x))))\n",
    "        x = F.silu(self.bn3((self.fc3(x))))\n",
    "        x = F.silu(self.bn4((self.fc4(x))))\n",
    "        x = F.silu(self.bn5((self.fc5(x))))\n",
    "        x = F.silu(self.bn6((self.fc6(x))))\n",
    "        x = self.bn7((self.fc7(x)))\n",
    "        return x"
   ]
  },
  {
   "cell_type": "code",
   "execution_count": 47,
   "id": "50282915",
   "metadata": {
    "execution": {
     "iopub.execute_input": "2022-05-28T07:20:57.276301Z",
     "iopub.status.busy": "2022-05-28T07:20:57.275682Z",
     "iopub.status.idle": "2022-05-28T07:20:57.281831Z",
     "shell.execute_reply": "2022-05-28T07:20:57.281141Z"
    },
    "executionInfo": {
     "elapsed": 31,
     "status": "ok",
     "timestamp": 1653714370031,
     "user": {
      "displayName": "A B",
      "userId": "01479832894597183373"
     },
     "user_tz": -540
    },
    "id": "T72GID4JFQWz",
    "papermill": {
     "duration": 0.032964,
     "end_time": "2022-05-28T07:20:57.283600",
     "exception": false,
     "start_time": "2022-05-28T07:20:57.250636",
     "status": "completed"
    },
    "tags": []
   },
   "outputs": [],
   "source": [
    "class NNModelImpl2(nn.Module):\n",
    "    # NNModelの実装部分\n",
    "    def __init__(self, model_name, input_size):\n",
    "        self.name = model_name\n",
    "        super().__init__()\n",
    "        self.fc1 = nn.Linear(input_size, 2048)\n",
    "        self.bn1 = nn.BatchNorm1d(2048)\n",
    "        self.fc2 = nn.Linear(2048, 1)\n",
    "        self.bn2 = nn.BatchNorm1d(1)\n",
    "    \n",
    "    def forward(self, x):\n",
    "        # dropoutとbnの併用禁止\n",
    "        # bnは活性化関数の前に\n",
    "        x = F.silu(self.bn1((self.fc1(x))))\n",
    "        x = self.bn2((self.fc2(x)))\n",
    "        return x"
   ]
  },
  {
   "cell_type": "code",
   "execution_count": 48,
   "id": "843fbd25",
   "metadata": {
    "execution": {
     "iopub.execute_input": "2022-05-28T07:20:57.334874Z",
     "iopub.status.busy": "2022-05-28T07:20:57.334124Z",
     "iopub.status.idle": "2022-05-28T07:20:57.342800Z",
     "shell.execute_reply": "2022-05-28T07:20:57.342058Z"
    },
    "executionInfo": {
     "elapsed": 31,
     "status": "ok",
     "timestamp": 1653714370032,
     "user": {
      "displayName": "A B",
      "userId": "01479832894597183373"
     },
     "user_tz": -540
    },
    "id": "STiM4VhwiUfL",
    "papermill": {
     "duration": 0.036122,
     "end_time": "2022-05-28T07:20:57.344699",
     "exception": false,
     "start_time": "2022-05-28T07:20:57.308577",
     "status": "completed"
    },
    "tags": []
   },
   "outputs": [],
   "source": [
    "class NNModelImpl3(nn.Module):\n",
    "    # NNModelの実装部分\n",
    "    def __init__(self, model_name, input_size):\n",
    "        self.name = model_name\n",
    "        super().__init__()\n",
    "        self.fc1 = nn.Linear(input_size, 64)\n",
    "        self.bn1 = nn.BatchNorm1d(64)\n",
    "        self.fc2 = nn.Linear(64, 64)\n",
    "        self.bn2 = nn.BatchNorm1d(64)\n",
    "        self.fc3 = nn.Linear(64, 64)\n",
    "        self.bn3 = nn.BatchNorm1d(64)\n",
    "        self.fc4 = nn.Linear(64, 64)\n",
    "        self.bn4 = nn.BatchNorm1d(64)\n",
    "        self.fc5 = nn.Linear(64, 1)\n",
    "    \n",
    "    def forward(self, x):\n",
    "        # dropoutとbnの併用禁止\n",
    "        # bnは活性化関数の前に\n",
    "        x = F.silu(self.bn1((self.fc1(x))))\n",
    "        x = F.silu(self.bn2((self.fc2(x))))\n",
    "        x = F.silu(self.bn3((self.fc3(x))))\n",
    "        x = F.silu(self.bn4((self.fc4(x))))\n",
    "        x = self.fc5(x)\n",
    "        return x"
   ]
  },
  {
   "cell_type": "code",
   "execution_count": 49,
   "id": "0e10de44",
   "metadata": {
    "execution": {
     "iopub.execute_input": "2022-05-28T07:20:57.395407Z",
     "iopub.status.busy": "2022-05-28T07:20:57.394621Z",
     "iopub.status.idle": "2022-05-28T07:20:57.406407Z",
     "shell.execute_reply": "2022-05-28T07:20:57.405655Z"
    },
    "executionInfo": {
     "elapsed": 31,
     "status": "ok",
     "timestamp": 1653714370033,
     "user": {
      "displayName": "A B",
      "userId": "01479832894597183373"
     },
     "user_tz": -540
    },
    "id": "YgipOIU9aANR",
    "papermill": {
     "duration": 0.038945,
     "end_time": "2022-05-28T07:20:57.408085",
     "exception": false,
     "start_time": "2022-05-28T07:20:57.369140",
     "status": "completed"
    },
    "tags": []
   },
   "outputs": [],
   "source": [
    "class NNModelImpl4(nn.Module):\n",
    "    # GLU使ってみる\n",
    "    def __init__(self, model_name, input_size):\n",
    "        self.name = model_name\n",
    "        super().__init__()\n",
    "        self.fc1_1 = nn.Linear(input_size, 512)\n",
    "        self.fc1_2 = nn.Linear(input_size, 512)\n",
    "        self.bn1 = nn.BatchNorm1d(512)\n",
    "        self.fc2 = nn.Linear(512, 384)\n",
    "        self.bn2 = nn.BatchNorm1d(384)\n",
    "        self.fc3 = nn.Linear(384, 256)\n",
    "        self.bn3 = nn.BatchNorm1d(256)\n",
    "        self.fc4 = nn.Linear(256, 128)\n",
    "        self.bn4 = nn.BatchNorm1d(128)\n",
    "        self.fc5 = nn.Linear(128, 64)\n",
    "        self.bn5 = nn.BatchNorm1d(64)\n",
    "        self.fc6 = nn.Linear(64, 32)\n",
    "        self.bn6 = nn.BatchNorm1d(32)\n",
    "        self.fc7 = nn.Linear(32, 1)\n",
    "        self.bn7 = nn.BatchNorm1d(1)\n",
    "        self.glu = nn.GLU()\n",
    "    \n",
    "    def forward(self, x):\n",
    "        # dropoutとbnの併用禁止\n",
    "        # bnは活性化関数の前に\n",
    "        a = self.fc1_1(x)\n",
    "        b = self.fc1_2(x)\n",
    "        x = self.bn1(self.glu(torch.concat([a, b], dim=1)))  # 512次元からgluで特徴量を減らす\n",
    "        x = F.silu(self.bn2((self.fc2(x))))\n",
    "        x = F.silu(self.bn3((self.fc3(x))))\n",
    "        x = F.silu(self.bn4((self.fc4(x))))\n",
    "        x = F.silu(self.bn5((self.fc5(x))))\n",
    "        x = F.silu(self.bn6((self.fc6(x))))\n",
    "        x = self.bn7((self.fc7(x)))\n",
    "        return x"
   ]
  },
  {
   "cell_type": "code",
   "execution_count": 50,
   "id": "aaf21be0",
   "metadata": {
    "execution": {
     "iopub.execute_input": "2022-05-28T07:20:57.458140Z",
     "iopub.status.busy": "2022-05-28T07:20:57.457522Z",
     "iopub.status.idle": "2022-05-28T07:20:57.464409Z",
     "shell.execute_reply": "2022-05-28T07:20:57.463684Z"
    },
    "executionInfo": {
     "elapsed": 31,
     "status": "ok",
     "timestamp": 1653714370034,
     "user": {
      "displayName": "A B",
      "userId": "01479832894597183373"
     },
     "user_tz": -540
    },
    "id": "kC4yQtpftxx1",
    "papermill": {
     "duration": 0.033602,
     "end_time": "2022-05-28T07:20:57.466083",
     "exception": false,
     "start_time": "2022-05-28T07:20:57.432481",
     "status": "completed"
    },
    "tags": []
   },
   "outputs": [],
   "source": [
    "class NNModelImpl5(nn.Module):\n",
    "    # NNModelの実装部分\n",
    "    def __init__(self, model_name, input_size):\n",
    "        self.name = model_name\n",
    "        super().__init__()\n",
    "        self.fc1 = nn.Linear(input_size, 64)\n",
    "        self.fc2 = nn.Linear(64, 64)\n",
    "        self.fc3 = nn.Linear(64, 64)\n",
    "        self.fc4 = nn.Linear(64, 64)\n",
    "        self.fc5 = nn.Linear(64, 1)\n",
    "    \n",
    "    def forward(self, x):\n",
    "        # dropoutとbnの併用禁止\n",
    "        # bnは活性化関数の前に\n",
    "        x = F.silu(self.fc1(x))\n",
    "        x = F.silu(self.fc2(x))\n",
    "        x = F.silu(self.fc3(x))\n",
    "        x = F.silu(self.fc4(x))\n",
    "        x = self.fc5(x)\n",
    "        return x"
   ]
  },
  {
   "cell_type": "code",
   "execution_count": 51,
   "id": "7a7ebf4f",
   "metadata": {
    "execution": {
     "iopub.execute_input": "2022-05-28T07:20:57.516878Z",
     "iopub.status.busy": "2022-05-28T07:20:57.516009Z",
     "iopub.status.idle": "2022-05-28T07:20:57.528382Z",
     "shell.execute_reply": "2022-05-28T07:20:57.527660Z"
    },
    "executionInfo": {
     "elapsed": 31,
     "status": "ok",
     "timestamp": 1653714370035,
     "user": {
      "displayName": "A B",
      "userId": "01479832894597183373"
     },
     "user_tz": -540
    },
    "id": "6h-i_pwMRPQJ",
    "papermill": {
     "duration": 0.039526,
     "end_time": "2022-05-28T07:20:57.530095",
     "exception": false,
     "start_time": "2022-05-28T07:20:57.490569",
     "status": "completed"
    },
    "tags": []
   },
   "outputs": [],
   "source": [
    "class NNModelImplLSTM(nn.Module):\n",
    "    # NNModelの実装部分\n",
    "    def __init__(self, model_name, input_size):\n",
    "        self.name = model_name\n",
    "        super().__init__()\n",
    "        self.fc1 = nn.Linear(input_size+128, 512)\n",
    "        self.bn1 = nn.BatchNorm1d(512)\n",
    "        self.fc2 = nn.Linear(512, 384)\n",
    "        self.bn2 = nn.BatchNorm1d(384)\n",
    "        self.fc3 = nn.Linear(384, 256)\n",
    "        self.bn3 = nn.BatchNorm1d(256)\n",
    "        self.fc4 = nn.Linear(256, 128)\n",
    "        self.bn4 = nn.BatchNorm1d(128)\n",
    "        self.fc5 = nn.Linear(128, 64)\n",
    "        self.bn5 = nn.BatchNorm1d(64)\n",
    "        self.fc6 = nn.Linear(64, 32)\n",
    "        self.bn6 = nn.BatchNorm1d(32)\n",
    "        self.fc7 = nn.Linear(32, 1)\n",
    "        self.bn7 = nn.BatchNorm1d(1)\n",
    "        # (batch_size, 系列データ数=10かな, 1データ当たりのサイズ=128かな)\n",
    "        self.lstm = nn.LSTM(input_size=1, hidden_size=128, batch_first=True)\n",
    "    \n",
    "    def forward(self, x):\n",
    "        # dropoutとbnの併用禁止\n",
    "        x0, x1 = x  # x0は通常の値、x1はlstm用の時系列データ\n",
    "        output, _ = self.lstm(x1)\n",
    "        x1 = output[:,-1,:]\n",
    "        x = torch.concat([x0, x1], dim=1)\n",
    "        x = F.silu(self.bn1((self.fc1(x))))\n",
    "        x = F.silu(self.bn2((self.fc2(x))))\n",
    "        x = F.silu(self.bn3((self.fc3(x))))\n",
    "        x = F.silu(self.bn4((self.fc4(x))))\n",
    "        x = F.silu(self.bn5((self.fc5(x))))\n",
    "        x = F.silu(self.bn6((self.fc6(x))))\n",
    "        x = self.bn7((self.fc7(x)))\n",
    "        return x"
   ]
  },
  {
   "cell_type": "code",
   "execution_count": 52,
   "id": "e9a15fcf",
   "metadata": {
    "execution": {
     "iopub.execute_input": "2022-05-28T07:20:57.580561Z",
     "iopub.status.busy": "2022-05-28T07:20:57.580285Z",
     "iopub.status.idle": "2022-05-28T07:20:57.597933Z",
     "shell.execute_reply": "2022-05-28T07:20:57.597235Z"
    },
    "executionInfo": {
     "elapsed": 30,
     "status": "ok",
     "timestamp": 1653714370036,
     "user": {
      "displayName": "A B",
      "userId": "01479832894597183373"
     },
     "user_tz": -540
    },
    "id": "EdXdT8SiaAxY",
    "papermill": {
     "duration": 0.044757,
     "end_time": "2022-05-28T07:20:57.599515",
     "exception": false,
     "start_time": "2022-05-28T07:20:57.554758",
     "status": "completed"
    },
    "tags": []
   },
   "outputs": [],
   "source": [
    "class NNModel(pl.LightningModule):\n",
    "    def __init__(self, model: nn.Module):\n",
    "        super().__init__()\n",
    "        self.model = model\n",
    "        self.criterion = nn.BCEWithLogitsLoss()\n",
    "        self.metric = roc_auc_score\n",
    "        self.lr = CFG.lr  # ここにlrがないと、tunerが機能しない\n",
    "\n",
    "    def forward(self, x) -> torch.Tensor:\n",
    "        return self.model(x)\n",
    "\n",
    "    # Setup Optimizer and Scheduler\n",
    "    def configure_optimizers(self):\n",
    "        optimizer = optim.Adam(self.parameters(), lr=self.lr, weight_decay=CFG.weight_decay)\n",
    "\n",
    "        monitor = \"\"\n",
    "        if CFG.scheduler_type == \"StepLR\":\n",
    "            # 一定stepごとに学習率を引き下げる\n",
    "            scheduler = lr_scheduler.StepLR(optimizer, step_size=10_000, gamma=CFG.lr_gamma)\n",
    "            interval = \"step\"\n",
    "        elif CFG.scheduler_type == \"Cosine\":\n",
    "            # 一定step単位で周期的に学習率を増減させる\n",
    "            scheduler = lr_scheduler.CosineAnnealingLR(optimizer,\n",
    "                                                    T_max=1000,\n",
    "                                                    eta_min=CFG.lr_min,\n",
    "                                                    )\n",
    "            interval = \"step\"\n",
    "        elif CFG.scheduler_type == \"ReduceLR\":\n",
    "            # 一定epoch、valid_lossが改善しない場合、学習率を引き下げる\n",
    "            scheduler = lr_scheduler.ReduceLROnPlateau(optimizer,\n",
    "                                        'min',\n",
    "                                        patience=3,\n",
    "                                        factor=0.5\n",
    "                                        )\n",
    "            interval = \"epoch\"\n",
    "            monitor = \"valid_avg_loss\"\n",
    "        else:\n",
    "            print(\"scheduler_type\", CFG.scheduler_type, \"is wrong\")\n",
    "            raise \"not defined scheduler_type\"\n",
    "        return [optimizer],  [{\"scheduler\": scheduler, \"interval\": interval, \"monitor\": monitor}]\n",
    "\n",
    "    # training valid test steps\n",
    "    def training_step(self, batch_data, batch_idx):\n",
    "        # batch_data: DataModuleで定義したtrain_dataloaderの結果\n",
    "        # 戻値: lossであることが必須(裏でoptimizerに渡すため)\n",
    "        X, y = batch_data\n",
    "        outputs = self(X).squeeze()\n",
    "        loss = self.criterion(outputs, y)\n",
    "        return loss\n",
    "\n",
    "    def training_epoch_end(self, outputs):\n",
    "        # 1epoch分の処理(全バッチの処理)のreturn値をlistで受け取る\n",
    "        avg_loss = torch.stack([x['loss'] for x in outputs]).mean()\n",
    "        self.log('train_avg_loss', avg_loss, prog_bar=True)\n",
    "        if (self.current_epoch+1) % CFG.print_epoch_freq == 0:\n",
    "            print(\"epoch:\", self.current_epoch, \"train_avg_loss:\", avg_loss.item())\n",
    "\n",
    "    def validation_step(self, batch_data, batch_idx):\n",
    "        # 戻値: 任意の辞書\n",
    "        X, y = batch_data\n",
    "        outputs = self(X).squeeze()\n",
    "        loss = self.criterion(outputs, y)\n",
    "        outputs = torch.sigmoid(outputs)  # criterionがwithloss系の時はsigmoid掛ける\n",
    "        try:\n",
    "            valid_auc = roc_auc_score(y.cpu().numpy(), outputs.cpu().numpy())\n",
    "        except:\n",
    "            valid_auc = 0.0\n",
    "        valid_auc = torch.tensor(valid_auc)  # 戻り値はtensorが望ましい\n",
    "\n",
    "        return {'valid_loss': loss, 'valid_auc': valid_auc}\n",
    "\n",
    "    def validation_epoch_end(self, outputs):\n",
    "        # validation_stepの戻値をリストで受け取る\n",
    "        avg_loss = torch.stack([x['valid_loss'] for x in outputs]).mean()\n",
    "        avg_auc = torch.stack([x['valid_auc'] for x in outputs]).mean()\n",
    "        self.log('valid_avg_loss', avg_loss, prog_bar=True)\n",
    "        self.log('valid_avg_auc', avg_auc, prog_bar=True)\n",
    "        if (self.current_epoch+1) % CFG.print_epoch_freq == 0:\n",
    "            print(\"epoch:\", self.current_epoch, \"valid_avg_loss:\", avg_loss.item(), \"valid_avg_auc:\", avg_auc.item())\n",
    "        return avg_loss\n",
    "\n",
    "    def predict_step(self, batch_data, batch_idx):\n",
    "        # 実際に予測させるときに使う\n",
    "        X = batch_data\n",
    "        outputs = self(X).squeeze()\n",
    "        # criterionがwithLogit系の場合は、sigmoidを追加する。\n",
    "        outputs = torch.sigmoid(outputs)\n",
    "        return outputs"
   ]
  },
  {
   "cell_type": "markdown",
   "id": "258fe6e4",
   "metadata": {
    "id": "ecb15b53",
    "papermill": {
     "duration": 0.024109,
     "end_time": "2022-05-28T07:20:57.648213",
     "exception": false,
     "start_time": "2022-05-28T07:20:57.624104",
     "status": "completed"
    },
    "tags": []
   },
   "source": [
    "# Pytorch Training"
   ]
  },
  {
   "cell_type": "code",
   "execution_count": 53,
   "id": "19fa9efc",
   "metadata": {
    "execution": {
     "iopub.execute_input": "2022-05-28T07:20:57.698576Z",
     "iopub.status.busy": "2022-05-28T07:20:57.698247Z",
     "iopub.status.idle": "2022-05-28T07:20:57.710424Z",
     "shell.execute_reply": "2022-05-28T07:20:57.709715Z"
    },
    "executionInfo": {
     "elapsed": 30,
     "status": "ok",
     "timestamp": 1653714370037,
     "user": {
      "displayName": "A B",
      "userId": "01479832894597183373"
     },
     "user_tz": -540
    },
    "id": "M9IGHVXOrT85",
    "papermill": {
     "duration": 0.03964,
     "end_time": "2022-05-28T07:20:57.712084",
     "exception": false,
     "start_time": "2022-05-28T07:20:57.672444",
     "status": "completed"
    },
    "tags": []
   },
   "outputs": [],
   "source": [
    "def train_fold(pModelImpl, pDataModule, stack_name, features):\n",
    "    for fold in CFG.trn_fold:\n",
    "        print(\"=\"*10, \"fold:\", fold, \"=\"*10)\n",
    "        modelimpl = pModelImpl(stack_name, len(features))\n",
    "        dm = pDataModule(train_df=train, test_df=test, fold=fold, features=features, target=CFG.label, batch_size=CFG.batch_size)\n",
    "\n",
    "        model =  NNModel(modelimpl).to(device)\n",
    "        model_name = '{}_fold_{}'.format(modelimpl.name, fold)\n",
    "        dirpath = \"./model/\"\n",
    "\n",
    "        logger = WandbLogger()\n",
    "        logger.log_hyperparams(CFG.__dict__)\n",
    "        callbacks = [\n",
    "                    pl.callbacks.EarlyStopping('valid_avg_loss', patience=10),  # validation_epoch_endの戻値が10ターン改善がなかったら打ち止め\n",
    "                    pl.callbacks.ModelCheckpoint(dirpath=\"./model/\", filename=model_name, save_top_k=1, monitor=\"valid_avg_loss\"),  # model保存の設定\n",
    "                    pl.callbacks.LearningRateMonitor(),  # ログに学習率を吐き出す設定\n",
    "        ]\n",
    "        trainer = pl.Trainer(accelerator=\"auto\", devices=\"auto\", max_epochs=CFG.epochs, logger=logger, callbacks=callbacks, enable_progress_bar = False)\n",
    "        trainer.fit(model, datamodule=dm)\n",
    "\n",
    "        # Stacking\n",
    "        # 最もスコアが良かったモデルを読み込で予測する\n",
    "        checkpoint = torch.load(dirpath+model_name+\".ckpt\")\n",
    "        model.load_state_dict(checkpoint['state_dict'])\n",
    "        stack_dm = pDataModule(train_df=train, fold=fold, features=features, target=CFG.label, batch_size=CFG.batch_size)  # test_dfを空にすることで、validでpredictできるように\n",
    "        results = trainer.predict(model=model, datamodule=stack_dm)\n",
    "        preds = []\n",
    "        for batch in results:\n",
    "            preds += batch.tolist()\n",
    "        train.loc[train['fold']==fold, modelimpl.name] = preds\n",
    "        # calc score\n",
    "        y_valid = train[train['fold']==fold][CFG.label]\n",
    "        auc = roc_auc_score(y_valid, preds)\n",
    "        print(\"auc: \", auc)\n",
    "\n",
    "        del dm, stack_dm, model\n",
    "        torch.cuda.empty_cache()\n",
    "        gc.collect()"
   ]
  },
  {
   "cell_type": "code",
   "execution_count": 54,
   "id": "1c673cb8",
   "metadata": {
    "execution": {
     "iopub.execute_input": "2022-05-28T07:20:57.763259Z",
     "iopub.status.busy": "2022-05-28T07:20:57.762457Z",
     "iopub.status.idle": "2022-05-28T08:47:51.711453Z",
     "shell.execute_reply": "2022-05-28T08:47:51.710579Z"
    },
    "id": "DX9XRHbKVzba",
    "outputId": "4c807a5f-20b6-4b8f-9374-e733a4f20117",
    "papermill": {
     "duration": 5214.026962,
     "end_time": "2022-05-28T08:47:51.763811",
     "exception": false,
     "start_time": "2022-05-28T07:20:57.736849",
     "status": "completed"
    },
    "tags": []
   },
   "outputs": [
    {
     "name": "stdout",
     "output_type": "stream",
     "text": [
      "========== fold: 0 ==========\n"
     ]
    },
    {
     "data": {
      "text/html": [
       "Changes to your `wandb` environment variables will be ignored because your `wandb` session has already started. For more information on how to modify your settings with `wandb.init()` arguments, please refer to <a href=\"https://wandb.me/wandb-init\" target=\"_blank\">the W&B docs</a>."
      ],
      "text/plain": [
       "<IPython.core.display.HTML object>"
      ]
     },
     "metadata": {},
     "output_type": "display_data"
    },
    {
     "name": "stderr",
     "output_type": "stream",
     "text": [
      "\u001b[34m\u001b[1mwandb\u001b[0m: Currently logged in as: \u001b[33mehekatlact\u001b[0m. Use \u001b[1m`wandb login --relogin`\u001b[0m to force relogin\n"
     ]
    },
    {
     "data": {
      "text/html": [
       "wandb version 0.12.17 is available!  To upgrade, please run:\n",
       " $ pip install wandb --upgrade"
      ],
      "text/plain": [
       "<IPython.core.display.HTML object>"
      ]
     },
     "metadata": {},
     "output_type": "display_data"
    },
    {
     "data": {
      "text/html": [
       "Tracking run with wandb version 0.12.16"
      ],
      "text/plain": [
       "<IPython.core.display.HTML object>"
      ]
     },
     "metadata": {},
     "output_type": "display_data"
    },
    {
     "data": {
      "text/html": [
       "Run data is saved locally in <code>/kaggle/working/wandb/run-20220528_072105-31ropd0s</code>"
      ],
      "text/plain": [
       "<IPython.core.display.HTML object>"
      ]
     },
     "metadata": {},
     "output_type": "display_data"
    },
    {
     "data": {
      "text/html": [
       "Syncing run <strong><a href=\"https://wandb.ai/ehekatlact/uncategorized/runs/31ropd0s\" target=\"_blank\">fragrant-waterfall-44</a></strong> to <a href=\"https://wandb.ai/ehekatlact/uncategorized\" target=\"_blank\">Weights & Biases</a> (<a href=\"https://wandb.me/run\" target=\"_blank\">docs</a>)<br/>"
      ],
      "text/plain": [
       "<IPython.core.display.HTML object>"
      ]
     },
     "metadata": {},
     "output_type": "display_data"
    },
    {
     "name": "stdout",
     "output_type": "stream",
     "text": [
      "epoch: 4 valid_avg_loss: 0.07548338174819946 valid_avg_auc: 0.9965320088789644\n",
      "epoch: 4 train_avg_loss: 0.07539364695549011\n",
      "epoch: 9 valid_avg_loss: 0.08224787563085556 valid_avg_auc: 0.9957437940111485\n",
      "epoch: 9 train_avg_loss: 0.0652526244521141\n",
      "epoch: 14 valid_avg_loss: 0.06776325404644012 valid_avg_auc: 0.9971837243588166\n",
      "epoch: 14 train_avg_loss: 0.0623442605137825\n",
      "epoch: 19 valid_avg_loss: 0.06240404024720192 valid_avg_auc: 0.9976685128218119\n",
      "epoch: 19 train_avg_loss: 0.05510199815034866\n",
      "epoch: 24 valid_avg_loss: 0.0605597123503685 valid_avg_auc: 0.9977303087574478\n",
      "epoch: 24 train_avg_loss: 0.04912586510181427\n",
      "epoch: 29 valid_avg_loss: 0.06272263079881668 valid_avg_auc: 0.9976443127801227\n",
      "epoch: 29 train_avg_loss: 0.04439481720328331\n",
      "auc:  0.9977456558561282\n",
      "========== fold: 1 ==========\n"
     ]
    },
    {
     "name": "stderr",
     "output_type": "stream",
     "text": [
      "Exception ignored in: <function _MultiProcessingDataLoaderIter.__del__ at 0x7fc9167bb710>\n",
      "Traceback (most recent call last):\n",
      "  File \"/opt/conda/lib/python3.7/site-packages/torch/utils/data/dataloader.py\", line 1358, in __del__\n",
      "    self._shutdown_workers()\n",
      "  File \"/opt/conda/lib/python3.7/site-packages/torch/utils/data/dataloader.py\", line 1341, in _shutdown_workers\n",
      "    if w.is_alive():\n",
      "  File \"/opt/conda/lib/python3.7/multiprocessing/process.py\", line 151, in is_alive\n",
      "Exception ignored in: <function _MultiProcessingDataLoaderIter.__del__ at 0x7fc9167bb710>\n",
      "Traceback (most recent call last):\n",
      "  File \"/opt/conda/lib/python3.7/site-packages/torch/utils/data/dataloader.py\", line 1358, in __del__\n",
      "    self._shutdown_workers()    \n",
      "  File \"/opt/conda/lib/python3.7/site-packages/torch/utils/data/dataloader.py\", line 1341, in _shutdown_workers\n",
      "    if w.is_alive():\n",
      "  File \"/opt/conda/lib/python3.7/multiprocessing/process.py\", line 151, in is_alive\n",
      "assert self._parent_pid == os.getpid(), 'can only test a child process'    \n",
      "assert self._parent_pid == os.getpid(), 'can only test a child process'\n",
      "AssertionError: can only test a child process\n",
      "AssertionError: can only test a child process\n",
      "Exception ignored in: <function _MultiProcessingDataLoaderIter.__del__ at 0x7fc9167bb710>\n",
      "Traceback (most recent call last):\n",
      "  File \"/opt/conda/lib/python3.7/site-packages/torch/utils/data/dataloader.py\", line 1358, in __del__\n",
      "    self._shutdown_workers()\n",
      "  File \"/opt/conda/lib/python3.7/site-packages/torch/utils/data/dataloader.py\", line 1341, in _shutdown_workers\n",
      "    if w.is_alive():\n",
      "  File \"/opt/conda/lib/python3.7/multiprocessing/process.py\", line 151, in is_alive\n",
      "    assert self._parent_pid == os.getpid(), 'can only test a child process'\n",
      "AssertionError: can only test a child process\n",
      "Exception ignored in: <function _MultiProcessingDataLoaderIter.__del__ at 0x7fc9167bb710>\n",
      "Traceback (most recent call last):\n",
      "  File \"/opt/conda/lib/python3.7/site-packages/torch/utils/data/dataloader.py\", line 1358, in __del__\n",
      "    self._shutdown_workers()\n",
      "  File \"/opt/conda/lib/python3.7/site-packages/torch/utils/data/dataloader.py\", line 1341, in _shutdown_workers\n",
      "    if w.is_alive():\n",
      "  File \"/opt/conda/lib/python3.7/multiprocessing/process.py\", line 151, in is_alive\n",
      "    assert self._parent_pid == os.getpid(), 'can only test a child process'\n",
      "AssertionError: can only test a child process\n"
     ]
    },
    {
     "name": "stdout",
     "output_type": "stream",
     "text": [
      "epoch: 4 valid_avg_loss: 0.07623521238565445 valid_avg_auc: 0.9965734048920425\n",
      "epoch: 4 train_avg_loss: 0.0745006799697876\n",
      "epoch: 9 valid_avg_loss: 0.06656112521886826 valid_avg_auc: 0.9972876497821899\n",
      "epoch: 9 train_avg_loss: 0.06553825736045837\n",
      "epoch: 14 valid_avg_loss: 0.06829950213432312 valid_avg_auc: 0.9973129185555262\n",
      "epoch: 14 train_avg_loss: 0.06268461793661118\n",
      "epoch: 19 valid_avg_loss: 0.06612738966941833 valid_avg_auc: 0.9972802056031983\n",
      "epoch: 19 train_avg_loss: 0.06092558428645134\n",
      "epoch: 24 valid_avg_loss: 0.0674232691526413 valid_avg_auc: 0.9972562021533277\n",
      "epoch: 24 train_avg_loss: 0.05372602865099907\n",
      "epoch: 29 valid_avg_loss: 0.06328019499778748 valid_avg_auc: 0.9975913058647214\n",
      "epoch: 29 train_avg_loss: 0.04766468703746796\n",
      "epoch: 34 valid_avg_loss: 0.06619478762149811 valid_avg_auc: 0.9974905495653146\n",
      "epoch: 34 train_avg_loss: 0.04143599048256874\n",
      "auc:  0.9977381955897965\n",
      "========== fold: 2 ==========\n"
     ]
    },
    {
     "name": "stderr",
     "output_type": "stream",
     "text": [
      "Exception ignored in: <function _MultiProcessingDataLoaderIter.__del__ at 0x7fc9167bb710>\n",
      "Traceback (most recent call last):\n",
      "  File \"/opt/conda/lib/python3.7/site-packages/torch/utils/data/dataloader.py\", line 1358, in __del__\n",
      "    self._shutdown_workers()\n",
      "  File \"/opt/conda/lib/python3.7/site-packages/torch/utils/data/dataloader.py\", line 1341, in _shutdown_workers\n",
      "    if w.is_alive():\n",
      "  File \"/opt/conda/lib/python3.7/multiprocessing/process.py\", line 151, in is_alive\n",
      "    assert self._parent_pid == os.getpid(), 'can only test a child process'\n",
      "AssertionError: can only test a child process\n",
      "Exception ignored in: <function _MultiProcessingDataLoaderIter.__del__ at 0x7fc9167bb710>\n",
      "Traceback (most recent call last):\n",
      "  File \"/opt/conda/lib/python3.7/site-packages/torch/utils/data/dataloader.py\", line 1358, in __del__\n",
      "    self._shutdown_workers()\n",
      "  File \"/opt/conda/lib/python3.7/site-packages/torch/utils/data/dataloader.py\", line 1341, in _shutdown_workers\n",
      "    if w.is_alive():\n",
      "  File \"/opt/conda/lib/python3.7/multiprocessing/process.py\", line 151, in is_alive\n",
      "    assert self._parent_pid == os.getpid(), 'can only test a child process'\n",
      "AssertionError: can only test a child process\n",
      "Exception ignored in: <function _MultiProcessingDataLoaderIter.__del__ at 0x7fc9167bb710>\n",
      "Traceback (most recent call last):\n",
      "  File \"/opt/conda/lib/python3.7/site-packages/torch/utils/data/dataloader.py\", line 1358, in __del__\n",
      "    self._shutdown_workers()Exception ignored in: <function _MultiProcessingDataLoaderIter.__del__ at 0x7fc9167bb710>\n",
      "  File \"/opt/conda/lib/python3.7/site-packages/torch/utils/data/dataloader.py\", line 1341, in _shutdown_workers\n",
      "    if w.is_alive():\n",
      "\n",
      "  File \"/opt/conda/lib/python3.7/multiprocessing/process.py\", line 151, in is_alive\n",
      "Traceback (most recent call last):\n",
      "  File \"/opt/conda/lib/python3.7/site-packages/torch/utils/data/dataloader.py\", line 1358, in __del__\n",
      "        self._shutdown_workers()\n",
      "assert self._parent_pid == os.getpid(), 'can only test a child process'  File \"/opt/conda/lib/python3.7/site-packages/torch/utils/data/dataloader.py\", line 1341, in _shutdown_workers\n",
      "\n",
      "AssertionError:     if w.is_alive():can only test a child process\n",
      "\n",
      "  File \"/opt/conda/lib/python3.7/multiprocessing/process.py\", line 151, in is_alive\n",
      "    assert self._parent_pid == os.getpid(), 'can only test a child process'\n",
      "AssertionError: can only test a child process\n"
     ]
    },
    {
     "name": "stdout",
     "output_type": "stream",
     "text": [
      "epoch: 4 valid_avg_loss: 0.07386158406734467 valid_avg_auc: 0.9967844701473165\n",
      "epoch: 4 train_avg_loss: 0.07526149600744247\n",
      "epoch: 9 valid_avg_loss: 0.06756134331226349 valid_avg_auc: 0.9971759055926562\n",
      "epoch: 9 train_avg_loss: 0.06634163111448288\n",
      "epoch: 14 valid_avg_loss: 0.07127977907657623 valid_avg_auc: 0.9972989557739902\n",
      "epoch: 14 train_avg_loss: 0.06264695525169373\n",
      "epoch: 19 valid_avg_loss: 0.06533326953649521 valid_avg_auc: 0.9974528853513602\n",
      "epoch: 19 train_avg_loss: 0.06149414926767349\n",
      "epoch: 24 valid_avg_loss: 0.061602722853422165 valid_avg_auc: 0.9976505023842925\n",
      "epoch: 24 train_avg_loss: 0.05478059500455856\n",
      "epoch: 29 valid_avg_loss: 0.0609210841357708 valid_avg_auc: 0.9977273337762855\n",
      "epoch: 29 train_avg_loss: 0.04916132986545563\n",
      "epoch: 34 valid_avg_loss: 0.0639355406165123 valid_avg_auc: 0.9975926519180488\n",
      "epoch: 34 train_avg_loss: 0.04471305385231972\n",
      "auc:  0.9977693570476122\n",
      "========== fold: 3 ==========\n"
     ]
    },
    {
     "name": "stderr",
     "output_type": "stream",
     "text": [
      "Exception ignored in: <function _MultiProcessingDataLoaderIter.__del__ at 0x7fc9167bb710>\n",
      "Traceback (most recent call last):\n",
      "  File \"/opt/conda/lib/python3.7/site-packages/torch/utils/data/dataloader.py\", line 1358, in __del__\n",
      "    self._shutdown_workers()\n",
      "  File \"/opt/conda/lib/python3.7/site-packages/torch/utils/data/dataloader.py\", line 1341, in _shutdown_workers\n",
      "    Exception ignored in: if w.is_alive():\n",
      "  File \"/opt/conda/lib/python3.7/multiprocessing/process.py\", line 151, in is_alive\n",
      "<function _MultiProcessingDataLoaderIter.__del__ at 0x7fc9167bb710>\n",
      "    Traceback (most recent call last):\n",
      "assert self._parent_pid == os.getpid(), 'can only test a child process'\n",
      "AssertionError  File \"/opt/conda/lib/python3.7/site-packages/torch/utils/data/dataloader.py\", line 1358, in __del__\n",
      ":     can only test a child processself._shutdown_workers()\n",
      "\n",
      "  File \"/opt/conda/lib/python3.7/site-packages/torch/utils/data/dataloader.py\", line 1341, in _shutdown_workers\n",
      "    if w.is_alive():\n",
      "  File \"/opt/conda/lib/python3.7/multiprocessing/process.py\", line 151, in is_alive\n",
      "    assert self._parent_pid == os.getpid(), 'can only test a child process'\n",
      "AssertionError: can only test a child process\n",
      "Exception ignored in: <function _MultiProcessingDataLoaderIter.__del__ at 0x7fc9167bb710>\n",
      "Traceback (most recent call last):\n",
      "  File \"/opt/conda/lib/python3.7/site-packages/torch/utils/data/dataloader.py\", line 1358, in __del__\n",
      "Exception ignored in:     <function _MultiProcessingDataLoaderIter.__del__ at 0x7fc9167bb710>self._shutdown_workers()\n",
      "Traceback (most recent call last):\n",
      "\n",
      "  File \"/opt/conda/lib/python3.7/site-packages/torch/utils/data/dataloader.py\", line 1341, in _shutdown_workers\n",
      "  File \"/opt/conda/lib/python3.7/site-packages/torch/utils/data/dataloader.py\", line 1358, in __del__\n",
      "        if w.is_alive():self._shutdown_workers()\n",
      "\n",
      "  File \"/opt/conda/lib/python3.7/multiprocessing/process.py\", line 151, in is_alive\n",
      "  File \"/opt/conda/lib/python3.7/site-packages/torch/utils/data/dataloader.py\", line 1341, in _shutdown_workers\n",
      "        assert self._parent_pid == os.getpid(), 'can only test a child process'if w.is_alive():\n",
      "\n",
      "AssertionError  File \"/opt/conda/lib/python3.7/multiprocessing/process.py\", line 151, in is_alive\n",
      ":     can only test a child processassert self._parent_pid == os.getpid(), 'can only test a child process'\n",
      "\n",
      "AssertionError: can only test a child process\n"
     ]
    },
    {
     "name": "stdout",
     "output_type": "stream",
     "text": [
      "epoch: 4 valid_avg_loss: 0.0753161609172821 valid_avg_auc: 0.9965344425668256\n",
      "epoch: 4 train_avg_loss: 0.07449539005756378\n",
      "epoch: 9 valid_avg_loss: 0.10573898255825043 valid_avg_auc: 0.9937817935350404\n",
      "epoch: 9 train_avg_loss: 0.0653030276298523\n",
      "epoch: 14 valid_avg_loss: 0.06573495268821716 valid_avg_auc: 0.997378641767071\n",
      "epoch: 14 train_avg_loss: 0.06222881004214287\n",
      "epoch: 19 valid_avg_loss: 0.06128613278269768 valid_avg_auc: 0.9976901281506126\n",
      "epoch: 19 train_avg_loss: 0.05552142485976219\n",
      "epoch: 24 valid_avg_loss: 0.06409592181444168 valid_avg_auc: 0.9974927185383574\n",
      "epoch: 24 train_avg_loss: 0.05426672101020813\n",
      "epoch: 29 valid_avg_loss: 0.06186331808567047 valid_avg_auc: 0.9976571105048985\n",
      "epoch: 29 train_avg_loss: 0.048023972660303116\n",
      "epoch: 34 valid_avg_loss: 0.06426983326673508 valid_avg_auc: 0.9975154236358919\n",
      "epoch: 34 train_avg_loss: 0.04337382689118385\n",
      "auc:  0.9977077261187515\n",
      "========== fold: 4 ==========\n"
     ]
    },
    {
     "name": "stderr",
     "output_type": "stream",
     "text": [
      "Exception ignored in: <function _MultiProcessingDataLoaderIter.__del__ at 0x7fc9167bb710>\n",
      "Traceback (most recent call last):\n",
      "  File \"/opt/conda/lib/python3.7/site-packages/torch/utils/data/dataloader.py\", line 1358, in __del__\n",
      "    self._shutdown_workers()\n",
      "  File \"/opt/conda/lib/python3.7/site-packages/torch/utils/data/dataloader.py\", line 1341, in _shutdown_workers\n",
      "    if w.is_alive():\n",
      "  File \"/opt/conda/lib/python3.7/multiprocessing/process.py\", line 151, in is_alive\n",
      "    assert self._parent_pid == os.getpid(), 'can only test a child process'Exception ignored in: <function _MultiProcessingDataLoaderIter.__del__ at 0x7fc9167bb710>\n",
      "\n",
      "AssertionErrorTraceback (most recent call last):\n",
      "  File \"/opt/conda/lib/python3.7/site-packages/torch/utils/data/dataloader.py\", line 1358, in __del__\n",
      ":     can only test a child processself._shutdown_workers()\n",
      "\n",
      "  File \"/opt/conda/lib/python3.7/site-packages/torch/utils/data/dataloader.py\", line 1341, in _shutdown_workers\n",
      "    if w.is_alive():\n",
      "  File \"/opt/conda/lib/python3.7/multiprocessing/process.py\", line 151, in is_alive\n",
      "    assert self._parent_pid == os.getpid(), 'can only test a child process'\n",
      "AssertionError: can only test a child process\n",
      "Exception ignored in: <function _MultiProcessingDataLoaderIter.__del__ at 0x7fc9167bb710>\n",
      "Traceback (most recent call last):\n",
      "  File \"/opt/conda/lib/python3.7/site-packages/torch/utils/data/dataloader.py\", line 1358, in __del__\n",
      "    self._shutdown_workers()\n",
      "  File \"/opt/conda/lib/python3.7/site-packages/torch/utils/data/dataloader.py\", line 1341, in _shutdown_workers\n",
      "    if w.is_alive():\n",
      "  File \"/opt/conda/lib/python3.7/multiprocessing/process.py\", line 151, in is_alive\n",
      "    assert self._parent_pid == os.getpid(), 'can only test a child process'\n",
      "AssertionError: can only test a child process\n",
      "Exception ignored in: <function _MultiProcessingDataLoaderIter.__del__ at 0x7fc9167bb710>\n",
      "Traceback (most recent call last):\n",
      "  File \"/opt/conda/lib/python3.7/site-packages/torch/utils/data/dataloader.py\", line 1358, in __del__\n",
      "    self._shutdown_workers()\n",
      "  File \"/opt/conda/lib/python3.7/site-packages/torch/utils/data/dataloader.py\", line 1341, in _shutdown_workers\n",
      "    if w.is_alive():\n",
      "  File \"/opt/conda/lib/python3.7/multiprocessing/process.py\", line 151, in is_alive\n",
      "    assert self._parent_pid == os.getpid(), 'can only test a child process'\n",
      "AssertionError: can only test a child process\n"
     ]
    },
    {
     "name": "stdout",
     "output_type": "stream",
     "text": [
      "epoch: 4 valid_avg_loss: 0.07577115297317505 valid_avg_auc: 0.9965857343418988\n",
      "epoch: 4 train_avg_loss: 0.07425237447023392\n",
      "epoch: 9 valid_avg_loss: 0.06911918520927429 valid_avg_auc: 0.9972377307290463\n",
      "epoch: 9 train_avg_loss: 0.06495439261198044\n",
      "epoch: 14 valid_avg_loss: 0.06673570722341537 valid_avg_auc: 0.9972529362313258\n",
      "epoch: 14 train_avg_loss: 0.062301792204380035\n",
      "epoch: 19 valid_avg_loss: 0.06293830275535583 valid_avg_auc: 0.9975662239305483\n",
      "epoch: 19 train_avg_loss: 0.054371658712625504\n",
      "epoch: 24 valid_avg_loss: 0.06153567135334015 valid_avg_auc: 0.9976926597164721\n",
      "epoch: 24 train_avg_loss: 0.04864230751991272\n",
      "epoch: 29 valid_avg_loss: 0.06400283426046371 valid_avg_auc: 0.9975537811749268\n",
      "epoch: 29 train_avg_loss: 0.043896839022636414\n",
      "auc:  0.9977254355934286\n"
     ]
    }
   ],
   "source": [
    "train_fold(NNModelImplLSTM, LSTMDataModule, \"stack7\", features)"
   ]
  },
  {
   "cell_type": "code",
   "execution_count": 55,
   "id": "7931d23e",
   "metadata": {
    "execution": {
     "iopub.execute_input": "2022-05-28T08:47:51.860507Z",
     "iopub.status.busy": "2022-05-28T08:47:51.859873Z",
     "iopub.status.idle": "2022-05-28T09:44:15.983511Z",
     "shell.execute_reply": "2022-05-28T09:44:15.981612Z"
    },
    "id": "dPGdFWSHuE8m",
    "papermill": {
     "duration": 3384.173732,
     "end_time": "2022-05-28T09:44:15.986002",
     "exception": false,
     "start_time": "2022-05-28T08:47:51.812270",
     "status": "completed"
    },
    "tags": []
   },
   "outputs": [
    {
     "name": "stdout",
     "output_type": "stream",
     "text": [
      "========== fold: 0 ==========\n"
     ]
    },
    {
     "name": "stderr",
     "output_type": "stream",
     "text": [
      "Exception ignored in: Exception ignored in: <function _MultiProcessingDataLoaderIter.__del__ at 0x7fc9167bb710>\n",
      "<function _MultiProcessingDataLoaderIter.__del__ at 0x7fc9167bb710>Traceback (most recent call last):\n",
      "  File \"/opt/conda/lib/python3.7/site-packages/torch/utils/data/dataloader.py\", line 1358, in __del__\n",
      "    self._shutdown_workers()\n",
      "\n",
      "  File \"/opt/conda/lib/python3.7/site-packages/torch/utils/data/dataloader.py\", line 1341, in _shutdown_workers\n",
      "    Traceback (most recent call last):\n",
      "  File \"/opt/conda/lib/python3.7/site-packages/torch/utils/data/dataloader.py\", line 1358, in __del__\n",
      "if w.is_alive():\n",
      "  File \"/opt/conda/lib/python3.7/multiprocessing/process.py\", line 151, in is_alive\n",
      "    self._shutdown_workers()    assert self._parent_pid == os.getpid(), 'can only test a child process'\n",
      "AssertionError\n",
      "  File \"/opt/conda/lib/python3.7/site-packages/torch/utils/data/dataloader.py\", line 1341, in _shutdown_workers\n",
      "    if w.is_alive():\n",
      ":   File \"/opt/conda/lib/python3.7/multiprocessing/process.py\", line 151, in is_alive\n",
      "    can only test a child process\n",
      "assert self._parent_pid == os.getpid(), 'can only test a child process'\n",
      "AssertionError: can only test a child process\n",
      "Exception ignored in: <function _MultiProcessingDataLoaderIter.__del__ at 0x7fc9167bb710>\n",
      "Traceback (most recent call last):\n",
      "  File \"/opt/conda/lib/python3.7/site-packages/torch/utils/data/dataloader.py\", line 1358, in __del__\n",
      "    self._shutdown_workers()\n",
      "  File \"/opt/conda/lib/python3.7/site-packages/torch/utils/data/dataloader.py\", line 1341, in _shutdown_workers\n",
      "    if w.is_alive():\n",
      "  File \"/opt/conda/lib/python3.7/multiprocessing/process.py\", line 151, in is_alive\n",
      "    assert self._parent_pid == os.getpid(), 'can only test a child process'\n",
      "AssertionError: can only test a child process\n",
      "Exception ignored in: <function _MultiProcessingDataLoaderIter.__del__ at 0x7fc9167bb710>\n",
      "Traceback (most recent call last):\n",
      "  File \"/opt/conda/lib/python3.7/site-packages/torch/utils/data/dataloader.py\", line 1358, in __del__\n",
      "    self._shutdown_workers()\n",
      "  File \"/opt/conda/lib/python3.7/site-packages/torch/utils/data/dataloader.py\", line 1341, in _shutdown_workers\n",
      "    if w.is_alive():\n",
      "  File \"/opt/conda/lib/python3.7/multiprocessing/process.py\", line 151, in is_alive\n",
      "    assert self._parent_pid == os.getpid(), 'can only test a child process'\n",
      "AssertionError: can only test a child process\n"
     ]
    },
    {
     "name": "stdout",
     "output_type": "stream",
     "text": [
      "epoch: 4 valid_avg_loss: 0.07660989463329315 valid_avg_auc: 0.9964426987333544\n",
      "epoch: 4 train_avg_loss: 0.07540685683488846\n",
      "epoch: 9 valid_avg_loss: 0.0696289986371994 valid_avg_auc: 0.9969799229149549\n",
      "epoch: 9 train_avg_loss: 0.06657405197620392\n",
      "epoch: 14 valid_avg_loss: 0.06398455798625946 valid_avg_auc: 0.9974754616247157\n",
      "epoch: 14 train_avg_loss: 0.05563316494226456\n",
      "epoch: 19 valid_avg_loss: 0.06269361078739166 valid_avg_auc: 0.9975854229199435\n",
      "epoch: 19 train_avg_loss: 0.04912487789988518\n",
      "epoch: 24 valid_avg_loss: 0.06528284400701523 valid_avg_auc: 0.9974747043503658\n",
      "epoch: 24 train_avg_loss: 0.04348484426736832\n",
      "epoch: 29 valid_avg_loss: 0.06960441172122955 valid_avg_auc: 0.9972750963443885\n",
      "epoch: 29 train_avg_loss: 0.03920169919729233\n",
      "auc:  0.9975665745512128\n",
      "========== fold: 1 ==========\n"
     ]
    },
    {
     "name": "stderr",
     "output_type": "stream",
     "text": [
      "Exception ignored in: <function _MultiProcessingDataLoaderIter.__del__ at 0x7fc9167bb710>\n",
      "Traceback (most recent call last):\n",
      "  File \"/opt/conda/lib/python3.7/site-packages/torch/utils/data/dataloader.py\", line 1358, in __del__\n",
      "    self._shutdown_workers()\n",
      "Exception ignored in: <function _MultiProcessingDataLoaderIter.__del__ at 0x7fc9167bb710>  File \"/opt/conda/lib/python3.7/site-packages/torch/utils/data/dataloader.py\", line 1341, in _shutdown_workers\n",
      "\n",
      "    if w.is_alive():Traceback (most recent call last):\n",
      "\n",
      "  File \"/opt/conda/lib/python3.7/site-packages/torch/utils/data/dataloader.py\", line 1358, in __del__\n",
      "  File \"/opt/conda/lib/python3.7/multiprocessing/process.py\", line 151, in is_alive\n",
      "        self._shutdown_workers()assert self._parent_pid == os.getpid(), 'can only test a child process'\n",
      "\n",
      "  File \"/opt/conda/lib/python3.7/site-packages/torch/utils/data/dataloader.py\", line 1341, in _shutdown_workers\n",
      "AssertionError    : can only test a child process\n",
      "if w.is_alive():\n",
      "  File \"/opt/conda/lib/python3.7/multiprocessing/process.py\", line 151, in is_alive\n",
      "    assert self._parent_pid == os.getpid(), 'can only test a child process'\n",
      "AssertionError: can only test a child process\n",
      "Exception ignored in: <function _MultiProcessingDataLoaderIter.__del__ at 0x7fc9167bb710>\n",
      "Traceback (most recent call last):\n",
      "  File \"/opt/conda/lib/python3.7/site-packages/torch/utils/data/dataloader.py\", line 1358, in __del__\n",
      "    self._shutdown_workers()Exception ignored in: \n",
      "<function _MultiProcessingDataLoaderIter.__del__ at 0x7fc9167bb710>  File \"/opt/conda/lib/python3.7/site-packages/torch/utils/data/dataloader.py\", line 1341, in _shutdown_workers\n",
      "\n",
      "Traceback (most recent call last):\n",
      "  File \"/opt/conda/lib/python3.7/site-packages/torch/utils/data/dataloader.py\", line 1358, in __del__\n",
      "    if w.is_alive():    self._shutdown_workers()\n",
      "\n",
      "  File \"/opt/conda/lib/python3.7/multiprocessing/process.py\", line 151, in is_alive\n",
      "  File \"/opt/conda/lib/python3.7/site-packages/torch/utils/data/dataloader.py\", line 1341, in _shutdown_workers\n",
      "        assert self._parent_pid == os.getpid(), 'can only test a child process'if w.is_alive():\n",
      "\n",
      "AssertionError  File \"/opt/conda/lib/python3.7/multiprocessing/process.py\", line 151, in is_alive\n",
      ": can only test a child process    assert self._parent_pid == os.getpid(), 'can only test a child process'\n",
      "\n",
      "AssertionError: can only test a child process\n"
     ]
    },
    {
     "name": "stdout",
     "output_type": "stream",
     "text": [
      "epoch: 4 valid_avg_loss: 0.07512524724006653 valid_avg_auc: 0.9965573917006733\n",
      "epoch: 4 train_avg_loss: 0.07417833060026169\n",
      "epoch: 9 valid_avg_loss: 0.0717163011431694 valid_avg_auc: 0.9969253553589601\n",
      "epoch: 9 train_avg_loss: 0.06591916084289551\n",
      "epoch: 14 valid_avg_loss: 0.06774846464395523 valid_avg_auc: 0.9971307719129943\n",
      "epoch: 14 train_avg_loss: 0.06359635293483734\n",
      "epoch: 19 valid_avg_loss: 0.06359586864709854 valid_avg_auc: 0.9975070717010125\n",
      "epoch: 19 train_avg_loss: 0.054829902946949005\n",
      "epoch: 24 valid_avg_loss: 0.06348433345556259 valid_avg_auc: 0.997563241149845\n",
      "epoch: 24 train_avg_loss: 0.04878051206469536\n",
      "epoch: 29 valid_avg_loss: 0.06617404520511627 valid_avg_auc: 0.9974329584052481\n",
      "epoch: 29 train_avg_loss: 0.04358847066760063\n",
      "epoch: 34 valid_avg_loss: 0.06957844644784927 valid_avg_auc: 0.9972880814011282\n",
      "epoch: 34 train_avg_loss: 0.03970048949122429\n",
      "auc:  0.9975590059182495\n",
      "========== fold: 2 ==========\n"
     ]
    },
    {
     "name": "stderr",
     "output_type": "stream",
     "text": [
      "Exception ignored in: <function _MultiProcessingDataLoaderIter.__del__ at 0x7fc9167bb710>\n",
      "Traceback (most recent call last):\n",
      "  File \"/opt/conda/lib/python3.7/site-packages/torch/utils/data/dataloader.py\", line 1358, in __del__\n",
      "    self._shutdown_workers()Exception ignored in: \n",
      "<function _MultiProcessingDataLoaderIter.__del__ at 0x7fc9167bb710>  File \"/opt/conda/lib/python3.7/site-packages/torch/utils/data/dataloader.py\", line 1341, in _shutdown_workers\n",
      "\n",
      "    Traceback (most recent call last):\n",
      "if w.is_alive():  File \"/opt/conda/lib/python3.7/site-packages/torch/utils/data/dataloader.py\", line 1358, in __del__\n",
      "\n",
      "      File \"/opt/conda/lib/python3.7/multiprocessing/process.py\", line 151, in is_alive\n",
      "    self._shutdown_workers()\n",
      "  File \"/opt/conda/lib/python3.7/site-packages/torch/utils/data/dataloader.py\", line 1341, in _shutdown_workers\n",
      "    assert self._parent_pid == os.getpid(), 'can only test a child process'if w.is_alive():\n",
      "  File \"/opt/conda/lib/python3.7/multiprocessing/process.py\", line 151, in is_alive\n",
      "    assert self._parent_pid == os.getpid(), 'can only test a child process'\n",
      "\n",
      "AssertionError: AssertionErrorcan only test a child process\n",
      ": can only test a child process\n",
      "Exception ignored in: <function _MultiProcessingDataLoaderIter.__del__ at 0x7fc9167bb710>\n",
      "Exception ignored in: <function _MultiProcessingDataLoaderIter.__del__ at 0x7fc9167bb710>Traceback (most recent call last):\n",
      "  File \"/opt/conda/lib/python3.7/site-packages/torch/utils/data/dataloader.py\", line 1358, in __del__\n",
      "\n",
      "    self._shutdown_workers()Traceback (most recent call last):\n",
      "\n",
      "  File \"/opt/conda/lib/python3.7/site-packages/torch/utils/data/dataloader.py\", line 1358, in __del__\n",
      "  File \"/opt/conda/lib/python3.7/site-packages/torch/utils/data/dataloader.py\", line 1341, in _shutdown_workers\n",
      "        self._shutdown_workers()if w.is_alive():\n",
      "\n",
      "  File \"/opt/conda/lib/python3.7/site-packages/torch/utils/data/dataloader.py\", line 1341, in _shutdown_workers\n",
      "  File \"/opt/conda/lib/python3.7/multiprocessing/process.py\", line 151, in is_alive\n",
      "        assert self._parent_pid == os.getpid(), 'can only test a child process'\n",
      "if w.is_alive():AssertionError\n",
      ":   File \"/opt/conda/lib/python3.7/multiprocessing/process.py\", line 151, in is_alive\n",
      "can only test a child process    \n",
      "assert self._parent_pid == os.getpid(), 'can only test a child process'\n",
      "AssertionError: can only test a child process\n"
     ]
    },
    {
     "name": "stdout",
     "output_type": "stream",
     "text": [
      "epoch: 4 valid_avg_loss: 0.08200179785490036 valid_avg_auc: 0.99635078134911\n",
      "epoch: 4 train_avg_loss: 0.07543707638978958\n",
      "epoch: 9 valid_avg_loss: 0.07167167961597443 valid_avg_auc: 0.9970047603221365\n",
      "epoch: 9 train_avg_loss: 0.0655733272433281\n",
      "epoch: 14 valid_avg_loss: 0.06836056709289551 valid_avg_auc: 0.9971515487014989\n",
      "epoch: 14 train_avg_loss: 0.06267041712999344\n",
      "epoch: 19 valid_avg_loss: 0.06733868271112442 valid_avg_auc: 0.9972828608258821\n",
      "epoch: 19 train_avg_loss: 0.06105088070034981\n",
      "epoch: 24 valid_avg_loss: 0.06710275262594223 valid_avg_auc: 0.9972472972184405\n",
      "epoch: 24 train_avg_loss: 0.06063492223620415\n",
      "epoch: 29 valid_avg_loss: 0.06683278828859329 valid_avg_auc: 0.9972541364179728\n",
      "epoch: 29 train_avg_loss: 0.06001895293593407\n",
      "epoch: 34 valid_avg_loss: 0.06395701318979263 valid_avg_auc: 0.9975040411291373\n",
      "epoch: 34 train_avg_loss: 0.052607160061597824\n",
      "epoch: 39 valid_avg_loss: 0.06462141871452332 valid_avg_auc: 0.9975163440476369\n",
      "epoch: 39 train_avg_loss: 0.04594569653272629\n",
      "epoch: 44 valid_avg_loss: 0.06837926805019379 valid_avg_auc: 0.997391699474777\n",
      "epoch: 44 train_avg_loss: 0.03924369066953659\n",
      "auc:  0.9976938968230622\n",
      "========== fold: 3 ==========\n"
     ]
    },
    {
     "name": "stderr",
     "output_type": "stream",
     "text": [
      "Exception ignored in: <function _MultiProcessingDataLoaderIter.__del__ at 0x7fc9167bb710>\n",
      "Traceback (most recent call last):\n",
      "  File \"/opt/conda/lib/python3.7/site-packages/torch/utils/data/dataloader.py\", line 1358, in __del__\n",
      "Exception ignored in:     <function _MultiProcessingDataLoaderIter.__del__ at 0x7fc9167bb710>self._shutdown_workers()\n",
      "\n",
      "  File \"/opt/conda/lib/python3.7/site-packages/torch/utils/data/dataloader.py\", line 1341, in _shutdown_workers\n",
      "Traceback (most recent call last):\n",
      "      File \"/opt/conda/lib/python3.7/site-packages/torch/utils/data/dataloader.py\", line 1358, in __del__\n",
      "if w.is_alive():    self._shutdown_workers()\n",
      "  File \"/opt/conda/lib/python3.7/site-packages/torch/utils/data/dataloader.py\", line 1341, in _shutdown_workers\n",
      "\n",
      "    if w.is_alive():\n",
      "  File \"/opt/conda/lib/python3.7/multiprocessing/process.py\", line 151, in is_alive\n",
      "  File \"/opt/conda/lib/python3.7/multiprocessing/process.py\", line 151, in is_alive\n",
      "    assert self._parent_pid == os.getpid(), 'can only test a child process'\n",
      "    AssertionErrorassert self._parent_pid == os.getpid(), 'can only test a child process'\n",
      "AssertionError: can only test a child process\n",
      ": can only test a child process\n",
      "Exception ignored in: <function _MultiProcessingDataLoaderIter.__del__ at 0x7fc9167bb710>\n",
      "Traceback (most recent call last):\n",
      "  File \"/opt/conda/lib/python3.7/site-packages/torch/utils/data/dataloader.py\", line 1358, in __del__\n",
      "    self._shutdown_workers()\n",
      "  File \"/opt/conda/lib/python3.7/site-packages/torch/utils/data/dataloader.py\", line 1341, in _shutdown_workers\n",
      "    if w.is_alive():\n",
      "  File \"/opt/conda/lib/python3.7/multiprocessing/process.py\", line 151, in is_alive\n",
      "    assert self._parent_pid == os.getpid(), 'can only test a child process'\n",
      "AssertionError: can only test a child process\n",
      "Exception ignored in: <function _MultiProcessingDataLoaderIter.__del__ at 0x7fc9167bb710>\n",
      "Traceback (most recent call last):\n",
      "  File \"/opt/conda/lib/python3.7/site-packages/torch/utils/data/dataloader.py\", line 1358, in __del__\n",
      "    self._shutdown_workers()\n",
      "  File \"/opt/conda/lib/python3.7/site-packages/torch/utils/data/dataloader.py\", line 1341, in _shutdown_workers\n",
      "    if w.is_alive():\n",
      "  File \"/opt/conda/lib/python3.7/multiprocessing/process.py\", line 151, in is_alive\n",
      "    assert self._parent_pid == os.getpid(), 'can only test a child process'\n",
      "AssertionError: can only test a child process\n"
     ]
    },
    {
     "name": "stdout",
     "output_type": "stream",
     "text": [
      "epoch: 4 valid_avg_loss: 0.07829727977514267 valid_avg_auc: 0.9963591463988627\n",
      "epoch: 4 train_avg_loss: 0.07488789409399033\n",
      "epoch: 9 valid_avg_loss: 0.07038243114948273 valid_avg_auc: 0.9969317747913408\n",
      "epoch: 9 train_avg_loss: 0.06595298647880554\n",
      "epoch: 14 valid_avg_loss: 0.06794489175081253 valid_avg_auc: 0.9971713241544483\n",
      "epoch: 14 train_avg_loss: 0.06312081217765808\n",
      "epoch: 19 valid_avg_loss: 0.07408541440963745 valid_avg_auc: 0.9969969100989542\n",
      "epoch: 19 train_avg_loss: 0.0620957612991333\n",
      "epoch: 24 valid_avg_loss: 0.06529390811920166 valid_avg_auc: 0.9973364589623464\n",
      "epoch: 24 train_avg_loss: 0.0535910502076149\n",
      "epoch: 29 valid_avg_loss: 0.06624643504619598 valid_avg_auc: 0.9973203422208363\n",
      "epoch: 29 train_avg_loss: 0.05256541445851326\n",
      "epoch: 34 valid_avg_loss: 0.06623082607984543 valid_avg_auc: 0.9974218173730188\n",
      "epoch: 34 train_avg_loss: 0.04256046190857887\n",
      "auc:  0.9974769165938682\n",
      "========== fold: 4 ==========\n"
     ]
    },
    {
     "name": "stderr",
     "output_type": "stream",
     "text": [
      "Exception ignored in: <function _MultiProcessingDataLoaderIter.__del__ at 0x7fc9167bb710>\n",
      "Traceback (most recent call last):\n",
      "  File \"/opt/conda/lib/python3.7/site-packages/torch/utils/data/dataloader.py\", line 1358, in __del__\n",
      "Exception ignored in: <function _MultiProcessingDataLoaderIter.__del__ at 0x7fc9167bb710>\n",
      "    Traceback (most recent call last):\n",
      "self._shutdown_workers()  File \"/opt/conda/lib/python3.7/site-packages/torch/utils/data/dataloader.py\", line 1358, in __del__\n",
      "    \n",
      "self._shutdown_workers()\n",
      "  File \"/opt/conda/lib/python3.7/site-packages/torch/utils/data/dataloader.py\", line 1341, in _shutdown_workers\n",
      "    if w.is_alive():\n",
      "  File \"/opt/conda/lib/python3.7/site-packages/torch/utils/data/dataloader.py\", line 1341, in _shutdown_workers\n",
      "  File \"/opt/conda/lib/python3.7/multiprocessing/process.py\", line 151, in is_alive\n",
      "        assert self._parent_pid == os.getpid(), 'can only test a child process'\n",
      "AssertionError: can only test a child processif w.is_alive():\n",
      "\n",
      "  File \"/opt/conda/lib/python3.7/multiprocessing/process.py\", line 151, in is_alive\n",
      "    assert self._parent_pid == os.getpid(), 'can only test a child process'\n",
      "AssertionError: can only test a child process\n",
      "Exception ignored in: <function _MultiProcessingDataLoaderIter.__del__ at 0x7fc9167bb710>\n",
      "Traceback (most recent call last):\n",
      "  File \"/opt/conda/lib/python3.7/site-packages/torch/utils/data/dataloader.py\", line 1358, in __del__\n",
      "Exception ignored in:     <function _MultiProcessingDataLoaderIter.__del__ at 0x7fc9167bb710>self._shutdown_workers()\n",
      "\n",
      "  File \"/opt/conda/lib/python3.7/site-packages/torch/utils/data/dataloader.py\", line 1341, in _shutdown_workers\n",
      "    if w.is_alive():Traceback (most recent call last):\n",
      "\n",
      "  File \"/opt/conda/lib/python3.7/multiprocessing/process.py\", line 151, in is_alive\n",
      "      File \"/opt/conda/lib/python3.7/site-packages/torch/utils/data/dataloader.py\", line 1358, in __del__\n",
      "    assert self._parent_pid == os.getpid(), 'can only test a child process'self._shutdown_workers()\n",
      "AssertionError\n",
      "  File \"/opt/conda/lib/python3.7/site-packages/torch/utils/data/dataloader.py\", line 1341, in _shutdown_workers\n",
      "    : can only test a child process\n",
      "if w.is_alive():\n",
      "  File \"/opt/conda/lib/python3.7/multiprocessing/process.py\", line 151, in is_alive\n",
      "    assert self._parent_pid == os.getpid(), 'can only test a child process'\n",
      "AssertionError: can only test a child process\n"
     ]
    },
    {
     "name": "stdout",
     "output_type": "stream",
     "text": [
      "epoch: 4 valid_avg_loss: 0.07744675874710083 valid_avg_auc: 0.9963443562470834\n",
      "epoch: 4 train_avg_loss: 0.07543430477380753\n",
      "epoch: 9 valid_avg_loss: 0.06897765398025513 valid_avg_auc: 0.9970499893631346\n",
      "epoch: 9 train_avg_loss: 0.06520375609397888\n",
      "epoch: 14 valid_avg_loss: 0.06896331906318665 valid_avg_auc: 0.9970863849476395\n",
      "epoch: 14 train_avg_loss: 0.06211351975798607\n",
      "epoch: 19 valid_avg_loss: 0.0687553882598877 valid_avg_auc: 0.9971959140977664\n",
      "epoch: 19 train_avg_loss: 0.06116367504000664\n",
      "epoch: 24 valid_avg_loss: 0.06772593408823013 valid_avg_auc: 0.9972557591317579\n",
      "epoch: 24 train_avg_loss: 0.06038853898644447\n",
      "epoch: 29 valid_avg_loss: 0.06522783637046814 valid_avg_auc: 0.9973833686303827\n",
      "epoch: 29 train_avg_loss: 0.05248241871595383\n",
      "epoch: 34 valid_avg_loss: 0.06529510766267776 valid_avg_auc: 0.9974933838742562\n",
      "epoch: 34 train_avg_loss: 0.04283634573221207\n",
      "auc:  0.9975771300166725\n"
     ]
    }
   ],
   "source": [
    "train_fold(NNModelImpl4, MyDataModule, \"stack8\", features)"
   ]
  },
  {
   "cell_type": "code",
   "execution_count": 56,
   "id": "db539a93",
   "metadata": {
    "execution": {
     "iopub.execute_input": "2022-05-28T09:44:16.132930Z",
     "iopub.status.busy": "2022-05-28T09:44:16.132532Z",
     "iopub.status.idle": "2022-05-28T10:35:19.511474Z",
     "shell.execute_reply": "2022-05-28T10:35:19.510612Z"
    },
    "id": "vUNc8py3ITaq",
    "papermill": {
     "duration": 3063.453192,
     "end_time": "2022-05-28T10:35:19.513654",
     "exception": false,
     "start_time": "2022-05-28T09:44:16.060462",
     "status": "completed"
    },
    "tags": []
   },
   "outputs": [
    {
     "name": "stdout",
     "output_type": "stream",
     "text": [
      "========== fold: 0 ==========\n"
     ]
    },
    {
     "name": "stderr",
     "output_type": "stream",
     "text": [
      "Exception ignored in: <function _MultiProcessingDataLoaderIter.__del__ at 0x7fc9167bb710>\n",
      "Traceback (most recent call last):\n",
      "Exception ignored in:   File \"/opt/conda/lib/python3.7/site-packages/torch/utils/data/dataloader.py\", line 1358, in __del__\n",
      "<function _MultiProcessingDataLoaderIter.__del__ at 0x7fc9167bb710>    \n",
      "self._shutdown_workers()Traceback (most recent call last):\n",
      "\n",
      "  File \"/opt/conda/lib/python3.7/site-packages/torch/utils/data/dataloader.py\", line 1358, in __del__\n",
      "  File \"/opt/conda/lib/python3.7/site-packages/torch/utils/data/dataloader.py\", line 1341, in _shutdown_workers\n",
      "        if w.is_alive():\n",
      "self._shutdown_workers()  File \"/opt/conda/lib/python3.7/multiprocessing/process.py\", line 151, in is_alive\n",
      "\n",
      "    assert self._parent_pid == os.getpid(), 'can only test a child process'\n",
      "  File \"/opt/conda/lib/python3.7/site-packages/torch/utils/data/dataloader.py\", line 1341, in _shutdown_workers\n",
      "AssertionError    if w.is_alive():\n",
      "  File \"/opt/conda/lib/python3.7/multiprocessing/process.py\", line 151, in is_alive\n",
      "    : assert self._parent_pid == os.getpid(), 'can only test a child process'\n",
      "AssertionErrorcan only test a child process\n",
      ": can only test a child process\n",
      "Exception ignored in: <function _MultiProcessingDataLoaderIter.__del__ at 0x7fc9167bb710>\n",
      "Traceback (most recent call last):\n",
      "  File \"/opt/conda/lib/python3.7/site-packages/torch/utils/data/dataloader.py\", line 1358, in __del__\n",
      "    self._shutdown_workers()\n",
      "  File \"/opt/conda/lib/python3.7/site-packages/torch/utils/data/dataloader.py\", line 1341, in _shutdown_workers\n",
      "    if w.is_alive():\n",
      "  File \"/opt/conda/lib/python3.7/multiprocessing/process.py\", line 151, in is_alive\n",
      "Exception ignored in: <function _MultiProcessingDataLoaderIter.__del__ at 0x7fc9167bb710>\n",
      "    Traceback (most recent call last):\n",
      "assert self._parent_pid == os.getpid(), 'can only test a child process'  File \"/opt/conda/lib/python3.7/site-packages/torch/utils/data/dataloader.py\", line 1358, in __del__\n",
      "    \n",
      "self._shutdown_workers()AssertionError\n",
      ":   File \"/opt/conda/lib/python3.7/site-packages/torch/utils/data/dataloader.py\", line 1341, in _shutdown_workers\n",
      "    can only test a child processif w.is_alive():\n",
      "\n",
      "  File \"/opt/conda/lib/python3.7/multiprocessing/process.py\", line 151, in is_alive\n",
      "    assert self._parent_pid == os.getpid(), 'can only test a child process'\n",
      "AssertionError: can only test a child process\n"
     ]
    },
    {
     "name": "stdout",
     "output_type": "stream",
     "text": [
      "epoch: 4 valid_avg_loss: 0.07608956098556519 valid_avg_auc: 0.9965029291556442\n",
      "epoch: 4 train_avg_loss: 0.07553698867559433\n",
      "epoch: 9 valid_avg_loss: 0.06625743210315704 valid_avg_auc: 0.9973774529260837\n",
      "epoch: 9 train_avg_loss: 0.06561073660850525\n",
      "epoch: 14 valid_avg_loss: 0.06434779614210129 valid_avg_auc: 0.9974494036093601\n",
      "epoch: 14 train_avg_loss: 0.06310094147920609\n",
      "epoch: 19 valid_avg_loss: 0.058871060609817505 valid_avg_auc: 0.9978365338134807\n",
      "epoch: 19 train_avg_loss: 0.05577139928936958\n",
      "epoch: 24 valid_avg_loss: 0.05911444500088692 valid_avg_auc: 0.9978435009218123\n",
      "epoch: 24 train_avg_loss: 0.05008048564195633\n",
      "epoch: 29 valid_avg_loss: 0.06178654730319977 valid_avg_auc: 0.9977211024615026\n",
      "epoch: 29 train_avg_loss: 0.04512883722782135\n",
      "auc:  0.9978190449210371\n",
      "========== fold: 1 ==========\n"
     ]
    },
    {
     "name": "stderr",
     "output_type": "stream",
     "text": [
      "Exception ignored in: Exception ignored in: <function _MultiProcessingDataLoaderIter.__del__ at 0x7fc9167bb710><function _MultiProcessingDataLoaderIter.__del__ at 0x7fc9167bb710>\n",
      "\n",
      "Traceback (most recent call last):\n",
      "Traceback (most recent call last):\n",
      "  File \"/opt/conda/lib/python3.7/site-packages/torch/utils/data/dataloader.py\", line 1358, in __del__\n",
      "    self._shutdown_workers()\n",
      "  File \"/opt/conda/lib/python3.7/site-packages/torch/utils/data/dataloader.py\", line 1358, in __del__\n",
      "  File \"/opt/conda/lib/python3.7/site-packages/torch/utils/data/dataloader.py\", line 1341, in _shutdown_workers\n",
      "    self._shutdown_workers()    if w.is_alive():\n",
      "\n",
      "  File \"/opt/conda/lib/python3.7/site-packages/torch/utils/data/dataloader.py\", line 1341, in _shutdown_workers\n",
      "    if w.is_alive():\n",
      "  File \"/opt/conda/lib/python3.7/multiprocessing/process.py\", line 151, in is_alive\n",
      "    assert self._parent_pid == os.getpid(), 'can only test a child process'\n",
      "AssertionError:   File \"/opt/conda/lib/python3.7/multiprocessing/process.py\", line 151, in is_alive\n",
      "can only test a child process\n",
      "    assert self._parent_pid == os.getpid(), 'can only test a child process'\n",
      "AssertionError: can only test a child process\n",
      "Exception ignored in: <function _MultiProcessingDataLoaderIter.__del__ at 0x7fc9167bb710>\n",
      "Traceback (most recent call last):\n",
      "  File \"/opt/conda/lib/python3.7/site-packages/torch/utils/data/dataloader.py\", line 1358, in __del__\n",
      "    self._shutdown_workers()\n",
      "  File \"/opt/conda/lib/python3.7/site-packages/torch/utils/data/dataloader.py\", line 1341, in _shutdown_workers\n",
      "    if w.is_alive():\n",
      "Exception ignored in: <function _MultiProcessingDataLoaderIter.__del__ at 0x7fc9167bb710>\n",
      "Traceback (most recent call last):\n",
      "  File \"/opt/conda/lib/python3.7/site-packages/torch/utils/data/dataloader.py\", line 1358, in __del__\n",
      "    self._shutdown_workers()  File \"/opt/conda/lib/python3.7/multiprocessing/process.py\", line 151, in is_alive\n",
      "\n",
      "      File \"/opt/conda/lib/python3.7/site-packages/torch/utils/data/dataloader.py\", line 1341, in _shutdown_workers\n",
      "    assert self._parent_pid == os.getpid(), 'can only test a child process'if w.is_alive():\n",
      "AssertionError\n",
      ": can only test a child process\n",
      "  File \"/opt/conda/lib/python3.7/multiprocessing/process.py\", line 151, in is_alive\n",
      "    assert self._parent_pid == os.getpid(), 'can only test a child process'\n",
      "AssertionError: can only test a child process\n"
     ]
    },
    {
     "name": "stdout",
     "output_type": "stream",
     "text": [
      "epoch: 4 valid_avg_loss: 0.07697674632072449 valid_avg_auc: 0.9964442229722803\n",
      "epoch: 4 train_avg_loss: 0.07438065111637115\n",
      "epoch: 9 valid_avg_loss: 0.07294445484876633 valid_avg_auc: 0.9970638931429956\n",
      "epoch: 9 train_avg_loss: 0.06467305123806\n",
      "epoch: 14 valid_avg_loss: 0.06532160937786102 valid_avg_auc: 0.9974453499150995\n",
      "epoch: 14 train_avg_loss: 0.062444061040878296\n",
      "epoch: 19 valid_avg_loss: 0.06123912334442139 valid_avg_auc: 0.9976837405013702\n",
      "epoch: 19 train_avg_loss: 0.055036820471286774\n",
      "epoch: 24 valid_avg_loss: 0.06239153444766998 valid_avg_auc: 0.9976860498802607\n",
      "epoch: 24 train_avg_loss: 0.04895571619272232\n",
      "epoch: 29 valid_avg_loss: 0.06438743323087692 valid_avg_auc: 0.9975593941821909\n",
      "epoch: 29 train_avg_loss: 0.044057805091142654\n",
      "auc:  0.9977736634019908\n",
      "========== fold: 2 ==========\n"
     ]
    },
    {
     "name": "stderr",
     "output_type": "stream",
     "text": [
      "Exception ignored in: Exception ignored in: <function _MultiProcessingDataLoaderIter.__del__ at 0x7fc9167bb710><function _MultiProcessingDataLoaderIter.__del__ at 0x7fc9167bb710>\n",
      "\n",
      "Traceback (most recent call last):\n",
      "  File \"/opt/conda/lib/python3.7/site-packages/torch/utils/data/dataloader.py\", line 1358, in __del__\n",
      "Traceback (most recent call last):\n",
      "      File \"/opt/conda/lib/python3.7/site-packages/torch/utils/data/dataloader.py\", line 1358, in __del__\n",
      "    self._shutdown_workers()self._shutdown_workers()\n",
      "  File \"/opt/conda/lib/python3.7/site-packages/torch/utils/data/dataloader.py\", line 1341, in _shutdown_workers\n",
      "\n",
      "      File \"/opt/conda/lib/python3.7/site-packages/torch/utils/data/dataloader.py\", line 1341, in _shutdown_workers\n",
      "    if w.is_alive():if w.is_alive():\n",
      "\n",
      "  File \"/opt/conda/lib/python3.7/multiprocessing/process.py\", line 151, in is_alive\n",
      "  File \"/opt/conda/lib/python3.7/multiprocessing/process.py\", line 151, in is_alive\n",
      "    assert self._parent_pid == os.getpid(), 'can only test a child process'    \n",
      "AssertionErrorassert self._parent_pid == os.getpid(), 'can only test a child process'\n",
      "AssertionError: : can only test a child process\n",
      "can only test a child process\n",
      "Exception ignored in: Exception ignored in: <function _MultiProcessingDataLoaderIter.__del__ at 0x7fc9167bb710>\n",
      "Traceback (most recent call last):\n",
      "  File \"/opt/conda/lib/python3.7/site-packages/torch/utils/data/dataloader.py\", line 1358, in __del__\n",
      "    self._shutdown_workers()\n",
      "  File \"/opt/conda/lib/python3.7/site-packages/torch/utils/data/dataloader.py\", line 1341, in _shutdown_workers\n",
      "    <function _MultiProcessingDataLoaderIter.__del__ at 0x7fc9167bb710>if w.is_alive():\n",
      "  File \"/opt/conda/lib/python3.7/multiprocessing/process.py\", line 151, in is_alive\n",
      "\n",
      "Traceback (most recent call last):\n",
      "  File \"/opt/conda/lib/python3.7/site-packages/torch/utils/data/dataloader.py\", line 1358, in __del__\n",
      "        assert self._parent_pid == os.getpid(), 'can only test a child process'self._shutdown_workers()\n",
      "\n",
      "  File \"/opt/conda/lib/python3.7/site-packages/torch/utils/data/dataloader.py\", line 1341, in _shutdown_workers\n",
      "    AssertionErrorif w.is_alive():\n",
      "  File \"/opt/conda/lib/python3.7/multiprocessing/process.py\", line 151, in is_alive\n",
      ":     can only test a child processassert self._parent_pid == os.getpid(), 'can only test a child process'\n",
      "\n",
      "AssertionError: can only test a child process\n"
     ]
    },
    {
     "name": "stdout",
     "output_type": "stream",
     "text": [
      "epoch: 4 valid_avg_loss: 0.0790407806634903 valid_avg_auc: 0.9962459389815059\n",
      "epoch: 4 train_avg_loss: 0.07562725245952606\n",
      "epoch: 9 valid_avg_loss: 0.07027722150087357 valid_avg_auc: 0.9972316320350043\n",
      "epoch: 9 train_avg_loss: 0.06627063453197479\n",
      "epoch: 14 valid_avg_loss: 0.06718313694000244 valid_avg_auc: 0.9973412711969066\n",
      "epoch: 14 train_avg_loss: 0.06319446116685867\n",
      "epoch: 19 valid_avg_loss: 0.06781089305877686 valid_avg_auc: 0.997251200084284\n",
      "epoch: 19 train_avg_loss: 0.06172693520784378\n",
      "epoch: 24 valid_avg_loss: 0.06164338067173958 valid_avg_auc: 0.9976664264887253\n",
      "epoch: 24 train_avg_loss: 0.054795701056718826\n",
      "epoch: 29 valid_avg_loss: 0.061100948601961136 valid_avg_auc: 0.9977238613263852\n",
      "epoch: 29 train_avg_loss: 0.04923878610134125\n",
      "epoch: 34 valid_avg_loss: 0.06253325194120407 valid_avg_auc: 0.9976482030463842\n",
      "epoch: 34 train_avg_loss: 0.04509430378675461\n",
      "auc:  0.9977904662269774\n",
      "========== fold: 3 ==========\n"
     ]
    },
    {
     "name": "stderr",
     "output_type": "stream",
     "text": [
      "Exception ignored in: <function _MultiProcessingDataLoaderIter.__del__ at 0x7fc9167bb710>Exception ignored in: <function _MultiProcessingDataLoaderIter.__del__ at 0x7fc9167bb710>\n",
      "\n",
      "Traceback (most recent call last):\n",
      "Traceback (most recent call last):\n",
      "  File \"/opt/conda/lib/python3.7/site-packages/torch/utils/data/dataloader.py\", line 1358, in __del__\n",
      "    self._shutdown_workers()\n",
      "  File \"/opt/conda/lib/python3.7/site-packages/torch/utils/data/dataloader.py\", line 1358, in __del__\n",
      "    self._shutdown_workers()  File \"/opt/conda/lib/python3.7/site-packages/torch/utils/data/dataloader.py\", line 1341, in _shutdown_workers\n",
      "\n",
      "    if w.is_alive():  File \"/opt/conda/lib/python3.7/site-packages/torch/utils/data/dataloader.py\", line 1341, in _shutdown_workers\n",
      "\n",
      "      File \"/opt/conda/lib/python3.7/multiprocessing/process.py\", line 151, in is_alive\n",
      "    if w.is_alive():\n",
      "assert self._parent_pid == os.getpid(), 'can only test a child process'\n",
      "  File \"/opt/conda/lib/python3.7/multiprocessing/process.py\", line 151, in is_alive\n",
      "    AssertionErrorassert self._parent_pid == os.getpid(), 'can only test a child process': can only test a child process\n",
      "\n",
      "AssertionError: can only test a child process\n",
      "Exception ignored in: <function _MultiProcessingDataLoaderIter.__del__ at 0x7fc9167bb710>\n",
      "Traceback (most recent call last):\n",
      "  File \"/opt/conda/lib/python3.7/site-packages/torch/utils/data/dataloader.py\", line 1358, in __del__\n",
      "    self._shutdown_workers()\n",
      "  File \"/opt/conda/lib/python3.7/site-packages/torch/utils/data/dataloader.py\", line 1341, in _shutdown_workers\n",
      "    if w.is_alive():\n",
      "  File \"/opt/conda/lib/python3.7/multiprocessing/process.py\", line 151, in is_alive\n",
      "    assert self._parent_pid == os.getpid(), 'can only test a child process'\n",
      "AssertionError: can only test a child process\n",
      "Exception ignored in: <function _MultiProcessingDataLoaderIter.__del__ at 0x7fc9167bb710>\n",
      "Traceback (most recent call last):\n",
      "  File \"/opt/conda/lib/python3.7/site-packages/torch/utils/data/dataloader.py\", line 1358, in __del__\n",
      "    self._shutdown_workers()\n",
      "  File \"/opt/conda/lib/python3.7/site-packages/torch/utils/data/dataloader.py\", line 1341, in _shutdown_workers\n",
      "    if w.is_alive():\n",
      "  File \"/opt/conda/lib/python3.7/multiprocessing/process.py\", line 151, in is_alive\n",
      "    assert self._parent_pid == os.getpid(), 'can only test a child process'\n",
      "AssertionError: can only test a child process\n"
     ]
    },
    {
     "name": "stdout",
     "output_type": "stream",
     "text": [
      "epoch: 4 valid_avg_loss: 0.07489273697137833 valid_avg_auc: 0.9966576530430898\n",
      "epoch: 4 train_avg_loss: 0.07463174313306808\n",
      "epoch: 9 valid_avg_loss: 0.06800230592489243 valid_avg_auc: 0.9971841954115858\n",
      "epoch: 9 train_avg_loss: 0.06558791548013687\n",
      "epoch: 14 valid_avg_loss: 0.06824549287557602 valid_avg_auc: 0.9971608725361906\n",
      "epoch: 14 train_avg_loss: 0.06285563111305237\n",
      "epoch: 19 valid_avg_loss: 0.06581921130418777 valid_avg_auc: 0.9973109364631523\n",
      "epoch: 19 train_avg_loss: 0.061626411974430084\n",
      "epoch: 24 valid_avg_loss: 0.06202762573957443 valid_avg_auc: 0.9976225036268244\n",
      "epoch: 24 train_avg_loss: 0.05482162907719612\n",
      "epoch: 29 valid_avg_loss: 0.06233835592865944 valid_avg_auc: 0.9976533600095262\n",
      "epoch: 29 train_avg_loss: 0.04888719692826271\n",
      "epoch: 34 valid_avg_loss: 0.06344833225011826 valid_avg_auc: 0.9975765511119796\n",
      "epoch: 34 train_avg_loss: 0.04435858875513077\n",
      "auc:  0.9977412657946246\n",
      "========== fold: 4 ==========\n"
     ]
    },
    {
     "name": "stderr",
     "output_type": "stream",
     "text": [
      "Exception ignored in: Exception ignored in: <function _MultiProcessingDataLoaderIter.__del__ at 0x7fc9167bb710><function _MultiProcessingDataLoaderIter.__del__ at 0x7fc9167bb710>\n",
      "\n",
      "Traceback (most recent call last):\n",
      "Traceback (most recent call last):\n",
      "  File \"/opt/conda/lib/python3.7/site-packages/torch/utils/data/dataloader.py\", line 1358, in __del__\n",
      "      File \"/opt/conda/lib/python3.7/site-packages/torch/utils/data/dataloader.py\", line 1358, in __del__\n",
      "self._shutdown_workers()    \n",
      "self._shutdown_workers()  File \"/opt/conda/lib/python3.7/site-packages/torch/utils/data/dataloader.py\", line 1341, in _shutdown_workers\n",
      "\n",
      "      File \"/opt/conda/lib/python3.7/site-packages/torch/utils/data/dataloader.py\", line 1341, in _shutdown_workers\n",
      "    if w.is_alive():if w.is_alive():\n",
      "  File \"/opt/conda/lib/python3.7/multiprocessing/process.py\", line 151, in is_alive\n",
      "    assert self._parent_pid == os.getpid(), 'can only test a child process'\n",
      "AssertionError\n",
      ": can only test a child process\n",
      "  File \"/opt/conda/lib/python3.7/multiprocessing/process.py\", line 151, in is_alive\n",
      "    assert self._parent_pid == os.getpid(), 'can only test a child process'\n",
      "AssertionError: can only test a child process\n",
      "Exception ignored in: <function _MultiProcessingDataLoaderIter.__del__ at 0x7fc9167bb710>\n",
      "Traceback (most recent call last):\n",
      "  File \"/opt/conda/lib/python3.7/site-packages/torch/utils/data/dataloader.py\", line 1358, in __del__\n",
      "    self._shutdown_workers()\n",
      "  File \"/opt/conda/lib/python3.7/site-packages/torch/utils/data/dataloader.py\", line 1341, in _shutdown_workers\n",
      "    if w.is_alive():\n",
      "  File \"/opt/conda/lib/python3.7/multiprocessing/process.py\", line 151, in is_alive\n",
      "    assert self._parent_pid == os.getpid(), 'can only test a child process'\n",
      "AssertionError: can only test a child process\n",
      "Exception ignored in: <function _MultiProcessingDataLoaderIter.__del__ at 0x7fc9167bb710>\n",
      "Traceback (most recent call last):\n",
      "  File \"/opt/conda/lib/python3.7/site-packages/torch/utils/data/dataloader.py\", line 1358, in __del__\n",
      "    self._shutdown_workers()\n",
      "  File \"/opt/conda/lib/python3.7/site-packages/torch/utils/data/dataloader.py\", line 1341, in _shutdown_workers\n",
      "    if w.is_alive():\n",
      "  File \"/opt/conda/lib/python3.7/multiprocessing/process.py\", line 151, in is_alive\n",
      "    assert self._parent_pid == os.getpid(), 'can only test a child process'\n",
      "AssertionError: can only test a child process\n"
     ]
    },
    {
     "name": "stdout",
     "output_type": "stream",
     "text": [
      "epoch: 4 valid_avg_loss: 0.0774768516421318 valid_avg_auc: 0.9963510049555795\n",
      "epoch: 4 train_avg_loss: 0.07530505955219269\n",
      "epoch: 9 valid_avg_loss: 0.06921540945768356 valid_avg_auc: 0.997153070306008\n",
      "epoch: 9 train_avg_loss: 0.06571948528289795\n",
      "epoch: 14 valid_avg_loss: 0.06499265134334564 valid_avg_auc: 0.997404452992954\n",
      "epoch: 14 train_avg_loss: 0.0622924342751503\n",
      "epoch: 19 valid_avg_loss: 0.06055106222629547 valid_avg_auc: 0.9977278064988305\n",
      "epoch: 19 train_avg_loss: 0.05532918497920036\n",
      "epoch: 24 valid_avg_loss: 0.06117555499076843 valid_avg_auc: 0.9977598451754944\n",
      "epoch: 24 train_avg_loss: 0.04926009476184845\n",
      "epoch: 29 valid_avg_loss: 0.06349901109933853 valid_avg_auc: 0.9976195946819615\n",
      "epoch: 29 train_avg_loss: 0.043985746800899506\n",
      "auc:  0.9977237055029552\n"
     ]
    }
   ],
   "source": [
    "train_fold(NNModelImpl, MyDataModule, \"stack3\", features)"
   ]
  },
  {
   "cell_type": "code",
   "execution_count": 57,
   "id": "aab50b21",
   "metadata": {
    "execution": {
     "iopub.execute_input": "2022-05-28T10:35:19.707488Z",
     "iopub.status.busy": "2022-05-28T10:35:19.707070Z",
     "iopub.status.idle": "2022-05-28T12:10:32.328374Z",
     "shell.execute_reply": "2022-05-28T12:10:32.326878Z"
    },
    "id": "S9jx3zcAGDM6",
    "papermill": {
     "duration": 5712.719448,
     "end_time": "2022-05-28T12:10:32.330859",
     "exception": false,
     "start_time": "2022-05-28T10:35:19.611411",
     "status": "completed"
    },
    "tags": []
   },
   "outputs": [
    {
     "name": "stdout",
     "output_type": "stream",
     "text": [
      "========== fold: 0 ==========\n"
     ]
    },
    {
     "name": "stderr",
     "output_type": "stream",
     "text": [
      "Exception ignored in: <function _MultiProcessingDataLoaderIter.__del__ at 0x7fc9167bb710>\n",
      "Traceback (most recent call last):\n",
      "  File \"/opt/conda/lib/python3.7/site-packages/torch/utils/data/dataloader.py\", line 1358, in __del__\n",
      "    self._shutdown_workers()\n",
      "  File \"/opt/conda/lib/python3.7/site-packages/torch/utils/data/dataloader.py\", line 1341, in _shutdown_workers\n",
      "    if w.is_alive():\n",
      "  File \"/opt/conda/lib/python3.7/multiprocessing/process.py\", line 151, in is_alive\n",
      "    assert self._parent_pid == os.getpid(), 'can only test a child process'\n",
      "AssertionError: can only test a child process\n",
      "Exception ignored in: <function _MultiProcessingDataLoaderIter.__del__ at 0x7fc9167bb710>\n",
      "Traceback (most recent call last):\n",
      "  File \"/opt/conda/lib/python3.7/site-packages/torch/utils/data/dataloader.py\", line 1358, in __del__\n",
      "    self._shutdown_workers()\n",
      "  File \"/opt/conda/lib/python3.7/site-packages/torch/utils/data/dataloader.py\", line 1341, in _shutdown_workers\n",
      "    if w.is_alive():\n",
      "  File \"/opt/conda/lib/python3.7/multiprocessing/process.py\", line 151, in is_alive\n",
      "    assert self._parent_pid == os.getpid(), 'can only test a child process'\n",
      "AssertionError: can only test a child process\n",
      "Exception ignored in: Exception ignored in: <function _MultiProcessingDataLoaderIter.__del__ at 0x7fc9167bb710><function _MultiProcessingDataLoaderIter.__del__ at 0x7fc9167bb710>\n",
      "\n",
      "Traceback (most recent call last):\n",
      "  File \"/opt/conda/lib/python3.7/site-packages/torch/utils/data/dataloader.py\", line 1358, in __del__\n",
      "Traceback (most recent call last):\n",
      "    self._shutdown_workers()  File \"/opt/conda/lib/python3.7/site-packages/torch/utils/data/dataloader.py\", line 1358, in __del__\n",
      "\n",
      "    self._shutdown_workers()\n",
      "  File \"/opt/conda/lib/python3.7/site-packages/torch/utils/data/dataloader.py\", line 1341, in _shutdown_workers\n",
      "  File \"/opt/conda/lib/python3.7/site-packages/torch/utils/data/dataloader.py\", line 1341, in _shutdown_workers\n",
      "        if w.is_alive():if w.is_alive():\n",
      "\n",
      "  File \"/opt/conda/lib/python3.7/multiprocessing/process.py\", line 151, in is_alive\n",
      "  File \"/opt/conda/lib/python3.7/multiprocessing/process.py\", line 151, in is_alive\n",
      "    assert self._parent_pid == os.getpid(), 'can only test a child process'\n",
      "    AssertionError: can only test a child processassert self._parent_pid == os.getpid(), 'can only test a child process'\n",
      "\n",
      "AssertionError: can only test a child process\n"
     ]
    },
    {
     "name": "stdout",
     "output_type": "stream",
     "text": [
      "epoch: 4 valid_avg_loss: 0.1022166758775711 valid_avg_auc: 0.9937248173595346\n",
      "epoch: 4 train_avg_loss: 0.10427910834550858\n",
      "epoch: 9 valid_avg_loss: 0.09302429854869843 valid_avg_auc: 0.9946334563494544\n",
      "epoch: 9 train_avg_loss: 0.09231015294790268\n",
      "epoch: 14 valid_avg_loss: 0.08685009181499481 valid_avg_auc: 0.995307594894589\n",
      "epoch: 14 train_avg_loss: 0.08827055990695953\n",
      "epoch: 19 valid_avg_loss: 0.08570143580436707 valid_avg_auc: 0.9954252250817818\n",
      "epoch: 19 train_avg_loss: 0.08592131733894348\n",
      "epoch: 24 valid_avg_loss: 0.07996656000614166 valid_avg_auc: 0.99599029642072\n",
      "epoch: 24 train_avg_loss: 0.07745105773210526\n",
      "epoch: 29 valid_avg_loss: 0.07958340644836426 valid_avg_auc: 0.9960389884365471\n",
      "epoch: 29 train_avg_loss: 0.07731334120035172\n",
      "epoch: 34 valid_avg_loss: 0.07649052143096924 valid_avg_auc: 0.9963380396847163\n",
      "epoch: 34 train_avg_loss: 0.07226578891277313\n",
      "epoch: 39 valid_avg_loss: 0.07432374358177185 valid_avg_auc: 0.9965225328040539\n",
      "epoch: 39 train_avg_loss: 0.06909173727035522\n",
      "epoch: 44 valid_avg_loss: 0.07381073385477066 valid_avg_auc: 0.9965881513396349\n",
      "epoch: 44 train_avg_loss: 0.0671653002500534\n",
      "epoch: 49 valid_avg_loss: 0.07373999059200287 valid_avg_auc: 0.996595147795956\n",
      "epoch: 49 train_avg_loss: 0.0667245015501976\n",
      "epoch: 54 valid_avg_loss: 0.07348212599754333 valid_avg_auc: 0.9966168467015714\n",
      "epoch: 54 train_avg_loss: 0.06574780493974686\n",
      "epoch: 59 valid_avg_loss: 0.0734073594212532 valid_avg_auc: 0.9966266235712551\n",
      "epoch: 59 train_avg_loss: 0.06541689485311508\n",
      "epoch: 64 valid_avg_loss: 0.07344188541173935 valid_avg_auc: 0.9966291283688923\n",
      "epoch: 64 train_avg_loss: 0.0652252659201622\n",
      "epoch: 69 valid_avg_loss: 0.07343549281358719 valid_avg_auc: 0.9966320923041806\n",
      "epoch: 69 train_avg_loss: 0.06484135240316391\n",
      "auc:  0.9966238952697761\n",
      "========== fold: 1 ==========\n"
     ]
    },
    {
     "name": "stderr",
     "output_type": "stream",
     "text": [
      "Exception ignored in: Exception ignored in: <function _MultiProcessingDataLoaderIter.__del__ at 0x7fc9167bb710>\n",
      "<function _MultiProcessingDataLoaderIter.__del__ at 0x7fc9167bb710>\n",
      "Traceback (most recent call last):\n",
      "Traceback (most recent call last):\n",
      "  File \"/opt/conda/lib/python3.7/site-packages/torch/utils/data/dataloader.py\", line 1358, in __del__\n",
      "  File \"/opt/conda/lib/python3.7/site-packages/torch/utils/data/dataloader.py\", line 1358, in __del__\n",
      "        self._shutdown_workers()self._shutdown_workers()\n",
      "  File \"/opt/conda/lib/python3.7/site-packages/torch/utils/data/dataloader.py\", line 1341, in _shutdown_workers\n",
      "\n",
      "      File \"/opt/conda/lib/python3.7/site-packages/torch/utils/data/dataloader.py\", line 1341, in _shutdown_workers\n",
      "    if w.is_alive():if w.is_alive():\n",
      "\n",
      "  File \"/opt/conda/lib/python3.7/multiprocessing/process.py\", line 151, in is_alive\n",
      "  File \"/opt/conda/lib/python3.7/multiprocessing/process.py\", line 151, in is_alive\n",
      "        assert self._parent_pid == os.getpid(), 'can only test a child process'\n",
      "assert self._parent_pid == os.getpid(), 'can only test a child process'\n",
      "AssertionError: AssertionError: can only test a child processcan only test a child process\n",
      "\n",
      "Exception ignored in: <function _MultiProcessingDataLoaderIter.__del__ at 0x7fc9167bb710>\n",
      "Traceback (most recent call last):\n",
      "Exception ignored in:   File \"/opt/conda/lib/python3.7/site-packages/torch/utils/data/dataloader.py\", line 1358, in __del__\n",
      "<function _MultiProcessingDataLoaderIter.__del__ at 0x7fc9167bb710>    \n",
      "self._shutdown_workers()\n",
      "Traceback (most recent call last):\n",
      "  File \"/opt/conda/lib/python3.7/site-packages/torch/utils/data/dataloader.py\", line 1341, in _shutdown_workers\n",
      "    if w.is_alive():\n",
      "  File \"/opt/conda/lib/python3.7/site-packages/torch/utils/data/dataloader.py\", line 1358, in __del__\n",
      "  File \"/opt/conda/lib/python3.7/multiprocessing/process.py\", line 151, in is_alive\n",
      "        self._shutdown_workers()\n",
      "assert self._parent_pid == os.getpid(), 'can only test a child process'\n",
      "  File \"/opt/conda/lib/python3.7/site-packages/torch/utils/data/dataloader.py\", line 1341, in _shutdown_workers\n",
      "AssertionError    if w.is_alive():\n",
      ":   File \"/opt/conda/lib/python3.7/multiprocessing/process.py\", line 151, in is_alive\n",
      "can only test a child process\n",
      "    assert self._parent_pid == os.getpid(), 'can only test a child process'\n",
      "AssertionError: can only test a child process\n"
     ]
    },
    {
     "name": "stdout",
     "output_type": "stream",
     "text": [
      "epoch: 4 valid_avg_loss: 0.10399562120437622 valid_avg_auc: 0.9934916297731917\n",
      "epoch: 4 train_avg_loss: 0.10604710876941681\n",
      "epoch: 9 valid_avg_loss: 0.09514535963535309 valid_avg_auc: 0.9943958872595108\n",
      "epoch: 9 train_avg_loss: 0.09292515367269516\n",
      "epoch: 14 valid_avg_loss: 0.08926749229431152 valid_avg_auc: 0.9950379812170587\n",
      "epoch: 14 train_avg_loss: 0.08841755986213684\n",
      "epoch: 19 valid_avg_loss: 0.08259494602680206 valid_avg_auc: 0.9957314748447524\n",
      "epoch: 19 train_avg_loss: 0.079510398209095\n",
      "epoch: 24 valid_avg_loss: 0.07976462692022324 valid_avg_auc: 0.9960081558970699\n",
      "epoch: 24 train_avg_loss: 0.07814467698335648\n",
      "epoch: 29 valid_avg_loss: 0.08188088983297348 valid_avg_auc: 0.9958186971077739\n",
      "epoch: 29 train_avg_loss: 0.0774231031537056\n",
      "epoch: 34 valid_avg_loss: 0.07762826979160309 valid_avg_auc: 0.9962370211202691\n",
      "epoch: 34 train_avg_loss: 0.07191116362810135\n",
      "epoch: 39 valid_avg_loss: 0.07523038238286972 valid_avg_auc: 0.9964604892266007\n",
      "epoch: 39 train_avg_loss: 0.06885749101638794\n",
      "epoch: 44 valid_avg_loss: 0.07521441578865051 valid_avg_auc: 0.9964622402928672\n",
      "epoch: 44 train_avg_loss: 0.06822121888399124\n",
      "epoch: 49 valid_avg_loss: 0.07440553605556488 valid_avg_auc: 0.9965393413685522\n",
      "epoch: 49 train_avg_loss: 0.06608041375875473\n",
      "epoch: 54 valid_avg_loss: 0.07420319318771362 valid_avg_auc: 0.9965588615610425\n",
      "epoch: 54 train_avg_loss: 0.06512709707021713\n",
      "epoch: 59 valid_avg_loss: 0.07416029274463654 valid_avg_auc: 0.996567943776811\n",
      "epoch: 59 train_avg_loss: 0.06466443091630936\n",
      "epoch: 64 valid_avg_loss: 0.07411319762468338 valid_avg_auc: 0.9965662032660015\n",
      "epoch: 64 train_avg_loss: 0.06460900604724884\n",
      "epoch: 69 valid_avg_loss: 0.07411501556634903 valid_avg_auc: 0.9965697323524216\n",
      "epoch: 69 train_avg_loss: 0.06467345356941223\n",
      "epoch: 74 valid_avg_loss: 0.074233777821064 valid_avg_auc: 0.9965686833831009\n",
      "epoch: 74 train_avg_loss: 0.06392666697502136\n",
      "auc:  0.996577799564342\n",
      "========== fold: 2 ==========\n"
     ]
    },
    {
     "name": "stderr",
     "output_type": "stream",
     "text": [
      "Exception ignored in: Exception ignored in: <function _MultiProcessingDataLoaderIter.__del__ at 0x7fc9167bb710><function _MultiProcessingDataLoaderIter.__del__ at 0x7fc9167bb710>\n",
      "Traceback (most recent call last):\n",
      "\n",
      "Traceback (most recent call last):\n",
      "  File \"/opt/conda/lib/python3.7/site-packages/torch/utils/data/dataloader.py\", line 1358, in __del__\n",
      "  File \"/opt/conda/lib/python3.7/site-packages/torch/utils/data/dataloader.py\", line 1358, in __del__\n",
      "    self._shutdown_workers()    \n",
      "  File \"/opt/conda/lib/python3.7/site-packages/torch/utils/data/dataloader.py\", line 1341, in _shutdown_workers\n",
      "    self._shutdown_workers()if w.is_alive():\n",
      "\n",
      "  File \"/opt/conda/lib/python3.7/multiprocessing/process.py\", line 151, in is_alive\n",
      "      File \"/opt/conda/lib/python3.7/site-packages/torch/utils/data/dataloader.py\", line 1341, in _shutdown_workers\n",
      "assert self._parent_pid == os.getpid(), 'can only test a child process'\n",
      "AssertionError    : can only test a child process\n",
      "if w.is_alive():\n",
      "  File \"/opt/conda/lib/python3.7/multiprocessing/process.py\", line 151, in is_alive\n",
      "    assert self._parent_pid == os.getpid(), 'can only test a child process'\n",
      "AssertionError: can only test a child process\n",
      "Exception ignored in: <function _MultiProcessingDataLoaderIter.__del__ at 0x7fc9167bb710>\n",
      "Traceback (most recent call last):\n",
      "  File \"/opt/conda/lib/python3.7/site-packages/torch/utils/data/dataloader.py\", line 1358, in __del__\n",
      "    Exception ignored in: <function _MultiProcessingDataLoaderIter.__del__ at 0x7fc9167bb710>self._shutdown_workers()\n",
      "\n",
      "Traceback (most recent call last):\n",
      "  File \"/opt/conda/lib/python3.7/site-packages/torch/utils/data/dataloader.py\", line 1341, in _shutdown_workers\n",
      "  File \"/opt/conda/lib/python3.7/site-packages/torch/utils/data/dataloader.py\", line 1358, in __del__\n",
      "        if w.is_alive():self._shutdown_workers()\n",
      "\n",
      "  File \"/opt/conda/lib/python3.7/multiprocessing/process.py\", line 151, in is_alive\n",
      "  File \"/opt/conda/lib/python3.7/site-packages/torch/utils/data/dataloader.py\", line 1341, in _shutdown_workers\n",
      "        assert self._parent_pid == os.getpid(), 'can only test a child process'if w.is_alive():\n",
      "\n",
      "AssertionError  File \"/opt/conda/lib/python3.7/multiprocessing/process.py\", line 151, in is_alive\n",
      ":     can only test a child processassert self._parent_pid == os.getpid(), 'can only test a child process'\n",
      "\n",
      "AssertionError: can only test a child process\n"
     ]
    },
    {
     "name": "stdout",
     "output_type": "stream",
     "text": [
      "epoch: 4 valid_avg_loss: 0.10474279522895813 valid_avg_auc: 0.9934832192410914\n",
      "epoch: 4 train_avg_loss: 0.10628711432218552\n",
      "epoch: 9 valid_avg_loss: 0.0919671580195427 valid_avg_auc: 0.9947760844853842\n",
      "epoch: 9 train_avg_loss: 0.09292036294937134\n",
      "epoch: 14 valid_avg_loss: 0.09062013775110245 valid_avg_auc: 0.9949169965449235\n",
      "epoch: 14 train_avg_loss: 0.08897391706705093\n",
      "epoch: 19 valid_avg_loss: 0.08917857706546783 valid_avg_auc: 0.9950222334327046\n",
      "epoch: 19 train_avg_loss: 0.08647800236940384\n",
      "epoch: 24 valid_avg_loss: 0.08366277068853378 valid_avg_auc: 0.9956351654458737\n",
      "epoch: 24 train_avg_loss: 0.07847486436367035\n",
      "epoch: 29 valid_avg_loss: 0.07847951352596283 valid_avg_auc: 0.9961664492991472\n",
      "epoch: 29 train_avg_loss: 0.07264579832553864\n",
      "epoch: 34 valid_avg_loss: 0.07892268896102905 valid_avg_auc: 0.9961225112958294\n",
      "epoch: 34 train_avg_loss: 0.07194353640079498\n",
      "epoch: 39 valid_avg_loss: 0.07726456969976425 valid_avg_auc: 0.9962823885867343\n",
      "epoch: 39 train_avg_loss: 0.06889795511960983\n",
      "epoch: 44 valid_avg_loss: 0.07593771070241928 valid_avg_auc: 0.9964221364289156\n",
      "epoch: 44 train_avg_loss: 0.06672722846269608\n",
      "epoch: 49 valid_avg_loss: 0.07603385299444199 valid_avg_auc: 0.9964122702072294\n",
      "epoch: 49 train_avg_loss: 0.0667370855808258\n",
      "epoch: 54 valid_avg_loss: 0.07552207261323929 valid_avg_auc: 0.9964574461078837\n",
      "epoch: 54 train_avg_loss: 0.06551389396190643\n",
      "epoch: 59 valid_avg_loss: 0.07550755888223648 valid_avg_auc: 0.9964616038961145\n",
      "epoch: 59 train_avg_loss: 0.06491690874099731\n",
      "auc:  0.9964494216251766\n",
      "========== fold: 3 ==========\n"
     ]
    },
    {
     "name": "stderr",
     "output_type": "stream",
     "text": [
      "Exception ignored in: <function _MultiProcessingDataLoaderIter.__del__ at 0x7fc9167bb710>\n",
      "Traceback (most recent call last):\n",
      "  File \"/opt/conda/lib/python3.7/site-packages/torch/utils/data/dataloader.py\", line 1358, in __del__\n",
      "    self._shutdown_workers()\n",
      "  File \"/opt/conda/lib/python3.7/site-packages/torch/utils/data/dataloader.py\", line 1341, in _shutdown_workers\n",
      "    if w.is_alive():\n",
      "Exception ignored in:   File \"/opt/conda/lib/python3.7/multiprocessing/process.py\", line 151, in is_alive\n",
      "<function _MultiProcessingDataLoaderIter.__del__ at 0x7fc9167bb710>\n",
      "    Traceback (most recent call last):\n",
      "  File \"/opt/conda/lib/python3.7/site-packages/torch/utils/data/dataloader.py\", line 1358, in __del__\n",
      "assert self._parent_pid == os.getpid(), 'can only test a child process'\n",
      "AssertionError: can only test a child process    self._shutdown_workers()\n",
      "\n",
      "  File \"/opt/conda/lib/python3.7/site-packages/torch/utils/data/dataloader.py\", line 1341, in _shutdown_workers\n",
      "    if w.is_alive():\n",
      "  File \"/opt/conda/lib/python3.7/multiprocessing/process.py\", line 151, in is_alive\n",
      "    assert self._parent_pid == os.getpid(), 'can only test a child process'\n",
      "AssertionError: can only test a child process\n",
      "Exception ignored in: Exception ignored in: <function _MultiProcessingDataLoaderIter.__del__ at 0x7fc9167bb710>\n",
      "<function _MultiProcessingDataLoaderIter.__del__ at 0x7fc9167bb710>Traceback (most recent call last):\n",
      "\n",
      "  File \"/opt/conda/lib/python3.7/site-packages/torch/utils/data/dataloader.py\", line 1358, in __del__\n",
      "    self._shutdown_workers()Traceback (most recent call last):\n",
      "\n",
      "  File \"/opt/conda/lib/python3.7/site-packages/torch/utils/data/dataloader.py\", line 1358, in __del__\n",
      "      File \"/opt/conda/lib/python3.7/site-packages/torch/utils/data/dataloader.py\", line 1341, in _shutdown_workers\n",
      "self._shutdown_workers()    \n",
      "  File \"/opt/conda/lib/python3.7/site-packages/torch/utils/data/dataloader.py\", line 1341, in _shutdown_workers\n",
      "if w.is_alive():    if w.is_alive():\n",
      "\n",
      "  File \"/opt/conda/lib/python3.7/multiprocessing/process.py\", line 151, in is_alive\n",
      "    assert self._parent_pid == os.getpid(), 'can only test a child process'\n",
      "  File \"/opt/conda/lib/python3.7/multiprocessing/process.py\", line 151, in is_alive\n",
      "AssertionError: can only test a child process    \n",
      "assert self._parent_pid == os.getpid(), 'can only test a child process'\n",
      "AssertionError: can only test a child process\n"
     ]
    },
    {
     "name": "stdout",
     "output_type": "stream",
     "text": [
      "epoch: 4 valid_avg_loss: 0.1045023575425148 valid_avg_auc: 0.9934890330598757\n",
      "epoch: 4 train_avg_loss: 0.10670942813158035\n",
      "epoch: 9 valid_avg_loss: 0.09394766390323639 valid_avg_auc: 0.9945199427620021\n",
      "epoch: 9 train_avg_loss: 0.09284620732069016\n",
      "epoch: 14 valid_avg_loss: 0.08886716514825821 valid_avg_auc: 0.9950547954749175\n",
      "epoch: 14 train_avg_loss: 0.08917483687400818\n",
      "epoch: 19 valid_avg_loss: 0.0817396491765976 valid_avg_auc: 0.9958152295894516\n",
      "epoch: 19 train_avg_loss: 0.07991795241832733\n",
      "epoch: 24 valid_avg_loss: 0.08084074407815933 valid_avg_auc: 0.9959306493591624\n",
      "epoch: 24 train_avg_loss: 0.07887979596853256\n",
      "epoch: 29 valid_avg_loss: 0.081697978079319 valid_avg_auc: 0.9958368412756621\n",
      "epoch: 29 train_avg_loss: 0.0782749354839325\n",
      "epoch: 34 valid_avg_loss: 0.07771170884370804 valid_avg_auc: 0.9962461256034806\n",
      "epoch: 34 train_avg_loss: 0.07319033890962601\n",
      "epoch: 39 valid_avg_loss: 0.07636471092700958 valid_avg_auc: 0.996375091405478\n",
      "epoch: 39 train_avg_loss: 0.06972396373748779\n",
      "epoch: 44 valid_avg_loss: 0.07512333989143372 valid_avg_auc: 0.9964874111109886\n",
      "epoch: 44 train_avg_loss: 0.06776260584592819\n",
      "epoch: 49 valid_avg_loss: 0.07490567862987518 valid_avg_auc: 0.9965037000883472\n",
      "epoch: 49 train_avg_loss: 0.06661174446344376\n",
      "epoch: 54 valid_avg_loss: 0.074797123670578 valid_avg_auc: 0.9965226631551355\n",
      "epoch: 54 train_avg_loss: 0.06604177504777908\n",
      "epoch: 59 valid_avg_loss: 0.07485276460647583 valid_avg_auc: 0.9965185529932307\n",
      "epoch: 59 train_avg_loss: 0.06586532294750214\n",
      "epoch: 64 valid_avg_loss: 0.0748886689543724 valid_avg_auc: 0.9965244944576144\n",
      "epoch: 64 train_avg_loss: 0.06553678214550018\n",
      "auc:  0.9965243345364979\n",
      "========== fold: 4 ==========\n"
     ]
    },
    {
     "name": "stderr",
     "output_type": "stream",
     "text": [
      "Exception ignored in: <function _MultiProcessingDataLoaderIter.__del__ at 0x7fc9167bb710>\n",
      "Traceback (most recent call last):\n",
      "Exception ignored in:   File \"/opt/conda/lib/python3.7/site-packages/torch/utils/data/dataloader.py\", line 1358, in __del__\n",
      "<function _MultiProcessingDataLoaderIter.__del__ at 0x7fc9167bb710>    \n",
      "Traceback (most recent call last):\n",
      "self._shutdown_workers()  File \"/opt/conda/lib/python3.7/site-packages/torch/utils/data/dataloader.py\", line 1358, in __del__\n",
      "\n",
      "  File \"/opt/conda/lib/python3.7/site-packages/torch/utils/data/dataloader.py\", line 1341, in _shutdown_workers\n",
      "        self._shutdown_workers()\n",
      "  File \"/opt/conda/lib/python3.7/site-packages/torch/utils/data/dataloader.py\", line 1341, in _shutdown_workers\n",
      "    if w.is_alive():\n",
      "  File \"/opt/conda/lib/python3.7/multiprocessing/process.py\", line 151, in is_alive\n",
      "    assert self._parent_pid == os.getpid(), 'can only test a child process'\n",
      "AssertionErrorif w.is_alive():: can only test a child process\n",
      "\n",
      "  File \"/opt/conda/lib/python3.7/multiprocessing/process.py\", line 151, in is_alive\n",
      "    assert self._parent_pid == os.getpid(), 'can only test a child process'\n",
      "AssertionError: can only test a child process\n",
      "Exception ignored in: <function _MultiProcessingDataLoaderIter.__del__ at 0x7fc9167bb710>\n",
      "Traceback (most recent call last):\n",
      "  File \"/opt/conda/lib/python3.7/site-packages/torch/utils/data/dataloader.py\", line 1358, in __del__\n",
      "    self._shutdown_workers()\n",
      "  File \"/opt/conda/lib/python3.7/site-packages/torch/utils/data/dataloader.py\", line 1341, in _shutdown_workers\n",
      "    if w.is_alive():\n",
      "  File \"/opt/conda/lib/python3.7/multiprocessing/process.py\", line 151, in is_alive\n",
      "    assert self._parent_pid == os.getpid(), 'can only test a child process'\n",
      "AssertionError: can only test a child process\n",
      "Exception ignored in: <function _MultiProcessingDataLoaderIter.__del__ at 0x7fc9167bb710>\n",
      "Traceback (most recent call last):\n",
      "  File \"/opt/conda/lib/python3.7/site-packages/torch/utils/data/dataloader.py\", line 1358, in __del__\n",
      "    self._shutdown_workers()\n",
      "  File \"/opt/conda/lib/python3.7/site-packages/torch/utils/data/dataloader.py\", line 1341, in _shutdown_workers\n",
      "    if w.is_alive():\n",
      "  File \"/opt/conda/lib/python3.7/multiprocessing/process.py\", line 151, in is_alive\n",
      "    assert self._parent_pid == os.getpid(), 'can only test a child process'\n",
      "AssertionError: can only test a child process\n"
     ]
    },
    {
     "name": "stdout",
     "output_type": "stream",
     "text": [
      "epoch: 4 valid_avg_loss: 0.10248614102602005 valid_avg_auc: 0.9937500137084696\n",
      "epoch: 4 train_avg_loss: 0.10452817380428314\n",
      "epoch: 9 valid_avg_loss: 0.09349187463521957 valid_avg_auc: 0.9945869576810967\n",
      "epoch: 9 train_avg_loss: 0.09177335351705551\n",
      "epoch: 14 valid_avg_loss: 0.08961400389671326 valid_avg_auc: 0.9949987209988448\n",
      "epoch: 14 train_avg_loss: 0.0880575031042099\n",
      "epoch: 19 valid_avg_loss: 0.08263424038887024 valid_avg_auc: 0.9957386975552484\n",
      "epoch: 19 train_avg_loss: 0.0787847489118576\n",
      "epoch: 24 valid_avg_loss: 0.079033263027668 valid_avg_auc: 0.9960980238796224\n",
      "epoch: 24 train_avg_loss: 0.07311823964118958\n",
      "epoch: 29 valid_avg_loss: 0.07728318125009537 valid_avg_auc: 0.9962651894720503\n",
      "epoch: 29 train_avg_loss: 0.06986472010612488\n",
      "epoch: 34 valid_avg_loss: 0.07739577442407608 valid_avg_auc: 0.9962721823507709\n",
      "epoch: 34 train_avg_loss: 0.06924613565206528\n",
      "epoch: 39 valid_avg_loss: 0.0764087662100792 valid_avg_auc: 0.9963699135266348\n",
      "epoch: 39 train_avg_loss: 0.06724707037210464\n",
      "epoch: 44 valid_avg_loss: 0.07667157053947449 valid_avg_auc: 0.9963429959328445\n",
      "epoch: 44 train_avg_loss: 0.0672478899359703\n",
      "epoch: 49 valid_avg_loss: 0.07649095356464386 valid_avg_auc: 0.9963734593393696\n",
      "epoch: 49 train_avg_loss: 0.06714007258415222\n",
      "epoch: 54 valid_avg_loss: 0.07597935199737549 valid_avg_auc: 0.996404031637133\n",
      "epoch: 54 train_avg_loss: 0.06609444320201874\n",
      "epoch: 59 valid_avg_loss: 0.07614077627658844 valid_avg_auc: 0.9964065939365474\n",
      "epoch: 59 train_avg_loss: 0.06509920209646225\n",
      "epoch: 64 valid_avg_loss: 0.07597948610782623 valid_avg_auc: 0.9964172971877275\n",
      "epoch: 64 train_avg_loss: 0.06518370658159256\n",
      "auc:  0.9964141475964584\n"
     ]
    }
   ],
   "source": [
    "train_fold(NNModelImpl2, MyDataModule, \"stack4\", features)"
   ]
  },
  {
   "cell_type": "code",
   "execution_count": 58,
   "id": "7aeb6bbb",
   "metadata": {
    "execution": {
     "iopub.execute_input": "2022-05-28T12:10:32.579727Z",
     "iopub.status.busy": "2022-05-28T12:10:32.579047Z",
     "iopub.status.idle": "2022-05-28T13:14:54.064695Z",
     "shell.execute_reply": "2022-05-28T13:14:54.063876Z"
    },
    "id": "1Qfp3koMkF6a",
    "papermill": {
     "duration": 3861.82179,
     "end_time": "2022-05-28T13:14:54.278548",
     "exception": false,
     "start_time": "2022-05-28T12:10:32.456758",
     "status": "completed"
    },
    "tags": []
   },
   "outputs": [
    {
     "name": "stdout",
     "output_type": "stream",
     "text": [
      "========== fold: 0 ==========\n"
     ]
    },
    {
     "name": "stderr",
     "output_type": "stream",
     "text": [
      "Exception ignored in: <function _MultiProcessingDataLoaderIter.__del__ at 0x7fc9167bb710>\n",
      "Exception ignored in: Traceback (most recent call last):\n",
      "<function _MultiProcessingDataLoaderIter.__del__ at 0x7fc9167bb710>  File \"/opt/conda/lib/python3.7/site-packages/torch/utils/data/dataloader.py\", line 1358, in __del__\n",
      "\n",
      "    self._shutdown_workers()\n",
      "  File \"/opt/conda/lib/python3.7/site-packages/torch/utils/data/dataloader.py\", line 1341, in _shutdown_workers\n",
      "Traceback (most recent call last):\n",
      "      File \"/opt/conda/lib/python3.7/site-packages/torch/utils/data/dataloader.py\", line 1358, in __del__\n",
      "if w.is_alive():\n",
      "      File \"/opt/conda/lib/python3.7/multiprocessing/process.py\", line 151, in is_alive\n",
      "self._shutdown_workers()    \n",
      "  File \"/opt/conda/lib/python3.7/site-packages/torch/utils/data/dataloader.py\", line 1341, in _shutdown_workers\n",
      "    assert self._parent_pid == os.getpid(), 'can only test a child process'if w.is_alive():\n",
      "AssertionError\n",
      "  File \"/opt/conda/lib/python3.7/multiprocessing/process.py\", line 151, in is_alive\n",
      "    assert self._parent_pid == os.getpid(), 'can only test a child process'\n",
      ": can only test a child process\n",
      "AssertionError: can only test a child process\n",
      "Exception ignored in: <function _MultiProcessingDataLoaderIter.__del__ at 0x7fc9167bb710>\n",
      "Traceback (most recent call last):\n",
      "  File \"/opt/conda/lib/python3.7/site-packages/torch/utils/data/dataloader.py\", line 1358, in __del__\n",
      "    self._shutdown_workers()\n",
      "  File \"/opt/conda/lib/python3.7/site-packages/torch/utils/data/dataloader.py\", line 1341, in _shutdown_workers\n",
      "    if w.is_alive():\n",
      "  File \"/opt/conda/lib/python3.7/multiprocessing/process.py\", line 151, in is_alive\n",
      "    assert self._parent_pid == os.getpid(), 'can only test a child process'\n",
      "AssertionError: can only test a child process\n",
      "Exception ignored in: <function _MultiProcessingDataLoaderIter.__del__ at 0x7fc9167bb710>\n",
      "Traceback (most recent call last):\n",
      "  File \"/opt/conda/lib/python3.7/site-packages/torch/utils/data/dataloader.py\", line 1358, in __del__\n",
      "    self._shutdown_workers()\n",
      "  File \"/opt/conda/lib/python3.7/site-packages/torch/utils/data/dataloader.py\", line 1341, in _shutdown_workers\n",
      "    if w.is_alive():\n",
      "  File \"/opt/conda/lib/python3.7/multiprocessing/process.py\", line 151, in is_alive\n",
      "    assert self._parent_pid == os.getpid(), 'can only test a child process'\n",
      "AssertionError: can only test a child process\n"
     ]
    },
    {
     "name": "stdout",
     "output_type": "stream",
     "text": [
      "epoch: 4 valid_avg_loss: 0.07568634301424026 valid_avg_auc: 0.9964427384273572\n",
      "epoch: 4 train_avg_loss: 0.07833386212587357\n",
      "epoch: 9 valid_avg_loss: 0.06716646254062653 valid_avg_auc: 0.9971861319073129\n",
      "epoch: 9 train_avg_loss: 0.06912603229284286\n",
      "epoch: 14 valid_avg_loss: 0.06548315286636353 valid_avg_auc: 0.9973329233582305\n",
      "epoch: 14 train_avg_loss: 0.06561952084302902\n",
      "epoch: 19 valid_avg_loss: 0.06477298587560654 valid_avg_auc: 0.9973820273139116\n",
      "epoch: 19 train_avg_loss: 0.06378287076950073\n",
      "epoch: 24 valid_avg_loss: 0.060416486114263535 valid_avg_auc: 0.9977244901102433\n",
      "epoch: 24 train_avg_loss: 0.057603828608989716\n",
      "epoch: 29 valid_avg_loss: 0.058195170015096664 valid_avg_auc: 0.9978810779487124\n",
      "epoch: 29 train_avg_loss: 0.053295526653528214\n",
      "epoch: 34 valid_avg_loss: 0.05773042142391205 valid_avg_auc: 0.9979196675448555\n",
      "epoch: 34 train_avg_loss: 0.050616614520549774\n",
      "epoch: 39 valid_avg_loss: 0.05815977230668068 valid_avg_auc: 0.997911815494579\n",
      "epoch: 39 train_avg_loss: 0.04858087748289108\n",
      "epoch: 44 valid_avg_loss: 0.05862582474946976 valid_avg_auc: 0.9978768639485757\n",
      "epoch: 44 train_avg_loss: 0.04738170653581619\n",
      "auc:  0.997906170876733\n",
      "========== fold: 1 ==========\n"
     ]
    },
    {
     "name": "stderr",
     "output_type": "stream",
     "text": [
      "Exception ignored in: <function _MultiProcessingDataLoaderIter.__del__ at 0x7fc9167bb710>\n",
      "Traceback (most recent call last):\n",
      "  File \"/opt/conda/lib/python3.7/site-packages/torch/utils/data/dataloader.py\", line 1358, in __del__\n",
      "    self._shutdown_workers()\n",
      "  File \"/opt/conda/lib/python3.7/site-packages/torch/utils/data/dataloader.py\", line 1341, in _shutdown_workers\n",
      "Exception ignored in:     if w.is_alive():<function _MultiProcessingDataLoaderIter.__del__ at 0x7fc9167bb710>\n",
      "\n",
      "  File \"/opt/conda/lib/python3.7/multiprocessing/process.py\", line 151, in is_alive\n",
      "    assert self._parent_pid == os.getpid(), 'can only test a child process'\n",
      "AssertionError: can only test a child processTraceback (most recent call last):\n",
      "  File \"/opt/conda/lib/python3.7/site-packages/torch/utils/data/dataloader.py\", line 1358, in __del__\n",
      "\n",
      "    self._shutdown_workers()\n",
      "  File \"/opt/conda/lib/python3.7/site-packages/torch/utils/data/dataloader.py\", line 1341, in _shutdown_workers\n",
      "    if w.is_alive():\n",
      "  File \"/opt/conda/lib/python3.7/multiprocessing/process.py\", line 151, in is_alive\n",
      "    assert self._parent_pid == os.getpid(), 'can only test a child process'\n",
      "AssertionError: can only test a child process\n",
      "Exception ignored in: <function _MultiProcessingDataLoaderIter.__del__ at 0x7fc9167bb710>\n",
      "Traceback (most recent call last):\n",
      "  File \"/opt/conda/lib/python3.7/site-packages/torch/utils/data/dataloader.py\", line 1358, in __del__\n",
      "    self._shutdown_workers()\n",
      "  File \"/opt/conda/lib/python3.7/site-packages/torch/utils/data/dataloader.py\", line 1341, in _shutdown_workers\n",
      "    if w.is_alive():\n",
      "  File \"/opt/conda/lib/python3.7/multiprocessing/process.py\", line 151, in is_alive\n",
      "    assert self._parent_pid == os.getpid(), 'can only test a child process'\n",
      "AssertionError: can only test a child process\n",
      "Exception ignored in: <function _MultiProcessingDataLoaderIter.__del__ at 0x7fc9167bb710>\n",
      "Traceback (most recent call last):\n",
      "  File \"/opt/conda/lib/python3.7/site-packages/torch/utils/data/dataloader.py\", line 1358, in __del__\n",
      "    self._shutdown_workers()\n",
      "  File \"/opt/conda/lib/python3.7/site-packages/torch/utils/data/dataloader.py\", line 1341, in _shutdown_workers\n",
      "    if w.is_alive():\n",
      "  File \"/opt/conda/lib/python3.7/multiprocessing/process.py\", line 151, in is_alive\n",
      "    assert self._parent_pid == os.getpid(), 'can only test a child process'\n",
      "AssertionError: can only test a child process\n"
     ]
    },
    {
     "name": "stdout",
     "output_type": "stream",
     "text": [
      "epoch: 4 valid_avg_loss: 0.07735668122768402 valid_avg_auc: 0.9963420868035722\n",
      "epoch: 4 train_avg_loss: 0.07862037420272827\n",
      "epoch: 9 valid_avg_loss: 0.07086969912052155 valid_avg_auc: 0.996893301388598\n",
      "epoch: 9 train_avg_loss: 0.06888539344072342\n",
      "epoch: 14 valid_avg_loss: 0.06726991385221481 valid_avg_auc: 0.9971852597440909\n",
      "epoch: 14 train_avg_loss: 0.06522659212350845\n",
      "epoch: 19 valid_avg_loss: 0.07139187306165695 valid_avg_auc: 0.9967867955465026\n",
      "epoch: 19 train_avg_loss: 0.06368619948625565\n",
      "epoch: 24 valid_avg_loss: 0.0650457814335823 valid_avg_auc: 0.9973426985934288\n",
      "epoch: 24 train_avg_loss: 0.062146883457899094\n",
      "epoch: 29 valid_avg_loss: 0.06137062609195709 valid_avg_auc: 0.9976459814385736\n",
      "epoch: 29 train_avg_loss: 0.056437402963638306\n",
      "epoch: 34 valid_avg_loss: 0.05996277555823326 valid_avg_auc: 0.9977622031273602\n",
      "epoch: 34 train_avg_loss: 0.052029069513082504\n",
      "epoch: 39 valid_avg_loss: 0.05892738327383995 valid_avg_auc: 0.9978563880489145\n",
      "epoch: 39 train_avg_loss: 0.049089979380369186\n",
      "epoch: 44 valid_avg_loss: 0.05940196290612221 valid_avg_auc: 0.997845537769578\n",
      "epoch: 44 train_avg_loss: 0.04657290503382683\n",
      "auc:  0.9978714263317402\n",
      "========== fold: 2 ==========\n"
     ]
    },
    {
     "name": "stderr",
     "output_type": "stream",
     "text": [
      "Exception ignored in: <function _MultiProcessingDataLoaderIter.__del__ at 0x7fc9167bb710>\n",
      "Traceback (most recent call last):\n",
      "Exception ignored in:   File \"/opt/conda/lib/python3.7/site-packages/torch/utils/data/dataloader.py\", line 1358, in __del__\n",
      "<function _MultiProcessingDataLoaderIter.__del__ at 0x7fc9167bb710>\n",
      "Traceback (most recent call last):\n",
      "  File \"/opt/conda/lib/python3.7/site-packages/torch/utils/data/dataloader.py\", line 1358, in __del__\n",
      "    self._shutdown_workers()    self._shutdown_workers()\n",
      "  File \"/opt/conda/lib/python3.7/site-packages/torch/utils/data/dataloader.py\", line 1341, in _shutdown_workers\n",
      "    if w.is_alive():\n",
      "\n",
      "  File \"/opt/conda/lib/python3.7/multiprocessing/process.py\", line 151, in is_alive\n",
      "      File \"/opt/conda/lib/python3.7/site-packages/torch/utils/data/dataloader.py\", line 1341, in _shutdown_workers\n",
      "    assert self._parent_pid == os.getpid(), 'can only test a child process'if w.is_alive():\n",
      "  File \"/opt/conda/lib/python3.7/multiprocessing/process.py\", line 151, in is_alive\n",
      "    \n",
      "AssertionErrorassert self._parent_pid == os.getpid(), 'can only test a child process': \n",
      "AssertionErrorcan only test a child process\n",
      ": can only test a child process\n",
      "Exception ignored in: <function _MultiProcessingDataLoaderIter.__del__ at 0x7fc9167bb710>\n",
      "Traceback (most recent call last):\n",
      "  File \"/opt/conda/lib/python3.7/site-packages/torch/utils/data/dataloader.py\", line 1358, in __del__\n",
      "    self._shutdown_workers()\n",
      "  File \"/opt/conda/lib/python3.7/site-packages/torch/utils/data/dataloader.py\", line 1341, in _shutdown_workers\n",
      "    if w.is_alive():\n",
      "  File \"/opt/conda/lib/python3.7/multiprocessing/process.py\", line 151, in is_alive\n",
      "    assert self._parent_pid == os.getpid(), 'can only test a child process'\n",
      "AssertionError: can only test a child process\n",
      "Exception ignored in: <function _MultiProcessingDataLoaderIter.__del__ at 0x7fc9167bb710>\n",
      "Traceback (most recent call last):\n",
      "  File \"/opt/conda/lib/python3.7/site-packages/torch/utils/data/dataloader.py\", line 1358, in __del__\n",
      "    self._shutdown_workers()\n",
      "  File \"/opt/conda/lib/python3.7/site-packages/torch/utils/data/dataloader.py\", line 1341, in _shutdown_workers\n",
      "    if w.is_alive():\n",
      "  File \"/opt/conda/lib/python3.7/multiprocessing/process.py\", line 151, in is_alive\n",
      "    assert self._parent_pid == os.getpid(), 'can only test a child process'\n",
      "AssertionError: can only test a child process\n"
     ]
    },
    {
     "name": "stdout",
     "output_type": "stream",
     "text": [
      "epoch: 4 valid_avg_loss: 0.07541647553443909 valid_avg_auc: 0.9964779251382776\n",
      "epoch: 4 train_avg_loss: 0.07777342200279236\n",
      "epoch: 9 valid_avg_loss: 0.07030490040779114 valid_avg_auc: 0.9969168102021311\n",
      "epoch: 9 train_avg_loss: 0.06858284026384354\n",
      "epoch: 14 valid_avg_loss: 0.0664343386888504 valid_avg_auc: 0.9972664839688535\n",
      "epoch: 14 train_avg_loss: 0.06543783843517303\n",
      "epoch: 19 valid_avg_loss: 0.06684418022632599 valid_avg_auc: 0.9974203601940469\n",
      "epoch: 19 train_avg_loss: 0.06354216486215591\n",
      "epoch: 24 valid_avg_loss: 0.06140395253896713 valid_avg_auc: 0.9976598766339305\n",
      "epoch: 24 train_avg_loss: 0.05730583146214485\n",
      "epoch: 29 valid_avg_loss: 0.05969488248229027 valid_avg_auc: 0.9977991567785457\n",
      "epoch: 29 train_avg_loss: 0.05303226783871651\n",
      "epoch: 34 valid_avg_loss: 0.05851590633392334 valid_avg_auc: 0.9978724759681363\n",
      "epoch: 34 train_avg_loss: 0.05021265521645546\n",
      "epoch: 39 valid_avg_loss: 0.05886127054691315 valid_avg_auc: 0.9978724155364281\n",
      "epoch: 39 train_avg_loss: 0.04854372888803482\n",
      "auc:  0.9978804256808471\n",
      "========== fold: 3 ==========\n"
     ]
    },
    {
     "name": "stderr",
     "output_type": "stream",
     "text": [
      "Exception ignored in: <function _MultiProcessingDataLoaderIter.__del__ at 0x7fc9167bb710>\n",
      "Traceback (most recent call last):\n",
      "  File \"/opt/conda/lib/python3.7/site-packages/torch/utils/data/dataloader.py\", line 1358, in __del__\n",
      "Exception ignored in:     self._shutdown_workers()<function _MultiProcessingDataLoaderIter.__del__ at 0x7fc9167bb710>\n",
      "\n",
      "  File \"/opt/conda/lib/python3.7/site-packages/torch/utils/data/dataloader.py\", line 1341, in _shutdown_workers\n",
      "    Traceback (most recent call last):\n",
      "  File \"/opt/conda/lib/python3.7/site-packages/torch/utils/data/dataloader.py\", line 1358, in __del__\n",
      "if w.is_alive():\n",
      "  File \"/opt/conda/lib/python3.7/multiprocessing/process.py\", line 151, in is_alive\n",
      "    self._shutdown_workers()    \n",
      "assert self._parent_pid == os.getpid(), 'can only test a child process'  File \"/opt/conda/lib/python3.7/site-packages/torch/utils/data/dataloader.py\", line 1341, in _shutdown_workers\n",
      "\n",
      "    AssertionErrorif w.is_alive():: can only test a child process\n",
      "\n",
      "  File \"/opt/conda/lib/python3.7/multiprocessing/process.py\", line 151, in is_alive\n",
      "    assert self._parent_pid == os.getpid(), 'can only test a child process'\n",
      "AssertionError: can only test a child process\n",
      "Exception ignored in: <function _MultiProcessingDataLoaderIter.__del__ at 0x7fc9167bb710>\n",
      "Traceback (most recent call last):\n",
      "  File \"/opt/conda/lib/python3.7/site-packages/torch/utils/data/dataloader.py\", line 1358, in __del__\n",
      "    self._shutdown_workers()\n",
      "  File \"/opt/conda/lib/python3.7/site-packages/torch/utils/data/dataloader.py\", line 1341, in _shutdown_workers\n",
      "    if w.is_alive():\n",
      "  File \"/opt/conda/lib/python3.7/multiprocessing/process.py\", line 151, in is_alive\n",
      "    assert self._parent_pid == os.getpid(), 'can only test a child process'\n",
      "AssertionError: can only test a child process\n",
      "Exception ignored in: <function _MultiProcessingDataLoaderIter.__del__ at 0x7fc9167bb710>\n",
      "Traceback (most recent call last):\n",
      "  File \"/opt/conda/lib/python3.7/site-packages/torch/utils/data/dataloader.py\", line 1358, in __del__\n",
      "    self._shutdown_workers()\n",
      "  File \"/opt/conda/lib/python3.7/site-packages/torch/utils/data/dataloader.py\", line 1341, in _shutdown_workers\n",
      "    if w.is_alive():\n",
      "  File \"/opt/conda/lib/python3.7/multiprocessing/process.py\", line 151, in is_alive\n",
      "    assert self._parent_pid == os.getpid(), 'can only test a child process'\n",
      "AssertionError: can only test a child process\n"
     ]
    },
    {
     "name": "stdout",
     "output_type": "stream",
     "text": [
      "epoch: 4 valid_avg_loss: 0.0794844701886177 valid_avg_auc: 0.9960924273223495\n",
      "epoch: 4 train_avg_loss: 0.08169982582330704\n",
      "epoch: 9 valid_avg_loss: 0.07176759093999863 valid_avg_auc: 0.9968403557382638\n",
      "epoch: 9 train_avg_loss: 0.07014098018407822\n",
      "epoch: 14 valid_avg_loss: 0.07045573741197586 valid_avg_auc: 0.9970885413165455\n",
      "epoch: 14 train_avg_loss: 0.06631674617528915\n",
      "epoch: 19 valid_avg_loss: 0.0681021586060524 valid_avg_auc: 0.9971032335042345\n",
      "epoch: 19 train_avg_loss: 0.0644514188170433\n",
      "epoch: 24 valid_avg_loss: 0.06171179190278053 valid_avg_auc: 0.9976309129965526\n",
      "epoch: 24 train_avg_loss: 0.05765616521239281\n",
      "epoch: 29 valid_avg_loss: 0.0598321333527565 valid_avg_auc: 0.9977653883235608\n",
      "epoch: 29 train_avg_loss: 0.053775910288095474\n",
      "epoch: 34 valid_avg_loss: 0.059359658509492874 valid_avg_auc: 0.9978067216455222\n",
      "epoch: 34 train_avg_loss: 0.05092978477478027\n",
      "epoch: 39 valid_avg_loss: 0.0598844476044178 valid_avg_auc: 0.9977793984837812\n",
      "epoch: 39 train_avg_loss: 0.04893751069903374\n",
      "epoch: 44 valid_avg_loss: 0.06052013486623764 valid_avg_auc: 0.9977545226923238\n",
      "epoch: 44 train_avg_loss: 0.04775986820459366\n",
      "auc:  0.997805110871121\n",
      "========== fold: 4 ==========\n"
     ]
    },
    {
     "name": "stderr",
     "output_type": "stream",
     "text": [
      "Exception ignored in: <function _MultiProcessingDataLoaderIter.__del__ at 0x7fc9167bb710>\n",
      "Traceback (most recent call last):\n",
      "  File \"/opt/conda/lib/python3.7/site-packages/torch/utils/data/dataloader.py\", line 1358, in __del__\n",
      "    self._shutdown_workers()\n",
      "Exception ignored in:   File \"/opt/conda/lib/python3.7/site-packages/torch/utils/data/dataloader.py\", line 1341, in _shutdown_workers\n",
      "<function _MultiProcessingDataLoaderIter.__del__ at 0x7fc9167bb710>    \n",
      "if w.is_alive():Traceback (most recent call last):\n",
      "\n",
      "  File \"/opt/conda/lib/python3.7/site-packages/torch/utils/data/dataloader.py\", line 1358, in __del__\n",
      "      File \"/opt/conda/lib/python3.7/multiprocessing/process.py\", line 151, in is_alive\n",
      "    self._shutdown_workers()assert self._parent_pid == os.getpid(), 'can only test a child process'\n",
      "\n",
      "  File \"/opt/conda/lib/python3.7/site-packages/torch/utils/data/dataloader.py\", line 1341, in _shutdown_workers\n",
      "AssertionError    : if w.is_alive():can only test a child process\n",
      "\n",
      "  File \"/opt/conda/lib/python3.7/multiprocessing/process.py\", line 151, in is_alive\n",
      "    assert self._parent_pid == os.getpid(), 'can only test a child process'\n",
      "AssertionError: can only test a child process\n",
      "Exception ignored in: <function _MultiProcessingDataLoaderIter.__del__ at 0x7fc9167bb710>\n",
      "Traceback (most recent call last):\n",
      "  File \"/opt/conda/lib/python3.7/site-packages/torch/utils/data/dataloader.py\", line 1358, in __del__\n",
      "    self._shutdown_workers()\n",
      "  File \"/opt/conda/lib/python3.7/site-packages/torch/utils/data/dataloader.py\", line 1341, in _shutdown_workers\n",
      "    if w.is_alive():\n",
      "  File \"/opt/conda/lib/python3.7/multiprocessing/process.py\", line 151, in is_alive\n",
      "    assert self._parent_pid == os.getpid(), 'can only test a child process'\n",
      "AssertionError: can only test a child process\n",
      "Exception ignored in: <function _MultiProcessingDataLoaderIter.__del__ at 0x7fc9167bb710>\n",
      "Traceback (most recent call last):\n",
      "  File \"/opt/conda/lib/python3.7/site-packages/torch/utils/data/dataloader.py\", line 1358, in __del__\n",
      "    self._shutdown_workers()\n",
      "  File \"/opt/conda/lib/python3.7/site-packages/torch/utils/data/dataloader.py\", line 1341, in _shutdown_workers\n",
      "    if w.is_alive():\n",
      "  File \"/opt/conda/lib/python3.7/multiprocessing/process.py\", line 151, in is_alive\n",
      "    assert self._parent_pid == os.getpid(), 'can only test a child process'\n",
      "AssertionError: can only test a child process\n"
     ]
    },
    {
     "name": "stdout",
     "output_type": "stream",
     "text": [
      "epoch: 4 valid_avg_loss: 0.0815339908003807 valid_avg_auc: 0.9959903809950629\n",
      "epoch: 4 train_avg_loss: 0.08034966886043549\n",
      "epoch: 9 valid_avg_loss: 0.06940828263759613 valid_avg_auc: 0.997007927166716\n",
      "epoch: 9 train_avg_loss: 0.06920913606882095\n",
      "epoch: 14 valid_avg_loss: 0.06684531271457672 valid_avg_auc: 0.9972177837493482\n",
      "epoch: 14 train_avg_loss: 0.06568361818790436\n",
      "epoch: 19 valid_avg_loss: 0.06622959673404694 valid_avg_auc: 0.9972808633867127\n",
      "epoch: 19 train_avg_loss: 0.06398617476224899\n",
      "epoch: 24 valid_avg_loss: 0.06529535353183746 valid_avg_auc: 0.9973802700902048\n",
      "epoch: 24 train_avg_loss: 0.06272099167108536\n",
      "epoch: 29 valid_avg_loss: 0.061083387583494186 valid_avg_auc: 0.9976793814101693\n",
      "epoch: 29 train_avg_loss: 0.056865546852350235\n",
      "epoch: 34 valid_avg_loss: 0.0595242939889431 valid_avg_auc: 0.997783462786411\n",
      "epoch: 34 train_avg_loss: 0.05268283188343048\n",
      "epoch: 39 valid_avg_loss: 0.05935584008693695 valid_avg_auc: 0.9978187955418971\n",
      "epoch: 39 train_avg_loss: 0.04986492544412613\n",
      "epoch: 44 valid_avg_loss: 0.059448856860399246 valid_avg_auc: 0.9978395521621978\n",
      "epoch: 44 train_avg_loss: 0.048050783574581146\n",
      "auc:  0.9978644534005964\n"
     ]
    }
   ],
   "source": [
    "train_fold(NNModelImpl3, MyDataModule, \"stack5\", features)"
   ]
  },
  {
   "cell_type": "code",
   "execution_count": 59,
   "id": "aa73eb2b",
   "metadata": {
    "execution": {
     "iopub.execute_input": "2022-05-28T13:14:54.578127Z",
     "iopub.status.busy": "2022-05-28T13:14:54.577717Z",
     "iopub.status.idle": "2022-05-28T14:13:10.627101Z",
     "shell.execute_reply": "2022-05-28T14:13:10.626132Z"
    },
    "id": "PVYDV0rpySJp",
    "papermill": {
     "duration": 3496.199563,
     "end_time": "2022-05-28T14:13:10.629217",
     "exception": false,
     "start_time": "2022-05-28T13:14:54.429654",
     "status": "completed"
    },
    "tags": []
   },
   "outputs": [
    {
     "name": "stdout",
     "output_type": "stream",
     "text": [
      "========== fold: 0 ==========\n"
     ]
    },
    {
     "name": "stderr",
     "output_type": "stream",
     "text": [
      "Exception ignored in: <function _MultiProcessingDataLoaderIter.__del__ at 0x7fc9167bb710>Exception ignored in: <function _MultiProcessingDataLoaderIter.__del__ at 0x7fc9167bb710>\n",
      "Traceback (most recent call last):\n",
      "\n",
      "  File \"/opt/conda/lib/python3.7/site-packages/torch/utils/data/dataloader.py\", line 1358, in __del__\n",
      "Traceback (most recent call last):\n",
      "      File \"/opt/conda/lib/python3.7/site-packages/torch/utils/data/dataloader.py\", line 1358, in __del__\n",
      "self._shutdown_workers()    self._shutdown_workers()\n",
      "\n",
      "  File \"/opt/conda/lib/python3.7/site-packages/torch/utils/data/dataloader.py\", line 1341, in _shutdown_workers\n",
      "      File \"/opt/conda/lib/python3.7/site-packages/torch/utils/data/dataloader.py\", line 1341, in _shutdown_workers\n",
      "if w.is_alive():\n",
      "  File \"/opt/conda/lib/python3.7/multiprocessing/process.py\", line 151, in is_alive\n",
      "        if w.is_alive():assert self._parent_pid == os.getpid(), 'can only test a child process'\n",
      "\n",
      "  File \"/opt/conda/lib/python3.7/multiprocessing/process.py\", line 151, in is_alive\n",
      "    AssertionErrorassert self._parent_pid == os.getpid(), 'can only test a child process': \n",
      "AssertionError: can only test a child process\n",
      "can only test a child process\n",
      "Exception ignored in: <function _MultiProcessingDataLoaderIter.__del__ at 0x7fc9167bb710>\n",
      "Traceback (most recent call last):\n",
      "  File \"/opt/conda/lib/python3.7/site-packages/torch/utils/data/dataloader.py\", line 1358, in __del__\n",
      "    self._shutdown_workers()\n",
      "  File \"/opt/conda/lib/python3.7/site-packages/torch/utils/data/dataloader.py\", line 1341, in _shutdown_workers\n",
      "    if w.is_alive():\n",
      "  File \"/opt/conda/lib/python3.7/multiprocessing/process.py\", line 151, in is_alive\n",
      "    assert self._parent_pid == os.getpid(), 'can only test a child process'\n",
      "AssertionError: can only test a child process\n",
      "Exception ignored in: <function _MultiProcessingDataLoaderIter.__del__ at 0x7fc9167bb710>\n",
      "Traceback (most recent call last):\n",
      "  File \"/opt/conda/lib/python3.7/site-packages/torch/utils/data/dataloader.py\", line 1358, in __del__\n",
      "    self._shutdown_workers()\n",
      "  File \"/opt/conda/lib/python3.7/site-packages/torch/utils/data/dataloader.py\", line 1341, in _shutdown_workers\n",
      "    if w.is_alive():\n",
      "  File \"/opt/conda/lib/python3.7/multiprocessing/process.py\", line 151, in is_alive\n",
      "    assert self._parent_pid == os.getpid(), 'can only test a child process'\n",
      "AssertionError: can only test a child process\n"
     ]
    },
    {
     "name": "stdout",
     "output_type": "stream",
     "text": [
      "epoch: 4 valid_avg_loss: 0.07984209805727005 valid_avg_auc: 0.9960666837782395\n",
      "epoch: 4 train_avg_loss: 0.08445018529891968\n",
      "epoch: 9 valid_avg_loss: 0.07605082541704178 valid_avg_auc: 0.9965140149652151\n",
      "epoch: 9 train_avg_loss: 0.07380933314561844\n",
      "epoch: 14 valid_avg_loss: 0.07232453674077988 valid_avg_auc: 0.9967285675140402\n",
      "epoch: 14 train_avg_loss: 0.06980752944946289\n",
      "epoch: 19 valid_avg_loss: 0.07022850960493088 valid_avg_auc: 0.9969735598377568\n",
      "epoch: 19 train_avg_loss: 0.06760672479867935\n",
      "epoch: 24 valid_avg_loss: 0.06511011719703674 valid_avg_auc: 0.9973432415530047\n",
      "epoch: 24 train_avg_loss: 0.05882566422224045\n",
      "epoch: 29 valid_avg_loss: 0.06281816959381104 valid_avg_auc: 0.997569659220085\n",
      "epoch: 29 train_avg_loss: 0.05369206890463829\n",
      "epoch: 34 valid_avg_loss: 0.06204234063625336 valid_avg_auc: 0.9976582325293127\n",
      "epoch: 34 train_avg_loss: 0.0498175323009491\n",
      "auc:  0.9975928988507686\n",
      "========== fold: 1 ==========\n"
     ]
    },
    {
     "name": "stderr",
     "output_type": "stream",
     "text": [
      "Exception ignored in: <function _MultiProcessingDataLoaderIter.__del__ at 0x7fc9167bb710>\n",
      "Traceback (most recent call last):\n",
      "  File \"/opt/conda/lib/python3.7/site-packages/torch/utils/data/dataloader.py\", line 1358, in __del__\n",
      "    self._shutdown_workers()\n",
      "  File \"/opt/conda/lib/python3.7/site-packages/torch/utils/data/dataloader.py\", line 1341, in _shutdown_workers\n",
      "    if w.is_alive():\n",
      "  File \"/opt/conda/lib/python3.7/multiprocessing/process.py\", line 151, in is_alive\n",
      "    assert self._parent_pid == os.getpid(), 'can only test a child process'Exception ignored in: \n",
      "<function _MultiProcessingDataLoaderIter.__del__ at 0x7fc9167bb710>AssertionError\n",
      ": Traceback (most recent call last):\n",
      "can only test a child process\n",
      "  File \"/opt/conda/lib/python3.7/site-packages/torch/utils/data/dataloader.py\", line 1358, in __del__\n",
      "    self._shutdown_workers()\n",
      "  File \"/opt/conda/lib/python3.7/site-packages/torch/utils/data/dataloader.py\", line 1341, in _shutdown_workers\n",
      "    if w.is_alive():\n",
      "  File \"/opt/conda/lib/python3.7/multiprocessing/process.py\", line 151, in is_alive\n",
      "    assert self._parent_pid == os.getpid(), 'can only test a child process'\n",
      "AssertionError: can only test a child process\n",
      "Exception ignored in: <function _MultiProcessingDataLoaderIter.__del__ at 0x7fc9167bb710>\n",
      "Traceback (most recent call last):\n",
      "  File \"/opt/conda/lib/python3.7/site-packages/torch/utils/data/dataloader.py\", line 1358, in __del__\n",
      "    self._shutdown_workers()\n",
      "  File \"/opt/conda/lib/python3.7/site-packages/torch/utils/data/dataloader.py\", line 1341, in _shutdown_workers\n",
      "    if w.is_alive():\n",
      "  File \"/opt/conda/lib/python3.7/multiprocessing/process.py\", line 151, in is_alive\n",
      "    assert self._parent_pid == os.getpid(), 'can only test a child process'\n",
      "AssertionError: can only test a child process\n",
      "Exception ignored in: <function _MultiProcessingDataLoaderIter.__del__ at 0x7fc9167bb710>\n",
      "Traceback (most recent call last):\n",
      "  File \"/opt/conda/lib/python3.7/site-packages/torch/utils/data/dataloader.py\", line 1358, in __del__\n",
      "    self._shutdown_workers()\n",
      "  File \"/opt/conda/lib/python3.7/site-packages/torch/utils/data/dataloader.py\", line 1341, in _shutdown_workers\n",
      "    if w.is_alive():\n",
      "  File \"/opt/conda/lib/python3.7/multiprocessing/process.py\", line 151, in is_alive\n",
      "    assert self._parent_pid == os.getpid(), 'can only test a child process'\n",
      "AssertionError: can only test a child process\n"
     ]
    },
    {
     "name": "stdout",
     "output_type": "stream",
     "text": [
      "epoch: 4 valid_avg_loss: 0.08244728296995163 valid_avg_auc: 0.9959608291447719\n",
      "epoch: 4 train_avg_loss: 0.08038315176963806\n",
      "epoch: 9 valid_avg_loss: 0.07857293635606766 valid_avg_auc: 0.9961752325832699\n",
      "epoch: 9 train_avg_loss: 0.07286448031663895\n",
      "epoch: 14 valid_avg_loss: 0.07172706723213196 valid_avg_auc: 0.9967889337087794\n",
      "epoch: 14 train_avg_loss: 0.0693376362323761\n",
      "epoch: 19 valid_avg_loss: 0.06646936386823654 valid_avg_auc: 0.9972736678159437\n",
      "epoch: 19 train_avg_loss: 0.05923711881041527\n",
      "epoch: 24 valid_avg_loss: 0.06395790725946426 valid_avg_auc: 0.99744136354983\n",
      "epoch: 24 train_avg_loss: 0.05363491550087929\n",
      "epoch: 29 valid_avg_loss: 0.06448651850223541 valid_avg_auc: 0.9974513013173074\n",
      "epoch: 29 train_avg_loss: 0.04982519894838333\n",
      "auc:  0.9974499512247299\n",
      "========== fold: 2 ==========\n"
     ]
    },
    {
     "name": "stderr",
     "output_type": "stream",
     "text": [
      "Exception ignored in: <function _MultiProcessingDataLoaderIter.__del__ at 0x7fc9167bb710>\n",
      "Traceback (most recent call last):\n",
      "  File \"/opt/conda/lib/python3.7/site-packages/torch/utils/data/dataloader.py\", line 1358, in __del__\n",
      "    self._shutdown_workers()\n",
      "  File \"/opt/conda/lib/python3.7/site-packages/torch/utils/data/dataloader.py\", line 1341, in _shutdown_workers\n",
      "    if w.is_alive():\n",
      "  File \"/opt/conda/lib/python3.7/multiprocessing/process.py\", line 151, in is_alive\n",
      "    assert self._parent_pid == os.getpid(), 'can only test a child process'\n",
      "AssertionError: Exception ignored in: <function _MultiProcessingDataLoaderIter.__del__ at 0x7fc9167bb710>can only test a child process\n",
      "\n",
      "Traceback (most recent call last):\n",
      "  File \"/opt/conda/lib/python3.7/site-packages/torch/utils/data/dataloader.py\", line 1358, in __del__\n",
      "    self._shutdown_workers()\n",
      "  File \"/opt/conda/lib/python3.7/site-packages/torch/utils/data/dataloader.py\", line 1341, in _shutdown_workers\n",
      "    if w.is_alive():\n",
      "  File \"/opt/conda/lib/python3.7/multiprocessing/process.py\", line 151, in is_alive\n",
      "    assert self._parent_pid == os.getpid(), 'can only test a child process'\n",
      "AssertionError: can only test a child process\n",
      "Exception ignored in: <function _MultiProcessingDataLoaderIter.__del__ at 0x7fc9167bb710>\n",
      "Exception ignored in: <function _MultiProcessingDataLoaderIter.__del__ at 0x7fc9167bb710>Traceback (most recent call last):\n",
      "  File \"/opt/conda/lib/python3.7/site-packages/torch/utils/data/dataloader.py\", line 1358, in __del__\n",
      "\n",
      "    Traceback (most recent call last):\n",
      "self._shutdown_workers()\n",
      "  File \"/opt/conda/lib/python3.7/site-packages/torch/utils/data/dataloader.py\", line 1358, in __del__\n",
      "      File \"/opt/conda/lib/python3.7/site-packages/torch/utils/data/dataloader.py\", line 1341, in _shutdown_workers\n",
      "    self._shutdown_workers()if w.is_alive():\n",
      "\n",
      "  File \"/opt/conda/lib/python3.7/site-packages/torch/utils/data/dataloader.py\", line 1341, in _shutdown_workers\n",
      "  File \"/opt/conda/lib/python3.7/multiprocessing/process.py\", line 151, in is_alive\n",
      "        if w.is_alive():assert self._parent_pid == os.getpid(), 'can only test a child process'\n",
      "\n",
      "  File \"/opt/conda/lib/python3.7/multiprocessing/process.py\", line 151, in is_alive\n",
      "AssertionError    : assert self._parent_pid == os.getpid(), 'can only test a child process'can only test a child process\n",
      "\n",
      "AssertionError: can only test a child process\n"
     ]
    },
    {
     "name": "stdout",
     "output_type": "stream",
     "text": [
      "epoch: 4 valid_avg_loss: 0.08162612468004227 valid_avg_auc: 0.9958735372858474\n",
      "epoch: 4 train_avg_loss: 0.08124131709337234\n",
      "epoch: 9 valid_avg_loss: 0.07513385266065598 valid_avg_auc: 0.9964656380351744\n",
      "epoch: 9 train_avg_loss: 0.07235570251941681\n",
      "epoch: 14 valid_avg_loss: 0.07158726453781128 valid_avg_auc: 0.9968317852422103\n",
      "epoch: 14 train_avg_loss: 0.06896572560071945\n",
      "epoch: 19 valid_avg_loss: 0.07123436033725739 valid_avg_auc: 0.9968292293784428\n",
      "epoch: 19 train_avg_loss: 0.06744595617055893\n",
      "epoch: 24 valid_avg_loss: 0.07088892161846161 valid_avg_auc: 0.996883980777029\n",
      "epoch: 24 train_avg_loss: 0.06652925908565521\n",
      "epoch: 29 valid_avg_loss: 0.06921978294849396 valid_avg_auc: 0.9970304880322534\n",
      "epoch: 29 train_avg_loss: 0.06509704887866974\n",
      "epoch: 34 valid_avg_loss: 0.06898055970668793 valid_avg_auc: 0.9970651020850101\n",
      "epoch: 34 train_avg_loss: 0.06520792841911316\n",
      "epoch: 39 valid_avg_loss: 0.0635560005903244 valid_avg_auc: 0.9974674623898819\n",
      "epoch: 39 train_avg_loss: 0.05690564215183258\n",
      "epoch: 44 valid_avg_loss: 0.06232031434774399 valid_avg_auc: 0.997614635237971\n",
      "epoch: 44 train_avg_loss: 0.05276670679450035\n",
      "epoch: 49 valid_avg_loss: 0.06365099549293518 valid_avg_auc: 0.9975160012766252\n",
      "epoch: 49 train_avg_loss: 0.051332034170627594\n",
      "epoch: 54 valid_avg_loss: 0.06365407258272171 valid_avg_auc: 0.997563386130343\n",
      "epoch: 54 train_avg_loss: 0.04633671045303345\n",
      "auc:  0.9975947946437872\n",
      "========== fold: 3 ==========\n"
     ]
    },
    {
     "name": "stderr",
     "output_type": "stream",
     "text": [
      "Exception ignored in: Exception ignored in: <function _MultiProcessingDataLoaderIter.__del__ at 0x7fc9167bb710><function _MultiProcessingDataLoaderIter.__del__ at 0x7fc9167bb710>\n",
      "Traceback (most recent call last):\n",
      "\n",
      "Traceback (most recent call last):\n",
      "  File \"/opt/conda/lib/python3.7/site-packages/torch/utils/data/dataloader.py\", line 1358, in __del__\n",
      "  File \"/opt/conda/lib/python3.7/site-packages/torch/utils/data/dataloader.py\", line 1358, in __del__\n",
      "        self._shutdown_workers()self._shutdown_workers()\n",
      "  File \"/opt/conda/lib/python3.7/site-packages/torch/utils/data/dataloader.py\", line 1341, in _shutdown_workers\n",
      "    if w.is_alive():\n",
      "  File \"/opt/conda/lib/python3.7/multiprocessing/process.py\", line 151, in is_alive\n",
      "    assert self._parent_pid == os.getpid(), 'can only test a child process'\n",
      "AssertionError: can only test a child process\n",
      "\n",
      "  File \"/opt/conda/lib/python3.7/site-packages/torch/utils/data/dataloader.py\", line 1341, in _shutdown_workers\n",
      "    if w.is_alive():\n",
      "  File \"/opt/conda/lib/python3.7/multiprocessing/process.py\", line 151, in is_alive\n",
      "    assert self._parent_pid == os.getpid(), 'can only test a child process'\n",
      "AssertionError: can only test a child process\n",
      "Exception ignored in: <function _MultiProcessingDataLoaderIter.__del__ at 0x7fc9167bb710>\n",
      "Traceback (most recent call last):\n",
      "Exception ignored in:   File \"/opt/conda/lib/python3.7/site-packages/torch/utils/data/dataloader.py\", line 1358, in __del__\n",
      "<function _MultiProcessingDataLoaderIter.__del__ at 0x7fc9167bb710>\n",
      "Traceback (most recent call last):\n",
      "  File \"/opt/conda/lib/python3.7/site-packages/torch/utils/data/dataloader.py\", line 1358, in __del__\n",
      "        self._shutdown_workers()self._shutdown_workers()\n",
      "  File \"/opt/conda/lib/python3.7/site-packages/torch/utils/data/dataloader.py\", line 1341, in _shutdown_workers\n",
      "    if w.is_alive():\n",
      "\n",
      "  File \"/opt/conda/lib/python3.7/multiprocessing/process.py\", line 151, in is_alive\n",
      "  File \"/opt/conda/lib/python3.7/site-packages/torch/utils/data/dataloader.py\", line 1341, in _shutdown_workers\n",
      "        assert self._parent_pid == os.getpid(), 'can only test a child process'\n",
      "AssertionError: if w.is_alive():can only test a child process\n",
      "\n",
      "  File \"/opt/conda/lib/python3.7/multiprocessing/process.py\", line 151, in is_alive\n",
      "    assert self._parent_pid == os.getpid(), 'can only test a child process'\n",
      "AssertionError: can only test a child process\n"
     ]
    },
    {
     "name": "stdout",
     "output_type": "stream",
     "text": [
      "epoch: 4 valid_avg_loss: 0.08369636535644531 valid_avg_auc: 0.9957575847254566\n",
      "epoch: 4 train_avg_loss: 0.08173804730176926\n",
      "epoch: 9 valid_avg_loss: 0.07570412755012512 valid_avg_auc: 0.9964703791877964\n",
      "epoch: 9 train_avg_loss: 0.07254595309495926\n",
      "epoch: 14 valid_avg_loss: 0.07393931597471237 valid_avg_auc: 0.9966143810573116\n",
      "epoch: 14 train_avg_loss: 0.06949760764837265\n",
      "epoch: 19 valid_avg_loss: 0.06578819453716278 valid_avg_auc: 0.9972981962520208\n",
      "epoch: 19 train_avg_loss: 0.05945669859647751\n",
      "epoch: 24 valid_avg_loss: 0.06448161602020264 valid_avg_auc: 0.997414763664695\n",
      "epoch: 24 train_avg_loss: 0.05406994745135307\n",
      "epoch: 29 valid_avg_loss: 0.06425869464874268 valid_avg_auc: 0.9974666288287579\n",
      "epoch: 29 train_avg_loss: 0.050380732864141464\n",
      "epoch: 34 valid_avg_loss: 0.06546039134263992 valid_avg_auc: 0.9974266601582306\n",
      "epoch: 34 train_avg_loss: 0.04748793691396713\n",
      "epoch: 39 valid_avg_loss: 0.06658733636140823 valid_avg_auc: 0.9973671098627108\n",
      "epoch: 39 train_avg_loss: 0.045740317553281784\n",
      "auc:  0.9974726940043583\n",
      "========== fold: 4 ==========\n"
     ]
    },
    {
     "name": "stderr",
     "output_type": "stream",
     "text": [
      "Exception ignored in: Exception ignored in: <function _MultiProcessingDataLoaderIter.__del__ at 0x7fc9167bb710><function _MultiProcessingDataLoaderIter.__del__ at 0x7fc9167bb710>\n",
      "\n",
      "Traceback (most recent call last):\n",
      "Traceback (most recent call last):\n",
      "  File \"/opt/conda/lib/python3.7/site-packages/torch/utils/data/dataloader.py\", line 1358, in __del__\n",
      "  File \"/opt/conda/lib/python3.7/site-packages/torch/utils/data/dataloader.py\", line 1358, in __del__\n",
      "    self._shutdown_workers()    self._shutdown_workers()\n",
      "\n",
      "  File \"/opt/conda/lib/python3.7/site-packages/torch/utils/data/dataloader.py\", line 1341, in _shutdown_workers\n",
      "  File \"/opt/conda/lib/python3.7/site-packages/torch/utils/data/dataloader.py\", line 1341, in _shutdown_workers\n",
      "    if w.is_alive():\n",
      "      File \"/opt/conda/lib/python3.7/multiprocessing/process.py\", line 151, in is_alive\n",
      "    if w.is_alive():\n",
      "  File \"/opt/conda/lib/python3.7/multiprocessing/process.py\", line 151, in is_alive\n",
      "assert self._parent_pid == os.getpid(), 'can only test a child process'    \n",
      "assert self._parent_pid == os.getpid(), 'can only test a child process'\n",
      "AssertionError: can only test a child process\n",
      "AssertionError: can only test a child process\n",
      "Exception ignored in: <function _MultiProcessingDataLoaderIter.__del__ at 0x7fc9167bb710>\n",
      "Traceback (most recent call last):\n",
      "Exception ignored in:   File \"/opt/conda/lib/python3.7/site-packages/torch/utils/data/dataloader.py\", line 1358, in __del__\n",
      "<function _MultiProcessingDataLoaderIter.__del__ at 0x7fc9167bb710>    \n",
      "self._shutdown_workers()Traceback (most recent call last):\n",
      "  File \"/opt/conda/lib/python3.7/site-packages/torch/utils/data/dataloader.py\", line 1358, in __del__\n",
      "\n",
      "      File \"/opt/conda/lib/python3.7/site-packages/torch/utils/data/dataloader.py\", line 1341, in _shutdown_workers\n",
      "self._shutdown_workers()    \n",
      "  File \"/opt/conda/lib/python3.7/site-packages/torch/utils/data/dataloader.py\", line 1341, in _shutdown_workers\n",
      "    if w.is_alive():if w.is_alive():\n",
      "  File \"/opt/conda/lib/python3.7/multiprocessing/process.py\", line 151, in is_alive\n",
      "\n",
      "    assert self._parent_pid == os.getpid(), 'can only test a child process'  File \"/opt/conda/lib/python3.7/multiprocessing/process.py\", line 151, in is_alive\n",
      "    assert self._parent_pid == os.getpid(), 'can only test a child process'\n",
      "AssertionError: can only test a child process\n",
      "\n",
      "AssertionError: can only test a child process\n"
     ]
    },
    {
     "name": "stdout",
     "output_type": "stream",
     "text": [
      "epoch: 4 valid_avg_loss: 0.08548419922590256 valid_avg_auc: 0.9955470962138782\n",
      "epoch: 4 train_avg_loss: 0.08271307498216629\n",
      "epoch: 9 valid_avg_loss: 0.07589637488126755 valid_avg_auc: 0.9964669353815949\n",
      "epoch: 9 train_avg_loss: 0.0734630897641182\n",
      "epoch: 14 valid_avg_loss: 0.07447650283575058 valid_avg_auc: 0.9966400361015354\n",
      "epoch: 14 train_avg_loss: 0.0697004497051239\n",
      "epoch: 19 valid_avg_loss: 0.07164017111063004 valid_avg_auc: 0.9968435513383401\n",
      "epoch: 19 train_avg_loss: 0.06695029139518738\n",
      "epoch: 24 valid_avg_loss: 0.06845170259475708 valid_avg_auc: 0.9970762235576989\n",
      "epoch: 24 train_avg_loss: 0.06638853251934052\n",
      "epoch: 29 valid_avg_loss: 0.06454937905073166 valid_avg_auc: 0.9974102119485913\n",
      "epoch: 29 train_avg_loss: 0.05880189687013626\n",
      "epoch: 34 valid_avg_loss: 0.0631408765912056 valid_avg_auc: 0.9975562754186995\n",
      "epoch: 34 train_avg_loss: 0.05366634577512741\n",
      "epoch: 39 valid_avg_loss: 0.06413115561008453 valid_avg_auc: 0.9975183919288397\n",
      "epoch: 39 train_avg_loss: 0.049842968583106995\n",
      "epoch: 44 valid_avg_loss: 0.0643603578209877 valid_avg_auc: 0.9975079850608435\n",
      "epoch: 44 train_avg_loss: 0.04722945764660835\n",
      "auc:  0.9975619992768407\n"
     ]
    }
   ],
   "source": [
    "train_fold(NNModelImpl5, MyDataModule, \"stack9\", features)"
   ]
  },
  {
   "cell_type": "markdown",
   "id": "99768dcd",
   "metadata": {
    "id": "9d964733",
    "papermill": {
     "duration": 0.171621,
     "end_time": "2022-05-28T14:13:10.976114",
     "exception": false,
     "start_time": "2022-05-28T14:13:10.804493",
     "status": "completed"
    },
    "tags": []
   },
   "source": [
    "# predictions"
   ]
  },
  {
   "cell_type": "code",
   "execution_count": 60,
   "id": "6825acb9",
   "metadata": {
    "execution": {
     "iopub.execute_input": "2022-05-28T14:13:11.325512Z",
     "iopub.status.busy": "2022-05-28T14:13:11.325048Z",
     "iopub.status.idle": "2022-05-28T14:13:11.331531Z",
     "shell.execute_reply": "2022-05-28T14:13:11.330421Z"
    },
    "id": "6nFaSCcGtQ7L",
    "papermill": {
     "duration": 0.188017,
     "end_time": "2022-05-28T14:13:11.334366",
     "exception": false,
     "start_time": "2022-05-28T14:13:11.146349",
     "status": "completed"
    },
    "tags": []
   },
   "outputs": [],
   "source": [
    "import glob"
   ]
  },
  {
   "cell_type": "code",
   "execution_count": 61,
   "id": "cc36f99b",
   "metadata": {
    "execution": {
     "iopub.execute_input": "2022-05-28T14:13:11.724796Z",
     "iopub.status.busy": "2022-05-28T14:13:11.723734Z",
     "iopub.status.idle": "2022-05-28T14:13:11.735784Z",
     "shell.execute_reply": "2022-05-28T14:13:11.734961Z"
    },
    "id": "YPSUNjOtuAme",
    "papermill": {
     "duration": 0.215295,
     "end_time": "2022-05-28T14:13:11.739334",
     "exception": false,
     "start_time": "2022-05-28T14:13:11.524039",
     "status": "completed"
    },
    "tags": []
   },
   "outputs": [],
   "source": [
    "def pred_models(pModelImpl, pDataModule, stack_name, features):\n",
    "    # models = np.sort(glob.glob(f\"../input/model/\"+stack_name+\"*.ckpt\"))\n",
    "    models = np.sort(glob.glob(f\"./model/\"+stack_name+\"*.ckpt\"))\n",
    "    print(models)\n",
    "    predictions = pd.DataFrame()\n",
    "\n",
    "    for model_path in models:\n",
    "        modelimpl = pModelImpl(\"name\", len(features))\n",
    "        dm = pDataModule(train, test, 0, features, CFG.label)\n",
    "\n",
    "        model =  NNModel(modelimpl)\n",
    "        checkpoint = torch.load(model_path)\n",
    "        model.load_state_dict(checkpoint['state_dict'])\n",
    "\n",
    "        trainer = pl.Trainer(gpus=1, enable_progress_bar = False)\n",
    "\n",
    "        results = trainer.predict(model=model, datamodule=dm)\n",
    "        preds = []\n",
    "        for batch in results:\n",
    "            preds += batch.tolist()\n",
    "\n",
    "        predictions = pd.concat([predictions, pd.DataFrame(preds)], axis=1)\n",
    "    test[stack_name] = predictions.mean(axis=1)"
   ]
  },
  {
   "cell_type": "code",
   "execution_count": 62,
   "id": "12ff9d22",
   "metadata": {
    "execution": {
     "iopub.execute_input": "2022-05-28T14:13:12.096090Z",
     "iopub.status.busy": "2022-05-28T14:13:12.095728Z",
     "iopub.status.idle": "2022-05-28T14:13:51.495879Z",
     "shell.execute_reply": "2022-05-28T14:13:51.494971Z"
    },
    "id": "n_2XjOviuiQ5",
    "papermill": {
     "duration": 39.576652,
     "end_time": "2022-05-28T14:13:51.498400",
     "exception": false,
     "start_time": "2022-05-28T14:13:11.921748",
     "status": "completed"
    },
    "tags": []
   },
   "outputs": [
    {
     "name": "stdout",
     "output_type": "stream",
     "text": [
      "['./model/stack9_fold_0.ckpt' './model/stack9_fold_1.ckpt'\n",
      " './model/stack9_fold_2.ckpt' './model/stack9_fold_3.ckpt'\n",
      " './model/stack9_fold_4.ckpt']\n"
     ]
    },
    {
     "name": "stderr",
     "output_type": "stream",
     "text": [
      "Exception ignored in: <function _MultiProcessingDataLoaderIter.__del__ at 0x7fc9167bb710>Exception ignored in: \n",
      "<function _MultiProcessingDataLoaderIter.__del__ at 0x7fc9167bb710>Traceback (most recent call last):\n",
      "\n",
      "Traceback (most recent call last):\n",
      "  File \"/opt/conda/lib/python3.7/site-packages/torch/utils/data/dataloader.py\", line 1358, in __del__\n",
      "    self._shutdown_workers()\n",
      "  File \"/opt/conda/lib/python3.7/site-packages/torch/utils/data/dataloader.py\", line 1341, in _shutdown_workers\n",
      "      File \"/opt/conda/lib/python3.7/site-packages/torch/utils/data/dataloader.py\", line 1358, in __del__\n",
      "if w.is_alive():\n",
      "  File \"/opt/conda/lib/python3.7/multiprocessing/process.py\", line 151, in is_alive\n",
      "    assert self._parent_pid == os.getpid(), 'can only test a child process'\n",
      "AssertionError    : can only test a child process\n",
      "self._shutdown_workers()\n",
      "  File \"/opt/conda/lib/python3.7/site-packages/torch/utils/data/dataloader.py\", line 1341, in _shutdown_workers\n",
      "    if w.is_alive():\n",
      "  File \"/opt/conda/lib/python3.7/multiprocessing/process.py\", line 151, in is_alive\n",
      "    assert self._parent_pid == os.getpid(), 'can only test a child process'\n",
      "AssertionError: can only test a child process\n",
      "Exception ignored in: <function _MultiProcessingDataLoaderIter.__del__ at 0x7fc9167bb710>\n",
      "Traceback (most recent call last):\n",
      "  File \"/opt/conda/lib/python3.7/site-packages/torch/utils/data/dataloader.py\", line 1358, in __del__\n",
      "    Exception ignored in: self._shutdown_workers()\n",
      "<function _MultiProcessingDataLoaderIter.__del__ at 0x7fc9167bb710>  File \"/opt/conda/lib/python3.7/site-packages/torch/utils/data/dataloader.py\", line 1341, in _shutdown_workers\n",
      "\n",
      "Traceback (most recent call last):\n",
      "      File \"/opt/conda/lib/python3.7/site-packages/torch/utils/data/dataloader.py\", line 1358, in __del__\n",
      "if w.is_alive():    \n",
      "  File \"/opt/conda/lib/python3.7/multiprocessing/process.py\", line 151, in is_alive\n",
      "    assert self._parent_pid == os.getpid(), 'can only test a child process'\n",
      "AssertionError: can only test a child process\n",
      "self._shutdown_workers()\n",
      "  File \"/opt/conda/lib/python3.7/site-packages/torch/utils/data/dataloader.py\", line 1341, in _shutdown_workers\n",
      "    if w.is_alive():\n",
      "  File \"/opt/conda/lib/python3.7/multiprocessing/process.py\", line 151, in is_alive\n",
      "    assert self._parent_pid == os.getpid(), 'can only test a child process'\n",
      "AssertionError: can only test a child process\n",
      "Exception ignored in: <function _MultiProcessingDataLoaderIter.__del__ at 0x7fc9167bb710>\n",
      "Traceback (most recent call last):\n",
      "  File \"/opt/conda/lib/python3.7/site-packages/torch/utils/data/dataloader.py\", line 1358, in __del__\n",
      "    self._shutdown_workers()\n",
      "  File \"/opt/conda/lib/python3.7/site-packages/torch/utils/data/dataloader.py\", line 1341, in _shutdown_workers\n",
      "    if w.is_alive():\n",
      "  File \"/opt/conda/lib/python3.7/multiprocessing/process.py\", line 151, in is_alive\n",
      "    assert self._parent_pid == os.getpid(), 'can only test a child process'\n",
      "AssertionError: can only test a child process\n",
      "Exception ignored in: <function _MultiProcessingDataLoaderIter.__del__ at 0x7fc9167bb710>\n",
      "Traceback (most recent call last):\n",
      "  File \"/opt/conda/lib/python3.7/site-packages/torch/utils/data/dataloader.py\", line 1358, in __del__\n",
      "    self._shutdown_workers()\n",
      "  File \"/opt/conda/lib/python3.7/site-packages/torch/utils/data/dataloader.py\", line 1341, in _shutdown_workers\n",
      "    if w.is_alive():\n",
      "  File \"/opt/conda/lib/python3.7/multiprocessing/process.py\", line 151, in is_alive\n",
      "    assert self._parent_pid == os.getpid(), 'can only test a child process'\n",
      "AssertionError: can only test a child process\n",
      "Exception ignored in: <function _MultiProcessingDataLoaderIter.__del__ at 0x7fc9167bb710>\n",
      "Traceback (most recent call last):\n",
      "  File \"/opt/conda/lib/python3.7/site-packages/torch/utils/data/dataloader.py\", line 1358, in __del__\n",
      "    self._shutdown_workers()\n",
      "  File \"/opt/conda/lib/python3.7/site-packages/torch/utils/data/dataloader.py\", line 1341, in _shutdown_workers\n",
      "    if w.is_alive():\n",
      "  File \"/opt/conda/lib/python3.7/multiprocessing/process.py\", line 151, in is_alive\n",
      "    assert self._parent_pid == os.getpid(), 'can only test a child process'\n",
      "AssertionError: can only test a child process\n",
      "Exception ignored in: <function _MultiProcessingDataLoaderIter.__del__ at 0x7fc9167bb710>\n",
      "Traceback (most recent call last):\n",
      "  File \"/opt/conda/lib/python3.7/site-packages/torch/utils/data/dataloader.py\", line 1358, in __del__\n",
      "    self._shutdown_workers()\n",
      "  File \"/opt/conda/lib/python3.7/site-packages/torch/utils/data/dataloader.py\", line 1341, in _shutdown_workers\n",
      "    if w.is_alive():\n",
      "  File \"/opt/conda/lib/python3.7/multiprocessing/process.py\", line 151, in is_alive\n",
      "    assert self._parent_pid == os.getpid(), 'can only test a child process'\n",
      "AssertionError: can only test a child process\n",
      "Exception ignored in: <function _MultiProcessingDataLoaderIter.__del__ at 0x7fc9167bb710>\n",
      "Traceback (most recent call last):\n",
      "  File \"/opt/conda/lib/python3.7/site-packages/torch/utils/data/dataloader.py\", line 1358, in __del__\n",
      "    self._shutdown_workers()\n",
      "  File \"/opt/conda/lib/python3.7/site-packages/torch/utils/data/dataloader.py\", line 1341, in _shutdown_workers\n",
      "    if w.is_alive():\n",
      "  File \"/opt/conda/lib/python3.7/multiprocessing/process.py\", line 151, in is_alive\n",
      "    assert self._parent_pid == os.getpid(), 'can only test a child process'\n",
      "Exception ignored in: <function _MultiProcessingDataLoaderIter.__del__ at 0x7fc9167bb710>AssertionError: \n",
      "can only test a child process\n",
      "Traceback (most recent call last):\n",
      "  File \"/opt/conda/lib/python3.7/site-packages/torch/utils/data/dataloader.py\", line 1358, in __del__\n",
      "    self._shutdown_workers()\n",
      "  File \"/opt/conda/lib/python3.7/site-packages/torch/utils/data/dataloader.py\", line 1341, in _shutdown_workers\n",
      "    if w.is_alive():\n",
      "  File \"/opt/conda/lib/python3.7/multiprocessing/process.py\", line 151, in is_alive\n",
      "    assert self._parent_pid == os.getpid(), 'can only test a child process'\n",
      "AssertionError: can only test a child process\n"
     ]
    }
   ],
   "source": [
    "pred_models(NNModelImpl5, MyDataModule, \"stack9\", features)"
   ]
  },
  {
   "cell_type": "code",
   "execution_count": 63,
   "id": "4293482d",
   "metadata": {
    "execution": {
     "iopub.execute_input": "2022-05-28T14:13:51.876360Z",
     "iopub.status.busy": "2022-05-28T14:13:51.875981Z",
     "iopub.status.idle": "2022-05-28T14:14:31.954889Z",
     "shell.execute_reply": "2022-05-28T14:14:31.953950Z"
    },
    "id": "tYN8oQwNtfvR",
    "papermill": {
     "duration": 40.270101,
     "end_time": "2022-05-28T14:14:31.957369",
     "exception": false,
     "start_time": "2022-05-28T14:13:51.687268",
     "status": "completed"
    },
    "tags": []
   },
   "outputs": [
    {
     "name": "stdout",
     "output_type": "stream",
     "text": [
      "['./model/stack3_fold_0.ckpt' './model/stack3_fold_1.ckpt'\n",
      " './model/stack3_fold_2.ckpt' './model/stack3_fold_3.ckpt'\n",
      " './model/stack3_fold_4.ckpt']\n"
     ]
    },
    {
     "name": "stderr",
     "output_type": "stream",
     "text": [
      "Exception ignored in: <function _MultiProcessingDataLoaderIter.__del__ at 0x7fc9167bb710>\n",
      "Traceback (most recent call last):\n",
      "  File \"/opt/conda/lib/python3.7/site-packages/torch/utils/data/dataloader.py\", line 1358, in __del__\n",
      "    Exception ignored in: self._shutdown_workers()\n",
      "<function _MultiProcessingDataLoaderIter.__del__ at 0x7fc9167bb710>  File \"/opt/conda/lib/python3.7/site-packages/torch/utils/data/dataloader.py\", line 1341, in _shutdown_workers\n",
      "\n",
      "    Traceback (most recent call last):\n",
      "if w.is_alive():  File \"/opt/conda/lib/python3.7/site-packages/torch/utils/data/dataloader.py\", line 1358, in __del__\n",
      "\n",
      "    self._shutdown_workers()\n",
      "  File \"/opt/conda/lib/python3.7/site-packages/torch/utils/data/dataloader.py\", line 1341, in _shutdown_workers\n",
      "  File \"/opt/conda/lib/python3.7/multiprocessing/process.py\", line 151, in is_alive\n",
      "        assert self._parent_pid == os.getpid(), 'can only test a child process'if w.is_alive():\n",
      "\n",
      "  File \"/opt/conda/lib/python3.7/multiprocessing/process.py\", line 151, in is_alive\n",
      "AssertionError    : assert self._parent_pid == os.getpid(), 'can only test a child process'\n",
      "can only test a child processAssertionError: \n",
      "can only test a child process\n",
      "Exception ignored in: <function _MultiProcessingDataLoaderIter.__del__ at 0x7fc9167bb710>\n",
      "Traceback (most recent call last):\n",
      "  File \"/opt/conda/lib/python3.7/site-packages/torch/utils/data/dataloader.py\", line 1358, in __del__\n",
      "    self._shutdown_workers()\n",
      "  File \"/opt/conda/lib/python3.7/site-packages/torch/utils/data/dataloader.py\", line 1341, in _shutdown_workers\n",
      "    if w.is_alive():\n",
      "  File \"/opt/conda/lib/python3.7/multiprocessing/process.py\", line 151, in is_alive\n",
      "    assert self._parent_pid == os.getpid(), 'can only test a child process'\n",
      "AssertionError: can only test a child process\n",
      "Exception ignored in: <function _MultiProcessingDataLoaderIter.__del__ at 0x7fc9167bb710>\n",
      "Traceback (most recent call last):\n",
      "  File \"/opt/conda/lib/python3.7/site-packages/torch/utils/data/dataloader.py\", line 1358, in __del__\n",
      "    self._shutdown_workers()\n",
      "  File \"/opt/conda/lib/python3.7/site-packages/torch/utils/data/dataloader.py\", line 1341, in _shutdown_workers\n",
      "    if w.is_alive():\n",
      "  File \"/opt/conda/lib/python3.7/multiprocessing/process.py\", line 151, in is_alive\n",
      "    assert self._parent_pid == os.getpid(), 'can only test a child process'\n",
      "AssertionError: can only test a child process\n",
      "Exception ignored in: <function _MultiProcessingDataLoaderIter.__del__ at 0x7fc9167bb710>\n",
      "Traceback (most recent call last):\n",
      "  File \"/opt/conda/lib/python3.7/site-packages/torch/utils/data/dataloader.py\", line 1358, in __del__\n",
      "    self._shutdown_workers()\n",
      "  File \"/opt/conda/lib/python3.7/site-packages/torch/utils/data/dataloader.py\", line 1341, in _shutdown_workers\n",
      "    if w.is_alive():\n",
      "  File \"/opt/conda/lib/python3.7/multiprocessing/process.py\", line 151, in is_alive\n",
      "    assert self._parent_pid == os.getpid(), 'can only test a child process'\n",
      "AssertionError: can only test a child process\n",
      "Exception ignored in: <function _MultiProcessingDataLoaderIter.__del__ at 0x7fc9167bb710>\n",
      "Traceback (most recent call last):\n",
      "  File \"/opt/conda/lib/python3.7/site-packages/torch/utils/data/dataloader.py\", line 1358, in __del__\n",
      "    self._shutdown_workers()\n",
      "  File \"/opt/conda/lib/python3.7/site-packages/torch/utils/data/dataloader.py\", line 1341, in _shutdown_workers\n",
      "    if w.is_alive():\n",
      "  File \"/opt/conda/lib/python3.7/multiprocessing/process.py\", line 151, in is_alive\n",
      "    assert self._parent_pid == os.getpid(), 'can only test a child process'\n",
      "AssertionError: can only test a child process\n",
      "Exception ignored in: <function _MultiProcessingDataLoaderIter.__del__ at 0x7fc9167bb710>Exception ignored in: \n",
      "<function _MultiProcessingDataLoaderIter.__del__ at 0x7fc9167bb710>Traceback (most recent call last):\n",
      "  File \"/opt/conda/lib/python3.7/site-packages/torch/utils/data/dataloader.py\", line 1358, in __del__\n",
      "\n",
      "    self._shutdown_workers()Traceback (most recent call last):\n",
      "\n",
      "  File \"/opt/conda/lib/python3.7/site-packages/torch/utils/data/dataloader.py\", line 1358, in __del__\n",
      "    self._shutdown_workers()  File \"/opt/conda/lib/python3.7/site-packages/torch/utils/data/dataloader.py\", line 1341, in _shutdown_workers\n",
      "\n",
      "      File \"/opt/conda/lib/python3.7/site-packages/torch/utils/data/dataloader.py\", line 1341, in _shutdown_workers\n",
      "if w.is_alive():    if w.is_alive():\n",
      "  File \"/opt/conda/lib/python3.7/multiprocessing/process.py\", line 151, in is_alive\n",
      "\n",
      "      File \"/opt/conda/lib/python3.7/multiprocessing/process.py\", line 151, in is_alive\n",
      "    assert self._parent_pid == os.getpid(), 'can only test a child process'assert self._parent_pid == os.getpid(), 'can only test a child process'\n",
      "\n",
      "AssertionErrorAssertionError: : can only test a child processcan only test a child process\n",
      "\n",
      "Exception ignored in: <function _MultiProcessingDataLoaderIter.__del__ at 0x7fc9167bb710>\n",
      "Traceback (most recent call last):\n",
      "  File \"/opt/conda/lib/python3.7/site-packages/torch/utils/data/dataloader.py\", line 1358, in __del__\n",
      "    self._shutdown_workers()\n",
      "  File \"/opt/conda/lib/python3.7/site-packages/torch/utils/data/dataloader.py\", line 1341, in _shutdown_workers\n",
      "    if w.is_alive():\n",
      "Exception ignored in:   File \"/opt/conda/lib/python3.7/multiprocessing/process.py\", line 151, in is_alive\n",
      "<function _MultiProcessingDataLoaderIter.__del__ at 0x7fc9167bb710>\n",
      "    Traceback (most recent call last):\n",
      "assert self._parent_pid == os.getpid(), 'can only test a child process'  File \"/opt/conda/lib/python3.7/site-packages/torch/utils/data/dataloader.py\", line 1358, in __del__\n",
      "\n",
      "AssertionError    : can only test a child processself._shutdown_workers()\n",
      "\n",
      "  File \"/opt/conda/lib/python3.7/site-packages/torch/utils/data/dataloader.py\", line 1341, in _shutdown_workers\n",
      "    if w.is_alive():\n",
      "  File \"/opt/conda/lib/python3.7/multiprocessing/process.py\", line 151, in is_alive\n",
      "    assert self._parent_pid == os.getpid(), 'can only test a child process'\n",
      "AssertionError: can only test a child process\n"
     ]
    }
   ],
   "source": [
    "pred_models(NNModelImpl, MyDataModule, \"stack3\", features)"
   ]
  },
  {
   "cell_type": "code",
   "execution_count": 64,
   "id": "b22f4302",
   "metadata": {
    "execution": {
     "iopub.execute_input": "2022-05-28T14:14:32.428734Z",
     "iopub.status.busy": "2022-05-28T14:14:32.428337Z",
     "iopub.status.idle": "2022-05-28T14:15:13.516283Z",
     "shell.execute_reply": "2022-05-28T14:15:13.515309Z"
    },
    "id": "L7Ymb8tiGWA2",
    "papermill": {
     "duration": 41.287498,
     "end_time": "2022-05-28T14:15:13.518846",
     "exception": false,
     "start_time": "2022-05-28T14:14:32.231348",
     "status": "completed"
    },
    "tags": []
   },
   "outputs": [
    {
     "name": "stdout",
     "output_type": "stream",
     "text": [
      "['./model/stack4_fold_0.ckpt' './model/stack4_fold_1.ckpt'\n",
      " './model/stack4_fold_2.ckpt' './model/stack4_fold_3.ckpt'\n",
      " './model/stack4_fold_4.ckpt']\n"
     ]
    },
    {
     "name": "stderr",
     "output_type": "stream",
     "text": [
      "Exception ignored in: <function _MultiProcessingDataLoaderIter.__del__ at 0x7fc9167bb710>\n",
      "Traceback (most recent call last):\n",
      "  File \"/opt/conda/lib/python3.7/site-packages/torch/utils/data/dataloader.py\", line 1358, in __del__\n",
      "    self._shutdown_workers()\n",
      "  File \"/opt/conda/lib/python3.7/site-packages/torch/utils/data/dataloader.py\", line 1341, in _shutdown_workers\n",
      "    if w.is_alive():\n",
      "  File \"/opt/conda/lib/python3.7/multiprocessing/process.py\", line 151, in is_alive\n",
      "    assert self._parent_pid == os.getpid(), 'can only test a child process'\n",
      "AssertionError: can only test a child process\n",
      "Exception ignored in: <function _MultiProcessingDataLoaderIter.__del__ at 0x7fc9167bb710>\n",
      "Traceback (most recent call last):\n",
      "  File \"/opt/conda/lib/python3.7/site-packages/torch/utils/data/dataloader.py\", line 1358, in __del__\n",
      "    self._shutdown_workers()\n",
      "  File \"/opt/conda/lib/python3.7/site-packages/torch/utils/data/dataloader.py\", line 1341, in _shutdown_workers\n",
      "    if w.is_alive():\n",
      "  File \"/opt/conda/lib/python3.7/multiprocessing/process.py\", line 151, in is_alive\n",
      "    assert self._parent_pid == os.getpid(), 'can only test a child process'\n",
      "AssertionError: can only test a child process\n",
      "Exception ignored in: <function _MultiProcessingDataLoaderIter.__del__ at 0x7fc9167bb710>\n",
      "Traceback (most recent call last):\n",
      "  File \"/opt/conda/lib/python3.7/site-packages/torch/utils/data/dataloader.py\", line 1358, in __del__\n",
      "    self._shutdown_workers()\n",
      "  File \"/opt/conda/lib/python3.7/site-packages/torch/utils/data/dataloader.py\", line 1341, in _shutdown_workers\n",
      "    if w.is_alive():\n",
      "Exception ignored in:   File \"/opt/conda/lib/python3.7/multiprocessing/process.py\", line 151, in is_alive\n",
      "<function _MultiProcessingDataLoaderIter.__del__ at 0x7fc9167bb710>    \n",
      "assert self._parent_pid == os.getpid(), 'can only test a child process'\n",
      "AssertionError: Traceback (most recent call last):\n",
      "can only test a child process\n",
      "  File \"/opt/conda/lib/python3.7/site-packages/torch/utils/data/dataloader.py\", line 1358, in __del__\n",
      "    self._shutdown_workers()\n",
      "  File \"/opt/conda/lib/python3.7/site-packages/torch/utils/data/dataloader.py\", line 1341, in _shutdown_workers\n",
      "    if w.is_alive():\n",
      "  File \"/opt/conda/lib/python3.7/multiprocessing/process.py\", line 151, in is_alive\n",
      "    assert self._parent_pid == os.getpid(), 'can only test a child process'\n",
      "AssertionError: can only test a child process\n",
      "Exception ignored in: <function _MultiProcessingDataLoaderIter.__del__ at 0x7fc9167bb710>\n",
      "Traceback (most recent call last):\n",
      "  File \"/opt/conda/lib/python3.7/site-packages/torch/utils/data/dataloader.py\", line 1358, in __del__\n",
      "    self._shutdown_workers()\n",
      "  File \"/opt/conda/lib/python3.7/site-packages/torch/utils/data/dataloader.py\", line 1341, in _shutdown_workers\n",
      "    if w.is_alive():\n",
      "Exception ignored in:   File \"/opt/conda/lib/python3.7/multiprocessing/process.py\", line 151, in is_alive\n",
      "<function _MultiProcessingDataLoaderIter.__del__ at 0x7fc9167bb710>    assert self._parent_pid == os.getpid(), 'can only test a child process'\n",
      "\n",
      "AssertionError: can only test a child process\n",
      "Traceback (most recent call last):\n",
      "  File \"/opt/conda/lib/python3.7/site-packages/torch/utils/data/dataloader.py\", line 1358, in __del__\n",
      "    self._shutdown_workers()\n",
      "  File \"/opt/conda/lib/python3.7/site-packages/torch/utils/data/dataloader.py\", line 1341, in _shutdown_workers\n",
      "    if w.is_alive():\n",
      "  File \"/opt/conda/lib/python3.7/multiprocessing/process.py\", line 151, in is_alive\n",
      "    assert self._parent_pid == os.getpid(), 'can only test a child process'\n",
      "AssertionError: can only test a child process\n",
      "Exception ignored in: <function _MultiProcessingDataLoaderIter.__del__ at 0x7fc9167bb710>\n",
      "Traceback (most recent call last):\n",
      "  File \"/opt/conda/lib/python3.7/site-packages/torch/utils/data/dataloader.py\", line 1358, in __del__\n",
      "    self._shutdown_workers()\n",
      "  File \"/opt/conda/lib/python3.7/site-packages/torch/utils/data/dataloader.py\", line 1341, in _shutdown_workers\n",
      "    if w.is_alive():\n",
      "  File \"/opt/conda/lib/python3.7/multiprocessing/process.py\", line 151, in is_alive\n",
      "    assert self._parent_pid == os.getpid(), 'can only test a child process'\n",
      "AssertionError: Exception ignored in: can only test a child process\n",
      "<function _MultiProcessingDataLoaderIter.__del__ at 0x7fc9167bb710>\n",
      "Traceback (most recent call last):\n",
      "  File \"/opt/conda/lib/python3.7/site-packages/torch/utils/data/dataloader.py\", line 1358, in __del__\n",
      "    self._shutdown_workers()\n",
      "  File \"/opt/conda/lib/python3.7/site-packages/torch/utils/data/dataloader.py\", line 1341, in _shutdown_workers\n",
      "    if w.is_alive():\n",
      "  File \"/opt/conda/lib/python3.7/multiprocessing/process.py\", line 151, in is_alive\n",
      "    assert self._parent_pid == os.getpid(), 'can only test a child process'\n",
      "AssertionError: can only test a child process\n",
      "Exception ignored in: <function _MultiProcessingDataLoaderIter.__del__ at 0x7fc9167bb710>\n",
      "Traceback (most recent call last):\n",
      "  File \"/opt/conda/lib/python3.7/site-packages/torch/utils/data/dataloader.py\", line 1358, in __del__\n",
      "    self._shutdown_workers()\n",
      "  File \"/opt/conda/lib/python3.7/site-packages/torch/utils/data/dataloader.py\", line 1341, in _shutdown_workers\n",
      "    if w.is_alive():\n",
      "  File \"/opt/conda/lib/python3.7/multiprocessing/process.py\", line 151, in is_alive\n",
      "Exception ignored in:     assert self._parent_pid == os.getpid(), 'can only test a child process'\n",
      "<function _MultiProcessingDataLoaderIter.__del__ at 0x7fc9167bb710>AssertionError: can only test a child process\n",
      "\n",
      "Traceback (most recent call last):\n",
      "  File \"/opt/conda/lib/python3.7/site-packages/torch/utils/data/dataloader.py\", line 1358, in __del__\n",
      "    self._shutdown_workers()\n",
      "  File \"/opt/conda/lib/python3.7/site-packages/torch/utils/data/dataloader.py\", line 1341, in _shutdown_workers\n",
      "    if w.is_alive():\n",
      "  File \"/opt/conda/lib/python3.7/multiprocessing/process.py\", line 151, in is_alive\n",
      "    assert self._parent_pid == os.getpid(), 'can only test a child process'\n",
      "AssertionError: can only test a child process\n"
     ]
    }
   ],
   "source": [
    "pred_models(NNModelImpl2, MyDataModule, \"stack4\", features)"
   ]
  },
  {
   "cell_type": "code",
   "execution_count": 65,
   "id": "f698cb95",
   "metadata": {
    "execution": {
     "iopub.execute_input": "2022-05-28T14:15:13.929765Z",
     "iopub.status.busy": "2022-05-28T14:15:13.929391Z",
     "iopub.status.idle": "2022-05-28T14:15:52.608155Z",
     "shell.execute_reply": "2022-05-28T14:15:52.607216Z"
    },
    "id": "opsXNxS3kMD5",
    "papermill": {
     "duration": 38.885273,
     "end_time": "2022-05-28T14:15:52.610417",
     "exception": false,
     "start_time": "2022-05-28T14:15:13.725144",
     "status": "completed"
    },
    "tags": []
   },
   "outputs": [
    {
     "name": "stdout",
     "output_type": "stream",
     "text": [
      "['./model/stack5_fold_0.ckpt' './model/stack5_fold_1.ckpt'\n",
      " './model/stack5_fold_2.ckpt' './model/stack5_fold_3.ckpt'\n",
      " './model/stack5_fold_4.ckpt']\n"
     ]
    },
    {
     "name": "stderr",
     "output_type": "stream",
     "text": [
      "Exception ignored in: Exception ignored in: <function _MultiProcessingDataLoaderIter.__del__ at 0x7fc9167bb710><function _MultiProcessingDataLoaderIter.__del__ at 0x7fc9167bb710>\n",
      "\n",
      "Traceback (most recent call last):\n",
      "Traceback (most recent call last):\n",
      "  File \"/opt/conda/lib/python3.7/site-packages/torch/utils/data/dataloader.py\", line 1358, in __del__\n",
      "  File \"/opt/conda/lib/python3.7/site-packages/torch/utils/data/dataloader.py\", line 1358, in __del__\n",
      "        self._shutdown_workers()\n",
      "self._shutdown_workers()  File \"/opt/conda/lib/python3.7/site-packages/torch/utils/data/dataloader.py\", line 1341, in _shutdown_workers\n",
      "\n",
      "      File \"/opt/conda/lib/python3.7/site-packages/torch/utils/data/dataloader.py\", line 1341, in _shutdown_workers\n",
      "if w.is_alive():\n",
      "  File \"/opt/conda/lib/python3.7/multiprocessing/process.py\", line 151, in is_alive\n",
      "    assert self._parent_pid == os.getpid(), 'can only test a child process'\n",
      "AssertionError: can only test a child process\n",
      "    if w.is_alive():\n",
      "  File \"/opt/conda/lib/python3.7/multiprocessing/process.py\", line 151, in is_alive\n",
      "    assert self._parent_pid == os.getpid(), 'can only test a child process'\n",
      "AssertionError: can only test a child process\n",
      "Exception ignored in: <function _MultiProcessingDataLoaderIter.__del__ at 0x7fc9167bb710>\n",
      "Traceback (most recent call last):\n",
      "  File \"/opt/conda/lib/python3.7/site-packages/torch/utils/data/dataloader.py\", line 1358, in __del__\n",
      "    self._shutdown_workers()\n",
      "  File \"/opt/conda/lib/python3.7/site-packages/torch/utils/data/dataloader.py\", line 1341, in _shutdown_workers\n",
      "    if w.is_alive():\n",
      "  File \"/opt/conda/lib/python3.7/multiprocessing/process.py\", line 151, in is_alive\n",
      "    assert self._parent_pid == os.getpid(), 'can only test a child process'\n",
      "AssertionError: can only test a child process\n",
      "Exception ignored in: <function _MultiProcessingDataLoaderIter.__del__ at 0x7fc9167bb710>\n",
      "Traceback (most recent call last):\n",
      "  File \"/opt/conda/lib/python3.7/site-packages/torch/utils/data/dataloader.py\", line 1358, in __del__\n",
      "    self._shutdown_workers()\n",
      "  File \"/opt/conda/lib/python3.7/site-packages/torch/utils/data/dataloader.py\", line 1341, in _shutdown_workers\n",
      "    if w.is_alive():\n",
      "  File \"/opt/conda/lib/python3.7/multiprocessing/process.py\", line 151, in is_alive\n",
      "    assert self._parent_pid == os.getpid(), 'can only test a child process'\n",
      "AssertionError: can only test a child process\n",
      "Exception ignored in: <function _MultiProcessingDataLoaderIter.__del__ at 0x7fc9167bb710>\n",
      "Traceback (most recent call last):\n",
      "  File \"/opt/conda/lib/python3.7/site-packages/torch/utils/data/dataloader.py\", line 1358, in __del__\n",
      "    self._shutdown_workers()\n",
      "  File \"/opt/conda/lib/python3.7/site-packages/torch/utils/data/dataloader.py\", line 1341, in _shutdown_workers\n",
      "    if w.is_alive():\n",
      "  File \"/opt/conda/lib/python3.7/multiprocessing/process.py\", line 151, in is_alive\n",
      "    assert self._parent_pid == os.getpid(), 'can only test a child process'\n",
      "AssertionError: can only test a child process\n",
      "Exception ignored in: <function _MultiProcessingDataLoaderIter.__del__ at 0x7fc9167bb710>\n",
      "Traceback (most recent call last):\n",
      "  File \"/opt/conda/lib/python3.7/site-packages/torch/utils/data/dataloader.py\", line 1358, in __del__\n",
      "    self._shutdown_workers()\n",
      "  File \"/opt/conda/lib/python3.7/site-packages/torch/utils/data/dataloader.py\", line 1341, in _shutdown_workers\n",
      "    if w.is_alive():\n",
      "  File \"/opt/conda/lib/python3.7/multiprocessing/process.py\", line 151, in is_alive\n",
      "    assert self._parent_pid == os.getpid(), 'can only test a child process'\n",
      "AssertionError: can only test a child process\n",
      "Exception ignored in: <function _MultiProcessingDataLoaderIter.__del__ at 0x7fc9167bb710>\n",
      "Exception ignored in: Traceback (most recent call last):\n",
      "  File \"/opt/conda/lib/python3.7/site-packages/torch/utils/data/dataloader.py\", line 1358, in __del__\n",
      "<function _MultiProcessingDataLoaderIter.__del__ at 0x7fc9167bb710>\n",
      "    Traceback (most recent call last):\n",
      "self._shutdown_workers()  File \"/opt/conda/lib/python3.7/site-packages/torch/utils/data/dataloader.py\", line 1358, in __del__\n",
      "\n",
      "  File \"/opt/conda/lib/python3.7/site-packages/torch/utils/data/dataloader.py\", line 1341, in _shutdown_workers\n",
      "        if w.is_alive():\n",
      "self._shutdown_workers()\n",
      "  File \"/opt/conda/lib/python3.7/site-packages/torch/utils/data/dataloader.py\", line 1341, in _shutdown_workers\n",
      "    if w.is_alive():\n",
      "  File \"/opt/conda/lib/python3.7/multiprocessing/process.py\", line 151, in is_alive\n",
      "      File \"/opt/conda/lib/python3.7/multiprocessing/process.py\", line 151, in is_alive\n",
      "assert self._parent_pid == os.getpid(), 'can only test a child process'\n",
      "    AssertionError: can only test a child process\n",
      "assert self._parent_pid == os.getpid(), 'can only test a child process'\n",
      "AssertionError: can only test a child process\n",
      "Exception ignored in: <function _MultiProcessingDataLoaderIter.__del__ at 0x7fc9167bb710>\n",
      "Traceback (most recent call last):\n",
      "Exception ignored in:   File \"/opt/conda/lib/python3.7/site-packages/torch/utils/data/dataloader.py\", line 1358, in __del__\n",
      "<function _MultiProcessingDataLoaderIter.__del__ at 0x7fc9167bb710>    \n",
      "self._shutdown_workers()Traceback (most recent call last):\n",
      "\n",
      "  File \"/opt/conda/lib/python3.7/site-packages/torch/utils/data/dataloader.py\", line 1341, in _shutdown_workers\n",
      "    if w.is_alive():  File \"/opt/conda/lib/python3.7/site-packages/torch/utils/data/dataloader.py\", line 1358, in __del__\n",
      "\n",
      "      File \"/opt/conda/lib/python3.7/multiprocessing/process.py\", line 151, in is_alive\n",
      "    assert self._parent_pid == os.getpid(), 'can only test a child process'self._shutdown_workers()\n",
      "\n",
      "  File \"/opt/conda/lib/python3.7/site-packages/torch/utils/data/dataloader.py\", line 1341, in _shutdown_workers\n",
      "AssertionError    if w.is_alive():: \n",
      "can only test a child process\n",
      "  File \"/opt/conda/lib/python3.7/multiprocessing/process.py\", line 151, in is_alive\n",
      "    assert self._parent_pid == os.getpid(), 'can only test a child process'\n",
      "AssertionError: can only test a child process\n"
     ]
    }
   ],
   "source": [
    "pred_models(NNModelImpl3, MyDataModule, \"stack5\", features)"
   ]
  },
  {
   "cell_type": "code",
   "execution_count": 66,
   "id": "53c2cb38",
   "metadata": {
    "execution": {
     "iopub.execute_input": "2022-05-28T14:15:53.076707Z",
     "iopub.status.busy": "2022-05-28T14:15:53.075760Z",
     "iopub.status.idle": "2022-05-28T14:17:10.373758Z",
     "shell.execute_reply": "2022-05-28T14:17:10.372764Z"
    },
    "id": "-U5dEZvmcCXF",
    "papermill": {
     "duration": 77.51717,
     "end_time": "2022-05-28T14:17:10.376364",
     "exception": false,
     "start_time": "2022-05-28T14:15:52.859194",
     "status": "completed"
    },
    "tags": []
   },
   "outputs": [
    {
     "name": "stdout",
     "output_type": "stream",
     "text": [
      "['./model/stack7_fold_0.ckpt' './model/stack7_fold_1.ckpt'\n",
      " './model/stack7_fold_2.ckpt' './model/stack7_fold_3.ckpt'\n",
      " './model/stack7_fold_4.ckpt']\n"
     ]
    },
    {
     "name": "stderr",
     "output_type": "stream",
     "text": [
      "Exception ignored in: <function _MultiProcessingDataLoaderIter.__del__ at 0x7fc9167bb710>\n",
      "Traceback (most recent call last):\n",
      "Exception ignored in:   File \"/opt/conda/lib/python3.7/site-packages/torch/utils/data/dataloader.py\", line 1358, in __del__\n",
      "<function _MultiProcessingDataLoaderIter.__del__ at 0x7fc9167bb710>    \n",
      "self._shutdown_workers()Traceback (most recent call last):\n",
      "\n",
      "  File \"/opt/conda/lib/python3.7/site-packages/torch/utils/data/dataloader.py\", line 1341, in _shutdown_workers\n",
      "  File \"/opt/conda/lib/python3.7/site-packages/torch/utils/data/dataloader.py\", line 1358, in __del__\n",
      "        if w.is_alive():\n",
      "self._shutdown_workers()  File \"/opt/conda/lib/python3.7/multiprocessing/process.py\", line 151, in is_alive\n",
      "    \n",
      "assert self._parent_pid == os.getpid(), 'can only test a child process'\n",
      "  File \"/opt/conda/lib/python3.7/site-packages/torch/utils/data/dataloader.py\", line 1341, in _shutdown_workers\n",
      "    AssertionError: can only test a child process\n",
      "if w.is_alive():\n",
      "  File \"/opt/conda/lib/python3.7/multiprocessing/process.py\", line 151, in is_alive\n",
      "    assert self._parent_pid == os.getpid(), 'can only test a child process'\n",
      "AssertionError: can only test a child process\n",
      "Exception ignored in: <function _MultiProcessingDataLoaderIter.__del__ at 0x7fc9167bb710>Exception ignored in: \n",
      "<function _MultiProcessingDataLoaderIter.__del__ at 0x7fc9167bb710>Traceback (most recent call last):\n",
      "  File \"/opt/conda/lib/python3.7/site-packages/torch/utils/data/dataloader.py\", line 1358, in __del__\n",
      "\n",
      "Traceback (most recent call last):\n",
      "    self._shutdown_workers()  File \"/opt/conda/lib/python3.7/site-packages/torch/utils/data/dataloader.py\", line 1358, in __del__\n",
      "\n",
      "  File \"/opt/conda/lib/python3.7/site-packages/torch/utils/data/dataloader.py\", line 1341, in _shutdown_workers\n",
      "        self._shutdown_workers()\n",
      "if w.is_alive():  File \"/opt/conda/lib/python3.7/site-packages/torch/utils/data/dataloader.py\", line 1341, in _shutdown_workers\n",
      "\n",
      "  File \"/opt/conda/lib/python3.7/multiprocessing/process.py\", line 151, in is_alive\n",
      "    assert self._parent_pid == os.getpid(), 'can only test a child process'\n",
      "    AssertionError: if w.is_alive():can only test a child process\n",
      "\n",
      "  File \"/opt/conda/lib/python3.7/multiprocessing/process.py\", line 151, in is_alive\n",
      "    assert self._parent_pid == os.getpid(), 'can only test a child process'\n",
      "AssertionError: can only test a child process\n",
      "Exception ignored in: <function _MultiProcessingDataLoaderIter.__del__ at 0x7fc9167bb710>\n",
      "Traceback (most recent call last):\n",
      "  File \"/opt/conda/lib/python3.7/site-packages/torch/utils/data/dataloader.py\", line 1358, in __del__\n",
      "    self._shutdown_workers()\n",
      "  File \"/opt/conda/lib/python3.7/site-packages/torch/utils/data/dataloader.py\", line 1341, in _shutdown_workers\n",
      "    if w.is_alive():\n",
      "  File \"/opt/conda/lib/python3.7/multiprocessing/process.py\", line 151, in is_alive\n",
      "    assert self._parent_pid == os.getpid(), 'can only test a child process'\n",
      "AssertionError: can only test a child process\n",
      "Exception ignored in: <function _MultiProcessingDataLoaderIter.__del__ at 0x7fc9167bb710>\n",
      "Traceback (most recent call last):\n",
      "  File \"/opt/conda/lib/python3.7/site-packages/torch/utils/data/dataloader.py\", line 1358, in __del__\n",
      "    self._shutdown_workers()\n",
      "  File \"/opt/conda/lib/python3.7/site-packages/torch/utils/data/dataloader.py\", line 1341, in _shutdown_workers\n",
      "    if w.is_alive():\n",
      "  File \"/opt/conda/lib/python3.7/multiprocessing/process.py\", line 151, in is_alive\n",
      "    assert self._parent_pid == os.getpid(), 'can only test a child process'\n",
      "AssertionError: can only test a child process\n",
      "Exception ignored in: Exception ignored in: <function _MultiProcessingDataLoaderIter.__del__ at 0x7fc9167bb710><function _MultiProcessingDataLoaderIter.__del__ at 0x7fc9167bb710>\n",
      "\n",
      "Traceback (most recent call last):\n",
      "  File \"/opt/conda/lib/python3.7/site-packages/torch/utils/data/dataloader.py\", line 1358, in __del__\n",
      "Traceback (most recent call last):\n",
      "  File \"/opt/conda/lib/python3.7/site-packages/torch/utils/data/dataloader.py\", line 1358, in __del__\n",
      "        self._shutdown_workers()\n",
      "self._shutdown_workers()\n",
      "  File \"/opt/conda/lib/python3.7/site-packages/torch/utils/data/dataloader.py\", line 1341, in _shutdown_workers\n",
      "    if w.is_alive():  File \"/opt/conda/lib/python3.7/site-packages/torch/utils/data/dataloader.py\", line 1341, in _shutdown_workers\n",
      "    \n",
      "  File \"/opt/conda/lib/python3.7/multiprocessing/process.py\", line 151, in is_alive\n",
      "    if w.is_alive():assert self._parent_pid == os.getpid(), 'can only test a child process'\n",
      "AssertionError\n",
      ": can only test a child process\n",
      "  File \"/opt/conda/lib/python3.7/multiprocessing/process.py\", line 151, in is_alive\n",
      "    assert self._parent_pid == os.getpid(), 'can only test a child process'\n",
      "AssertionError: can only test a child process\n",
      "Exception ignored in: <function _MultiProcessingDataLoaderIter.__del__ at 0x7fc9167bb710>\n",
      "Traceback (most recent call last):\n",
      "  File \"/opt/conda/lib/python3.7/site-packages/torch/utils/data/dataloader.py\", line 1358, in __del__\n",
      "Exception ignored in:     <function _MultiProcessingDataLoaderIter.__del__ at 0x7fc9167bb710>self._shutdown_workers()\n",
      "\n",
      "Traceback (most recent call last):\n",
      "  File \"/opt/conda/lib/python3.7/site-packages/torch/utils/data/dataloader.py\", line 1341, in _shutdown_workers\n",
      "      File \"/opt/conda/lib/python3.7/site-packages/torch/utils/data/dataloader.py\", line 1358, in __del__\n",
      "    if w.is_alive():self._shutdown_workers()\n",
      "\n",
      "  File \"/opt/conda/lib/python3.7/site-packages/torch/utils/data/dataloader.py\", line 1341, in _shutdown_workers\n",
      "  File \"/opt/conda/lib/python3.7/multiprocessing/process.py\", line 151, in is_alive\n",
      "    if w.is_alive():\n",
      "  File \"/opt/conda/lib/python3.7/multiprocessing/process.py\", line 151, in is_alive\n",
      "    assert self._parent_pid == os.getpid(), 'can only test a child process'\n",
      "AssertionError: can only test a child process\n",
      "    assert self._parent_pid == os.getpid(), 'can only test a child process'\n",
      "AssertionError: can only test a child process\n"
     ]
    }
   ],
   "source": [
    "pred_models(NNModelImplLSTM, LSTMDataModule, \"stack7\", features)"
   ]
  },
  {
   "cell_type": "code",
   "execution_count": 67,
   "id": "0daafb6e",
   "metadata": {
    "execution": {
     "iopub.execute_input": "2022-05-28T14:17:10.846246Z",
     "iopub.status.busy": "2022-05-28T14:17:10.845820Z",
     "iopub.status.idle": "2022-05-28T14:17:50.455273Z",
     "shell.execute_reply": "2022-05-28T14:17:50.454319Z"
    },
    "id": "BR5RB8K5etLD",
    "papermill": {
     "duration": 39.845909,
     "end_time": "2022-05-28T14:17:50.457434",
     "exception": false,
     "start_time": "2022-05-28T14:17:10.611525",
     "status": "completed"
    },
    "tags": []
   },
   "outputs": [
    {
     "name": "stdout",
     "output_type": "stream",
     "text": [
      "['./model/stack8_fold_0.ckpt' './model/stack8_fold_1.ckpt'\n",
      " './model/stack8_fold_2.ckpt' './model/stack8_fold_3.ckpt'\n",
      " './model/stack8_fold_4.ckpt']\n"
     ]
    },
    {
     "name": "stderr",
     "output_type": "stream",
     "text": [
      "Exception ignored in: <function _MultiProcessingDataLoaderIter.__del__ at 0x7fc9167bb710>\n",
      "Traceback (most recent call last):\n",
      "  File \"/opt/conda/lib/python3.7/site-packages/torch/utils/data/dataloader.py\", line 1358, in __del__\n",
      "    self._shutdown_workers()\n",
      "  File \"/opt/conda/lib/python3.7/site-packages/torch/utils/data/dataloader.py\", line 1341, in _shutdown_workers\n",
      "    if w.is_alive():\n",
      "  File \"/opt/conda/lib/python3.7/multiprocessing/process.py\", line 151, in is_alive\n",
      "    assert self._parent_pid == os.getpid(), 'can only test a child process'\n",
      "AssertionError: can only test a child process\n",
      "Exception ignored in: <function _MultiProcessingDataLoaderIter.__del__ at 0x7fc9167bb710>\n",
      "Traceback (most recent call last):\n",
      "  File \"/opt/conda/lib/python3.7/site-packages/torch/utils/data/dataloader.py\", line 1358, in __del__\n",
      "    self._shutdown_workers()\n",
      "  File \"/opt/conda/lib/python3.7/site-packages/torch/utils/data/dataloader.py\", line 1341, in _shutdown_workers\n",
      "    if w.is_alive():\n",
      "  File \"/opt/conda/lib/python3.7/multiprocessing/process.py\", line 151, in is_alive\n",
      "    assert self._parent_pid == os.getpid(), 'can only test a child process'\n",
      "AssertionError: can only test a child process\n",
      "Exception ignored in: <function _MultiProcessingDataLoaderIter.__del__ at 0x7fc9167bb710>\n",
      "Traceback (most recent call last):\n",
      "  File \"/opt/conda/lib/python3.7/site-packages/torch/utils/data/dataloader.py\", line 1358, in __del__\n",
      "    self._shutdown_workers()\n",
      "  File \"/opt/conda/lib/python3.7/site-packages/torch/utils/data/dataloader.py\", line 1341, in _shutdown_workers\n",
      "    if w.is_alive():\n",
      "  File \"/opt/conda/lib/python3.7/multiprocessing/process.py\", line 151, in is_alive\n",
      "    assert self._parent_pid == os.getpid(), 'can only test a child process'\n",
      "AssertionError: can only test a child process\n",
      "Exception ignored in: <function _MultiProcessingDataLoaderIter.__del__ at 0x7fc9167bb710>\n",
      "Traceback (most recent call last):\n",
      "  File \"/opt/conda/lib/python3.7/site-packages/torch/utils/data/dataloader.py\", line 1358, in __del__\n",
      "    self._shutdown_workers()\n",
      "  File \"/opt/conda/lib/python3.7/site-packages/torch/utils/data/dataloader.py\", line 1341, in _shutdown_workers\n",
      "    if w.is_alive():\n",
      "  File \"/opt/conda/lib/python3.7/multiprocessing/process.py\", line 151, in is_alive\n",
      "    assert self._parent_pid == os.getpid(), 'can only test a child process'\n",
      "AssertionError: can only test a child process\n",
      "Exception ignored in: <function _MultiProcessingDataLoaderIter.__del__ at 0x7fc9167bb710>\n",
      "Traceback (most recent call last):\n",
      "  File \"/opt/conda/lib/python3.7/site-packages/torch/utils/data/dataloader.py\", line 1358, in __del__\n",
      "    self._shutdown_workers()\n",
      "  File \"/opt/conda/lib/python3.7/site-packages/torch/utils/data/dataloader.py\", line 1341, in _shutdown_workers\n",
      "    if w.is_alive():\n",
      "  File \"/opt/conda/lib/python3.7/multiprocessing/process.py\", line 151, in is_alive\n",
      "    assert self._parent_pid == os.getpid(), 'can only test a child process'\n",
      "AssertionError: can only test a child process\n",
      "Exception ignored in: <function _MultiProcessingDataLoaderIter.__del__ at 0x7fc9167bb710>\n",
      "Traceback (most recent call last):\n",
      "  File \"/opt/conda/lib/python3.7/site-packages/torch/utils/data/dataloader.py\", line 1358, in __del__\n",
      "    self._shutdown_workers()\n",
      "  File \"/opt/conda/lib/python3.7/site-packages/torch/utils/data/dataloader.py\", line 1341, in _shutdown_workers\n",
      "    if w.is_alive():\n",
      "  File \"/opt/conda/lib/python3.7/multiprocessing/process.py\", line 151, in is_alive\n",
      "    assert self._parent_pid == os.getpid(), 'can only test a child process'\n",
      "AssertionError: can only test a child process\n",
      "Exception ignored in: <function _MultiProcessingDataLoaderIter.__del__ at 0x7fc9167bb710>\n",
      "Traceback (most recent call last):\n",
      "  File \"/opt/conda/lib/python3.7/site-packages/torch/utils/data/dataloader.py\", line 1358, in __del__\n",
      "    Exception ignored in: self._shutdown_workers()<function _MultiProcessingDataLoaderIter.__del__ at 0x7fc9167bb710>\n",
      "\n",
      "Traceback (most recent call last):\n",
      "  File \"/opt/conda/lib/python3.7/site-packages/torch/utils/data/dataloader.py\", line 1341, in _shutdown_workers\n",
      "  File \"/opt/conda/lib/python3.7/site-packages/torch/utils/data/dataloader.py\", line 1358, in __del__\n",
      "        self._shutdown_workers()\n",
      "if w.is_alive():\n",
      "  File \"/opt/conda/lib/python3.7/multiprocessing/process.py\", line 151, in is_alive\n",
      "  File \"/opt/conda/lib/python3.7/site-packages/torch/utils/data/dataloader.py\", line 1341, in _shutdown_workers\n",
      "        assert self._parent_pid == os.getpid(), 'can only test a child process'if w.is_alive():\n",
      "\n",
      "  File \"/opt/conda/lib/python3.7/multiprocessing/process.py\", line 151, in is_alive\n",
      "AssertionError: can only test a child process\n",
      "    assert self._parent_pid == os.getpid(), 'can only test a child process'\n",
      "AssertionError: can only test a child process\n",
      "Exception ignored in: <function _MultiProcessingDataLoaderIter.__del__ at 0x7fc9167bb710>\n",
      "Traceback (most recent call last):\n",
      "  File \"/opt/conda/lib/python3.7/site-packages/torch/utils/data/dataloader.py\", line 1358, in __del__\n",
      "    self._shutdown_workers()\n",
      "  File \"/opt/conda/lib/python3.7/site-packages/torch/utils/data/dataloader.py\", line 1341, in _shutdown_workers\n",
      "    if w.is_alive():\n",
      "  File \"/opt/conda/lib/python3.7/multiprocessing/process.py\", line 151, in is_alive\n",
      "    assert self._parent_pid == os.getpid(), 'can only test a child process'\n",
      "AssertionError: Exception ignored in: can only test a child process\n",
      "<function _MultiProcessingDataLoaderIter.__del__ at 0x7fc9167bb710>\n",
      "Traceback (most recent call last):\n",
      "  File \"/opt/conda/lib/python3.7/site-packages/torch/utils/data/dataloader.py\", line 1358, in __del__\n",
      "    self._shutdown_workers()\n",
      "  File \"/opt/conda/lib/python3.7/site-packages/torch/utils/data/dataloader.py\", line 1341, in _shutdown_workers\n",
      "    if w.is_alive():\n",
      "  File \"/opt/conda/lib/python3.7/multiprocessing/process.py\", line 151, in is_alive\n",
      "    assert self._parent_pid == os.getpid(), 'can only test a child process'\n",
      "AssertionError: can only test a child process\n"
     ]
    }
   ],
   "source": [
    "pred_models(NNModelImpl4, MyDataModule, \"stack8\", features)"
   ]
  },
  {
   "cell_type": "code",
   "execution_count": 68,
   "id": "82323bac",
   "metadata": {
    "execution": {
     "iopub.execute_input": "2022-05-28T14:17:50.955767Z",
     "iopub.status.busy": "2022-05-28T14:17:50.955034Z",
     "iopub.status.idle": "2022-05-28T14:17:56.710264Z",
     "shell.execute_reply": "2022-05-28T14:17:56.709430Z"
    },
    "id": "TG0rgptuhsHB",
    "papermill": {
     "duration": 6.007428,
     "end_time": "2022-05-28T14:17:56.712637",
     "exception": false,
     "start_time": "2022-05-28T14:17:50.705209",
     "status": "completed"
    },
    "tags": []
   },
   "outputs": [],
   "source": [
    "train.to_pickle(\"train.pkl\")\n",
    "test.to_pickle(\"test.pkl\")"
   ]
  },
  {
   "cell_type": "code",
   "execution_count": 69,
   "id": "c67c398f",
   "metadata": {
    "execution": {
     "iopub.execute_input": "2022-05-28T14:17:57.352348Z",
     "iopub.status.busy": "2022-05-28T14:17:57.351821Z",
     "iopub.status.idle": "2022-05-28T14:17:59.235338Z",
     "shell.execute_reply": "2022-05-28T14:17:59.234427Z"
    },
    "id": "jrKIFIvVht5O",
    "papermill": {
     "duration": 2.27321,
     "end_time": "2022-05-28T14:17:59.237442",
     "exception": false,
     "start_time": "2022-05-28T14:17:56.964232",
     "status": "completed"
    },
    "tags": []
   },
   "outputs": [],
   "source": [
    "train = pd.read_pickle(\"train.pkl\")\n",
    "test = pd.read_pickle(\"test.pkl\")"
   ]
  },
  {
   "cell_type": "markdown",
   "id": "13dd5a35",
   "metadata": {
    "id": "GtWZ_eIGdkgP",
    "papermill": {
     "duration": 0.256831,
     "end_time": "2022-05-28T14:17:59.812952",
     "exception": false,
     "start_time": "2022-05-28T14:17:59.556121",
     "status": "completed"
    },
    "tags": []
   },
   "source": [
    "## LGBM"
   ]
  },
  {
   "cell_type": "code",
   "execution_count": 70,
   "id": "d780f46a",
   "metadata": {
    "execution": {
     "iopub.execute_input": "2022-05-28T14:18:00.305321Z",
     "iopub.status.busy": "2022-05-28T14:18:00.304914Z",
     "iopub.status.idle": "2022-05-28T15:01:00.945744Z",
     "shell.execute_reply": "2022-05-28T15:01:00.944521Z"
    },
    "id": "QETukrRkdli4",
    "papermill": {
     "duration": 2580.890382,
     "end_time": "2022-05-28T15:01:00.949117",
     "exception": false,
     "start_time": "2022-05-28T14:18:00.058735",
     "status": "completed"
    },
    "tags": []
   },
   "outputs": [
    {
     "name": "stdout",
     "output_type": "stream",
     "text": [
      "========== 0 ==========\n",
      "Training until validation scores don't improve for 30 rounds\n",
      "[128]\tvalid_0's auc: 0.994151\tvalid_0's binary_logloss: 0.118059\n",
      "[256]\tvalid_0's auc: 0.995765\tvalid_0's binary_logloss: 0.0908378\n",
      "[384]\tvalid_0's auc: 0.996015\tvalid_0's binary_logloss: 0.0859048\n",
      "[512]\tvalid_0's auc: 0.996206\tvalid_0's binary_logloss: 0.0822159\n",
      "[640]\tvalid_0's auc: 0.996337\tvalid_0's binary_logloss: 0.0795863\n",
      "[768]\tvalid_0's auc: 0.996427\tvalid_0's binary_logloss: 0.0777188\n",
      "Early stopping, best iteration is:\n",
      "[743]\tvalid_0's auc: 0.996429\tvalid_0's binary_logloss: 0.0778523\n",
      "auc:  0.9964292558048168\n",
      "========== 1 ==========\n",
      "Training until validation scores don't improve for 30 rounds\n",
      "[128]\tvalid_0's auc: 0.994114\tvalid_0's binary_logloss: 0.118855\n",
      "[256]\tvalid_0's auc: 0.995785\tvalid_0's binary_logloss: 0.0911888\n",
      "[384]\tvalid_0's auc: 0.996163\tvalid_0's binary_logloss: 0.0844684\n",
      "[512]\tvalid_0's auc: 0.996332\tvalid_0's binary_logloss: 0.0811342\n",
      "[640]\tvalid_0's auc: 0.996438\tvalid_0's binary_logloss: 0.0787836\n",
      "[768]\tvalid_0's auc: 0.996517\tvalid_0's binary_logloss: 0.0770213\n",
      "[896]\tvalid_0's auc: 0.996578\tvalid_0's binary_logloss: 0.0755695\n",
      "Did not meet early stopping. Best iteration is:\n",
      "[991]\tvalid_0's auc: 0.996601\tvalid_0's binary_logloss: 0.0749217\n",
      "auc:  0.9966005078125826\n",
      "========== 2 ==========\n",
      "Training until validation scores don't improve for 30 rounds\n",
      "[128]\tvalid_0's auc: 0.994045\tvalid_0's binary_logloss: 0.11921\n",
      "[256]\tvalid_0's auc: 0.995768\tvalid_0's binary_logloss: 0.0905256\n",
      "[384]\tvalid_0's auc: 0.996051\tvalid_0's binary_logloss: 0.0851708\n",
      "[512]\tvalid_0's auc: 0.996205\tvalid_0's binary_logloss: 0.082098\n",
      "[640]\tvalid_0's auc: 0.996334\tvalid_0's binary_logloss: 0.079521\n",
      "[768]\tvalid_0's auc: 0.996418\tvalid_0's binary_logloss: 0.0776994\n",
      "[896]\tvalid_0's auc: 0.996471\tvalid_0's binary_logloss: 0.0765332\n",
      "Early stopping, best iteration is:\n",
      "[920]\tvalid_0's auc: 0.996484\tvalid_0's binary_logloss: 0.0762516\n",
      "auc:  0.9964836385239534\n",
      "========== 3 ==========\n",
      "Training until validation scores don't improve for 30 rounds\n",
      "[128]\tvalid_0's auc: 0.994016\tvalid_0's binary_logloss: 0.119671\n",
      "[256]\tvalid_0's auc: 0.995789\tvalid_0's binary_logloss: 0.090891\n",
      "[384]\tvalid_0's auc: 0.996141\tvalid_0's binary_logloss: 0.0845256\n",
      "[512]\tvalid_0's auc: 0.996272\tvalid_0's binary_logloss: 0.0814479\n",
      "[640]\tvalid_0's auc: 0.996393\tvalid_0's binary_logloss: 0.0789334\n",
      "[768]\tvalid_0's auc: 0.99645\tvalid_0's binary_logloss: 0.0774057\n",
      "[896]\tvalid_0's auc: 0.996507\tvalid_0's binary_logloss: 0.0760831\n",
      "Did not meet early stopping. Best iteration is:\n",
      "[984]\tvalid_0's auc: 0.99654\tvalid_0's binary_logloss: 0.0753307\n",
      "auc:  0.9965399811468458\n",
      "========== 4 ==========\n",
      "Training until validation scores don't improve for 30 rounds\n",
      "[128]\tvalid_0's auc: 0.99392\tvalid_0's binary_logloss: 0.118806\n",
      "[256]\tvalid_0's auc: 0.995662\tvalid_0's binary_logloss: 0.0912522\n",
      "[384]\tvalid_0's auc: 0.996023\tvalid_0's binary_logloss: 0.0851433\n",
      "[512]\tvalid_0's auc: 0.996192\tvalid_0's binary_logloss: 0.0820208\n",
      "[640]\tvalid_0's auc: 0.996285\tvalid_0's binary_logloss: 0.0798834\n",
      "[768]\tvalid_0's auc: 0.99633\tvalid_0's binary_logloss: 0.0785399\n",
      "[896]\tvalid_0's auc: 0.996383\tvalid_0's binary_logloss: 0.0772869\n",
      "Did not meet early stopping. Best iteration is:\n",
      "[993]\tvalid_0's auc: 0.996439\tvalid_0's binary_logloss: 0.076339\n",
      "auc:  0.9964385856263052\n"
     ]
    }
   ],
   "source": [
    "predictions = pd.DataFrame()\n",
    "for fold in CFG.trn_fold:\n",
    "    print(\"=\"*10, fold, \"=\"*10)\n",
    "    train_folds = train[train['fold']!=fold]\n",
    "    valid_folds = train[train['fold']==fold]\n",
    "    X_train = train_folds[features]\n",
    "    y_train = train_folds[CFG.label]\n",
    "    X_valid = valid_folds[features]\n",
    "    y_valid = valid_folds[CFG.label]\n",
    "    X_test = test[features]\n",
    "\n",
    "    verbose_eval=1  # 学習時のスコア表示\n",
    "    model = LGBMClassifier(n_estimators = CFG.n_estimators, learning_rate = 0.1, random_state=0, min_child_samples=90, num_leaves=150, max_bins=511, n_jobs=-1)\n",
    "    model.fit(X_train, y_train, eval_metric=\"auc\", eval_set=[(X_valid, y_valid)], callbacks=[lgb.early_stopping(stopping_rounds=30)], verbose=128)\n",
    "    y_pred = model.predict_proba(X_valid)[:, 1]\n",
    "\n",
    "    auc = roc_auc_score(y_valid, y_pred)\n",
    "    print(\"auc: \", auc)\n",
    "    train.loc[train['fold']==fold, 'stack1'] = y_pred\n",
    "\n",
    "    y_pred = model.predict_proba(X_test)[:, 1]\n",
    "    predictions = pd.concat([predictions, pd.DataFrame(y_pred)], axis=1)\n",
    "test['stack1'] = predictions.mean(axis=1)"
   ]
  },
  {
   "cell_type": "code",
   "execution_count": 71,
   "id": "67e9bb37",
   "metadata": {
    "execution": {
     "iopub.execute_input": "2022-05-28T15:01:01.609152Z",
     "iopub.status.busy": "2022-05-28T15:01:01.608786Z",
     "iopub.status.idle": "2022-05-28T15:29:37.326615Z",
     "shell.execute_reply": "2022-05-28T15:29:37.325766Z"
    },
    "id": "bJmUxqWYj-kw",
    "papermill": {
     "duration": 1715.968615,
     "end_time": "2022-05-28T15:29:37.328859",
     "exception": false,
     "start_time": "2022-05-28T15:01:01.360244",
     "status": "completed"
    },
    "tags": []
   },
   "outputs": [
    {
     "name": "stdout",
     "output_type": "stream",
     "text": [
      "========== 0 ==========\n",
      "Training until validation scores don't improve for 30 rounds\n",
      "[128]\tvalid_0's auc: 0.977304\tvalid_0's binary_logloss: 0.27294\n",
      "[256]\tvalid_0's auc: 0.98581\tvalid_0's binary_logloss: 0.19784\n",
      "[384]\tvalid_0's auc: 0.989626\tvalid_0's binary_logloss: 0.161017\n",
      "[512]\tvalid_0's auc: 0.991394\tvalid_0's binary_logloss: 0.141211\n",
      "[640]\tvalid_0's auc: 0.992689\tvalid_0's binary_logloss: 0.126427\n",
      "[768]\tvalid_0's auc: 0.99355\tvalid_0's binary_logloss: 0.116006\n",
      "[896]\tvalid_0's auc: 0.994094\tvalid_0's binary_logloss: 0.108945\n",
      "Did not meet early stopping. Best iteration is:\n",
      "[1000]\tvalid_0's auc: 0.994663\tvalid_0's binary_logloss: 0.10278\n",
      "auc:  0.9946632870847657\n",
      "========== 1 ==========\n",
      "Training until validation scores don't improve for 30 rounds\n",
      "[128]\tvalid_0's auc: 0.978449\tvalid_0's binary_logloss: 0.269598\n",
      "[256]\tvalid_0's auc: 0.986641\tvalid_0's binary_logloss: 0.193404\n",
      "[384]\tvalid_0's auc: 0.989598\tvalid_0's binary_logloss: 0.160386\n",
      "[512]\tvalid_0's auc: 0.991439\tvalid_0's binary_logloss: 0.140105\n",
      "[640]\tvalid_0's auc: 0.992709\tvalid_0's binary_logloss: 0.125663\n",
      "[768]\tvalid_0's auc: 0.99359\tvalid_0's binary_logloss: 0.115544\n",
      "[896]\tvalid_0's auc: 0.994221\tvalid_0's binary_logloss: 0.108002\n",
      "Did not meet early stopping. Best iteration is:\n",
      "[1000]\tvalid_0's auc: 0.994527\tvalid_0's binary_logloss: 0.103819\n",
      "auc:  0.9945268007511563\n",
      "========== 2 ==========\n",
      "Training until validation scores don't improve for 30 rounds\n",
      "[128]\tvalid_0's auc: 0.978833\tvalid_0's binary_logloss: 0.268723\n",
      "[256]\tvalid_0's auc: 0.987427\tvalid_0's binary_logloss: 0.188344\n",
      "[384]\tvalid_0's auc: 0.989962\tvalid_0's binary_logloss: 0.157734\n",
      "[512]\tvalid_0's auc: 0.991455\tvalid_0's binary_logloss: 0.139914\n",
      "[640]\tvalid_0's auc: 0.99256\tvalid_0's binary_logloss: 0.126822\n",
      "[768]\tvalid_0's auc: 0.993445\tvalid_0's binary_logloss: 0.11666\n",
      "[896]\tvalid_0's auc: 0.99394\tvalid_0's binary_logloss: 0.110506\n",
      "Did not meet early stopping. Best iteration is:\n",
      "[1000]\tvalid_0's auc: 0.994493\tvalid_0's binary_logloss: 0.104368\n",
      "auc:  0.9944930915687934\n",
      "========== 3 ==========\n",
      "Training until validation scores don't improve for 30 rounds\n",
      "[128]\tvalid_0's auc: 0.978228\tvalid_0's binary_logloss: 0.269928\n",
      "[256]\tvalid_0's auc: 0.986179\tvalid_0's binary_logloss: 0.194227\n",
      "[384]\tvalid_0's auc: 0.989767\tvalid_0's binary_logloss: 0.158286\n",
      "[512]\tvalid_0's auc: 0.991358\tvalid_0's binary_logloss: 0.140015\n",
      "[640]\tvalid_0's auc: 0.992551\tvalid_0's binary_logloss: 0.126845\n",
      "[768]\tvalid_0's auc: 0.993522\tvalid_0's binary_logloss: 0.116114\n",
      "[896]\tvalid_0's auc: 0.994013\tvalid_0's binary_logloss: 0.109608\n",
      "Did not meet early stopping. Best iteration is:\n",
      "[999]\tvalid_0's auc: 0.99437\tvalid_0's binary_logloss: 0.105213\n",
      "auc:  0.9943703329180203\n",
      "========== 4 ==========\n",
      "Training until validation scores don't improve for 30 rounds\n",
      "[128]\tvalid_0's auc: 0.97908\tvalid_0's binary_logloss: 0.267586\n",
      "[256]\tvalid_0's auc: 0.986917\tvalid_0's binary_logloss: 0.191237\n",
      "[384]\tvalid_0's auc: 0.989738\tvalid_0's binary_logloss: 0.159124\n",
      "[512]\tvalid_0's auc: 0.991314\tvalid_0's binary_logloss: 0.140154\n",
      "[640]\tvalid_0's auc: 0.992461\tvalid_0's binary_logloss: 0.126874\n",
      "[768]\tvalid_0's auc: 0.993405\tvalid_0's binary_logloss: 0.116201\n",
      "[896]\tvalid_0's auc: 0.993969\tvalid_0's binary_logloss: 0.109308\n",
      "Did not meet early stopping. Best iteration is:\n",
      "[1000]\tvalid_0's auc: 0.99438\tvalid_0's binary_logloss: 0.104686\n",
      "auc:  0.9943803402253611\n"
     ]
    }
   ],
   "source": [
    "predictions = pd.DataFrame()\n",
    "for fold in CFG.trn_fold:\n",
    "    print(\"=\"*10, fold, \"=\"*10)\n",
    "    train_folds = train[train['fold']!=fold]\n",
    "    valid_folds = train[train['fold']==fold]\n",
    "    X_train = train_folds[features]\n",
    "    y_train = train_folds[CFG.label]\n",
    "    X_valid = valid_folds[features]\n",
    "    y_valid = valid_folds[CFG.label]\n",
    "    X_test = test[features]\n",
    "\n",
    "    verbose_eval=1  # 学習時のスコア表示\n",
    "    model = LGBMClassifier(n_estimators = CFG.n_estimators, learning_rate = 0.1, random_state=0, min_child_samples=90, num_leaves=31, max_bins=511, n_jobs=-1, max_depth=5)\n",
    "    model.fit(X_train, y_train, eval_metric=\"auc\", eval_set=[(X_valid, y_valid)], callbacks=[lgb.early_stopping(stopping_rounds=30)], verbose=128)\n",
    "    y_pred = model.predict_proba(X_valid)[:, 1]\n",
    "\n",
    "    auc = roc_auc_score(y_valid, y_pred)\n",
    "    print(\"auc: \", auc)\n",
    "    train.loc[train['fold']==fold, 'stack2'] = y_pred\n",
    "\n",
    "    y_pred = model.predict_proba(X_test)[:, 1]\n",
    "    predictions = pd.concat([predictions, pd.DataFrame(y_pred)], axis=1)\n",
    "test['stack2'] = predictions.mean(axis=1)"
   ]
  },
  {
   "cell_type": "markdown",
   "id": "8e9e4db1",
   "metadata": {
    "id": "WIxkteTklEr2",
    "papermill": {
     "duration": 0.242682,
     "end_time": "2022-05-28T15:29:37.823213",
     "exception": false,
     "start_time": "2022-05-28T15:29:37.580531",
     "status": "completed"
    },
    "tags": []
   },
   "source": [
    "## XGBoost"
   ]
  },
  {
   "cell_type": "code",
   "execution_count": 72,
   "id": "c1089742",
   "metadata": {
    "execution": {
     "iopub.execute_input": "2022-05-28T15:29:38.398845Z",
     "iopub.status.busy": "2022-05-28T15:29:38.398486Z",
     "iopub.status.idle": "2022-05-28T15:33:06.570926Z",
     "shell.execute_reply": "2022-05-28T15:33:06.570047Z"
    },
    "id": "lxquscsqlGNl",
    "papermill": {
     "duration": 208.505202,
     "end_time": "2022-05-28T15:33:06.573881",
     "exception": false,
     "start_time": "2022-05-28T15:29:38.068679",
     "status": "completed"
    },
    "tags": []
   },
   "outputs": [
    {
     "name": "stdout",
     "output_type": "stream",
     "text": [
      "========== 0 ==========\n",
      "[15:29:43] WARNING: ../src/learner.cc:627: \n",
      "Parameters: { \"max_bins\", \"min_child_samples\", \"num_leaves\" } might not be used.\n",
      "\n",
      "  This could be a false alarm, with some parameters getting used by language bindings but\n",
      "  then being mistakenly passed down to XGBoost core, or some parameter actually being used\n",
      "  but getting flagged wrongly here. Please open an issue if you find any such cases.\n",
      "\n",
      "\n",
      "[0]\tvalidation_0-auc:0.66171\n",
      "[128]\tvalidation_0-auc:0.98477\n",
      "[256]\tvalidation_0-auc:0.99042\n",
      "[384]\tvalidation_0-auc:0.99255\n",
      "[512]\tvalidation_0-auc:0.99365\n",
      "[640]\tvalidation_0-auc:0.99463\n",
      "[768]\tvalidation_0-auc:0.99526\n",
      "[896]\tvalidation_0-auc:0.99570\n",
      "[999]\tvalidation_0-auc:0.99597\n",
      "auc:  0.9959716711545322\n",
      "========== 1 ==========\n",
      "[15:30:25] WARNING: ../src/learner.cc:627: \n",
      "Parameters: { \"max_bins\", \"min_child_samples\", \"num_leaves\" } might not be used.\n",
      "\n",
      "  This could be a false alarm, with some parameters getting used by language bindings but\n",
      "  then being mistakenly passed down to XGBoost core, or some parameter actually being used\n",
      "  but getting flagged wrongly here. Please open an issue if you find any such cases.\n",
      "\n",
      "\n",
      "[0]\tvalidation_0-auc:0.66161\n",
      "[128]\tvalidation_0-auc:0.98531\n",
      "[256]\tvalidation_0-auc:0.99060\n",
      "[384]\tvalidation_0-auc:0.99281\n",
      "[512]\tvalidation_0-auc:0.99403\n",
      "[640]\tvalidation_0-auc:0.99463\n",
      "[768]\tvalidation_0-auc:0.99528\n",
      "[896]\tvalidation_0-auc:0.99565\n",
      "[999]\tvalidation_0-auc:0.99588\n",
      "auc:  0.9958804949600767\n",
      "========== 2 ==========\n",
      "[15:31:06] WARNING: ../src/learner.cc:627: \n",
      "Parameters: { \"max_bins\", \"min_child_samples\", \"num_leaves\" } might not be used.\n",
      "\n",
      "  This could be a false alarm, with some parameters getting used by language bindings but\n",
      "  then being mistakenly passed down to XGBoost core, or some parameter actually being used\n",
      "  but getting flagged wrongly here. Please open an issue if you find any such cases.\n",
      "\n",
      "\n",
      "[0]\tvalidation_0-auc:0.66090\n",
      "[128]\tvalidation_0-auc:0.98559\n",
      "[256]\tvalidation_0-auc:0.99025\n",
      "[384]\tvalidation_0-auc:0.99232\n",
      "[512]\tvalidation_0-auc:0.99354\n",
      "[640]\tvalidation_0-auc:0.99446\n",
      "[768]\tvalidation_0-auc:0.99518\n",
      "[896]\tvalidation_0-auc:0.99554\n",
      "[999]\tvalidation_0-auc:0.99586\n",
      "auc:  0.995863611644217\n",
      "========== 3 ==========\n",
      "[15:31:47] WARNING: ../src/learner.cc:627: \n",
      "Parameters: { \"max_bins\", \"min_child_samples\", \"num_leaves\" } might not be used.\n",
      "\n",
      "  This could be a false alarm, with some parameters getting used by language bindings but\n",
      "  then being mistakenly passed down to XGBoost core, or some parameter actually being used\n",
      "  but getting flagged wrongly here. Please open an issue if you find any such cases.\n",
      "\n",
      "\n",
      "[0]\tvalidation_0-auc:0.66074\n",
      "[128]\tvalidation_0-auc:0.98317\n",
      "[256]\tvalidation_0-auc:0.99021\n",
      "[384]\tvalidation_0-auc:0.99234\n",
      "[512]\tvalidation_0-auc:0.99363\n",
      "[640]\tvalidation_0-auc:0.99452\n",
      "[768]\tvalidation_0-auc:0.99518\n",
      "[896]\tvalidation_0-auc:0.99563\n",
      "[999]\tvalidation_0-auc:0.99590\n",
      "auc:  0.995903548707515\n",
      "========== 4 ==========\n",
      "[15:32:28] WARNING: ../src/learner.cc:627: \n",
      "Parameters: { \"max_bins\", \"min_child_samples\", \"num_leaves\" } might not be used.\n",
      "\n",
      "  This could be a false alarm, with some parameters getting used by language bindings but\n",
      "  then being mistakenly passed down to XGBoost core, or some parameter actually being used\n",
      "  but getting flagged wrongly here. Please open an issue if you find any such cases.\n",
      "\n",
      "\n",
      "[0]\tvalidation_0-auc:0.66179\n",
      "[128]\tvalidation_0-auc:0.98455\n",
      "[256]\tvalidation_0-auc:0.98999\n",
      "[384]\tvalidation_0-auc:0.99220\n",
      "[512]\tvalidation_0-auc:0.99350\n",
      "[640]\tvalidation_0-auc:0.99437\n",
      "[768]\tvalidation_0-auc:0.99489\n",
      "[896]\tvalidation_0-auc:0.99534\n",
      "[999]\tvalidation_0-auc:0.99575\n",
      "auc:  0.9957513986568556\n"
     ]
    }
   ],
   "source": [
    "predictions = pd.DataFrame()\n",
    "for fold in CFG.trn_fold:\n",
    "    print(\"=\"*10, fold, \"=\"*10)\n",
    "    train_folds = train[train['fold']!=fold]\n",
    "    valid_folds = train[train['fold']==fold]\n",
    "    X_train = train_folds[features]\n",
    "    y_train = train_folds[CFG.label]\n",
    "    X_valid = valid_folds[features]\n",
    "    y_valid = valid_folds[CFG.label]\n",
    "    X_test = test[features]\n",
    "\n",
    "    verbose_eval=1  # 学習時のスコア表示\n",
    "    model = XGBClassifier(n_estimators = CFG.n_estimators, learning_rate = 0.1, random_state=0, min_child_samples=90, num_leaves=150, max_bins=511, n_jobs=-1, tree_method='gpu_hist')\n",
    "    model.fit(X_train, y_train, eval_metric=\"auc\", eval_set=[(X_valid, y_valid)], early_stopping_rounds=64, verbose=128)\n",
    "    y_pred = model.predict_proba(X_valid)[:, 1]\n",
    "\n",
    "    auc = roc_auc_score(y_valid, y_pred)\n",
    "    print(\"auc: \", auc)\n",
    "    train.loc[train['fold']==fold, 'stack6'] = y_pred\n",
    "\n",
    "    y_pred = model.predict_proba(X_test)[:, 1]\n",
    "    predictions = pd.concat([predictions, pd.DataFrame(y_pred)], axis=1)\n",
    "test['stack6'] = predictions.mean(axis=1)"
   ]
  },
  {
   "cell_type": "code",
   "execution_count": 73,
   "id": "bcaebf1a",
   "metadata": {
    "execution": {
     "iopub.execute_input": "2022-05-28T15:33:07.433458Z",
     "iopub.status.busy": "2022-05-28T15:33:07.433007Z",
     "iopub.status.idle": "2022-05-28T15:33:10.828855Z",
     "shell.execute_reply": "2022-05-28T15:33:10.827883Z"
    },
    "id": "-SNMGflMh4zs",
    "papermill": {
     "duration": 3.827554,
     "end_time": "2022-05-28T15:33:10.831005",
     "exception": false,
     "start_time": "2022-05-28T15:33:07.003451",
     "status": "completed"
    },
    "tags": []
   },
   "outputs": [],
   "source": [
    "train.to_pickle(\"train.pkl\")\n",
    "test.to_pickle(\"test.pkl\")"
   ]
  },
  {
   "cell_type": "code",
   "execution_count": 74,
   "id": "a93b296e",
   "metadata": {
    "execution": {
     "iopub.execute_input": "2022-05-28T15:33:11.390074Z",
     "iopub.status.busy": "2022-05-28T15:33:11.389664Z",
     "iopub.status.idle": "2022-05-28T15:33:18.177957Z",
     "shell.execute_reply": "2022-05-28T15:33:18.176064Z"
    },
    "id": "asccqtlwh513",
    "papermill": {
     "duration": 7.054518,
     "end_time": "2022-05-28T15:33:18.181384",
     "exception": false,
     "start_time": "2022-05-28T15:33:11.126866",
     "status": "completed"
    },
    "tags": []
   },
   "outputs": [],
   "source": [
    "train = pd.read_pickle(\"train.pkl\")\n",
    "test = pd.read_pickle(\"test.pkl\")"
   ]
  },
  {
   "cell_type": "markdown",
   "id": "43c0567c",
   "metadata": {
    "id": "TllshoKekkyg",
    "papermill": {
     "duration": 0.246288,
     "end_time": "2022-05-28T15:33:18.683299",
     "exception": false,
     "start_time": "2022-05-28T15:33:18.437011",
     "status": "completed"
    },
    "tags": []
   },
   "source": [
    "## meta model"
   ]
  },
  {
   "cell_type": "code",
   "execution_count": 75,
   "id": "ee88ec5a",
   "metadata": {
    "execution": {
     "iopub.execute_input": "2022-05-28T15:33:19.177849Z",
     "iopub.status.busy": "2022-05-28T15:33:19.177486Z",
     "iopub.status.idle": "2022-05-28T15:37:10.739705Z",
     "shell.execute_reply": "2022-05-28T15:37:10.738984Z"
    },
    "id": "tf_3Xbr7kmIA",
    "papermill": {
     "duration": 231.812056,
     "end_time": "2022-05-28T15:37:10.741597",
     "exception": false,
     "start_time": "2022-05-28T15:33:18.929541",
     "status": "completed"
    },
    "tags": []
   },
   "outputs": [
    {
     "name": "stdout",
     "output_type": "stream",
     "text": [
      "========== 0 ==========\n",
      "Training until validation scores don't improve for 30 rounds\n",
      "Early stopping, best iteration is:\n",
      "[64]\tvalid_0's auc: 0.998133\tvalid_0's binary_logloss: 0.0550125\n",
      "auc:  0.9981333680237715\n",
      "========== 1 ==========\n",
      "Training until validation scores don't improve for 30 rounds\n",
      "Early stopping, best iteration is:\n",
      "[84]\tvalid_0's auc: 0.998114\tvalid_0's binary_logloss: 0.0549385\n",
      "auc:  0.998113643569257\n",
      "========== 2 ==========\n",
      "Training until validation scores don't improve for 30 rounds\n",
      "Early stopping, best iteration is:\n",
      "[88]\tvalid_0's auc: 0.998126\tvalid_0's binary_logloss: 0.0548589\n",
      "auc:  0.9981263080020172\n",
      "========== 3 ==========\n",
      "Training until validation scores don't improve for 30 rounds\n",
      "Early stopping, best iteration is:\n",
      "[45]\tvalid_0's auc: 0.998092\tvalid_0's binary_logloss: 0.0589841\n",
      "auc:  0.9980923685898122\n",
      "========== 4 ==========\n",
      "Training until validation scores don't improve for 30 rounds\n",
      "Early stopping, best iteration is:\n",
      "[55]\tvalid_0's auc: 0.99809\tvalid_0's binary_logloss: 0.0564632\n",
      "auc:  0.9980897034956108\n"
     ]
    },
    {
     "data": {
      "image/png": "[encoded data removed]",
      "text/plain": [
       "<Figure size 432x288 with 1 Axes>"
      ]
     },
     "metadata": {
      "needs_background": "light"
     },
     "output_type": "display_data"
    }
   ],
   "source": [
    "predictions = pd.DataFrame()\n",
    "for fold in CFG.trn_fold:\n",
    "    print(\"=\"*10, fold, \"=\"*10)\n",
    "    train_folds = train[train['fold']!=fold]\n",
    "    valid_folds = train[train['fold']==fold]\n",
    "    X_train = train_folds[features+['stack1', 'stack2', 'stack3', 'stack4', 'stack5', 'stack6', 'stack7', 'stack8', 'stack9']]\n",
    "    y_train = train_folds[CFG.label]\n",
    "    X_valid = valid_folds[features+['stack1', 'stack2', 'stack3', 'stack4', 'stack5', 'stack6', 'stack7', 'stack8', 'stack9']]\n",
    "    y_valid = valid_folds[CFG.label]\n",
    "    X_test = test[features+['stack1', 'stack2', 'stack3', 'stack4', 'stack5', 'stack6', 'stack7', 'stack8', 'stack9']]\n",
    "\n",
    "    model = LGBMClassifier(n_estimators = CFG.n_estimators, learning_rate = 0.1, random_state=0, min_child_samples=90, num_leaves=31, max_bins=511, n_jobs=-1, max_depth=5)\n",
    "    model.fit(X_train, y_train, eval_metric=\"auc\", eval_set=[(X_valid, y_valid)], callbacks=[lgb.early_stopping(stopping_rounds=30)], verbose=128)\n",
    "    y_pred = model.predict_proba(X_valid)[:, 1]\n",
    "\n",
    "    auc = roc_auc_score(y_valid, y_pred)\n",
    "    print(\"auc: \", auc)\n",
    "    train.loc[train['fold']==fold, 'meta'] = y_pred\n",
    "\n",
    "    y_pred = model.predict_proba(X_test)[:, 1]\n",
    "    predictions = pd.concat([predictions, pd.DataFrame(y_pred)], axis=1)\n",
    "    if fold==0:\n",
    "        lgb.plot_importance(model, max_num_features=30)\n",
    "\n",
    "sub[CFG.label] = predictions.mean(axis=1)"
   ]
  },
  {
   "cell_type": "code",
   "execution_count": 76,
   "id": "2f3ca647",
   "metadata": {
    "execution": {
     "iopub.execute_input": "2022-05-28T15:37:11.347452Z",
     "iopub.status.busy": "2022-05-28T15:37:11.346739Z",
     "iopub.status.idle": "2022-05-28T15:37:13.439838Z",
     "shell.execute_reply": "2022-05-28T15:37:13.438932Z"
    },
    "id": "3906bc91",
    "papermill": {
     "duration": 2.350398,
     "end_time": "2022-05-28T15:37:13.442287",
     "exception": false,
     "start_time": "2022-05-28T15:37:11.091889",
     "status": "completed"
    },
    "tags": []
   },
   "outputs": [],
   "source": [
    "sub[[\"id\", CFG.label]].to_csv('submission.csv', index=False)"
   ]
  },
  {
   "cell_type": "code",
   "execution_count": 77,
   "id": "0bee1e41",
   "metadata": {
    "execution": {
     "iopub.execute_input": "2022-05-28T15:37:13.962220Z",
     "iopub.status.busy": "2022-05-28T15:37:13.961819Z",
     "iopub.status.idle": "2022-05-28T15:37:13.973907Z",
     "shell.execute_reply": "2022-05-28T15:37:13.972725Z"
    },
    "id": "c87b8c9e",
    "papermill": {
     "duration": 0.275574,
     "end_time": "2022-05-28T15:37:13.976389",
     "exception": false,
     "start_time": "2022-05-28T15:37:13.700815",
     "status": "completed"
    },
    "tags": []
   },
   "outputs": [
    {
     "data": {
      "text/html": [
       "<div>\n",
       "<style scoped>\n",
       "    .dataframe tbody tr th:only-of-type {\n",
       "        vertical-align: middle;\n",
       "    }\n",
       "\n",
       "    .dataframe tbody tr th {\n",
       "        vertical-align: top;\n",
       "    }\n",
       "\n",
       "    .dataframe thead th {\n",
       "        text-align: right;\n",
       "    }\n",
       "</style>\n",
       "<table border=\"1\" class=\"dataframe\">\n",
       "  <thead>\n",
       "    <tr style=\"text-align: right;\">\n",
       "      <th></th>\n",
       "      <th>id</th>\n",
       "      <th>target</th>\n",
       "    </tr>\n",
       "  </thead>\n",
       "  <tbody>\n",
       "    <tr>\n",
       "      <th>0</th>\n",
       "      <td>900000</td>\n",
       "      <td>0.998256</td>\n",
       "    </tr>\n",
       "    <tr>\n",
       "      <th>1</th>\n",
       "      <td>900001</td>\n",
       "      <td>0.998256</td>\n",
       "    </tr>\n",
       "    <tr>\n",
       "      <th>2</th>\n",
       "      <td>900002</td>\n",
       "      <td>0.001660</td>\n",
       "    </tr>\n",
       "    <tr>\n",
       "      <th>3</th>\n",
       "      <td>900003</td>\n",
       "      <td>0.001660</td>\n",
       "    </tr>\n",
       "    <tr>\n",
       "      <th>4</th>\n",
       "      <td>900004</td>\n",
       "      <td>0.998067</td>\n",
       "    </tr>\n",
       "    <tr>\n",
       "      <th>5</th>\n",
       "      <td>900005</td>\n",
       "      <td>0.043568</td>\n",
       "    </tr>\n",
       "    <tr>\n",
       "      <th>6</th>\n",
       "      <td>900006</td>\n",
       "      <td>0.392132</td>\n",
       "    </tr>\n",
       "    <tr>\n",
       "      <th>7</th>\n",
       "      <td>900007</td>\n",
       "      <td>0.998256</td>\n",
       "    </tr>\n",
       "    <tr>\n",
       "      <th>8</th>\n",
       "      <td>900008</td>\n",
       "      <td>0.001813</td>\n",
       "    </tr>\n",
       "    <tr>\n",
       "      <th>9</th>\n",
       "      <td>900009</td>\n",
       "      <td>0.998255</td>\n",
       "    </tr>\n",
       "  </tbody>\n",
       "</table>\n",
       "</div>"
      ],
      "text/plain": [
       "       id    target\n",
       "0  900000  0.998256\n",
       "1  900001  0.998256\n",
       "2  900002  0.001660\n",
       "3  900003  0.001660\n",
       "4  900004  0.998067\n",
       "5  900005  0.043568\n",
       "6  900006  0.392132\n",
       "7  900007  0.998256\n",
       "8  900008  0.001813\n",
       "9  900009  0.998255"
      ]
     },
     "execution_count": 77,
     "metadata": {},
     "output_type": "execute_result"
    }
   ],
   "source": [
    "sub.head(10)"
   ]
  },
  {
   "cell_type": "markdown",
   "id": "3be3ca62",
   "metadata": {
    "id": "S6etJF4ysuVv",
    "papermill": {
     "duration": 0.251522,
     "end_time": "2022-05-28T15:37:14.485570",
     "exception": false,
     "start_time": "2022-05-28T15:37:14.234048",
     "status": "completed"
    },
    "tags": []
   },
   "source": [
    "memo\n",
    "\n",
    "* Tabnetの埋め込みの次元を128から変えてみる。<-速度に影響あるかな\n",
    "* Wandbを見やすくする\n",
    "https://wandb.ai/site/articles/pytorch-lightning-with-weights-biases\n",
    "* Ghost Batch Normalization(GBN)を入れてみる\n",
    "* https://github.com/dreamquark-ai/tabnet/blob/develop/pytorch_tabnet/tab_network.py\n",
    "* optuna https://qiita.com/studio_haneya/items/2dc3ba9d7cafa36ddffa"
   ]
  }
 ],
 "metadata": {
  "kernelspec": {
   "display_name": "Python 3",
   "language": "python",
   "name": "python3"
  },
  "language_info": {
   "codemirror_mode": {
    "name": "ipython",
    "version": 3
   },
   "file_extension": ".py",
   "mimetype": "text/x-python",
   "name": "python",
   "nbconvert_exporter": "python",
   "pygments_lexer": "ipython3",
   "version": "3.7.12"
  },
  "papermill": {
   "default_parameters": {},
   "duration": 30083.146239,
   "end_time": "2022-05-28T15:37:17.606482",
   "environment_variables": {},
   "exception": null,
   "input_path": "__notebook__.ipynb",
   "output_path": "__notebook__.ipynb",
   "parameters": {},
   "start_time": "2022-05-28T07:15:54.460243",
   "version": "2.3.4"
  },
  "widgets": {
   "application/vnd.jupyter.widget-state+json": {
    "state": {
     "008f73f0a56c4e389558db4eeb4a5510": {
      "model_module": "@jupyter-widgets/controls",
      "model_module_version": "1.5.0",
      "model_name": "ProgressStyleModel",
      "state": {
       "_model_module": "@jupyter-widgets/controls",
       "_model_module_version": "1.5.0",
       "_model_name": "ProgressStyleModel",
       "_view_count": null,
       "_view_module": "@jupyter-widgets/base",
       "_view_module_version": "1.2.0",
       "_view_name": "StyleView",
       "bar_color": null,
       "description_width": ""
      }
     },
     "06af9e188eb34f03b6775af9dfbbc1de": {
      "model_module": "@jupyter-widgets/controls",
      "model_module_version": "1.5.0",
      "model_name": "VBoxModel",
      "state": {
       "_dom_classes": [],
       "_model_module": "@jupyter-widgets/controls",
       "_model_module_version": "1.5.0",
       "_model_name": "VBoxModel",
       "_view_count": null,
       "_view_module": "@jupyter-widgets/controls",
       "_view_module_version": "1.5.0",
       "_view_name": "VBoxView",
       "box_style": "",
       "children": [
        "IPY_MODEL_e0779030803149f7b41e372bcb714fc8",
        "IPY_MODEL_8cd7e874b02e430eb8e759895c32bfb7"
       ],
       "layout": "IPY_MODEL_abd65f6acc414bfe83c74ab6ef7f729d"
      }
     },
     "1e386a9431ed4f7eac39cefa246bf0bd": {
      "model_module": "@jupyter-widgets/controls",
      "model_module_version": "1.5.0",
      "model_name": "FloatProgressModel",
      "state": {
       "_dom_classes": [],
       "_model_module": "@jupyter-widgets/controls",
       "_model_module_version": "1.5.0",
       "_model_name": "FloatProgressModel",
       "_view_count": null,
       "_view_module": "@jupyter-widgets/controls",
       "_view_module_version": "1.5.0",
       "_view_name": "ProgressView",
       "bar_style": "",
       "description": "",
       "description_tooltip": null,
       "layout": "IPY_MODEL_b6add899c72341c59fbb8fbd24302d60",
       "max": 1.0,
       "min": 0.0,
       "orientation": "horizontal",
       "style": "IPY_MODEL_61bd0c8dedb84f61b4ab332e2c81de81",
       "value": 0.0
      }
     },
     "23862e1cabef47a4afe5c2467b16902a": {
      "model_module": "@jupyter-widgets/base",
      "model_module_version": "1.2.0",
      "model_name": "LayoutModel",
      "state": {
       "_model_module": "@jupyter-widgets/base",
       "_model_module_version": "1.2.0",
       "_model_name": "LayoutModel",
       "_view_count": null,
       "_view_module": "@jupyter-widgets/base",
       "_view_module_version": "1.2.0",
       "_view_name": "LayoutView",
       "align_content": null,
       "align_items": null,
       "align_self": null,
       "border": null,
       "bottom": null,
       "display": null,
       "flex": null,
       "flex_flow": null,
       "grid_area": null,
       "grid_auto_columns": null,
       "grid_auto_flow": null,
       "grid_auto_rows": null,
       "grid_column": null,
       "grid_gap": null,
       "grid_row": null,
       "grid_template_areas": null,
       "grid_template_columns": null,
       "grid_template_rows": null,
       "height": null,
       "justify_content": null,
       "justify_items": null,
       "left": null,
       "margin": null,
       "max_height": null,
       "max_width": null,
       "min_height": null,
       "min_width": null,
       "object_fit": null,
       "object_position": null,
       "order": null,
       "overflow": null,
       "overflow_x": null,
       "overflow_y": null,
       "padding": null,
       "right": null,
       "top": null,
       "visibility": null,
       "width": null
      }
     },
     "552ba113366a498da10a2f1647254d63": {
      "model_module": "@jupyter-widgets/controls",
      "model_module_version": "1.5.0",
      "model_name": "VBoxModel",
      "state": {
       "_dom_classes": [],
       "_model_module": "@jupyter-widgets/controls",
       "_model_module_version": "1.5.0",
       "_model_name": "VBoxModel",
       "_view_count": null,
       "_view_module": "@jupyter-widgets/controls",
       "_view_module_version": "1.5.0",
       "_view_name": "VBoxView",
       "box_style": "",
       "children": [
        "IPY_MODEL_dc0a252e9c3b4992b7cccea36ddf2720",
        "IPY_MODEL_1e386a9431ed4f7eac39cefa246bf0bd"
       ],
       "layout": "IPY_MODEL_f21fb1c876704af7969fe61df78e788e"
      }
     },
     "61bd0c8dedb84f61b4ab332e2c81de81": {
      "model_module": "@jupyter-widgets/controls",
      "model_module_version": "1.5.0",
      "model_name": "ProgressStyleModel",
      "state": {
       "_model_module": "@jupyter-widgets/controls",
       "_model_module_version": "1.5.0",
       "_model_name": "ProgressStyleModel",
       "_view_count": null,
       "_view_module": "@jupyter-widgets/base",
       "_view_module_version": "1.2.0",
       "_view_name": "StyleView",
       "bar_color": null,
       "description_width": ""
      }
     },
     "71c24e49cc6f4da98f4fee974349e25d": {
      "model_module": "@jupyter-widgets/controls",
      "model_module_version": "1.5.0",
      "model_name": "DescriptionStyleModel",
      "state": {
       "_model_module": "@jupyter-widgets/controls",
       "_model_module_version": "1.5.0",
       "_model_name": "DescriptionStyleModel",
       "_view_count": null,
       "_view_module": "@jupyter-widgets/base",
       "_view_module_version": "1.2.0",
       "_view_name": "StyleView",
       "description_width": ""
      }
     },
     "76d1a01f774446f09319b6da83d09a64": {
      "model_module": "@jupyter-widgets/base",
      "model_module_version": "1.2.0",
      "model_name": "LayoutModel",
      "state": {
       "_model_module": "@jupyter-widgets/base",
       "_model_module_version": "1.2.0",
       "_model_name": "LayoutModel",
       "_view_count": null,
       "_view_module": "@jupyter-widgets/base",
       "_view_module_version": "1.2.0",
       "_view_name": "LayoutView",
       "align_content": null,
       "align_items": null,
       "align_self": null,
       "border": null,
       "bottom": null,
       "display": null,
       "flex": null,
       "flex_flow": null,
       "grid_area": null,
       "grid_auto_columns": null,
       "grid_auto_flow": null,
       "grid_auto_rows": null,
       "grid_column": null,
       "grid_gap": null,
       "grid_row": null,
       "grid_template_areas": null,
       "grid_template_columns": null,
       "grid_template_rows": null,
       "height": null,
       "justify_content": null,
       "justify_items": null,
       "left": null,
       "margin": null,
       "max_height": null,
       "max_width": null,
       "min_height": null,
       "min_width": null,
       "object_fit": null,
       "object_position": null,
       "order": null,
       "overflow": null,
       "overflow_x": null,
       "overflow_y": null,
       "padding": null,
       "right": null,
       "top": null,
       "visibility": null,
       "width": null
      }
     },
     "8cd7e874b02e430eb8e759895c32bfb7": {
      "model_module": "@jupyter-widgets/controls",
      "model_module_version": "1.5.0",
      "model_name": "FloatProgressModel",
      "state": {
       "_dom_classes": [],
       "_model_module": "@jupyter-widgets/controls",
       "_model_module_version": "1.5.0",
       "_model_name": "FloatProgressModel",
       "_view_count": null,
       "_view_module": "@jupyter-widgets/controls",
       "_view_module_version": "1.5.0",
       "_view_name": "ProgressView",
       "bar_style": "",
       "description": "",
       "description_tooltip": null,
       "layout": "IPY_MODEL_b801a129b40a488e946b2ed5f740308b",
       "max": 1.0,
       "min": 0.0,
       "orientation": "horizontal",
       "style": "IPY_MODEL_008f73f0a56c4e389558db4eeb4a5510",
       "value": 0.0
      }
     },
     "abd65f6acc414bfe83c74ab6ef7f729d": {
      "model_module": "@jupyter-widgets/base",
      "model_module_version": "1.2.0",
      "model_name": "LayoutModel",
      "state": {
       "_model_module": "@jupyter-widgets/base",
       "_model_module_version": "1.2.0",
       "_model_name": "LayoutModel",
       "_view_count": null,
       "_view_module": "@jupyter-widgets/base",
       "_view_module_version": "1.2.0",
       "_view_name": "LayoutView",
       "align_content": null,
       "align_items": null,
       "align_self": null,
       "border": null,
       "bottom": null,
       "display": null,
       "flex": null,
       "flex_flow": null,
       "grid_area": null,
       "grid_auto_columns": null,
       "grid_auto_flow": null,
       "grid_auto_rows": null,
       "grid_column": null,
       "grid_gap": null,
       "grid_row": null,
       "grid_template_areas": null,
       "grid_template_columns": null,
       "grid_template_rows": null,
       "height": null,
       "justify_content": null,
       "justify_items": null,
       "left": null,
       "margin": null,
       "max_height": null,
       "max_width": null,
       "min_height": null,
       "min_width": null,
       "object_fit": null,
       "object_position": null,
       "order": null,
       "overflow": null,
       "overflow_x": null,
       "overflow_y": null,
       "padding": null,
       "right": null,
       "top": null,
       "visibility": null,
       "width": null
      }
     },
     "b6add899c72341c59fbb8fbd24302d60": {
      "model_module": "@jupyter-widgets/base",
      "model_module_version": "1.2.0",
      "model_name": "LayoutModel",
      "state": {
       "_model_module": "@jupyter-widgets/base",
       "_model_module_version": "1.2.0",
       "_model_name": "LayoutModel",
       "_view_count": null,
       "_view_module": "@jupyter-widgets/base",
       "_view_module_version": "1.2.0",
       "_view_name": "LayoutView",
       "align_content": null,
       "align_items": null,
       "align_self": null,
       "border": null,
       "bottom": null,
       "display": null,
       "flex": null,
       "flex_flow": null,
       "grid_area": null,
       "grid_auto_columns": null,
       "grid_auto_flow": null,
       "grid_auto_rows": null,
       "grid_column": null,
       "grid_gap": null,
       "grid_row": null,
       "grid_template_areas": null,
       "grid_template_columns": null,
       "grid_template_rows": null,
       "height": null,
       "justify_content": null,
       "justify_items": null,
       "left": null,
       "margin": null,
       "max_height": null,
       "max_width": null,
       "min_height": null,
       "min_width": null,
       "object_fit": null,
       "object_position": null,
       "order": null,
       "overflow": null,
       "overflow_x": null,
       "overflow_y": null,
       "padding": null,
       "right": null,
       "top": null,
       "visibility": null,
       "width": null
      }
     },
     "b801a129b40a488e946b2ed5f740308b": {
      "model_module": "@jupyter-widgets/base",
      "model_module_version": "1.2.0",
      "model_name": "LayoutModel",
      "state": {
       "_model_module": "@jupyter-widgets/base",
       "_model_module_version": "1.2.0",
       "_model_name": "LayoutModel",
       "_view_count": null,
       "_view_module": "@jupyter-widgets/base",
       "_view_module_version": "1.2.0",
       "_view_name": "LayoutView",
       "align_content": null,
       "align_items": null,
       "align_self": null,
       "border": null,
       "bottom": null,
       "display": null,
       "flex": null,
       "flex_flow": null,
       "grid_area": null,
       "grid_auto_columns": null,
       "grid_auto_flow": null,
       "grid_auto_rows": null,
       "grid_column": null,
       "grid_gap": null,
       "grid_row": null,
       "grid_template_areas": null,
       "grid_template_columns": null,
       "grid_template_rows": null,
       "height": null,
       "justify_content": null,
       "justify_items": null,
       "left": null,
       "margin": null,
       "max_height": null,
       "max_width": null,
       "min_height": null,
       "min_width": null,
       "object_fit": null,
       "object_position": null,
       "order": null,
       "overflow": null,
       "overflow_x": null,
       "overflow_y": null,
       "padding": null,
       "right": null,
       "top": null,
       "visibility": null,
       "width": null
      }
     },
     "dc0a252e9c3b4992b7cccea36ddf2720": {
      "model_module": "@jupyter-widgets/controls",
      "model_module_version": "1.5.0",
      "model_name": "LabelModel",
      "state": {
       "_dom_classes": [],
       "_model_module": "@jupyter-widgets/controls",
       "_model_module_version": "1.5.0",
       "_model_name": "LabelModel",
       "_view_count": null,
       "_view_module": "@jupyter-widgets/controls",
       "_view_module_version": "1.5.0",
       "_view_name": "LabelView",
       "description": "",
       "description_tooltip": null,
       "layout": "IPY_MODEL_76d1a01f774446f09319b6da83d09a64",
       "placeholder": "​",
       "style": "IPY_MODEL_71c24e49cc6f4da98f4fee974349e25d",
       "value": ""
      }
     },
     "e0779030803149f7b41e372bcb714fc8": {
      "model_module": "@jupyter-widgets/controls",
      "model_module_version": "1.5.0",
      "model_name": "LabelModel",
      "state": {
       "_dom_classes": [],
       "_model_module": "@jupyter-widgets/controls",
       "_model_module_version": "1.5.0",
       "_model_name": "LabelModel",
       "_view_count": null,
       "_view_module": "@jupyter-widgets/controls",
       "_view_module_version": "1.5.0",
       "_view_name": "LabelView",
       "description": "",
       "description_tooltip": null,
       "layout": "IPY_MODEL_23862e1cabef47a4afe5c2467b16902a",
       "placeholder": "​",
       "style": "IPY_MODEL_e52221c92dce499284ef21eb93bf96a9",
       "value": ""
      }
     },
     "e52221c92dce499284ef21eb93bf96a9": {
      "model_module": "@jupyter-widgets/controls",
      "model_module_version": "1.5.0",
      "model_name": "DescriptionStyleModel",
      "state": {
       "_model_module": "@jupyter-widgets/controls",
       "_model_module_version": "1.5.0",
       "_model_name": "DescriptionStyleModel",
       "_view_count": null,
       "_view_module": "@jupyter-widgets/base",
       "_view_module_version": "1.2.0",
       "_view_name": "StyleView",
       "description_width": ""
      }
     },
     "f21fb1c876704af7969fe61df78e788e": {
      "model_module": "@jupyter-widgets/base",
      "model_module_version": "1.2.0",
      "model_name": "LayoutModel",
      "state": {
       "_model_module": "@jupyter-widgets/base",
       "_model_module_version": "1.2.0",
       "_model_name": "LayoutModel",
       "_view_count": null,
       "_view_module": "@jupyter-widgets/base",
       "_view_module_version": "1.2.0",
       "_view_name": "LayoutView",
       "align_content": null,
       "align_items": null,
       "align_self": null,
       "border": null,
       "bottom": null,
       "display": null,
       "flex": null,
       "flex_flow": null,
       "grid_area": null,
       "grid_auto_columns": null,
       "grid_auto_flow": null,
       "grid_auto_rows": null,
       "grid_column": null,
       "grid_gap": null,
       "grid_row": null,
       "grid_template_areas": null,
       "grid_template_columns": null,
       "grid_template_rows": null,
       "height": null,
       "justify_content": null,
       "justify_items": null,
       "left": null,
       "margin": null,
       "max_height": null,
       "max_width": null,
       "min_height": null,
       "min_width": null,
       "object_fit": null,
       "object_position": null,
       "order": null,
       "overflow": null,
       "overflow_x": null,
       "overflow_y": null,
       "padding": null,
       "right": null,
       "top": null,
       "visibility": null,
       "width": null
      }
     }
    },
    "version_major": 2,
    "version_minor": 0
   }
  }
 },
 "nbformat": 4,
 "nbformat_minor": 5
}
