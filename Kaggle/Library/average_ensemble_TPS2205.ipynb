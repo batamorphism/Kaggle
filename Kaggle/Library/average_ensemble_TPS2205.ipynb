{
 "cells": [
  {
   "cell_type": "code",
   "execution_count": 1,
   "id": "40173830",
   "metadata": {
    "_cell_guid": "b1076dfc-b9ad-4769-8c92-a6c4dae69d19",
    "_uuid": "8f2839f25d086af736a60e9eeb907d3b93b6e0e5",
    "execution": {
     "iopub.execute_input": "2022-05-29T04:10:53.109307Z",
     "iopub.status.busy": "2022-05-29T04:10:53.108231Z",
     "iopub.status.idle": "2022-05-29T04:10:53.120879Z",
     "shell.execute_reply": "2022-05-29T04:10:53.120170Z"
    },
    "papermill": {
     "duration": 0.022651,
     "end_time": "2022-05-29T04:10:53.123222",
     "exception": false,
     "start_time": "2022-05-29T04:10:53.100571",
     "status": "completed"
    },
    "tags": []
   },
   "outputs": [],
   "source": [
    "import numpy as np\n",
    "import pandas as pd"
   ]
  },
  {
   "cell_type": "code",
   "execution_count": 2,
   "id": "fb5ac720",
   "metadata": {
    "execution": {
     "iopub.execute_input": "2022-05-29T04:10:53.135182Z",
     "iopub.status.busy": "2022-05-29T04:10:53.134596Z",
     "iopub.status.idle": "2022-05-29T04:10:54.011136Z",
     "shell.execute_reply": "2022-05-29T04:10:54.010063Z"
    },
    "papermill": {
     "duration": 0.88518,
     "end_time": "2022-05-29T04:10:54.013711",
     "exception": false,
     "start_time": "2022-05-29T04:10:53.128531",
     "status": "completed"
    },
    "tags": []
   },
   "outputs": [],
   "source": [
    "import scipy\n",
    "from scipy import stats"
   ]
  },
  {
   "cell_type": "code",
   "execution_count": 3,
   "id": "b9591353",
   "metadata": {
    "execution": {
     "iopub.execute_input": "2022-05-29T04:10:54.025498Z",
     "iopub.status.busy": "2022-05-29T04:10:54.025111Z",
     "iopub.status.idle": "2022-05-29T04:10:54.030095Z",
     "shell.execute_reply": "2022-05-29T04:10:54.029005Z"
    },
    "papermill": {
     "duration": 0.013374,
     "end_time": "2022-05-29T04:10:54.032246",
     "exception": false,
     "start_time": "2022-05-29T04:10:54.018872",
     "status": "completed"
    },
    "tags": []
   },
   "outputs": [],
   "source": [
    "from matplotlib import pyplot as plt"
   ]
  },
  {
   "cell_type": "code",
   "execution_count": 4,
   "id": "530fe968",
   "metadata": {
    "execution": {
     "iopub.execute_input": "2022-05-29T04:10:54.044680Z",
     "iopub.status.busy": "2022-05-29T04:10:54.043904Z",
     "iopub.status.idle": "2022-05-29T04:10:54.483274Z",
     "shell.execute_reply": "2022-05-29T04:10:54.482354Z"
    },
    "papermill": {
     "duration": 0.448807,
     "end_time": "2022-05-29T04:10:54.486132",
     "exception": false,
     "start_time": "2022-05-29T04:10:54.037325",
     "status": "completed"
    },
    "tags": []
   },
   "outputs": [],
   "source": [
    "sub1 = pd.read_csv(\"../input/tps2205-random-ensemble/submission.csv\")"
   ]
  },
  {
   "cell_type": "code",
   "execution_count": 5,
   "id": "8fefad30",
   "metadata": {
    "execution": {
     "iopub.execute_input": "2022-05-29T04:10:54.501379Z",
     "iopub.status.busy": "2022-05-29T04:10:54.500604Z",
     "iopub.status.idle": "2022-05-29T04:10:54.831084Z",
     "shell.execute_reply": "2022-05-29T04:10:54.829975Z"
    },
    "papermill": {
     "duration": 0.340659,
     "end_time": "2022-05-29T04:10:54.833661",
     "exception": false,
     "start_time": "2022-05-29T04:10:54.493002",
     "status": "completed"
    },
    "tags": []
   },
   "outputs": [],
   "source": [
    "sub2 = pd.read_csv(\"../input/../input/tpsmay22-auc-ensembling/submission.csv\")"
   ]
  },
  {
   "cell_type": "code",
   "execution_count": 6,
   "id": "41c54499",
   "metadata": {
    "execution": {
     "iopub.execute_input": "2022-05-29T04:10:54.847055Z",
     "iopub.status.busy": "2022-05-29T04:10:54.846078Z",
     "iopub.status.idle": "2022-05-29T04:10:55.203603Z",
     "shell.execute_reply": "2022-05-29T04:10:55.202548Z"
    },
    "papermill": {
     "duration": 0.366691,
     "end_time": "2022-05-29T04:10:55.206188",
     "exception": false,
     "start_time": "2022-05-29T04:10:54.839497",
     "status": "completed"
    },
    "tags": []
   },
   "outputs": [],
   "source": [
    "sub3 = pd.read_csv(\"../input/tps-may-2022-ensemble-lb-0-99825/ensemble.csv\")"
   ]
  },
  {
   "cell_type": "code",
   "execution_count": 7,
   "id": "f752a454",
   "metadata": {
    "execution": {
     "iopub.execute_input": "2022-05-29T04:10:55.218613Z",
     "iopub.status.busy": "2022-05-29T04:10:55.218215Z",
     "iopub.status.idle": "2022-05-29T04:10:55.856134Z",
     "shell.execute_reply": "2022-05-29T04:10:55.855081Z"
    },
    "papermill": {
     "duration": 0.647443,
     "end_time": "2022-05-29T04:10:55.858946",
     "exception": false,
     "start_time": "2022-05-29T04:10:55.211503",
     "status": "completed"
    },
    "tags": []
   },
   "outputs": [],
   "source": [
    "sub1['target'] = scipy.stats.rankdata(sub1['target'])\n",
    "sub2['target'] = scipy.stats.rankdata(sub2['target'])\n",
    "sub3['target'] = scipy.stats.rankdata(sub3['target'])"
   ]
  },
  {
   "cell_type": "code",
   "execution_count": 8,
   "id": "655d89bf",
   "metadata": {
    "execution": {
     "iopub.execute_input": "2022-05-29T04:10:55.871424Z",
     "iopub.status.busy": "2022-05-29T04:10:55.870348Z",
     "iopub.status.idle": "2022-05-29T04:10:55.886553Z",
     "shell.execute_reply": "2022-05-29T04:10:55.885436Z"
    },
    "papermill": {
     "duration": 0.02484,
     "end_time": "2022-05-29T04:10:55.888909",
     "exception": false,
     "start_time": "2022-05-29T04:10:55.864069",
     "status": "completed"
    },
    "tags": []
   },
   "outputs": [
    {
     "data": {
      "text/plain": [
       "<Figure size 648x648 with 0 Axes>"
      ]
     },
     "execution_count": 8,
     "metadata": {},
     "output_type": "execute_result"
    },
    {
     "data": {
      "text/plain": [
       "<Figure size 648x648 with 0 Axes>"
      ]
     },
     "metadata": {},
     "output_type": "display_data"
    }
   ],
   "source": [
    "plt.style.use('seaborn-whitegrid') \n",
    "plt.figure(figsize=(9, 9), facecolor='lightgray')"
   ]
  },
  {
   "cell_type": "code",
   "execution_count": 9,
   "id": "52257c45",
   "metadata": {
    "execution": {
     "iopub.execute_input": "2022-05-29T04:10:55.902557Z",
     "iopub.status.busy": "2022-05-29T04:10:55.901545Z",
     "iopub.status.idle": "2022-05-29T04:10:56.449928Z",
     "shell.execute_reply": "2022-05-29T04:10:56.449084Z"
    },
    "papermill": {
     "duration": 0.557178,
     "end_time": "2022-05-29T04:10:56.452049",
     "exception": false,
     "start_time": "2022-05-29T04:10:55.894871",
     "status": "completed"
    },
    "tags": []
   },
   "outputs": [
    {
     "data": {
      "text/plain": [
       "<matplotlib.collections.PathCollection at 0x7f3256ead750>"
      ]
     },
     "execution_count": 9,
     "metadata": {},
     "output_type": "execute_result"
    },
    {
     "data": {
      "image/png": "[encoded data removed]",
      "text/plain": [
       "<Figure size 432x288 with 1 Axes>"
      ]
     },
     "metadata": {},
     "output_type": "display_data"
    }
   ],
   "source": [
    "plt.scatter(sub1['target'], sub2['target'], s=0.2)"
   ]
  },
  {
   "cell_type": "code",
   "execution_count": 10,
   "id": "254e972a",
   "metadata": {
    "execution": {
     "iopub.execute_input": "2022-05-29T04:10:56.466245Z",
     "iopub.status.busy": "2022-05-29T04:10:56.465229Z",
     "iopub.status.idle": "2022-05-29T04:10:56.935756Z",
     "shell.execute_reply": "2022-05-29T04:10:56.935050Z"
    },
    "papermill": {
     "duration": 0.479867,
     "end_time": "2022-05-29T04:10:56.937961",
     "exception": false,
     "start_time": "2022-05-29T04:10:56.458094",
     "status": "completed"
    },
    "tags": []
   },
   "outputs": [
    {
     "data": {
      "text/plain": [
       "<matplotlib.collections.PathCollection at 0x7f3256e2bd50>"
      ]
     },
     "execution_count": 10,
     "metadata": {},
     "output_type": "execute_result"
    },
    {
     "data": {
      "image/png": "[encoded data removed]",
      "text/plain": [
       "<Figure size 432x288 with 1 Axes>"
      ]
     },
     "metadata": {},
     "output_type": "display_data"
    }
   ],
   "source": [
    "plt.scatter(sub3['target'], sub2['target'], s=0.2)"
   ]
  },
  {
   "cell_type": "code",
   "execution_count": 11,
   "id": "df9ce94c",
   "metadata": {
    "execution": {
     "iopub.execute_input": "2022-05-29T04:10:56.953151Z",
     "iopub.status.busy": "2022-05-29T04:10:56.952163Z",
     "iopub.status.idle": "2022-05-29T04:10:57.218952Z",
     "shell.execute_reply": "2022-05-29T04:10:57.218013Z"
    },
    "papermill": {
     "duration": 0.27685,
     "end_time": "2022-05-29T04:10:57.221366",
     "exception": false,
     "start_time": "2022-05-29T04:10:56.944516",
     "status": "completed"
    },
    "tags": []
   },
   "outputs": [],
   "source": [
    "sub = pd.read_csv(\"../input/tabular-playground-series-may-2022/sample_submission.csv\")"
   ]
  },
  {
   "cell_type": "code",
   "execution_count": 12,
   "id": "83c3ae01",
   "metadata": {
    "execution": {
     "iopub.execute_input": "2022-05-29T04:10:57.236746Z",
     "iopub.status.busy": "2022-05-29T04:10:57.235643Z",
     "iopub.status.idle": "2022-05-29T04:10:57.240143Z",
     "shell.execute_reply": "2022-05-29T04:10:57.239463Z"
    },
    "papermill": {
     "duration": 0.013963,
     "end_time": "2022-05-29T04:10:57.242028",
     "exception": false,
     "start_time": "2022-05-29T04:10:57.228065",
     "status": "completed"
    },
    "tags": []
   },
   "outputs": [],
   "source": [
    "# Score: 0.99827\n",
    "# sub['target'] = sub1['target']*0.25 + sub2['target']*0.5 + sub3['target']*0.25"
   ]
  },
  {
   "cell_type": "code",
   "execution_count": 13,
   "id": "6e880f2c",
   "metadata": {
    "execution": {
     "iopub.execute_input": "2022-05-29T04:10:57.256892Z",
     "iopub.status.busy": "2022-05-29T04:10:57.255929Z",
     "iopub.status.idle": "2022-05-29T04:10:57.261145Z",
     "shell.execute_reply": "2022-05-29T04:10:57.260488Z"
    },
    "papermill": {
     "duration": 0.014811,
     "end_time": "2022-05-29T04:10:57.263325",
     "exception": false,
     "start_time": "2022-05-29T04:10:57.248514",
     "status": "completed"
    },
    "tags": []
   },
   "outputs": [],
   "source": [
    "# Score: 0.99827\n",
    "# sub['target'] = sub1['target']*0.1 + sub2['target']*0.8 + sub3['target']*0.1"
   ]
  },
  {
   "cell_type": "code",
   "execution_count": 14,
   "id": "f2ac6f59",
   "metadata": {
    "execution": {
     "iopub.execute_input": "2022-05-29T04:10:57.280613Z",
     "iopub.status.busy": "2022-05-29T04:10:57.279994Z",
     "iopub.status.idle": "2022-05-29T04:10:57.299758Z",
     "shell.execute_reply": "2022-05-29T04:10:57.299034Z"
    },
    "papermill": {
     "duration": 0.032795,
     "end_time": "2022-05-29T04:10:57.302513",
     "exception": false,
     "start_time": "2022-05-29T04:10:57.269718",
     "status": "completed"
    },
    "tags": []
   },
   "outputs": [],
   "source": [
    "# Score: ?\n",
    "sub['target'] = sub1['target']*0.2 + sub2['target']*0.8 + sub3['target']*0.0"
   ]
  },
  {
   "cell_type": "code",
   "execution_count": 15,
   "id": "dbdd6e4f",
   "metadata": {
    "execution": {
     "iopub.execute_input": "2022-05-29T04:10:57.324509Z",
     "iopub.status.busy": "2022-05-29T04:10:57.323497Z",
     "iopub.status.idle": "2022-05-29T04:10:59.358246Z",
     "shell.execute_reply": "2022-05-29T04:10:59.357258Z"
    },
    "papermill": {
     "duration": 2.048317,
     "end_time": "2022-05-29T04:10:59.360841",
     "exception": false,
     "start_time": "2022-05-29T04:10:57.312524",
     "status": "completed"
    },
    "tags": []
   },
   "outputs": [],
   "source": [
    "sub.to_csv('submission.csv', index=False)"
   ]
  },
  {
   "cell_type": "code",
   "execution_count": 16,
   "id": "649308e2",
   "metadata": {
    "execution": {
     "iopub.execute_input": "2022-05-29T04:10:59.375959Z",
     "iopub.status.busy": "2022-05-29T04:10:59.375512Z",
     "iopub.status.idle": "2022-05-29T04:10:59.393296Z",
     "shell.execute_reply": "2022-05-29T04:10:59.392404Z"
    },
    "papermill": {
     "duration": 0.027836,
     "end_time": "2022-05-29T04:10:59.395369",
     "exception": false,
     "start_time": "2022-05-29T04:10:59.367533",
     "status": "completed"
    },
    "tags": []
   },
   "outputs": [
    {
     "data": {
      "text/html": [
       "<div>\n",
       "<style scoped>\n",
       "    .dataframe tbody tr th:only-of-type {\n",
       "        vertical-align: middle;\n",
       "    }\n",
       "\n",
       "    .dataframe tbody tr th {\n",
       "        vertical-align: top;\n",
       "    }\n",
       "\n",
       "    .dataframe thead th {\n",
       "        text-align: right;\n",
       "    }\n",
       "</style>\n",
       "<table border=\"1\" class=\"dataframe\">\n",
       "  <thead>\n",
       "    <tr style=\"text-align: right;\">\n",
       "      <th></th>\n",
       "      <th>id</th>\n",
       "      <th>target</th>\n",
       "    </tr>\n",
       "  </thead>\n",
       "  <tbody>\n",
       "    <tr>\n",
       "      <th>0</th>\n",
       "      <td>900000</td>\n",
       "      <td>640991.4</td>\n",
       "    </tr>\n",
       "    <tr>\n",
       "      <th>1</th>\n",
       "      <td>900001</td>\n",
       "      <td>583064.3</td>\n",
       "    </tr>\n",
       "    <tr>\n",
       "      <th>2</th>\n",
       "      <td>900002</td>\n",
       "      <td>45772.3</td>\n",
       "    </tr>\n",
       "    <tr>\n",
       "      <th>3</th>\n",
       "      <td>900003</td>\n",
       "      <td>139386.4</td>\n",
       "    </tr>\n",
       "    <tr>\n",
       "      <th>4</th>\n",
       "      <td>900004</td>\n",
       "      <td>493824.4</td>\n",
       "    </tr>\n",
       "    <tr>\n",
       "      <th>...</th>\n",
       "      <td>...</td>\n",
       "      <td>...</td>\n",
       "    </tr>\n",
       "    <tr>\n",
       "      <th>699995</th>\n",
       "      <td>1599995</td>\n",
       "      <td>360659.6</td>\n",
       "    </tr>\n",
       "    <tr>\n",
       "      <th>699996</th>\n",
       "      <td>1599996</td>\n",
       "      <td>557226.4</td>\n",
       "    </tr>\n",
       "    <tr>\n",
       "      <th>699997</th>\n",
       "      <td>1599997</td>\n",
       "      <td>310071.2</td>\n",
       "    </tr>\n",
       "    <tr>\n",
       "      <th>699998</th>\n",
       "      <td>1599998</td>\n",
       "      <td>98543.1</td>\n",
       "    </tr>\n",
       "    <tr>\n",
       "      <th>699999</th>\n",
       "      <td>1599999</td>\n",
       "      <td>45772.3</td>\n",
       "    </tr>\n",
       "  </tbody>\n",
       "</table>\n",
       "<p>700000 rows × 2 columns</p>\n",
       "</div>"
      ],
      "text/plain": [
       "             id    target\n",
       "0        900000  640991.4\n",
       "1        900001  583064.3\n",
       "2        900002   45772.3\n",
       "3        900003  139386.4\n",
       "4        900004  493824.4\n",
       "...         ...       ...\n",
       "699995  1599995  360659.6\n",
       "699996  1599996  557226.4\n",
       "699997  1599997  310071.2\n",
       "699998  1599998   98543.1\n",
       "699999  1599999   45772.3\n",
       "\n",
       "[700000 rows x 2 columns]"
      ]
     },
     "execution_count": 16,
     "metadata": {},
     "output_type": "execute_result"
    }
   ],
   "source": [
    "sub"
   ]
  }
 ],
 "metadata": {
  "kernelspec": {
   "display_name": "Python 3",
   "language": "python",
   "name": "python3"
  },
  "language_info": {
   "codemirror_mode": {
    "name": "ipython",
    "version": 3
   },
   "file_extension": ".py",
   "mimetype": "text/x-python",
   "name": "python",
   "nbconvert_exporter": "python",
   "pygments_lexer": "ipython3",
   "version": "3.7.12"
  },
  "papermill": {
   "default_parameters": {},
   "duration": 17.383117,
   "end_time": "2022-05-29T04:11:00.225116",
   "environment_variables": {},
   "exception": null,
   "input_path": "__notebook__.ipynb",
   "output_path": "__notebook__.ipynb",
   "parameters": {},
   "start_time": "2022-05-29T04:10:42.841999",
   "version": "2.3.4"
  }
 },
 "nbformat": 4,
 "nbformat_minor": 5
}
