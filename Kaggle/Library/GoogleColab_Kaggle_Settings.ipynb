{
  "cells": [
    {
      "cell_type": "markdown",
      "metadata": {
        "id": "-FfHkWR1jkpU"
      },
      "source": [
        "## Google Colab Setting"
      ]
    },
    {
      "cell_type": "code",
      "execution_count": null,
      "metadata": {},
      "outputs": [],
      "source": [
        "from google.colab import drive\n",
        "drive.mount('/content/drive')\n",
        "\n",
        "import os\n",
        "os.chdir('/content/drive/My Drive/colab_data/TPS2205/input')  # TODO inputフォルダはいらないかも?"
      ]
    },
    {
      "cell_type": "code",
      "execution_count": 1,
      "metadata": {
        "id": "daZ_SgChhk6L"
      },
      "outputs": [],
      "source": [
        "# Install kaggle packages\n",
        "!pip install -q kaggle\n",
        "!pip install -q kaggle-cli\n",
        "\n",
        "# Lib\n",
        "from google.colab import files\n",
        "\n",
        "# Please Upload `kaggle.json` file\n",
        "uploaded = files.upload()\n",
        "\n",
        "# Then copy kaggle.json into the folder where the API expects to find it.\n",
        "!mkdir -p ~/.kaggle\n",
        "!cp kaggle.json ~/.kaggle/\n",
        "!chmod 600 ~/.kaggle/kaggle.json\n",
        "!ls ~/.kaggle\n",
        "\n",
        "#list competitions\n",
        "!kaggle competitions list"
      ]
    },
    {
      "cell_type": "code",
      "execution_count": null,
      "metadata": {
        "id": "nnD6Qdj1iAtR"
      },
      "outputs": [],
      "source": [
        "# Download and unzip\n",
        "!kaggle competitions download -c AI4Code\n",
        "%%capture\n",
        "!unzip AI4Code.zip -d AI4Code"
      ]
    },
    {
      "cell_type": "code",
      "execution_count": 15,
      "metadata": {
        "colab": {
          "base_uri": "https://localhost:8080/"
        },
        "id": "Lv5NMEWSlZZS",
        "outputId": "8ef3023a-fec4-44d2-fcab-86ac3817f75f"
      },
      "outputs": [
        {
          "name": "stdout",
          "output_type": "stream",
          "text": [
            "ref                                        title                      size  lastUpdated          downloadCount  voteCount  usabilityRating  \n",
            "-----------------------------------------  -------------------------  ----  -------------------  -------------  ---------  ---------------  \n",
            "sauravmaheshkar/huggingface-bert-variants  Huggingface BERT Variants  17GB  2021-05-15 07:32:05            296         37  0.875            \n"
          ]
        }
      ],
      "source": [
        "# Search Dataset\n",
        "!kaggle datasets list -s huggingface-bert-variants"
      ]
    },
    {
      "cell_type": "code",
      "execution_count": 16,
      "metadata": {
        "colab": {
          "base_uri": "https://localhost:8080/"
        },
        "id": "3ElY76ZCmS7E",
        "outputId": "721d5e44-587f-44b1-850a-2e40eb79bb2d"
      },
      "outputs": [
        {
          "name": "stdout",
          "output_type": "stream",
          "text": [
            "Downloading huggingface-bert-variants.zip to /content\n",
            "100% 17.2G/17.2G [02:18<00:00, 116MB/s]\n",
            "100% 17.2G/17.2G [02:18<00:00, 133MB/s]\n"
          ]
        }
      ],
      "source": [
        "# Download Dataset\n",
        "!kaggle datasets download sauravmaheshkar/huggingface-bert-variants"
      ]
    },
    {
      "cell_type": "code",
      "execution_count": 17,
      "metadata": {
        "id": "3PoSCanumk15"
      },
      "outputs": [],
      "source": [
        "%%capture\n",
        "!unzip huggingface-bert-variants.zip -d huggingface-bert-variants"
      ]
    }
  ],
  "metadata": {
    "colab": {
      "name": "GoogleColab_Kaggle_Settings.ipynb",
      "provenance": []
    },
    "kernelspec": {
      "display_name": "Python 3",
      "name": "python3"
    },
    "language_info": {
      "name": "python"
    }
  },
  "nbformat": 4,
  "nbformat_minor": 0
}
