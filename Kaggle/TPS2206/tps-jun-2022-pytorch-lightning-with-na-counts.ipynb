{
 "cells": [
  {
   "cell_type": "markdown",
   "id": "42ad326f",
   "metadata": {
    "papermill": {
     "duration": 0.010529,
     "end_time": "2022-06-16T07:30:07.210359",
     "exception": false,
     "start_time": "2022-06-16T07:30:07.199830",
     "status": "completed"
    },
    "tags": []
   },
   "source": [
    "## Thank [@ehekatlact](https://www.kaggle.com/ehekatlact) for his excellent work.\n",
    "## Most of this code is derived from his efforts.\n",
    "## Take closely look at his code, [**\"TPS2206 The na count of each record is critical!\"**](https://www.kaggle.com/code/ehekatlact/tps2206-the-na-count-of-each-record-is-critical) and upvote.\n",
    "---"
   ]
  },
  {
   "cell_type": "markdown",
   "id": "493c7ddd",
   "metadata": {
    "papermill": {
     "duration": 0.008999,
     "end_time": "2022-06-16T07:30:07.228516",
     "exception": false,
     "start_time": "2022-06-16T07:30:07.219517",
     "status": "completed"
    },
    "tags": []
   },
   "source": [
    "motivation\n",
    "\n",
    "I found that there is a significant difference in the prediction results between columns with only one na and columns with two or more na, using the previous method.\n",
    "\n",
    "It seems that multiple columns of na filled with mean, etc. are interacting with each other and adversely affecting the results.\n",
    "\n",
    "Predicting by how many na columns there are improves the score."
   ]
  },
  {
   "cell_type": "code",
   "execution_count": 1,
   "id": "ad7ee74c",
   "metadata": {
    "execution": {
     "iopub.execute_input": "2022-06-16T07:30:07.248464Z",
     "iopub.status.busy": "2022-06-16T07:30:07.247769Z",
     "iopub.status.idle": "2022-06-16T07:30:07.260711Z",
     "shell.execute_reply": "2022-06-16T07:30:07.258911Z"
    },
    "papermill": {
     "duration": 0.028105,
     "end_time": "2022-06-16T07:30:07.265508",
     "exception": false,
     "start_time": "2022-06-16T07:30:07.237403",
     "status": "completed"
    },
    "tags": []
   },
   "outputs": [],
   "source": [
    "class CFG:\n",
    "    num_workers = 2  # colabは4, kaggleは2?\n",
    "    weight_decay = 0\n",
    "    print_epoch_freq = 10\n",
    "    max_epochs = 300\n",
    "    max_batch_size = 2048\n",
    "    hidden_size = 128\n",
    "    lr = 2e-3\n",
    "    min_lr = 1e-6\n",
    "    patience = 10\n",
    "    lr_patience = 3\n",
    "    factor = 0.5\n",
    "    seed = 42\n",
    "    train = False\n",
    "    debug = False\n",
    "\n",
    "if CFG.debug:\n",
    "    CFG.max_epochs=1\n",
    "    na_col_list = na_col_list[:1]"
   ]
  },
  {
   "cell_type": "code",
   "execution_count": 2,
   "id": "ea819782",
   "metadata": {
    "execution": {
     "iopub.execute_input": "2022-06-16T07:30:07.296721Z",
     "iopub.status.busy": "2022-06-16T07:30:07.296445Z",
     "iopub.status.idle": "2022-06-16T07:30:07.305717Z",
     "shell.execute_reply": "2022-06-16T07:30:07.305020Z"
    },
    "papermill": {
     "duration": 0.02776,
     "end_time": "2022-06-16T07:30:07.310044",
     "exception": false,
     "start_time": "2022-06-16T07:30:07.282284",
     "status": "completed"
    },
    "tags": []
   },
   "outputs": [
    {
     "data": {
      "text/plain": [
       "\"\\nfrom google.colab import drive\\ndrive.mount('/content/drive')\\n\\n# Install kaggle packages\\n!pip install -q kaggle\\n!pip install -q kaggle-cli\\n\\n# Lib\\nfrom google.colab import files\\n\\n# Please Upload `kaggle.json` file\\nuploaded = files.upload()\\n\\n# Then copy kaggle.json into the folder where the API expects to find it.\\n!mkdir -p ~/.kaggle\\n!cp kaggle.json ~/.kaggle/\\n!chmod 600 ~/.kaggle/kaggle.json\\n!ls ~/.kaggle\\n\\n!kaggle competitions download -c tabular-playground-series-jun-2022\\n!unzip -o tabular-playground-series-jun-2022.zip -d tabular-playground-series-jun-2022\\n!kaggle kernels output oxzplvifi/tps2206-gbm-resnet-imputation -p ./DataSet\\n\""
      ]
     },
     "execution_count": 2,
     "metadata": {},
     "output_type": "execute_result"
    }
   ],
   "source": [
    "# For Google Colab\n",
    "\"\"\"\n",
    "from google.colab import drive\n",
    "drive.mount('/content/drive')\n",
    "\n",
    "# Install kaggle packages\n",
    "!pip install -q kaggle\n",
    "!pip install -q kaggle-cli\n",
    "\n",
    "# Lib\n",
    "from google.colab import files\n",
    "\n",
    "# Please Upload `kaggle.json` file\n",
    "uploaded = files.upload()\n",
    "\n",
    "# Then copy kaggle.json into the folder where the API expects to find it.\n",
    "!mkdir -p ~/.kaggle\n",
    "!cp kaggle.json ~/.kaggle/\n",
    "!chmod 600 ~/.kaggle/kaggle.json\n",
    "!ls ~/.kaggle\n",
    "\n",
    "!kaggle competitions download -c tabular-playground-series-jun-2022\n",
    "!unzip -o tabular-playground-series-jun-2022.zip -d tabular-playground-series-jun-2022\n",
    "!kaggle kernels output oxzplvifi/tps2206-gbm-resnet-imputation -p ./DataSet\n",
    "\"\"\""
   ]
  },
  {
   "cell_type": "code",
   "execution_count": 3,
   "id": "37b80abd",
   "metadata": {
    "execution": {
     "iopub.execute_input": "2022-06-16T07:30:07.344873Z",
     "iopub.status.busy": "2022-06-16T07:30:07.344068Z",
     "iopub.status.idle": "2022-06-16T07:30:18.129971Z",
     "shell.execute_reply": "2022-06-16T07:30:18.128937Z"
    },
    "id": "95312a76",
    "papermill": {
     "duration": 10.804073,
     "end_time": "2022-06-16T07:30:18.132129",
     "exception": false,
     "start_time": "2022-06-16T07:30:07.328056",
     "status": "completed"
    },
    "tags": []
   },
   "outputs": [],
   "source": [
    "%%capture\n",
    "\n",
    "if CFG.train:\n",
    "    !pip install wandb\n",
    "!pip install pytorch_lightning"
   ]
  },
  {
   "cell_type": "code",
   "execution_count": 4,
   "id": "d785b6af",
   "metadata": {
    "execution": {
     "iopub.execute_input": "2022-06-16T07:30:18.154034Z",
     "iopub.status.busy": "2022-06-16T07:30:18.153333Z",
     "iopub.status.idle": "2022-06-16T07:30:18.159044Z",
     "shell.execute_reply": "2022-06-16T07:30:18.158225Z"
    },
    "id": "e50babc2",
    "outputId": "4f1e5462-46b2-4922-f1d6-cc2dc6aff8f2",
    "papermill": {
     "duration": 0.018711,
     "end_time": "2022-06-16T07:30:18.161101",
     "exception": false,
     "start_time": "2022-06-16T07:30:18.142390",
     "status": "completed"
    },
    "tags": []
   },
   "outputs": [],
   "source": [
    "if CFG.train:\n",
    "    import wandb\n",
    "    try:\n",
    "        # add-ons -> secrets -> set your wandb api key\n",
    "        from kaggle_secrets import UserSecretsClient\n",
    "        user_secrets = UserSecretsClient()\n",
    "        secret_value_0 = user_secrets.get_secret(\"wandb_api\")\n",
    "        wandb.login(key=secret_value_0)\n",
    "        anony = None\n",
    "    except:\n",
    "        anony = \"must\"\n",
    "        print('If you want to use your W&B account, go to Add-ons -> Secrets and provide your W&B access token. Use the Label name as wandb_api. \\nGet your W&B access token from here: https://wandb.ai/authorize')"
   ]
  },
  {
   "cell_type": "code",
   "execution_count": 5,
   "id": "38b393a0",
   "metadata": {
    "execution": {
     "iopub.execute_input": "2022-06-16T07:30:18.181116Z",
     "iopub.status.busy": "2022-06-16T07:30:18.180862Z",
     "iopub.status.idle": "2022-06-16T07:30:18.184330Z",
     "shell.execute_reply": "2022-06-16T07:30:18.183629Z"
    },
    "id": "_9KqWkq8KIuu",
    "outputId": "0ffbb9a4-e468-42d1-8971-eec759211c37",
    "papermill": {
     "duration": 0.015493,
     "end_time": "2022-06-16T07:30:18.186044",
     "exception": false,
     "start_time": "2022-06-16T07:30:18.170551",
     "status": "completed"
    },
    "tags": []
   },
   "outputs": [],
   "source": [
    "if CFG.train:\n",
    "    import os\n",
    "    wandb.init(project=\"tps2206\")"
   ]
  },
  {
   "cell_type": "markdown",
   "id": "d08f50dc",
   "metadata": {
    "id": "74ff08e2",
    "papermill": {
     "duration": 0.009586,
     "end_time": "2022-06-16T07:30:18.204803",
     "exception": false,
     "start_time": "2022-06-16T07:30:18.195217",
     "status": "completed"
    },
    "tags": []
   },
   "source": [
    "### Lib"
   ]
  },
  {
   "cell_type": "code",
   "execution_count": 6,
   "id": "f1ef75ac",
   "metadata": {
    "execution": {
     "iopub.execute_input": "2022-06-16T07:30:18.223980Z",
     "iopub.status.busy": "2022-06-16T07:30:18.223733Z",
     "iopub.status.idle": "2022-06-16T07:30:27.091760Z",
     "shell.execute_reply": "2022-06-16T07:30:27.090910Z"
    },
    "id": "baeddd0d",
    "papermill": {
     "duration": 8.879938,
     "end_time": "2022-06-16T07:30:27.093851",
     "exception": false,
     "start_time": "2022-06-16T07:30:18.213913",
     "status": "completed"
    },
    "tags": []
   },
   "outputs": [],
   "source": [
    "# common\n",
    "import os\n",
    "import numpy as np\n",
    "import pandas as pd\n",
    "import seaborn as sns\n",
    "import matplotlib.pyplot as plt\n",
    "from collections import Counter\n",
    "import time, gc, string, math\n",
    "from tqdm.notebook import tqdm\n",
    "import warnings\n",
    "import shutil\n",
    "from collections import defaultdict\n",
    "import heapq\n",
    "import datetime\n",
    "import random\n",
    "from collections import OrderedDict\n",
    "import glob\n",
    "import copy\n",
    "\n",
    "# sklearn\n",
    "from sklearn.model_selection import StratifiedKFold\n",
    "from sklearn.model_selection import KFold\n",
    "from sklearn.model_selection import train_test_split\n",
    "from sklearn.preprocessing import LabelEncoder\n",
    "\n",
    "# pytorch\n",
    "import torch\n",
    "import torch.nn as nn\n",
    "from torch.nn import functional as F\n",
    "from torch.utils.data import DataLoader, Dataset\n",
    "from torch import optim\n",
    "from torch.optim import lr_scheduler\n",
    "\n",
    "# pytorch lightning\n",
    "import pytorch_lightning as pl\n",
    "from pytorch_lightning.loggers import WandbLogger\n"
   ]
  },
  {
   "cell_type": "code",
   "execution_count": 7,
   "id": "456a11f0",
   "metadata": {
    "execution": {
     "iopub.execute_input": "2022-06-16T07:30:27.113891Z",
     "iopub.status.busy": "2022-06-16T07:30:27.113406Z",
     "iopub.status.idle": "2022-06-16T07:30:27.117362Z",
     "shell.execute_reply": "2022-06-16T07:30:27.116645Z"
    },
    "id": "HmNa5M7LXKOV",
    "papermill": {
     "duration": 0.015765,
     "end_time": "2022-06-16T07:30:27.119110",
     "exception": false,
     "start_time": "2022-06-16T07:30:27.103345",
     "status": "completed"
    },
    "tags": []
   },
   "outputs": [],
   "source": [
    "pd.set_option('display.max_columns', 200)\n",
    "pd.set_option('display.max_rows', 200)"
   ]
  },
  {
   "cell_type": "code",
   "execution_count": 8,
   "id": "c802db5d",
   "metadata": {
    "execution": {
     "iopub.execute_input": "2022-06-16T07:30:27.138031Z",
     "iopub.status.busy": "2022-06-16T07:30:27.137771Z",
     "iopub.status.idle": "2022-06-16T07:30:27.141194Z",
     "shell.execute_reply": "2022-06-16T07:30:27.140362Z"
    },
    "papermill": {
     "duration": 0.014908,
     "end_time": "2022-06-16T07:30:27.143044",
     "exception": false,
     "start_time": "2022-06-16T07:30:27.128136",
     "status": "completed"
    },
    "tags": []
   },
   "outputs": [],
   "source": [
    "# for google colab\n",
    "# os.chdir(\"/content/drive/MyDrive/colab_data/TPS2206\")"
   ]
  },
  {
   "cell_type": "code",
   "execution_count": 9,
   "id": "6e55c13e",
   "metadata": {
    "execution": {
     "iopub.execute_input": "2022-06-16T07:30:27.162697Z",
     "iopub.status.busy": "2022-06-16T07:30:27.162399Z",
     "iopub.status.idle": "2022-06-16T07:30:27.167101Z",
     "shell.execute_reply": "2022-06-16T07:30:27.166431Z"
    },
    "papermill": {
     "duration": 0.016596,
     "end_time": "2022-06-16T07:30:27.168729",
     "exception": false,
     "start_time": "2022-06-16T07:30:27.152133",
     "status": "completed"
    },
    "tags": []
   },
   "outputs": [
    {
     "data": {
      "text/plain": [
       "\"\\nos.makedirs('model', exist_ok=True)\\nshutil.rmtree('./model/')\\nos.makedirs('model', exist_ok=True)\\n\""
      ]
     },
     "execution_count": 9,
     "metadata": {},
     "output_type": "execute_result"
    }
   ],
   "source": [
    "\"\"\"\n",
    "os.makedirs('model', exist_ok=True)\n",
    "shutil.rmtree('./model/')\n",
    "os.makedirs('model', exist_ok=True)\n",
    "\"\"\""
   ]
  },
  {
   "cell_type": "code",
   "execution_count": 10,
   "id": "f2ccbed8",
   "metadata": {
    "execution": {
     "iopub.execute_input": "2022-06-16T07:30:27.188299Z",
     "iopub.status.busy": "2022-06-16T07:30:27.187728Z",
     "iopub.status.idle": "2022-06-16T07:30:27.196637Z",
     "shell.execute_reply": "2022-06-16T07:30:27.195962Z"
    },
    "papermill": {
     "duration": 0.020483,
     "end_time": "2022-06-16T07:30:27.198273",
     "exception": false,
     "start_time": "2022-06-16T07:30:27.177790",
     "status": "completed"
    },
    "tags": []
   },
   "outputs": [],
   "source": [
    "def seed_everything(seed=42):\n",
    "    random.seed(seed)\n",
    "    os.environ['PYTHONHASHSEED'] = str(seed)\n",
    "    np.random.seed(seed)\n",
    "    pl.utilities.seed.seed_everything(seed, workers=True)\n",
    "    torch.manual_seed(seed)\n",
    "    torch.cuda.manual_seed(seed)\n",
    "    torch.backends.cudnn.deterministic = True\n",
    "\n",
    "seed_everything(CFG.seed)"
   ]
  },
  {
   "cell_type": "markdown",
   "id": "684094ea",
   "metadata": {
    "id": "d671d1ab",
    "papermill": {
     "duration": 0.008894,
     "end_time": "2022-06-16T07:30:27.217187",
     "exception": false,
     "start_time": "2022-06-16T07:30:27.208293",
     "status": "completed"
    },
    "tags": []
   },
   "source": [
    "### Read DF"
   ]
  },
  {
   "cell_type": "code",
   "execution_count": 11,
   "id": "2594a909",
   "metadata": {
    "execution": {
     "iopub.execute_input": "2022-06-16T07:30:27.237153Z",
     "iopub.status.busy": "2022-06-16T07:30:27.236367Z",
     "iopub.status.idle": "2022-06-16T07:30:44.384156Z",
     "shell.execute_reply": "2022-06-16T07:30:44.383316Z"
    },
    "id": "50249fa9",
    "papermill": {
     "duration": 17.160165,
     "end_time": "2022-06-16T07:30:44.386474",
     "exception": false,
     "start_time": "2022-06-16T07:30:27.226309",
     "status": "completed"
    },
    "tags": []
   },
   "outputs": [],
   "source": [
    "data = pd.read_csv('../input/tabular-playground-series-jun-2022/data.csv', index_col='row_id')\n",
    "sub = pd.read_csv('../input/tabular-playground-series-jun-2022/sample_submission.csv', index_col='row-col')"
   ]
  },
  {
   "cell_type": "code",
   "execution_count": 12,
   "id": "9d28d69e",
   "metadata": {
    "execution": {
     "iopub.execute_input": "2022-06-16T07:30:44.407216Z",
     "iopub.status.busy": "2022-06-16T07:30:44.406896Z",
     "iopub.status.idle": "2022-06-16T07:30:44.800637Z",
     "shell.execute_reply": "2022-06-16T07:30:44.799618Z"
    },
    "id": "BfU09bCzohwR",
    "papermill": {
     "duration": 0.405974,
     "end_time": "2022-06-16T07:30:44.802689",
     "exception": false,
     "start_time": "2022-06-16T07:30:44.396715",
     "status": "completed"
    },
    "tags": []
   },
   "outputs": [],
   "source": [
    "for col in data.columns:\n",
    "    if \"F_4\" not in col:\n",
    "        data[col] = data[col].fillna(data[col].mean())"
   ]
  },
  {
   "cell_type": "code",
   "execution_count": 13,
   "id": "1ff7ec46",
   "metadata": {
    "execution": {
     "iopub.execute_input": "2022-06-16T07:30:44.822906Z",
     "iopub.status.busy": "2022-06-16T07:30:44.822612Z",
     "iopub.status.idle": "2022-06-16T07:30:44.959170Z",
     "shell.execute_reply": "2022-06-16T07:30:44.958357Z"
    },
    "id": "tAE_QGSQuL3J",
    "papermill": {
     "duration": 0.149011,
     "end_time": "2022-06-16T07:30:44.961336",
     "exception": false,
     "start_time": "2022-06-16T07:30:44.812325",
     "status": "completed"
    },
    "tags": []
   },
   "outputs": [],
   "source": [
    "na_col_list = []\n",
    "for col in data.columns:\n",
    "    if data[col].isna().sum() != 0:\n",
    "        na_col_list.append(col)"
   ]
  },
  {
   "cell_type": "code",
   "execution_count": 14,
   "id": "308a3e2d",
   "metadata": {
    "execution": {
     "iopub.execute_input": "2022-06-16T07:30:44.982016Z",
     "iopub.status.busy": "2022-06-16T07:30:44.981690Z",
     "iopub.status.idle": "2022-06-16T07:30:45.008938Z",
     "shell.execute_reply": "2022-06-16T07:30:45.008117Z"
    },
    "id": "k71_UFuTura4",
    "papermill": {
     "duration": 0.039698,
     "end_time": "2022-06-16T07:30:45.010571",
     "exception": false,
     "start_time": "2022-06-16T07:30:44.970873",
     "status": "completed"
    },
    "tags": []
   },
   "outputs": [],
   "source": [
    "f4data = data[na_col_list]"
   ]
  },
  {
   "cell_type": "code",
   "execution_count": 15,
   "id": "1ff8c474",
   "metadata": {
    "execution": {
     "iopub.execute_input": "2022-06-16T07:30:45.030487Z",
     "iopub.status.busy": "2022-06-16T07:30:45.030223Z",
     "iopub.status.idle": "2022-06-16T07:30:45.644842Z",
     "shell.execute_reply": "2022-06-16T07:30:45.644049Z"
    },
    "id": "ac89d698",
    "papermill": {
     "duration": 0.626781,
     "end_time": "2022-06-16T07:30:45.647125",
     "exception": false,
     "start_time": "2022-06-16T07:30:45.020344",
     "status": "completed"
    },
    "tags": []
   },
   "outputs": [],
   "source": [
    "na_index_of = {}\n",
    "no_na_index_of = {}\n",
    "for col in na_col_list:\n",
    "    na_index = f4data[f4data[col].isna() == True].index\n",
    "    na_index_of[col] = na_index\n",
    "    no_na_index = f4data[f4data[col].isna() == False].index\n",
    "    no_na_index_of[col] = no_na_index"
   ]
  },
  {
   "cell_type": "code",
   "execution_count": 16,
   "id": "4c13172e",
   "metadata": {
    "execution": {
     "iopub.execute_input": "2022-06-16T07:30:45.667316Z",
     "iopub.status.busy": "2022-06-16T07:30:45.666664Z",
     "iopub.status.idle": "2022-06-16T07:30:45.695925Z",
     "shell.execute_reply": "2022-06-16T07:30:45.695206Z"
    },
    "id": "GlCaCEMBvkeI",
    "papermill": {
     "duration": 0.041003,
     "end_time": "2022-06-16T07:30:45.697643",
     "exception": false,
     "start_time": "2022-06-16T07:30:45.656640",
     "status": "completed"
    },
    "tags": []
   },
   "outputs": [],
   "source": [
    "na_cnt = pd.DataFrame(f4data.isna().sum(axis=1))"
   ]
  },
  {
   "cell_type": "code",
   "execution_count": 17,
   "id": "cadb4095",
   "metadata": {
    "execution": {
     "iopub.execute_input": "2022-06-16T07:30:45.717068Z",
     "iopub.status.busy": "2022-06-16T07:30:45.716796Z",
     "iopub.status.idle": "2022-06-16T07:30:45.737239Z",
     "shell.execute_reply": "2022-06-16T07:30:45.736407Z"
    },
    "id": "w79idpU4v93e",
    "outputId": "015767e6-b010-4039-9b02-617b40146a5a",
    "papermill": {
     "duration": 0.032054,
     "end_time": "2022-06-16T07:30:45.738972",
     "exception": false,
     "start_time": "2022-06-16T07:30:45.706918",
     "status": "completed"
    },
    "tags": []
   },
   "outputs": [
    {
     "data": {
      "text/plain": [
       "0\n",
       "0    759268\n",
       "1    211342\n",
       "2     27127\n",
       "3      2124\n",
       "4       135\n",
       "5         4\n",
       "dtype: int64"
      ]
     },
     "execution_count": 17,
     "metadata": {},
     "output_type": "execute_result"
    }
   ],
   "source": [
    "na_cnt.groupby([0]).size()"
   ]
  },
  {
   "cell_type": "code",
   "execution_count": 18,
   "id": "2d2949b4",
   "metadata": {
    "execution": {
     "iopub.execute_input": "2022-06-16T07:30:45.758707Z",
     "iopub.status.busy": "2022-06-16T07:30:45.758433Z",
     "iopub.status.idle": "2022-06-16T07:30:45.789241Z",
     "shell.execute_reply": "2022-06-16T07:30:45.788434Z"
    },
    "id": "5fZZXIGTwv3x",
    "papermill": {
     "duration": 0.042782,
     "end_time": "2022-06-16T07:30:45.791134",
     "exception": false,
     "start_time": "2022-06-16T07:30:45.748352",
     "status": "completed"
    },
    "tags": []
   },
   "outputs": [],
   "source": [
    "na_cnt_max = 5\n",
    "na_cnt_index_of = {}\n",
    "for cnt in range(0, na_cnt_max+1):\n",
    "    na_cnt_index = na_cnt[na_cnt[0] == cnt].index\n",
    "    na_cnt_index_of[cnt] = na_cnt_index"
   ]
  },
  {
   "cell_type": "code",
   "execution_count": 19,
   "id": "98cc840d",
   "metadata": {
    "execution": {
     "iopub.execute_input": "2022-06-16T07:30:45.811121Z",
     "iopub.status.busy": "2022-06-16T07:30:45.810826Z",
     "iopub.status.idle": "2022-06-16T07:30:45.815660Z",
     "shell.execute_reply": "2022-06-16T07:30:45.814899Z"
    },
    "id": "be3aru3Xwln2",
    "papermill": {
     "duration": 0.016913,
     "end_time": "2022-06-16T07:30:45.817640",
     "exception": false,
     "start_time": "2022-06-16T07:30:45.800727",
     "status": "completed"
    },
    "tags": []
   },
   "outputs": [],
   "source": [
    "def na_no_na_index_of(col, cnt):\n",
    "    na_index = na_index_of[col]\n",
    "    no_na_index = no_na_index_of[col]\n",
    "    na_cnt_index = na_cnt_index_of[cnt]\n",
    "    na_index = na_index.intersection(na_cnt_index)\n",
    "    no_na_index = no_na_index.intersection(na_cnt_index)\n",
    "    return na_index, no_na_index"
   ]
  },
  {
   "cell_type": "code",
   "execution_count": 20,
   "id": "fbe96ddf",
   "metadata": {
    "execution": {
     "iopub.execute_input": "2022-06-16T07:30:45.837033Z",
     "iopub.status.busy": "2022-06-16T07:30:45.836770Z",
     "iopub.status.idle": "2022-06-16T07:30:45.865922Z",
     "shell.execute_reply": "2022-06-16T07:30:45.865044Z"
    },
    "id": "rpqgSsNsxZux",
    "outputId": "9027b891-48fb-444e-9902-0aa272f5decd",
    "papermill": {
     "duration": 0.040936,
     "end_time": "2022-06-16T07:30:45.867823",
     "exception": false,
     "start_time": "2022-06-16T07:30:45.826887",
     "status": "completed"
    },
    "tags": []
   },
   "outputs": [
    {
     "data": {
      "text/plain": [
       "(Int64Index([   105,    119,    182,    287,    517,    525,    550,    561,\n",
       "                632,    640,\n",
       "             ...\n",
       "             999358, 999371, 999373, 999435, 999533, 999568, 999579, 999757,\n",
       "             999883, 999905],\n",
       "            dtype='int64', name='row_id', length=14175),\n",
       " Int64Index([     2,      4,     10,     12,     14,     24,     27,     28,\n",
       "                 45,     50,\n",
       "             ...\n",
       "             999950, 999954, 999971, 999978, 999983, 999987, 999990, 999993,\n",
       "             999994, 999997],\n",
       "            dtype='int64', name='row_id', length=197167))"
      ]
     },
     "execution_count": 20,
     "metadata": {},
     "output_type": "execute_result"
    }
   ],
   "source": [
    "na_no_na_index_of('F_4_0', 1)"
   ]
  },
  {
   "cell_type": "code",
   "execution_count": 21,
   "id": "cb8e2d51",
   "metadata": {
    "execution": {
     "iopub.execute_input": "2022-06-16T07:30:45.887795Z",
     "iopub.status.busy": "2022-06-16T07:30:45.887526Z",
     "iopub.status.idle": "2022-06-16T07:30:45.937909Z",
     "shell.execute_reply": "2022-06-16T07:30:45.937192Z"
    },
    "id": "Lxb-v76xEmT6",
    "papermill": {
     "duration": 0.062348,
     "end_time": "2022-06-16T07:30:45.939750",
     "exception": false,
     "start_time": "2022-06-16T07:30:45.877402",
     "status": "completed"
    },
    "tags": []
   },
   "outputs": [],
   "source": [
    "f4data = f4data.fillna(-1)"
   ]
  },
  {
   "cell_type": "markdown",
   "id": "201d5f54",
   "metadata": {
    "id": "ACmm1FBgep7p",
    "papermill": {
     "duration": 0.009134,
     "end_time": "2022-06-16T07:30:45.958406",
     "exception": false,
     "start_time": "2022-06-16T07:30:45.949272",
     "status": "completed"
    },
    "tags": []
   },
   "source": []
  },
  {
   "cell_type": "markdown",
   "id": "71b0a3e8",
   "metadata": {
    "id": "eb1655fa",
    "papermill": {
     "duration": 0.009225,
     "end_time": "2022-06-16T07:30:45.976978",
     "exception": false,
     "start_time": "2022-06-16T07:30:45.967753",
     "status": "completed"
    },
    "tags": []
   },
   "source": [
    "## Pytorch"
   ]
  },
  {
   "cell_type": "markdown",
   "id": "519dbb50",
   "metadata": {
    "id": "b1554fbf",
    "papermill": {
     "duration": 0.009071,
     "end_time": "2022-06-16T07:30:45.995923",
     "exception": false,
     "start_time": "2022-06-16T07:30:45.986852",
     "status": "completed"
    },
    "tags": []
   },
   "source": [
    "### DataSet and DataLoader"
   ]
  },
  {
   "cell_type": "code",
   "execution_count": 22,
   "id": "877acd95",
   "metadata": {
    "execution": {
     "iopub.execute_input": "2022-06-16T07:30:46.015547Z",
     "iopub.status.busy": "2022-06-16T07:30:46.015281Z",
     "iopub.status.idle": "2022-06-16T07:30:46.022817Z",
     "shell.execute_reply": "2022-06-16T07:30:46.022002Z"
    },
    "id": "850b174a",
    "papermill": {
     "duration": 0.019222,
     "end_time": "2022-06-16T07:30:46.024503",
     "exception": false,
     "start_time": "2022-06-16T07:30:46.005281",
     "status": "completed"
    },
    "tags": []
   },
   "outputs": [],
   "source": [
    "class TrainDataset(Dataset):\n",
    "    def __init__(self, X, y, na_num):\n",
    "        self.X = X\n",
    "        self.y = y\n",
    "        self.na_num = na_num\n",
    "        self.index_end = X.shape[1]\n",
    "        self.index_list = [i for i in range(self.index_end)]\n",
    "\n",
    "    def __len__(self):\n",
    "        return len(self.X)\n",
    "\n",
    "    def __getitem__(self, item):\n",
    "        if self.na_num != 0:\n",
    "            X = self.X[item]\n",
    "            # must use torch.rand* . np.random cause same seed with gpu.\n",
    "            na_index_list = torch.randperm(self.index_end)[:self.na_num].tolist()\n",
    "            for na_index in na_index_list:\n",
    "                X[na_index] = -1\n",
    "        else:\n",
    "            X = self.X[item]\n",
    "        inputs = torch.tensor(X, dtype=torch.float32)\n",
    "        outputs = torch.tensor(self.y[item], dtype=torch.float32)\n",
    "\n",
    "        return inputs, outputs"
   ]
  },
  {
   "cell_type": "code",
   "execution_count": 23,
   "id": "46f39e61",
   "metadata": {
    "execution": {
     "iopub.execute_input": "2022-06-16T07:30:46.044783Z",
     "iopub.status.busy": "2022-06-16T07:30:46.044526Z",
     "iopub.status.idle": "2022-06-16T07:30:46.054797Z",
     "shell.execute_reply": "2022-06-16T07:30:46.054024Z"
    },
    "id": "d1741d8e",
    "papermill": {
     "duration": 0.022473,
     "end_time": "2022-06-16T07:30:46.056625",
     "exception": false,
     "start_time": "2022-06-16T07:30:46.034152",
     "status": "completed"
    },
    "tags": []
   },
   "outputs": [],
   "source": [
    "class DataModule(pl.LightningDataModule):\n",
    "    # train, val, testの3つのDataLoaderを定義する\n",
    "    # trainerにこれを渡すと、train, val, testのそれぞれのステップでこれを渡してくれる\n",
    "    def __init__(self, X_train, y_train, X_valid, y_valid, X_test, na_num, batch_size):\n",
    "        self.X_train = X_train.values\n",
    "        self.y_train = y_train.values\n",
    "        self.X_valid = X_valid.values\n",
    "        self.y_valid = y_valid.values\n",
    "        self.X_test = X_test.values\n",
    "        self.y_test = np.zeros(X_test.shape[0])\n",
    "        self.na_num = na_num\n",
    "        self.batch_size = batch_size\n",
    "        self._log_hyperparams = None  # ナニコレ・・・\n",
    "\n",
    "    def train_dataloader(self):\n",
    "        ds = TrainDataset(self.X_train, self.y_train, self.na_num)\n",
    "        dl = DataLoader(ds, batch_size=self.batch_size, shuffle=True, pin_memory=True, drop_last=True, num_workers=CFG.num_workers, persistent_workers=False)\n",
    "        return dl\n",
    "\n",
    "    def val_dataloader(self):\n",
    "        ds = TrainDataset(self.X_valid, self.y_valid, self.na_num)\n",
    "        dl = DataLoader(ds, batch_size=self.batch_size, shuffle=False, pin_memory=True, drop_last=False, num_workers=CFG.num_workers, persistent_workers=False)\n",
    "        return dl\n",
    "\n",
    "    def predict_dataloader(self):\n",
    "        ds = TrainDataset(self.X_test, self.y_test, 0)  # when predict, already fill -1\n",
    "        dl = DataLoader(ds, batch_size=self.batch_size, shuffle=False, pin_memory=True, drop_last=False, num_workers=CFG.num_workers, persistent_workers=False)\n",
    "        return dl\n",
    "\n",
    "    def prepare_data_per_node(self):\n",
    "        # TODO 本来要らないはずなんだけど・・・\n",
    "        pass\n",
    "\n",
    "    def teardown(self, stage=None):\n",
    "        torch.cuda.empty_cache()  # TODO: これであってるのか不明　何も出てこないんだよね\n",
    "        gc.collect()"
   ]
  },
  {
   "cell_type": "markdown",
   "id": "c631de31",
   "metadata": {
    "id": "0050d402",
    "papermill": {
     "duration": 0.009066,
     "end_time": "2022-06-16T07:30:46.075081",
     "exception": false,
     "start_time": "2022-06-16T07:30:46.066015",
     "status": "completed"
    },
    "tags": []
   },
   "source": [
    "### Pytorch Model"
   ]
  },
  {
   "cell_type": "code",
   "execution_count": 24,
   "id": "611f1777",
   "metadata": {
    "execution": {
     "iopub.execute_input": "2022-06-16T07:30:46.094685Z",
     "iopub.status.busy": "2022-06-16T07:30:46.094427Z",
     "iopub.status.idle": "2022-06-16T07:30:46.102636Z",
     "shell.execute_reply": "2022-06-16T07:30:46.101998Z"
    },
    "id": "48355fe7",
    "papermill": {
     "duration": 0.019779,
     "end_time": "2022-06-16T07:30:46.104224",
     "exception": false,
     "start_time": "2022-06-16T07:30:46.084445",
     "status": "completed"
    },
    "tags": []
   },
   "outputs": [],
   "source": [
    "class DNN(nn.Module):\n",
    "    def __init__(self, input_size, hidden_size):\n",
    "        super().__init__()\n",
    "        hidden_size = hidden_size\n",
    "        output_size = 1\n",
    "        emb_dim = 8\n",
    "        self.fc1 = nn.Linear(input_size, hidden_size*4)\n",
    "        self.bn1 = nn.BatchNorm1d(hidden_size*4)\n",
    "        self.fc2 = nn.Linear(hidden_size*4, hidden_size*4)\n",
    "        self.fc3 = nn.Linear(hidden_size*4, hidden_size*2)\n",
    "        self.fc4 = nn.Linear(hidden_size*2, hidden_size)\n",
    "        self.fc5 = nn.Linear(hidden_size, output_size)\n",
    "    \n",
    "    def forward(self, x):\n",
    "        # dropoutとbnの併用禁止\n",
    "        # bnは活性化関数の前に\n",
    "        x = F.mish(self.bn1(self.fc1(x)))\n",
    "        x = F.mish(self.fc2(x))\n",
    "        x = F.mish(self.fc3(x))\n",
    "        x = F.mish(self.fc4(x))\n",
    "        x = self.fc5(x)\n",
    "        return x"
   ]
  },
  {
   "cell_type": "code",
   "execution_count": 25,
   "id": "a30e126c",
   "metadata": {
    "execution": {
     "iopub.execute_input": "2022-06-16T07:30:46.123781Z",
     "iopub.status.busy": "2022-06-16T07:30:46.123532Z",
     "iopub.status.idle": "2022-06-16T07:30:46.128489Z",
     "shell.execute_reply": "2022-06-16T07:30:46.127818Z"
    },
    "id": "41717aa5",
    "papermill": {
     "duration": 0.016543,
     "end_time": "2022-06-16T07:30:46.130192",
     "exception": false,
     "start_time": "2022-06-16T07:30:46.113649",
     "status": "completed"
    },
    "tags": []
   },
   "outputs": [],
   "source": [
    "class RMSELoss(nn.Module):\n",
    "    def __init__(self):\n",
    "        super().__init__()\n",
    "        self.mse = nn.MSELoss()\n",
    "        \n",
    "    def forward(self, yhat, y):\n",
    "        return torch.sqrt(self.mse(yhat,y))"
   ]
  },
  {
   "cell_type": "code",
   "execution_count": 26,
   "id": "52842a7b",
   "metadata": {
    "execution": {
     "iopub.execute_input": "2022-06-16T07:30:46.149933Z",
     "iopub.status.busy": "2022-06-16T07:30:46.149692Z",
     "iopub.status.idle": "2022-06-16T07:30:46.163437Z",
     "shell.execute_reply": "2022-06-16T07:30:46.162615Z"
    },
    "id": "5e923f02",
    "papermill": {
     "duration": 0.026069,
     "end_time": "2022-06-16T07:30:46.165549",
     "exception": false,
     "start_time": "2022-06-16T07:30:46.139480",
     "status": "completed"
    },
    "tags": []
   },
   "outputs": [],
   "source": [
    "class NNModel(pl.LightningModule):\n",
    "    # https://pytorch-lightning.readthedocs.io/en/stable/notebooks/lightning_examples/basic-gan.html\n",
    "    def __init__(self, model: nn.Module):\n",
    "        super().__init__()\n",
    "        self.model = model\n",
    "        self.criterion = RMSELoss()\n",
    "        self.lr = CFG.lr\n",
    "\n",
    "    def forward(self, x) -> torch.Tensor:\n",
    "        return self.model(x)\n",
    "\n",
    "    # Setup Optimizer and Scheduler\n",
    "    def configure_optimizers(self):\n",
    "        model_params = [p for n, p in self.model.named_parameters()]\n",
    "        optimizer_params = [\n",
    "            {\"params\":  model_params,\n",
    "             \"weight_decay\": CFG.weight_decay,\n",
    "             \"lr\": CFG.lr\n",
    "            },\n",
    "        ]\n",
    "\n",
    "        optimizer = optim.Adam(optimizer_params)\n",
    "\n",
    "        scheduler = lr_scheduler.ReduceLROnPlateau(optimizer,\n",
    "                                                'min',\n",
    "                                                patience=CFG.lr_patience,\n",
    "                                                factor=CFG.factor\n",
    "                                                )\n",
    "        interval = \"epoch\"\n",
    "        monitor = \"valid_avg_loss\"\n",
    "\n",
    "        return [optimizer], [{\"scheduler\": scheduler, \"interval\": interval, \"monitor\": monitor}]\n",
    "\n",
    "    # training valid test steps\n",
    "    def training_step(self, batch_data, batch_idx):\n",
    "        # batch_data: DataModuleで定義したtrain_dataloaderの結果\n",
    "        # 戻値: lossであることが必須(裏でoptimizerに渡すため)\n",
    "        X, y = batch_data\n",
    "        op = self(X).squeeze()\n",
    "        loss = self.criterion(op, y)\n",
    "        return loss\n",
    "\n",
    "    def training_epoch_end(self, outputs):\n",
    "        # 1epoch分の処理(全バッチの処理)のreturn値をlistで受け取る\n",
    "        loss_list = [x['loss'] for x in outputs]\n",
    "        avg_loss = torch.stack(loss_list).mean()\n",
    "        self.log('train_avg_loss', avg_loss, prog_bar=True)\n",
    "        if (self.current_epoch+1) % CFG.print_epoch_freq == 0:\n",
    "            print(\"epoch:\", self.current_epoch, \"train_avg_loss:\", avg_loss.item())\n",
    "\n",
    "    def validation_step(self, batch_data, batch_idx):\n",
    "        # 戻値: 任意の辞書\n",
    "        X, y = batch_data\n",
    "        op = self(X).squeeze()\n",
    "        loss = self.criterion(op, y)\n",
    "        return {'valid_loss': loss}\n",
    "\n",
    "    def validation_epoch_end(self, outputs):\n",
    "        loss_list = [x['valid_loss'] for x in outputs]\n",
    "        avg_loss = torch.stack(loss_list).mean()\n",
    "        self.log('valid_avg_loss', avg_loss, prog_bar=True)\n",
    "        if (self.current_epoch+1) % CFG.print_epoch_freq == 0:\n",
    "            print(\"epoch:\", self.current_epoch, \"valid_avg_loss:\", avg_loss.item())\n",
    "        return avg_loss\n",
    "\n",
    "    def predict_step(self, batch_data, batch_idx):\n",
    "        # 実際に予測させるときに使う\n",
    "        X, _ = batch_data\n",
    "        outputs = self(X).squeeze()\n",
    "        # criterionがwithLogit系の場合は、sigmoidを追加する。\n",
    "        # outputs = torch.sigmoid(outputs)\n",
    "        return outputs"
   ]
  },
  {
   "cell_type": "code",
   "execution_count": 27,
   "id": "d0b1f574",
   "metadata": {
    "execution": {
     "iopub.execute_input": "2022-06-16T07:30:46.185254Z",
     "iopub.status.busy": "2022-06-16T07:30:46.184984Z",
     "iopub.status.idle": "2022-06-16T07:30:46.188868Z",
     "shell.execute_reply": "2022-06-16T07:30:46.187657Z"
    },
    "id": "HNWeULNYuVZL",
    "papermill": {
     "duration": 0.015509,
     "end_time": "2022-06-16T07:30:46.190552",
     "exception": false,
     "start_time": "2022-06-16T07:30:46.175043",
     "status": "completed"
    },
    "tags": []
   },
   "outputs": [],
   "source": [
    "checkpoint_path_of = defaultdict(str)"
   ]
  },
  {
   "cell_type": "code",
   "execution_count": 28,
   "id": "28bb1b91",
   "metadata": {
    "execution": {
     "iopub.execute_input": "2022-06-16T07:30:46.211064Z",
     "iopub.status.busy": "2022-06-16T07:30:46.210825Z",
     "iopub.status.idle": "2022-06-16T07:31:59.803325Z",
     "shell.execute_reply": "2022-06-16T07:31:59.802333Z"
    },
    "id": "670c0a6b",
    "outputId": "096a12f8-004d-43bf-d94a-195ee90d8c77",
    "papermill": {
     "duration": 73.605878,
     "end_time": "2022-06-16T07:31:59.805892",
     "exception": false,
     "start_time": "2022-06-16T07:30:46.200014",
     "status": "completed"
    },
    "scrolled": true,
    "tags": []
   },
   "outputs": [
    {
     "name": "stdout",
     "output_type": "stream",
     "text": [
      "========== na_cnt 1/5 ==========\n",
      "========== F_4_0 ==========\n",
      "batch_size :2048\n"
     ]
    },
    {
     "data": {
      "text/plain": [
       "row_id\n",
       "105   -1.634373\n",
       "119    1.013145\n",
       "182    0.881204\n",
       "287   -0.491367\n",
       "517    1.575665\n",
       "Name: F_4_0, dtype: float64"
      ]
     },
     "metadata": {},
     "output_type": "display_data"
    },
    {
     "name": "stdout",
     "output_type": "stream",
     "text": [
      "========== F_4_1 ==========\n",
      "batch_size :2048\n"
     ]
    },
    {
     "data": {
      "text/plain": [
       "row_id\n",
       "24    -5.423626\n",
       "132   -2.428746\n",
       "145    1.676639\n",
       "201   -3.882275\n",
       "225    1.035022\n",
       "Name: F_4_1, dtype: float64"
      ]
     },
     "metadata": {},
     "output_type": "display_data"
    },
    {
     "name": "stdout",
     "output_type": "stream",
     "text": [
      "========== F_4_2 ==========\n",
      "batch_size :2048\n"
     ]
    },
    {
     "data": {
      "text/plain": [
       "row_id\n",
       "2      0.381250\n",
       "104    1.325681\n",
       "198    0.267628\n",
       "253    0.116166\n",
       "347   -0.784562\n",
       "Name: F_4_2, dtype: float64"
      ]
     },
     "metadata": {},
     "output_type": "display_data"
    },
    {
     "name": "stdout",
     "output_type": "stream",
     "text": [
      "========== F_4_3 ==========\n",
      "batch_size :2048\n"
     ]
    },
    {
     "data": {
      "text/plain": [
       "row_id\n",
       "14     0.127462\n",
       "27    -0.755440\n",
       "28     0.171232\n",
       "290    0.806800\n",
       "316   -0.472985\n",
       "Name: F_4_3, dtype: float64"
      ]
     },
     "metadata": {},
     "output_type": "display_data"
    },
    {
     "name": "stdout",
     "output_type": "stream",
     "text": [
      "========== F_4_4 ==========\n",
      "batch_size :2048\n"
     ]
    },
    {
     "data": {
      "text/plain": [
       "row_id\n",
       "4     -0.412597\n",
       "72    -0.041183\n",
       "77     0.245139\n",
       "118   -1.505598\n",
       "187    1.646061\n",
       "Name: F_4_4, dtype: float64"
      ]
     },
     "metadata": {},
     "output_type": "display_data"
    },
    {
     "name": "stdout",
     "output_type": "stream",
     "text": [
      "========== F_4_5 ==========\n",
      "batch_size :2048\n"
     ]
    },
    {
     "data": {
      "text/plain": [
       "row_id\n",
       "50    -0.360714\n",
       "75     2.290415\n",
       "166   -0.950644\n",
       "189   -4.306607\n",
       "293   -1.686054\n",
       "Name: F_4_5, dtype: float64"
      ]
     },
     "metadata": {},
     "output_type": "display_data"
    },
    {
     "name": "stdout",
     "output_type": "stream",
     "text": [
      "========== F_4_6 ==========\n",
      "batch_size :2048\n"
     ]
    },
    {
     "data": {
      "text/plain": [
       "row_id\n",
       "168   -0.245529\n",
       "244   -1.490716\n",
       "272   -4.087219\n",
       "277    0.794757\n",
       "309   -1.365842\n",
       "Name: F_4_6, dtype: float64"
      ]
     },
     "metadata": {},
     "output_type": "display_data"
    },
    {
     "name": "stdout",
     "output_type": "stream",
     "text": [
      "========== F_4_7 ==========\n",
      "batch_size :2048\n"
     ]
    },
    {
     "data": {
      "text/plain": [
       "row_id\n",
       "178   -0.845200\n",
       "228    1.442454\n",
       "419   -5.153642\n",
       "444    1.454614\n",
       "664   -0.075948\n",
       "Name: F_4_7, dtype: float64"
      ]
     },
     "metadata": {},
     "output_type": "display_data"
    },
    {
     "name": "stdout",
     "output_type": "stream",
     "text": [
      "========== F_4_8 ==========\n",
      "batch_size :2048\n"
     ]
    },
    {
     "data": {
      "text/plain": [
       "row_id\n",
       "45     0.371692\n",
       "58     1.391806\n",
       "82     0.802778\n",
       "179   -0.387944\n",
       "192    0.225518\n",
       "Name: F_4_8, dtype: float64"
      ]
     },
     "metadata": {},
     "output_type": "display_data"
    },
    {
     "name": "stdout",
     "output_type": "stream",
     "text": [
      "========== F_4_9 ==========\n",
      "batch_size :2048\n"
     ]
    },
    {
     "data": {
      "text/plain": [
       "row_id\n",
       "54     0.367022\n",
       "96    -1.877840\n",
       "157    1.069459\n",
       "170   -0.726467\n",
       "203    0.301677\n",
       "Name: F_4_9, dtype: float64"
      ]
     },
     "metadata": {},
     "output_type": "display_data"
    },
    {
     "name": "stdout",
     "output_type": "stream",
     "text": [
      "========== F_4_10 ==========\n",
      "batch_size :2048\n"
     ]
    },
    {
     "data": {
      "text/plain": [
       "row_id\n",
       "80     0.179157\n",
       "84    -0.087247\n",
       "338    0.900430\n",
       "396    0.651810\n",
       "404   -0.343128\n",
       "Name: F_4_10, dtype: float64"
      ]
     },
     "metadata": {},
     "output_type": "display_data"
    },
    {
     "name": "stdout",
     "output_type": "stream",
     "text": [
      "========== F_4_11 ==========\n",
      "batch_size :2048\n"
     ]
    },
    {
     "data": {
      "text/plain": [
       "row_id\n",
       "239    11.862947\n",
       "255    -1.243334\n",
       "280    -5.892267\n",
       "363    -2.739441\n",
       "401    -2.183784\n",
       "Name: F_4_11, dtype: float64"
      ]
     },
     "metadata": {},
     "output_type": "display_data"
    },
    {
     "name": "stdout",
     "output_type": "stream",
     "text": [
      "========== F_4_12 ==========\n",
      "batch_size :2048\n"
     ]
    },
    {
     "data": {
      "text/plain": [
       "row_id\n",
       "10     2.470927\n",
       "57    -0.913595\n",
       "88     1.357721\n",
       "181   -0.479691\n",
       "232    3.157483\n",
       "Name: F_4_12, dtype: float64"
      ]
     },
     "metadata": {},
     "output_type": "display_data"
    },
    {
     "name": "stdout",
     "output_type": "stream",
     "text": [
      "========== F_4_13 ==========\n",
      "batch_size :2048\n"
     ]
    },
    {
     "data": {
      "text/plain": [
       "row_id\n",
       "177   -1.315935\n",
       "208    0.965489\n",
       "234   -0.666452\n",
       "562    0.143662\n",
       "586   -0.544107\n",
       "Name: F_4_13, dtype: float64"
      ]
     },
     "metadata": {},
     "output_type": "display_data"
    },
    {
     "name": "stdout",
     "output_type": "stream",
     "text": [
      "========== F_4_14 ==========\n",
      "batch_size :2048\n"
     ]
    },
    {
     "data": {
      "text/plain": [
       "row_id\n",
       "12     0.672088\n",
       "233    0.719558\n",
       "336   -0.093349\n",
       "446    0.936427\n",
       "508    0.554327\n",
       "Name: F_4_14, dtype: float64"
      ]
     },
     "metadata": {},
     "output_type": "display_data"
    },
    {
     "name": "stdout",
     "output_type": "stream",
     "text": [
      "========== na_cnt 2/5 ==========\n",
      "========== F_4_0 ==========\n",
      "batch_size :2048\n"
     ]
    },
    {
     "data": {
      "text/plain": [
       "row_id\n",
       "205     1.699801\n",
       "224     2.405856\n",
       "390     2.856384\n",
       "1003    3.684433\n",
       "2130    1.310680\n",
       "Name: F_4_0, dtype: float64"
      ]
     },
     "metadata": {},
     "output_type": "display_data"
    },
    {
     "name": "stdout",
     "output_type": "stream",
     "text": [
      "========== F_4_1 ==========\n",
      "batch_size :2048\n"
     ]
    },
    {
     "data": {
      "text/plain": [
       "row_id\n",
       "184    -3.961794\n",
       "918    -4.649046\n",
       "2344   -0.050346\n",
       "2400   -0.666612\n",
       "3066    2.458075\n",
       "Name: F_4_1, dtype: float64"
      ]
     },
     "metadata": {},
     "output_type": "display_data"
    },
    {
     "name": "stdout",
     "output_type": "stream",
     "text": [
      "========== F_4_2 ==========\n",
      "batch_size :2048\n"
     ]
    },
    {
     "data": {
      "text/plain": [
       "row_id\n",
       "61      0.918394\n",
       "994     0.790222\n",
       "1003   -0.358693\n",
       "1086   -0.232820\n",
       "1283   -1.386620\n",
       "Name: F_4_2, dtype: float64"
      ]
     },
     "metadata": {},
     "output_type": "display_data"
    },
    {
     "name": "stdout",
     "output_type": "stream",
     "text": [
      "========== F_4_3 ==========\n",
      "batch_size :2048\n"
     ]
    },
    {
     "data": {
      "text/plain": [
       "row_id\n",
       "7      -0.326008\n",
       "99     -0.560844\n",
       "945     0.320521\n",
       "1144   -0.102726\n",
       "1289   -0.912238\n",
       "Name: F_4_3, dtype: float64"
      ]
     },
     "metadata": {},
     "output_type": "display_data"
    },
    {
     "name": "stdout",
     "output_type": "stream",
     "text": [
      "========== F_4_4 ==========\n",
      "batch_size :2048\n"
     ]
    },
    {
     "data": {
      "text/plain": [
       "row_id\n",
       "48      0.213659\n",
       "205    -2.196002\n",
       "283    -0.200202\n",
       "1238    0.066545\n",
       "1921    4.392175\n",
       "Name: F_4_4, dtype: float64"
      ]
     },
     "metadata": {},
     "output_type": "display_data"
    },
    {
     "name": "stdout",
     "output_type": "stream",
     "text": [
      "========== F_4_5 ==========\n",
      "batch_size :2048\n"
     ]
    },
    {
     "data": {
      "text/plain": [
       "row_id\n",
       "740    -0.832226\n",
       "884     0.719931\n",
       "982     2.870744\n",
       "1325    1.971923\n",
       "1392    3.136975\n",
       "Name: F_4_5, dtype: float64"
      ]
     },
     "metadata": {},
     "output_type": "display_data"
    },
    {
     "name": "stdout",
     "output_type": "stream",
     "text": [
      "========== F_4_6 ==========\n",
      "batch_size :2048\n"
     ]
    },
    {
     "data": {
      "text/plain": [
       "row_id\n",
       "886     3.060002\n",
       "945     0.704724\n",
       "1035    0.459297\n",
       "1352   -0.334399\n",
       "2000   -1.560851\n",
       "Name: F_4_6, dtype: float64"
      ]
     },
     "metadata": {},
     "output_type": "display_data"
    },
    {
     "name": "stdout",
     "output_type": "stream",
     "text": [
      "========== F_4_7 ==========\n",
      "batch_size :2048\n"
     ]
    },
    {
     "data": {
      "text/plain": [
       "row_id\n",
       "136     1.345287\n",
       "503    -6.082983\n",
       "1312    0.582583\n",
       "2002    1.548453\n",
       "2293    1.866508\n",
       "Name: F_4_7, dtype: float64"
      ]
     },
     "metadata": {},
     "output_type": "display_data"
    },
    {
     "name": "stdout",
     "output_type": "stream",
     "text": [
      "========== F_4_8 ==========\n",
      "batch_size :2048\n"
     ]
    },
    {
     "data": {
      "text/plain": [
       "row_id\n",
       "21     -0.365073\n",
       "36     -1.269623\n",
       "224    -0.100778\n",
       "285    -0.849421\n",
       "1356   -0.044344\n",
       "Name: F_4_8, dtype: float64"
      ]
     },
     "metadata": {},
     "output_type": "display_data"
    },
    {
     "name": "stdout",
     "output_type": "stream",
     "text": [
      "========== F_4_9 ==========\n",
      "batch_size :2048\n"
     ]
    },
    {
     "data": {
      "text/plain": [
       "row_id\n",
       "136   -0.770769\n",
       "465    0.649954\n",
       "503   -1.053682\n",
       "740   -0.153134\n",
       "982   -0.356774\n",
       "Name: F_4_9, dtype: float64"
      ]
     },
     "metadata": {},
     "output_type": "display_data"
    },
    {
     "name": "stdout",
     "output_type": "stream",
     "text": [
      "========== F_4_10 ==========\n",
      "batch_size :2048\n"
     ]
    },
    {
     "data": {
      "text/plain": [
       "row_id\n",
       "283    0.094229\n",
       "465    1.518900\n",
       "644   -0.776624\n",
       "886    0.841743\n",
       "988    0.279197\n",
       "Name: F_4_10, dtype: float64"
      ]
     },
     "metadata": {},
     "output_type": "display_data"
    },
    {
     "name": "stdout",
     "output_type": "stream",
     "text": [
      "========== F_4_11 ==========\n",
      "batch_size :2048\n"
     ]
    },
    {
     "data": {
      "text/plain": [
       "row_id\n",
       "285     9.544481\n",
       "390    -2.200431\n",
       "644    -2.844061\n",
       "1040   -1.651034\n",
       "1144   -1.682082\n",
       "Name: F_4_11, dtype: float64"
      ]
     },
     "metadata": {},
     "output_type": "display_data"
    },
    {
     "name": "stdout",
     "output_type": "stream",
     "text": [
      "========== F_4_12 ==========\n",
      "batch_size :2048\n"
     ]
    },
    {
     "data": {
      "text/plain": [
       "row_id\n",
       "21     -2.553397\n",
       "988     2.077992\n",
       "1028    5.061216\n",
       "1035   -1.619457\n",
       "1086   -1.348146\n",
       "Name: F_4_12, dtype: float64"
      ]
     },
     "metadata": {},
     "output_type": "display_data"
    },
    {
     "name": "stdout",
     "output_type": "stream",
     "text": [
      "========== F_4_13 ==========\n",
      "batch_size :2048\n"
     ]
    },
    {
     "data": {
      "text/plain": [
       "row_id\n",
       "61    -0.084962\n",
       "99     3.645552\n",
       "184    0.772728\n",
       "884    3.009645\n",
       "918   -1.550384\n",
       "Name: F_4_13, dtype: float64"
      ]
     },
     "metadata": {},
     "output_type": "display_data"
    },
    {
     "name": "stdout",
     "output_type": "stream",
     "text": [
      "========== F_4_14 ==========\n",
      "batch_size :2048\n"
     ]
    },
    {
     "data": {
      "text/plain": [
       "row_id\n",
       "7       1.523982\n",
       "36      0.821785\n",
       "48      0.964082\n",
       "1040    0.210350\n",
       "1325   -1.430433\n",
       "Name: F_4_14, dtype: float64"
      ]
     },
     "metadata": {},
     "output_type": "display_data"
    },
    {
     "name": "stdout",
     "output_type": "stream",
     "text": [
      "========== na_cnt 3/5 ==========\n",
      "========== F_4_0 ==========\n",
      "batch_size :2048\n"
     ]
    },
    {
     "data": {
      "text/plain": [
       "row_id\n",
       "5852   -1.004812\n",
       "6714    0.338566\n",
       "7704    2.433562\n",
       "8462    2.282016\n",
       "8724   -1.023993\n",
       "Name: F_4_0, dtype: float64"
      ]
     },
     "metadata": {},
     "output_type": "display_data"
    },
    {
     "name": "stdout",
     "output_type": "stream",
     "text": [
      "========== F_4_1 ==========\n",
      "batch_size :2048\n"
     ]
    },
    {
     "data": {
      "text/plain": [
       "row_id\n",
       "2137   -0.873558\n",
       "4097   -0.874434\n",
       "4494    1.958435\n",
       "4583    1.225716\n",
       "5722   -3.515440\n",
       "Name: F_4_1, dtype: float64"
      ]
     },
     "metadata": {},
     "output_type": "display_data"
    },
    {
     "name": "stdout",
     "output_type": "stream",
     "text": [
      "========== F_4_2 ==========\n",
      "batch_size :2048\n"
     ]
    },
    {
     "data": {
      "text/plain": [
       "row_id\n",
       "1916    -0.379457\n",
       "2215    -0.221842\n",
       "4162     0.002437\n",
       "5630     0.214172\n",
       "10750    1.317306\n",
       "Name: F_4_2, dtype: float64"
      ]
     },
     "metadata": {},
     "output_type": "display_data"
    },
    {
     "name": "stdout",
     "output_type": "stream",
     "text": [
      "========== F_4_3 ==========\n",
      "batch_size :2048\n"
     ]
    },
    {
     "data": {
      "text/plain": [
       "row_id\n",
       "5722   -0.740589\n",
       "6033    1.251220\n",
       "7704   -0.269593\n",
       "8462    1.632451\n",
       "8548    0.111187\n",
       "Name: F_4_3, dtype: float64"
      ]
     },
     "metadata": {},
     "output_type": "display_data"
    },
    {
     "name": "stdout",
     "output_type": "stream",
     "text": [
      "========== F_4_4 ==========\n",
      "batch_size :2048\n"
     ]
    },
    {
     "data": {
      "text/plain": [
       "row_id\n",
       "1916    -0.081269\n",
       "5269    -1.049717\n",
       "6714     4.289262\n",
       "11296    1.394837\n",
       "14100    1.413940\n",
       "Name: F_4_4, dtype: float64"
      ]
     },
     "metadata": {},
     "output_type": "display_data"
    },
    {
     "name": "stdout",
     "output_type": "stream",
     "text": [
      "========== F_4_5 ==========\n",
      "batch_size :2048\n"
     ]
    },
    {
     "data": {
      "text/plain": [
       "row_id\n",
       "1916    1.984763\n",
       "4097   -0.648068\n",
       "4319    1.627416\n",
       "4583    0.848341\n",
       "5269   -4.558091\n",
       "Name: F_4_5, dtype: float64"
      ]
     },
     "metadata": {},
     "output_type": "display_data"
    },
    {
     "name": "stdout",
     "output_type": "stream",
     "text": [
      "========== F_4_6 ==========\n",
      "batch_size :2048\n"
     ]
    },
    {
     "data": {
      "text/plain": [
       "row_id\n",
       "2137     3.731117\n",
       "2396    -0.286204\n",
       "6033     3.854873\n",
       "8548     3.865636\n",
       "10861    2.642621\n",
       "Name: F_4_6, dtype: float64"
      ]
     },
     "metadata": {},
     "output_type": "display_data"
    },
    {
     "name": "stdout",
     "output_type": "stream",
     "text": [
      "========== F_4_7 ==========\n",
      "batch_size :2048\n"
     ]
    },
    {
     "data": {
      "text/plain": [
       "row_id\n",
       "4494     1.236741\n",
       "5852    -0.015690\n",
       "9220     1.531490\n",
       "13929   -2.057395\n",
       "14753   -1.335544\n",
       "Name: F_4_7, dtype: float64"
      ]
     },
     "metadata": {},
     "output_type": "display_data"
    },
    {
     "name": "stdout",
     "output_type": "stream",
     "text": [
      "========== F_4_8 ==========\n",
      "batch_size :2048\n"
     ]
    },
    {
     "data": {
      "text/plain": [
       "row_id\n",
       "4319     0.187782\n",
       "5269    -0.301321\n",
       "8724    -1.668993\n",
       "13454   -1.556348\n",
       "15985   -0.374573\n",
       "Name: F_4_8, dtype: float64"
      ]
     },
     "metadata": {},
     "output_type": "display_data"
    },
    {
     "name": "stdout",
     "output_type": "stream",
     "text": [
      "========== F_4_9 ==========\n",
      "batch_size :2048\n"
     ]
    },
    {
     "data": {
      "text/plain": [
       "row_id\n",
       "2215   -0.512768\n",
       "3080   -0.562065\n",
       "4162    1.394209\n",
       "5630   -0.737302\n",
       "6033    0.626068\n",
       "Name: F_4_9, dtype: float64"
      ]
     },
     "metadata": {},
     "output_type": "display_data"
    },
    {
     "name": "stdout",
     "output_type": "stream",
     "text": [
      "========== F_4_10 ==========\n",
      "batch_size :2048\n"
     ]
    },
    {
     "data": {
      "text/plain": [
       "row_id\n",
       "2396     0.730935\n",
       "9220    -0.164271\n",
       "10096    0.066877\n",
       "10861    0.535830\n",
       "14753   -0.096397\n",
       "Name: F_4_10, dtype: float64"
      ]
     },
     "metadata": {},
     "output_type": "display_data"
    },
    {
     "name": "stdout",
     "output_type": "stream",
     "text": [
      "========== F_4_11 ==========\n",
      "batch_size :2048\n"
     ]
    },
    {
     "data": {
      "text/plain": [
       "row_id\n",
       "3080    -3.495719\n",
       "4494    -3.028877\n",
       "4583     2.056704\n",
       "5630     0.611644\n",
       "11623   -2.551460\n",
       "Name: F_4_11, dtype: float64"
      ]
     },
     "metadata": {},
     "output_type": "display_data"
    },
    {
     "name": "stdout",
     "output_type": "stream",
     "text": [
      "========== F_4_12 ==========\n",
      "batch_size :2048\n"
     ]
    },
    {
     "data": {
      "text/plain": [
       "row_id\n",
       "2137    2.407748\n",
       "2396    1.236222\n",
       "5722   -1.463466\n",
       "5852    3.795024\n",
       "8462    0.581439\n",
       "Name: F_4_12, dtype: float64"
      ]
     },
     "metadata": {},
     "output_type": "display_data"
    },
    {
     "name": "stdout",
     "output_type": "stream",
     "text": [
      "========== F_4_13 ==========\n",
      "batch_size :2048\n"
     ]
    },
    {
     "data": {
      "text/plain": [
       "row_id\n",
       "3080    2.341469\n",
       "4097   -2.295514\n",
       "4162    2.714059\n",
       "4319   -1.469319\n",
       "8548    1.661139\n",
       "Name: F_4_13, dtype: float64"
      ]
     },
     "metadata": {},
     "output_type": "display_data"
    },
    {
     "name": "stdout",
     "output_type": "stream",
     "text": [
      "========== F_4_14 ==========\n",
      "batch_size :2048\n"
     ]
    },
    {
     "data": {
      "text/plain": [
       "row_id\n",
       "2215     0.267021\n",
       "8724     0.037421\n",
       "8816    -0.426575\n",
       "10096   -0.013701\n",
       "10750    0.017221\n",
       "Name: F_4_14, dtype: float64"
      ]
     },
     "metadata": {},
     "output_type": "display_data"
    },
    {
     "name": "stdout",
     "output_type": "stream",
     "text": [
      "========== na_cnt 4/5 ==========\n",
      "========== F_4_0 ==========\n",
      "batch_size :2048\n"
     ]
    },
    {
     "data": {
      "text/plain": [
       "row_id\n",
       "35966    1.149127\n",
       "41668   -1.692091\n",
       "80447    1.569456\n",
       "94371    1.174505\n",
       "94997   -0.486701\n",
       "Name: F_4_0, dtype: float64"
      ]
     },
     "metadata": {},
     "output_type": "display_data"
    },
    {
     "name": "stdout",
     "output_type": "stream",
     "text": [
      "========== F_4_1 ==========\n",
      "batch_size :2048\n"
     ]
    },
    {
     "data": {
      "text/plain": [
       "row_id\n",
       "10837    -1.669125\n",
       "63138     0.553326\n",
       "140345    1.899366\n",
       "232776   -2.878411\n",
       "239705    1.018400\n",
       "Name: F_4_1, dtype: float64"
      ]
     },
     "metadata": {},
     "output_type": "display_data"
    },
    {
     "name": "stdout",
     "output_type": "stream",
     "text": [
      "========== F_4_2 ==========\n",
      "batch_size :2048\n"
     ]
    },
    {
     "data": {
      "text/plain": [
       "row_id\n",
       "19917   -0.061364\n",
       "35966   -0.075576\n",
       "41668   -0.243006\n",
       "74704    1.084618\n",
       "80447   -0.795189\n",
       "Name: F_4_2, dtype: float64"
      ]
     },
     "metadata": {},
     "output_type": "display_data"
    },
    {
     "name": "stdout",
     "output_type": "stream",
     "text": [
      "========== F_4_3 ==========\n",
      "batch_size :2048\n"
     ]
    },
    {
     "data": {
      "text/plain": [
       "row_id\n",
       "63138    -1.295143\n",
       "156843   -0.476723\n",
       "162191    0.410862\n",
       "171791   -0.128647\n",
       "192112   -0.330265\n",
       "Name: F_4_3, dtype: float64"
      ]
     },
     "metadata": {},
     "output_type": "display_data"
    },
    {
     "name": "stdout",
     "output_type": "stream",
     "text": [
      "========== F_4_4 ==========\n",
      "batch_size :2048\n"
     ]
    },
    {
     "data": {
      "text/plain": [
       "row_id\n",
       "33176     1.717199\n",
       "94997    -1.316978\n",
       "215436   -4.453103\n",
       "221703   -4.003464\n",
       "232776   -2.574420\n",
       "Name: F_4_4, dtype: float64"
      ]
     },
     "metadata": {},
     "output_type": "display_data"
    },
    {
     "name": "stdout",
     "output_type": "stream",
     "text": [
      "========== F_4_5 ==========\n",
      "batch_size :2048\n"
     ]
    },
    {
     "data": {
      "text/plain": [
       "row_id\n",
       "10837     0.615663\n",
       "41668     0.894099\n",
       "74704     0.090591\n",
       "80701     2.026424\n",
       "113659    2.659568\n",
       "Name: F_4_5, dtype: float64"
      ]
     },
     "metadata": {},
     "output_type": "display_data"
    },
    {
     "name": "stdout",
     "output_type": "stream",
     "text": [
      "========== F_4_6 ==========\n",
      "batch_size :2048\n"
     ]
    },
    {
     "data": {
      "text/plain": [
       "row_id\n",
       "80447    -0.206956\n",
       "80701     2.162738\n",
       "99587     1.515291\n",
       "139774   -2.894595\n",
       "140345   -1.408505\n",
       "Name: F_4_6, dtype: float64"
      ]
     },
     "metadata": {},
     "output_type": "display_data"
    },
    {
     "name": "stdout",
     "output_type": "stream",
     "text": [
      "========== F_4_7 ==========\n",
      "batch_size :2048\n"
     ]
    },
    {
     "data": {
      "text/plain": [
       "row_id\n",
       "22717     2.177988\n",
       "33176     3.830238\n",
       "80701     0.082067\n",
       "193358   -0.838098\n",
       "205726   -0.915739\n",
       "Name: F_4_7, dtype: float64"
      ]
     },
     "metadata": {},
     "output_type": "display_data"
    },
    {
     "name": "stdout",
     "output_type": "stream",
     "text": [
      "========== F_4_8 ==========\n",
      "batch_size :2048\n"
     ]
    },
    {
     "data": {
      "text/plain": [
       "row_id\n",
       "10837     0.041000\n",
       "80701    -1.807268\n",
       "97865    -0.037943\n",
       "167485   -0.404568\n",
       "171791    0.776974\n",
       "Name: F_4_8, dtype: float64"
      ]
     },
     "metadata": {},
     "output_type": "display_data"
    },
    {
     "name": "stdout",
     "output_type": "stream",
     "text": [
      "========== F_4_9 ==========\n",
      "batch_size :2048\n"
     ]
    },
    {
     "data": {
      "text/plain": [
       "row_id\n",
       "33176    0.688659\n",
       "35966    0.793801\n",
       "63138   -0.652426\n",
       "74704   -1.028205\n",
       "94371   -0.686912\n",
       "Name: F_4_9, dtype: float64"
      ]
     },
     "metadata": {},
     "output_type": "display_data"
    },
    {
     "name": "stdout",
     "output_type": "stream",
     "text": [
      "========== F_4_10 ==========\n",
      "batch_size :2048\n"
     ]
    },
    {
     "data": {
      "text/plain": [
       "row_id\n",
       "19917    -0.053499\n",
       "22717     0.634411\n",
       "33176     0.675496\n",
       "99587    -0.172389\n",
       "139774    0.471360\n",
       "Name: F_4_10, dtype: float64"
      ]
     },
     "metadata": {},
     "output_type": "display_data"
    },
    {
     "name": "stdout",
     "output_type": "stream",
     "text": [
      "========== F_4_11 ==========\n",
      "batch_size :2048\n"
     ]
    },
    {
     "data": {
      "text/plain": [
       "row_id\n",
       "19917    -1.761051\n",
       "41668     5.426489\n",
       "80447    -0.848825\n",
       "166501    6.210108\n",
       "239705    1.614492\n",
       "Name: F_4_11, dtype: float64"
      ]
     },
     "metadata": {},
     "output_type": "display_data"
    },
    {
     "name": "stdout",
     "output_type": "stream",
     "text": [
      "========== F_4_12 ==========\n",
      "batch_size :2048\n"
     ]
    },
    {
     "data": {
      "text/plain": [
       "row_id\n",
       "10837     3.107306\n",
       "22717    -1.162996\n",
       "35966     1.884212\n",
       "97865     1.923842\n",
       "113659    0.894861\n",
       "Name: F_4_12, dtype: float64"
      ]
     },
     "metadata": {},
     "output_type": "display_data"
    },
    {
     "name": "stdout",
     "output_type": "stream",
     "text": [
      "========== F_4_13 ==========\n",
      "batch_size :2048\n"
     ]
    },
    {
     "data": {
      "text/plain": [
       "row_id\n",
       "74704     1.357410\n",
       "94371    -2.694349\n",
       "156843    0.584138\n",
       "162191    1.611386\n",
       "171791    0.208974\n",
       "Name: F_4_13, dtype: float64"
      ]
     },
     "metadata": {},
     "output_type": "display_data"
    },
    {
     "name": "stdout",
     "output_type": "stream",
     "text": [
      "========== F_4_14 ==========\n",
      "batch_size :2048\n"
     ]
    },
    {
     "data": {
      "text/plain": [
       "row_id\n",
       "19917    0.403600\n",
       "22717   -0.235522\n",
       "63138   -0.051665\n",
       "94371   -0.022698\n",
       "94997    0.689648\n",
       "Name: F_4_14, dtype: float64"
      ]
     },
     "metadata": {},
     "output_type": "display_data"
    },
    {
     "name": "stdout",
     "output_type": "stream",
     "text": [
      "========== na_cnt 5/5 ==========\n",
      "========== F_4_0 ==========\n"
     ]
    }
   ],
   "source": [
    "if CFG.train:\n",
    "    model_name_prefix = datetime.datetime.now().strftime('%m%d%H%M%S')\n",
    "else:\n",
    "    model_name_prefix = \"0616004555\"\n",
    "\n",
    "for cnt in range(0, na_cnt_max):  # uso cnt+1\n",
    "    print(\"=\"*10, \"na_cnt {}/{}\".format(cnt+1, na_cnt_max), \"=\"*10)\n",
    "    result_f4data = copy.deepcopy(f4data)\n",
    "    for col in na_col_list:\n",
    "        print(\"=\"*10, col, \"=\"*10)\n",
    "        # split data\n",
    "        # train cnt == 0 then test cnt == 1\n",
    "        _, no_na_index = na_no_na_index_of(col, 0)  # select non na records.\n",
    "        train = f4data.loc[no_na_index]\n",
    "        na_index, _ = na_no_na_index_of(col, cnt+1)\n",
    "        if len(na_index) == 0:\n",
    "            break\n",
    "        test = f4data.loc[na_index]\n",
    "        X = train.drop(col, axis=1)\n",
    "        y = train[col]\n",
    "        X_test = test.drop(col, axis=1)\n",
    "        X_train, X_valid, y_train, y_valid = train_test_split(X, y, train_size=0.8, random_state=42)\n",
    "\n",
    "        # data module\n",
    "        batch_size = min(CFG.max_batch_size, (len(X_train)+100-1)//100)  # len(X) == batch then raise errer.\n",
    "        print(\"batch_size :{}\".format(batch_size))\n",
    "        if CFG.train:\n",
    "            dm = DataModule(X_train, y_train, X_valid, y_valid, X_test, cnt, batch_size)\n",
    "\n",
    "        # create model\n",
    "        cur_model_name = \"model\" + model_name_prefix+\"_\" + col+ \"_\" + str(cnt)\n",
    "        dirpath = \"../input/tps-jun-2022-model/\"\n",
    "        if cnt > 0:\n",
    "            CFG.hidden_size = 256\n",
    "        else:\n",
    "            CFG.hidden_size = 128            \n",
    "        dnn = DNN(X_train.shape[1], CFG.hidden_size)\n",
    "        model = NNModel(dnn)\n",
    "\n",
    "        # train\n",
    "        if CFG.train:\n",
    "            logger = WandbLogger(project=\"tps2206\")\n",
    "            logger.log_hyperparams(CFG.__dict__)\n",
    "            callbacks = [\n",
    "                        pl.callbacks.EarlyStopping('valid_avg_loss', patience=CFG.patience),  # validation_epoch_endの戻値が10ターン改善がなかったら打ち止め\n",
    "                        pl.callbacks.ModelCheckpoint(dirpath=\"./model/\", filename=cur_model_name, save_top_k=1, monitor=\"valid_avg_loss\", save_weights_only=False),  # model保存の設定\n",
    "                        pl.callbacks.LearningRateMonitor(),  # ログに学習率を吐き出す設定\n",
    "            ]\n",
    "            trainer = pl.Trainer(accelerator=\"auto\", devices=\"auto\", max_epochs=CFG.max_epochs, logger=logger, callbacks=callbacks, enable_progress_bar=False)\n",
    "            trainer.fit(model, datamodule=dm)\n",
    "            wandb.finish()\n",
    "        else:\n",
    "            trainer = pl.Trainer(accelerator=\"auto\", devices=\"auto\", max_epochs=CFG.max_epochs, logger=None, callbacks=None, enable_progress_bar=False)\n",
    "\n",
    "        # load_best_model\n",
    "        checkpoint_path = glob.glob(dirpath+cur_model_name+\"*.ckpt\")[0]\n",
    "        model.load_from_checkpoint(checkpoint_path, model=dnn)\n",
    "        checkpoint_path_of[cur_model_name] = checkpoint_path\n",
    "\n",
    "        # predict\n",
    "        dm = DataModule(X_train, y_train, X_valid, y_valid, X_test, cnt, batch_size)\n",
    "        results = trainer.predict(model=model, datamodule=dm)\n",
    "        preds = []\n",
    "        for batch in results:\n",
    "            preds.append(batch)\n",
    "        outputs = torch.cat(preds, dim=0)\n",
    "\n",
    "        # write result\n",
    "        result_f4data.loc[na_index, col] = outputs.tolist()\n",
    "        display(result_f4data.loc[na_index, col].head())\n",
    "\n",
    "        torch.cuda.empty_cache()\n",
    "        gc.collect()\n",
    "    f4data = result_f4data\n",
    "    f4data.to_pickle(\"f4data_{}.pkl\".format(cnt))"
   ]
  },
  {
   "cell_type": "code",
   "execution_count": 29,
   "id": "c6f421f6",
   "metadata": {
    "execution": {
     "iopub.execute_input": "2022-06-16T07:31:59.852102Z",
     "iopub.status.busy": "2022-06-16T07:31:59.851531Z",
     "iopub.status.idle": "2022-06-16T07:31:59.926224Z",
     "shell.execute_reply": "2022-06-16T07:31:59.925406Z"
    },
    "id": "XvLZ1p45kVqD",
    "papermill": {
     "duration": 0.099511,
     "end_time": "2022-06-16T07:31:59.928454",
     "exception": false,
     "start_time": "2022-06-16T07:31:59.828943",
     "status": "completed"
    },
    "tags": []
   },
   "outputs": [],
   "source": [
    "data.loc[:, f4data.columns] = f4data"
   ]
  },
  {
   "cell_type": "code",
   "execution_count": 30,
   "id": "06c216a0",
   "metadata": {
    "execution": {
     "iopub.execute_input": "2022-06-16T07:31:59.973700Z",
     "iopub.status.busy": "2022-06-16T07:31:59.972937Z",
     "iopub.status.idle": "2022-06-16T07:32:00.026356Z",
     "shell.execute_reply": "2022-06-16T07:32:00.025499Z"
    },
    "id": "1yfBoZfcHFqw",
    "outputId": "61ce7f16-54e2-476a-8ce9-37d9c32a4e11",
    "papermill": {
     "duration": 0.078181,
     "end_time": "2022-06-16T07:32:00.028642",
     "exception": false,
     "start_time": "2022-06-16T07:31:59.950461",
     "status": "completed"
    },
    "tags": []
   },
   "outputs": [
    {
     "data": {
      "text/html": [
       "<div>\n",
       "<style scoped>\n",
       "    .dataframe tbody tr th:only-of-type {\n",
       "        vertical-align: middle;\n",
       "    }\n",
       "\n",
       "    .dataframe tbody tr th {\n",
       "        vertical-align: top;\n",
       "    }\n",
       "\n",
       "    .dataframe thead th {\n",
       "        text-align: right;\n",
       "    }\n",
       "</style>\n",
       "<table border=\"1\" class=\"dataframe\">\n",
       "  <thead>\n",
       "    <tr style=\"text-align: right;\">\n",
       "      <th></th>\n",
       "      <th>F_1_0</th>\n",
       "      <th>F_1_1</th>\n",
       "      <th>F_1_2</th>\n",
       "      <th>F_1_3</th>\n",
       "      <th>F_1_4</th>\n",
       "      <th>F_1_5</th>\n",
       "      <th>F_1_6</th>\n",
       "      <th>F_1_7</th>\n",
       "      <th>F_1_8</th>\n",
       "      <th>F_1_9</th>\n",
       "      <th>F_1_10</th>\n",
       "      <th>F_1_11</th>\n",
       "      <th>F_1_12</th>\n",
       "      <th>F_1_13</th>\n",
       "      <th>F_1_14</th>\n",
       "      <th>F_2_0</th>\n",
       "      <th>F_2_1</th>\n",
       "      <th>F_2_2</th>\n",
       "      <th>F_2_3</th>\n",
       "      <th>F_2_4</th>\n",
       "      <th>F_2_5</th>\n",
       "      <th>F_2_6</th>\n",
       "      <th>F_2_7</th>\n",
       "      <th>F_2_8</th>\n",
       "      <th>F_2_9</th>\n",
       "      <th>F_2_10</th>\n",
       "      <th>F_2_11</th>\n",
       "      <th>F_2_12</th>\n",
       "      <th>F_2_13</th>\n",
       "      <th>F_2_14</th>\n",
       "      <th>F_2_15</th>\n",
       "      <th>F_2_16</th>\n",
       "      <th>F_2_17</th>\n",
       "      <th>F_2_18</th>\n",
       "      <th>F_2_19</th>\n",
       "      <th>F_2_20</th>\n",
       "      <th>F_2_21</th>\n",
       "      <th>F_2_22</th>\n",
       "      <th>F_2_23</th>\n",
       "      <th>F_2_24</th>\n",
       "      <th>F_3_0</th>\n",
       "      <th>F_3_1</th>\n",
       "      <th>F_3_2</th>\n",
       "      <th>F_3_3</th>\n",
       "      <th>F_3_4</th>\n",
       "      <th>F_3_5</th>\n",
       "      <th>F_3_6</th>\n",
       "      <th>F_3_7</th>\n",
       "      <th>F_3_8</th>\n",
       "      <th>F_3_9</th>\n",
       "      <th>F_3_10</th>\n",
       "      <th>F_3_11</th>\n",
       "      <th>F_3_12</th>\n",
       "      <th>F_3_13</th>\n",
       "      <th>F_3_14</th>\n",
       "      <th>F_3_15</th>\n",
       "      <th>F_3_16</th>\n",
       "      <th>F_3_17</th>\n",
       "      <th>F_3_18</th>\n",
       "      <th>F_3_19</th>\n",
       "      <th>F_3_20</th>\n",
       "      <th>F_3_21</th>\n",
       "      <th>F_3_22</th>\n",
       "      <th>F_3_23</th>\n",
       "      <th>F_3_24</th>\n",
       "      <th>F_4_0</th>\n",
       "      <th>F_4_1</th>\n",
       "      <th>F_4_2</th>\n",
       "      <th>F_4_3</th>\n",
       "      <th>F_4_4</th>\n",
       "      <th>F_4_5</th>\n",
       "      <th>F_4_6</th>\n",
       "      <th>F_4_7</th>\n",
       "      <th>F_4_8</th>\n",
       "      <th>F_4_9</th>\n",
       "      <th>F_4_10</th>\n",
       "      <th>F_4_11</th>\n",
       "      <th>F_4_12</th>\n",
       "      <th>F_4_13</th>\n",
       "      <th>F_4_14</th>\n",
       "    </tr>\n",
       "    <tr>\n",
       "      <th>row_id</th>\n",
       "      <th></th>\n",
       "      <th></th>\n",
       "      <th></th>\n",
       "      <th></th>\n",
       "      <th></th>\n",
       "      <th></th>\n",
       "      <th></th>\n",
       "      <th></th>\n",
       "      <th></th>\n",
       "      <th></th>\n",
       "      <th></th>\n",
       "      <th></th>\n",
       "      <th></th>\n",
       "      <th></th>\n",
       "      <th></th>\n",
       "      <th></th>\n",
       "      <th></th>\n",
       "      <th></th>\n",
       "      <th></th>\n",
       "      <th></th>\n",
       "      <th></th>\n",
       "      <th></th>\n",
       "      <th></th>\n",
       "      <th></th>\n",
       "      <th></th>\n",
       "      <th></th>\n",
       "      <th></th>\n",
       "      <th></th>\n",
       "      <th></th>\n",
       "      <th></th>\n",
       "      <th></th>\n",
       "      <th></th>\n",
       "      <th></th>\n",
       "      <th></th>\n",
       "      <th></th>\n",
       "      <th></th>\n",
       "      <th></th>\n",
       "      <th></th>\n",
       "      <th></th>\n",
       "      <th></th>\n",
       "      <th></th>\n",
       "      <th></th>\n",
       "      <th></th>\n",
       "      <th></th>\n",
       "      <th></th>\n",
       "      <th></th>\n",
       "      <th></th>\n",
       "      <th></th>\n",
       "      <th></th>\n",
       "      <th></th>\n",
       "      <th></th>\n",
       "      <th></th>\n",
       "      <th></th>\n",
       "      <th></th>\n",
       "      <th></th>\n",
       "      <th></th>\n",
       "      <th></th>\n",
       "      <th></th>\n",
       "      <th></th>\n",
       "      <th></th>\n",
       "      <th></th>\n",
       "      <th></th>\n",
       "      <th></th>\n",
       "      <th></th>\n",
       "      <th></th>\n",
       "      <th></th>\n",
       "      <th></th>\n",
       "      <th></th>\n",
       "      <th></th>\n",
       "      <th></th>\n",
       "      <th></th>\n",
       "      <th></th>\n",
       "      <th></th>\n",
       "      <th></th>\n",
       "      <th></th>\n",
       "      <th></th>\n",
       "      <th></th>\n",
       "      <th></th>\n",
       "      <th></th>\n",
       "      <th></th>\n",
       "    </tr>\n",
       "  </thead>\n",
       "  <tbody>\n",
       "    <tr>\n",
       "      <th>0</th>\n",
       "      <td>-0.354591</td>\n",
       "      <td>-0.464038</td>\n",
       "      <td>2.304115</td>\n",
       "      <td>0.734486</td>\n",
       "      <td>1.696395</td>\n",
       "      <td>0.136285</td>\n",
       "      <td>-0.518344</td>\n",
       "      <td>0.502640</td>\n",
       "      <td>-1.852504</td>\n",
       "      <td>-0.500665</td>\n",
       "      <td>-1.416075</td>\n",
       "      <td>1.201521</td>\n",
       "      <td>0.551902</td>\n",
       "      <td>-0.759827</td>\n",
       "      <td>-0.000905</td>\n",
       "      <td>2</td>\n",
       "      <td>2</td>\n",
       "      <td>0</td>\n",
       "      <td>3</td>\n",
       "      <td>2</td>\n",
       "      <td>1</td>\n",
       "      <td>1</td>\n",
       "      <td>3</td>\n",
       "      <td>2</td>\n",
       "      <td>2</td>\n",
       "      <td>3</td>\n",
       "      <td>3</td>\n",
       "      <td>2</td>\n",
       "      <td>5</td>\n",
       "      <td>4</td>\n",
       "      <td>1</td>\n",
       "      <td>0</td>\n",
       "      <td>1</td>\n",
       "      <td>0</td>\n",
       "      <td>2</td>\n",
       "      <td>1</td>\n",
       "      <td>2</td>\n",
       "      <td>0</td>\n",
       "      <td>1</td>\n",
       "      <td>2</td>\n",
       "      <td>-0.240522</td>\n",
       "      <td>0.061529</td>\n",
       "      <td>0.561090</td>\n",
       "      <td>-0.171943</td>\n",
       "      <td>-0.431996</td>\n",
       "      <td>0.473508</td>\n",
       "      <td>0.596924</td>\n",
       "      <td>0.819306</td>\n",
       "      <td>1.479061</td>\n",
       "      <td>1.264616</td>\n",
       "      <td>-1.116881</td>\n",
       "      <td>0.759443</td>\n",
       "      <td>-0.086915</td>\n",
       "      <td>-0.620685</td>\n",
       "      <td>0.057216</td>\n",
       "      <td>1.076380</td>\n",
       "      <td>-0.780608</td>\n",
       "      <td>-1.940907</td>\n",
       "      <td>-0.717021</td>\n",
       "      <td>0.599093</td>\n",
       "      <td>0.498347</td>\n",
       "      <td>0.118770</td>\n",
       "      <td>-0.228913</td>\n",
       "      <td>0.000365</td>\n",
       "      <td>0.301610</td>\n",
       "      <td>5.547214</td>\n",
       "      <td>1.066871</td>\n",
       "      <td>-0.134313</td>\n",
       "      <td>-0.101040</td>\n",
       "      <td>-0.660871</td>\n",
       "      <td>3.744152</td>\n",
       "      <td>0.794438</td>\n",
       "      <td>0.265185</td>\n",
       "      <td>-0.561809</td>\n",
       "      <td>0.196480</td>\n",
       "      <td>0.373434</td>\n",
       "      <td>6.206995</td>\n",
       "      <td>3.809505</td>\n",
       "      <td>1.236486</td>\n",
       "      <td>1.182055</td>\n",
       "    </tr>\n",
       "    <tr>\n",
       "      <th>1</th>\n",
       "      <td>1.380940</td>\n",
       "      <td>-0.499626</td>\n",
       "      <td>-0.418548</td>\n",
       "      <td>1.911725</td>\n",
       "      <td>-0.826130</td>\n",
       "      <td>-1.715371</td>\n",
       "      <td>-0.577091</td>\n",
       "      <td>-1.041486</td>\n",
       "      <td>0.596067</td>\n",
       "      <td>-0.363425</td>\n",
       "      <td>-0.853630</td>\n",
       "      <td>0.674525</td>\n",
       "      <td>0.843058</td>\n",
       "      <td>-0.041438</td>\n",
       "      <td>0.259496</td>\n",
       "      <td>3</td>\n",
       "      <td>5</td>\n",
       "      <td>2</td>\n",
       "      <td>1</td>\n",
       "      <td>4</td>\n",
       "      <td>2</td>\n",
       "      <td>3</td>\n",
       "      <td>2</td>\n",
       "      <td>0</td>\n",
       "      <td>0</td>\n",
       "      <td>9</td>\n",
       "      <td>3</td>\n",
       "      <td>1</td>\n",
       "      <td>4</td>\n",
       "      <td>1</td>\n",
       "      <td>2</td>\n",
       "      <td>1</td>\n",
       "      <td>0</td>\n",
       "      <td>1</td>\n",
       "      <td>1</td>\n",
       "      <td>1</td>\n",
       "      <td>1</td>\n",
       "      <td>3</td>\n",
       "      <td>2</td>\n",
       "      <td>5</td>\n",
       "      <td>-0.446068</td>\n",
       "      <td>1.433358</td>\n",
       "      <td>0.040099</td>\n",
       "      <td>-1.994062</td>\n",
       "      <td>-0.602324</td>\n",
       "      <td>-0.611391</td>\n",
       "      <td>-1.151884</td>\n",
       "      <td>0.065485</td>\n",
       "      <td>0.352023</td>\n",
       "      <td>-0.843751</td>\n",
       "      <td>1.167272</td>\n",
       "      <td>0.921445</td>\n",
       "      <td>-0.839827</td>\n",
       "      <td>0.759015</td>\n",
       "      <td>-1.547387</td>\n",
       "      <td>0.720435</td>\n",
       "      <td>-0.944045</td>\n",
       "      <td>1.796462</td>\n",
       "      <td>-1.046357</td>\n",
       "      <td>-0.581515</td>\n",
       "      <td>0.704543</td>\n",
       "      <td>0.375222</td>\n",
       "      <td>0.705963</td>\n",
       "      <td>0.032771</td>\n",
       "      <td>-0.000817</td>\n",
       "      <td>-1.707374</td>\n",
       "      <td>-1.188114</td>\n",
       "      <td>-0.562419</td>\n",
       "      <td>-1.462988</td>\n",
       "      <td>1.290672</td>\n",
       "      <td>-2.895826</td>\n",
       "      <td>-0.738275</td>\n",
       "      <td>2.361818</td>\n",
       "      <td>-0.060753</td>\n",
       "      <td>0.727249</td>\n",
       "      <td>-0.271882</td>\n",
       "      <td>5.232157</td>\n",
       "      <td>-4.218259</td>\n",
       "      <td>-2.724883</td>\n",
       "      <td>-0.063775</td>\n",
       "    </tr>\n",
       "    <tr>\n",
       "      <th>2</th>\n",
       "      <td>0.256023</td>\n",
       "      <td>-1.059874</td>\n",
       "      <td>0.000551</td>\n",
       "      <td>0.345678</td>\n",
       "      <td>1.513814</td>\n",
       "      <td>1.243864</td>\n",
       "      <td>-0.509648</td>\n",
       "      <td>-0.800481</td>\n",
       "      <td>-0.115945</td>\n",
       "      <td>0.595777</td>\n",
       "      <td>-0.073235</td>\n",
       "      <td>-1.381605</td>\n",
       "      <td>-0.108676</td>\n",
       "      <td>0.703693</td>\n",
       "      <td>-0.464042</td>\n",
       "      <td>3</td>\n",
       "      <td>2</td>\n",
       "      <td>1</td>\n",
       "      <td>3</td>\n",
       "      <td>2</td>\n",
       "      <td>1</td>\n",
       "      <td>0</td>\n",
       "      <td>6</td>\n",
       "      <td>1</td>\n",
       "      <td>1</td>\n",
       "      <td>3</td>\n",
       "      <td>4</td>\n",
       "      <td>1</td>\n",
       "      <td>2</td>\n",
       "      <td>2</td>\n",
       "      <td>1</td>\n",
       "      <td>2</td>\n",
       "      <td>2</td>\n",
       "      <td>4</td>\n",
       "      <td>8</td>\n",
       "      <td>1</td>\n",
       "      <td>5</td>\n",
       "      <td>1</td>\n",
       "      <td>2</td>\n",
       "      <td>4</td>\n",
       "      <td>-0.770592</td>\n",
       "      <td>0.483139</td>\n",
       "      <td>-0.636484</td>\n",
       "      <td>-1.305018</td>\n",
       "      <td>-2.089889</td>\n",
       "      <td>0.276761</td>\n",
       "      <td>-1.208640</td>\n",
       "      <td>-0.855769</td>\n",
       "      <td>0.232363</td>\n",
       "      <td>0.215841</td>\n",
       "      <td>-1.031405</td>\n",
       "      <td>0.582437</td>\n",
       "      <td>-0.314639</td>\n",
       "      <td>-0.497409</td>\n",
       "      <td>0.489356</td>\n",
       "      <td>0.915049</td>\n",
       "      <td>-0.513410</td>\n",
       "      <td>0.904206</td>\n",
       "      <td>-0.056089</td>\n",
       "      <td>0.212927</td>\n",
       "      <td>-0.574126</td>\n",
       "      <td>-1.517749</td>\n",
       "      <td>-0.888472</td>\n",
       "      <td>0.142264</td>\n",
       "      <td>1.000822</td>\n",
       "      <td>1.914908</td>\n",
       "      <td>3.877128</td>\n",
       "      <td>0.381250</td>\n",
       "      <td>0.358635</td>\n",
       "      <td>0.443973</td>\n",
       "      <td>2.252834</td>\n",
       "      <td>0.472496</td>\n",
       "      <td>2.491386</td>\n",
       "      <td>0.353381</td>\n",
       "      <td>-0.260682</td>\n",
       "      <td>-0.000833</td>\n",
       "      <td>-0.116457</td>\n",
       "      <td>-2.131747</td>\n",
       "      <td>3.661499</td>\n",
       "      <td>-0.131576</td>\n",
       "    </tr>\n",
       "    <tr>\n",
       "      <th>3</th>\n",
       "      <td>-0.728420</td>\n",
       "      <td>-2.432399</td>\n",
       "      <td>-2.453602</td>\n",
       "      <td>-0.020509</td>\n",
       "      <td>0.333397</td>\n",
       "      <td>0.086049</td>\n",
       "      <td>-1.787601</td>\n",
       "      <td>0.667011</td>\n",
       "      <td>0.761564</td>\n",
       "      <td>-2.217847</td>\n",
       "      <td>-0.618973</td>\n",
       "      <td>0.742112</td>\n",
       "      <td>0.494157</td>\n",
       "      <td>0.744673</td>\n",
       "      <td>-0.769181</td>\n",
       "      <td>2</td>\n",
       "      <td>3</td>\n",
       "      <td>2</td>\n",
       "      <td>1</td>\n",
       "      <td>1</td>\n",
       "      <td>1</td>\n",
       "      <td>2</td>\n",
       "      <td>0</td>\n",
       "      <td>6</td>\n",
       "      <td>2</td>\n",
       "      <td>6</td>\n",
       "      <td>2</td>\n",
       "      <td>1</td>\n",
       "      <td>1</td>\n",
       "      <td>2</td>\n",
       "      <td>3</td>\n",
       "      <td>1</td>\n",
       "      <td>2</td>\n",
       "      <td>1</td>\n",
       "      <td>2</td>\n",
       "      <td>6</td>\n",
       "      <td>2</td>\n",
       "      <td>1</td>\n",
       "      <td>0</td>\n",
       "      <td>2</td>\n",
       "      <td>-0.691020</td>\n",
       "      <td>-1.003026</td>\n",
       "      <td>0.868989</td>\n",
       "      <td>0.464920</td>\n",
       "      <td>0.001290</td>\n",
       "      <td>0.499838</td>\n",
       "      <td>0.203723</td>\n",
       "      <td>-0.451576</td>\n",
       "      <td>-1.233499</td>\n",
       "      <td>0.903493</td>\n",
       "      <td>1.144558</td>\n",
       "      <td>-1.479893</td>\n",
       "      <td>-0.414316</td>\n",
       "      <td>0.024820</td>\n",
       "      <td>-0.976814</td>\n",
       "      <td>0.176633</td>\n",
       "      <td>-0.940022</td>\n",
       "      <td>-1.918049</td>\n",
       "      <td>1.506448</td>\n",
       "      <td>0.604388</td>\n",
       "      <td>0.578250</td>\n",
       "      <td>-0.122676</td>\n",
       "      <td>-0.711811</td>\n",
       "      <td>0.228523</td>\n",
       "      <td>0.999599</td>\n",
       "      <td>-2.638262</td>\n",
       "      <td>0.546676</td>\n",
       "      <td>0.865400</td>\n",
       "      <td>-0.857077</td>\n",
       "      <td>2.667105</td>\n",
       "      <td>2.004600</td>\n",
       "      <td>-4.664806</td>\n",
       "      <td>-0.847211</td>\n",
       "      <td>-0.264249</td>\n",
       "      <td>0.664334</td>\n",
       "      <td>-0.557868</td>\n",
       "      <td>8.499483</td>\n",
       "      <td>-4.738799</td>\n",
       "      <td>-3.054611</td>\n",
       "      <td>0.494152</td>\n",
       "    </tr>\n",
       "    <tr>\n",
       "      <th>4</th>\n",
       "      <td>0.590212</td>\n",
       "      <td>-0.066127</td>\n",
       "      <td>0.468009</td>\n",
       "      <td>-1.096038</td>\n",
       "      <td>0.119399</td>\n",
       "      <td>-1.809710</td>\n",
       "      <td>0.466358</td>\n",
       "      <td>-0.053196</td>\n",
       "      <td>-0.580320</td>\n",
       "      <td>-1.143500</td>\n",
       "      <td>1.338692</td>\n",
       "      <td>1.193330</td>\n",
       "      <td>1.038010</td>\n",
       "      <td>-0.763692</td>\n",
       "      <td>0.513466</td>\n",
       "      <td>5</td>\n",
       "      <td>0</td>\n",
       "      <td>1</td>\n",
       "      <td>3</td>\n",
       "      <td>3</td>\n",
       "      <td>0</td>\n",
       "      <td>2</td>\n",
       "      <td>5</td>\n",
       "      <td>1</td>\n",
       "      <td>3</td>\n",
       "      <td>5</td>\n",
       "      <td>5</td>\n",
       "      <td>4</td>\n",
       "      <td>4</td>\n",
       "      <td>2</td>\n",
       "      <td>0</td>\n",
       "      <td>2</td>\n",
       "      <td>3</td>\n",
       "      <td>2</td>\n",
       "      <td>5</td>\n",
       "      <td>2</td>\n",
       "      <td>2</td>\n",
       "      <td>1</td>\n",
       "      <td>0</td>\n",
       "      <td>4</td>\n",
       "      <td>1.196402</td>\n",
       "      <td>1.076537</td>\n",
       "      <td>0.486482</td>\n",
       "      <td>0.424305</td>\n",
       "      <td>0.475876</td>\n",
       "      <td>0.426978</td>\n",
       "      <td>-1.668823</td>\n",
       "      <td>-0.843056</td>\n",
       "      <td>1.008980</td>\n",
       "      <td>-0.704152</td>\n",
       "      <td>-0.894834</td>\n",
       "      <td>1.491608</td>\n",
       "      <td>-0.149938</td>\n",
       "      <td>1.256330</td>\n",
       "      <td>2.427308</td>\n",
       "      <td>0.878677</td>\n",
       "      <td>0.594314</td>\n",
       "      <td>0.380175</td>\n",
       "      <td>0.666499</td>\n",
       "      <td>-0.664403</td>\n",
       "      <td>1.276316</td>\n",
       "      <td>-0.059327</td>\n",
       "      <td>-1.276574</td>\n",
       "      <td>-0.768874</td>\n",
       "      <td>1.852815</td>\n",
       "      <td>-0.230342</td>\n",
       "      <td>-0.459019</td>\n",
       "      <td>1.128705</td>\n",
       "      <td>-0.748683</td>\n",
       "      <td>-0.412597</td>\n",
       "      <td>0.976937</td>\n",
       "      <td>2.558883</td>\n",
       "      <td>3.377724</td>\n",
       "      <td>0.846891</td>\n",
       "      <td>0.696032</td>\n",
       "      <td>0.554121</td>\n",
       "      <td>-5.979714</td>\n",
       "      <td>-2.869631</td>\n",
       "      <td>3.733057</td>\n",
       "      <td>-0.722943</td>\n",
       "    </tr>\n",
       "  </tbody>\n",
       "</table>\n",
       "</div>"
      ],
      "text/plain": [
       "           F_1_0     F_1_1     F_1_2     F_1_3     F_1_4     F_1_5     F_1_6  \\\n",
       "row_id                                                                         \n",
       "0      -0.354591 -0.464038  2.304115  0.734486  1.696395  0.136285 -0.518344   \n",
       "1       1.380940 -0.499626 -0.418548  1.911725 -0.826130 -1.715371 -0.577091   \n",
       "2       0.256023 -1.059874  0.000551  0.345678  1.513814  1.243864 -0.509648   \n",
       "3      -0.728420 -2.432399 -2.453602 -0.020509  0.333397  0.086049 -1.787601   \n",
       "4       0.590212 -0.066127  0.468009 -1.096038  0.119399 -1.809710  0.466358   \n",
       "\n",
       "           F_1_7     F_1_8     F_1_9    F_1_10    F_1_11    F_1_12    F_1_13  \\\n",
       "row_id                                                                         \n",
       "0       0.502640 -1.852504 -0.500665 -1.416075  1.201521  0.551902 -0.759827   \n",
       "1      -1.041486  0.596067 -0.363425 -0.853630  0.674525  0.843058 -0.041438   \n",
       "2      -0.800481 -0.115945  0.595777 -0.073235 -1.381605 -0.108676  0.703693   \n",
       "3       0.667011  0.761564 -2.217847 -0.618973  0.742112  0.494157  0.744673   \n",
       "4      -0.053196 -0.580320 -1.143500  1.338692  1.193330  1.038010 -0.763692   \n",
       "\n",
       "          F_1_14  F_2_0  F_2_1  F_2_2  F_2_3  F_2_4  F_2_5  F_2_6  F_2_7  \\\n",
       "row_id                                                                     \n",
       "0      -0.000905      2      2      0      3      2      1      1      3   \n",
       "1       0.259496      3      5      2      1      4      2      3      2   \n",
       "2      -0.464042      3      2      1      3      2      1      0      6   \n",
       "3      -0.769181      2      3      2      1      1      1      2      0   \n",
       "4       0.513466      5      0      1      3      3      0      2      5   \n",
       "\n",
       "        F_2_8  F_2_9  F_2_10  F_2_11  F_2_12  F_2_13  F_2_14  F_2_15  F_2_16  \\\n",
       "row_id                                                                         \n",
       "0           2      2       3       3       2       5       4       1       0   \n",
       "1           0      0       9       3       1       4       1       2       1   \n",
       "2           1      1       3       4       1       2       2       1       2   \n",
       "3           6      2       6       2       1       1       2       3       1   \n",
       "4           1      3       5       5       4       4       2       0       2   \n",
       "\n",
       "        F_2_17  F_2_18  F_2_19  F_2_20  F_2_21  F_2_22  F_2_23  F_2_24  \\\n",
       "row_id                                                                   \n",
       "0            1       0       2       1       2       0       1       2   \n",
       "1            0       1       1       1       1       3       2       5   \n",
       "2            2       4       8       1       5       1       2       4   \n",
       "3            2       1       2       6       2       1       0       2   \n",
       "4            3       2       5       2       2       1       0       4   \n",
       "\n",
       "           F_3_0     F_3_1     F_3_2     F_3_3     F_3_4     F_3_5     F_3_6  \\\n",
       "row_id                                                                         \n",
       "0      -0.240522  0.061529  0.561090 -0.171943 -0.431996  0.473508  0.596924   \n",
       "1      -0.446068  1.433358  0.040099 -1.994062 -0.602324 -0.611391 -1.151884   \n",
       "2      -0.770592  0.483139 -0.636484 -1.305018 -2.089889  0.276761 -1.208640   \n",
       "3      -0.691020 -1.003026  0.868989  0.464920  0.001290  0.499838  0.203723   \n",
       "4       1.196402  1.076537  0.486482  0.424305  0.475876  0.426978 -1.668823   \n",
       "\n",
       "           F_3_7     F_3_8     F_3_9    F_3_10    F_3_11    F_3_12    F_3_13  \\\n",
       "row_id                                                                         \n",
       "0       0.819306  1.479061  1.264616 -1.116881  0.759443 -0.086915 -0.620685   \n",
       "1       0.065485  0.352023 -0.843751  1.167272  0.921445 -0.839827  0.759015   \n",
       "2      -0.855769  0.232363  0.215841 -1.031405  0.582437 -0.314639 -0.497409   \n",
       "3      -0.451576 -1.233499  0.903493  1.144558 -1.479893 -0.414316  0.024820   \n",
       "4      -0.843056  1.008980 -0.704152 -0.894834  1.491608 -0.149938  1.256330   \n",
       "\n",
       "          F_3_14    F_3_15    F_3_16    F_3_17    F_3_18    F_3_19    F_3_20  \\\n",
       "row_id                                                                         \n",
       "0       0.057216  1.076380 -0.780608 -1.940907 -0.717021  0.599093  0.498347   \n",
       "1      -1.547387  0.720435 -0.944045  1.796462 -1.046357 -0.581515  0.704543   \n",
       "2       0.489356  0.915049 -0.513410  0.904206 -0.056089  0.212927 -0.574126   \n",
       "3      -0.976814  0.176633 -0.940022 -1.918049  1.506448  0.604388  0.578250   \n",
       "4       2.427308  0.878677  0.594314  0.380175  0.666499 -0.664403  1.276316   \n",
       "\n",
       "          F_3_21    F_3_22    F_3_23    F_3_24     F_4_0     F_4_1     F_4_2  \\\n",
       "row_id                                                                         \n",
       "0       0.118770 -0.228913  0.000365  0.301610  5.547214  1.066871 -0.134313   \n",
       "1       0.375222  0.705963  0.032771 -0.000817 -1.707374 -1.188114 -0.562419   \n",
       "2      -1.517749 -0.888472  0.142264  1.000822  1.914908  3.877128  0.381250   \n",
       "3      -0.122676 -0.711811  0.228523  0.999599 -2.638262  0.546676  0.865400   \n",
       "4      -0.059327 -1.276574 -0.768874  1.852815 -0.230342 -0.459019  1.128705   \n",
       "\n",
       "           F_4_3     F_4_4     F_4_5     F_4_6     F_4_7     F_4_8     F_4_9  \\\n",
       "row_id                                                                         \n",
       "0      -0.101040 -0.660871  3.744152  0.794438  0.265185 -0.561809  0.196480   \n",
       "1      -1.462988  1.290672 -2.895826 -0.738275  2.361818 -0.060753  0.727249   \n",
       "2       0.358635  0.443973  2.252834  0.472496  2.491386  0.353381 -0.260682   \n",
       "3      -0.857077  2.667105  2.004600 -4.664806 -0.847211 -0.264249  0.664334   \n",
       "4      -0.748683 -0.412597  0.976937  2.558883  3.377724  0.846891  0.696032   \n",
       "\n",
       "          F_4_10    F_4_11    F_4_12    F_4_13    F_4_14  \n",
       "row_id                                                    \n",
       "0       0.373434  6.206995  3.809505  1.236486  1.182055  \n",
       "1      -0.271882  5.232157 -4.218259 -2.724883 -0.063775  \n",
       "2      -0.000833 -0.116457 -2.131747  3.661499 -0.131576  \n",
       "3      -0.557868  8.499483 -4.738799 -3.054611  0.494152  \n",
       "4       0.554121 -5.979714 -2.869631  3.733057 -0.722943  "
      ]
     },
     "execution_count": 30,
     "metadata": {},
     "output_type": "execute_result"
    }
   ],
   "source": [
    "data.head()"
   ]
  },
  {
   "cell_type": "code",
   "execution_count": 31,
   "id": "e1a7cf3c",
   "metadata": {
    "execution": {
     "iopub.execute_input": "2022-06-16T07:32:00.075320Z",
     "iopub.status.busy": "2022-06-16T07:32:00.075038Z",
     "iopub.status.idle": "2022-06-16T07:32:21.943806Z",
     "shell.execute_reply": "2022-06-16T07:32:21.943078Z"
    },
    "id": "4c531db5",
    "outputId": "b3d74d1d-1ef0-4782-fdff-06098a5b181c",
    "papermill": {
     "duration": 21.894539,
     "end_time": "2022-06-16T07:32:21.945575",
     "exception": false,
     "start_time": "2022-06-16T07:32:00.051036",
     "status": "completed"
    },
    "tags": []
   },
   "outputs": [
    {
     "data": {
      "application/vnd.jupyter.widget-view+json": {
       "model_id": "d093830c2d8e40d1b89de2b22908aa89",
       "version_major": 2,
       "version_minor": 0
      },
      "text/plain": [
       "  0%|          | 0/1000000 [00:00<?, ?it/s]"
      ]
     },
     "metadata": {},
     "output_type": "display_data"
    }
   ],
   "source": [
    "ind_list = []\n",
    "val_list = []\n",
    "for i in tqdm(sub.index):\n",
    "    row = int(i.split('-')[0])\n",
    "    col = i.split('-')[1]\n",
    "    val = data[col][row]\n",
    "    ind_list.append(i)\n",
    "    val_list.append(val)"
   ]
  },
  {
   "cell_type": "code",
   "execution_count": 32,
   "id": "7099cc87",
   "metadata": {
    "execution": {
     "iopub.execute_input": "2022-06-16T07:32:21.992736Z",
     "iopub.status.busy": "2022-06-16T07:32:21.992449Z",
     "iopub.status.idle": "2022-06-16T07:32:22.802536Z",
     "shell.execute_reply": "2022-06-16T07:32:22.801701Z"
    },
    "id": "43c08dc7",
    "papermill": {
     "duration": 0.835475,
     "end_time": "2022-06-16T07:32:22.804546",
     "exception": false,
     "start_time": "2022-06-16T07:32:21.969071",
     "status": "completed"
    },
    "tags": []
   },
   "outputs": [],
   "source": [
    "sub['value'].loc[ind_list] = val_list"
   ]
  },
  {
   "cell_type": "code",
   "execution_count": 33,
   "id": "5a156243",
   "metadata": {
    "execution": {
     "iopub.execute_input": "2022-06-16T07:32:22.851870Z",
     "iopub.status.busy": "2022-06-16T07:32:22.851564Z",
     "iopub.status.idle": "2022-06-16T07:32:25.479954Z",
     "shell.execute_reply": "2022-06-16T07:32:25.478884Z"
    },
    "id": "a2c00839",
    "outputId": "553129d7-043e-4778-eeb7-49d92a0688a1",
    "papermill": {
     "duration": 2.654699,
     "end_time": "2022-06-16T07:32:25.482485",
     "exception": false,
     "start_time": "2022-06-16T07:32:22.827786",
     "status": "completed"
    },
    "tags": []
   },
   "outputs": [
    {
     "data": {
      "text/html": [
       "<div>\n",
       "<style scoped>\n",
       "    .dataframe tbody tr th:only-of-type {\n",
       "        vertical-align: middle;\n",
       "    }\n",
       "\n",
       "    .dataframe tbody tr th {\n",
       "        vertical-align: top;\n",
       "    }\n",
       "\n",
       "    .dataframe thead th {\n",
       "        text-align: right;\n",
       "    }\n",
       "</style>\n",
       "<table border=\"1\" class=\"dataframe\">\n",
       "  <thead>\n",
       "    <tr style=\"text-align: right;\">\n",
       "      <th></th>\n",
       "      <th>value</th>\n",
       "    </tr>\n",
       "    <tr>\n",
       "      <th>row-col</th>\n",
       "      <th></th>\n",
       "    </tr>\n",
       "  </thead>\n",
       "  <tbody>\n",
       "    <tr>\n",
       "      <th>0-F_1_14</th>\n",
       "      <td>-0.000905</td>\n",
       "    </tr>\n",
       "    <tr>\n",
       "      <th>0-F_3_23</th>\n",
       "      <td>0.000365</td>\n",
       "    </tr>\n",
       "    <tr>\n",
       "      <th>1-F_3_24</th>\n",
       "      <td>-0.000817</td>\n",
       "    </tr>\n",
       "    <tr>\n",
       "      <th>2-F_1_2</th>\n",
       "      <td>0.000551</td>\n",
       "    </tr>\n",
       "    <tr>\n",
       "      <th>2-F_4_2</th>\n",
       "      <td>0.381250</td>\n",
       "    </tr>\n",
       "    <tr>\n",
       "      <th>...</th>\n",
       "      <td>...</td>\n",
       "    </tr>\n",
       "    <tr>\n",
       "      <th>999993-F_4_2</th>\n",
       "      <td>-0.114472</td>\n",
       "    </tr>\n",
       "    <tr>\n",
       "      <th>999994-F_3_10</th>\n",
       "      <td>0.001706</td>\n",
       "    </tr>\n",
       "    <tr>\n",
       "      <th>999994-F_4_9</th>\n",
       "      <td>-0.115102</td>\n",
       "    </tr>\n",
       "    <tr>\n",
       "      <th>999997-F_3_14</th>\n",
       "      <td>0.000727</td>\n",
       "    </tr>\n",
       "    <tr>\n",
       "      <th>999997-F_4_8</th>\n",
       "      <td>-0.133492</td>\n",
       "    </tr>\n",
       "  </tbody>\n",
       "</table>\n",
       "<p>1000000 rows × 1 columns</p>\n",
       "</div>"
      ],
      "text/plain": [
       "                  value\n",
       "row-col                \n",
       "0-F_1_14      -0.000905\n",
       "0-F_3_23       0.000365\n",
       "1-F_3_24      -0.000817\n",
       "2-F_1_2        0.000551\n",
       "2-F_4_2        0.381250\n",
       "...                 ...\n",
       "999993-F_4_2  -0.114472\n",
       "999994-F_3_10  0.001706\n",
       "999994-F_4_9  -0.115102\n",
       "999997-F_3_14  0.000727\n",
       "999997-F_4_8  -0.133492\n",
       "\n",
       "[1000000 rows x 1 columns]"
      ]
     },
     "execution_count": 33,
     "metadata": {},
     "output_type": "execute_result"
    }
   ],
   "source": [
    "sub.to_csv(\"submission.csv\", index=True)\n",
    "sub"
   ]
  },
  {
   "cell_type": "markdown",
   "id": "76409684",
   "metadata": {
    "papermill": {
     "duration": 0.023286,
     "end_time": "2022-06-16T07:32:25.531701",
     "exception": false,
     "start_time": "2022-06-16T07:32:25.508415",
     "status": "completed"
    },
    "tags": []
   },
   "source": [
    "TODO: fine tune版も試してみる。案外悪くないかも・・・？"
   ]
  }
 ],
 "metadata": {
  "kernelspec": {
   "display_name": "Python 3",
   "language": "python",
   "name": "python3"
  },
  "language_info": {
   "codemirror_mode": {
    "name": "ipython",
    "version": 3
   },
   "file_extension": ".py",
   "mimetype": "text/x-python",
   "name": "python",
   "nbconvert_exporter": "python",
   "pygments_lexer": "ipython3",
   "version": "3.7.12"
  },
  "papermill": {
   "default_parameters": {},
   "duration": 149.437442,
   "end_time": "2022-06-16T07:32:28.714527",
   "environment_variables": {},
   "exception": null,
   "input_path": "__notebook__.ipynb",
   "output_path": "__notebook__.ipynb",
   "parameters": {},
   "start_time": "2022-06-16T07:29:59.277085",
   "version": "2.3.4"
  },
  "widgets": {
   "application/vnd.jupyter.widget-state+json": {
    "state": {
     "1396895699504b7baa6797bc75220802": {
      "model_module": "@jupyter-widgets/base",
      "model_module_version": "1.2.0",
      "model_name": "LayoutModel",
      "state": {
       "_model_module": "@jupyter-widgets/base",
       "_model_module_version": "1.2.0",
       "_model_name": "LayoutModel",
       "_view_count": null,
       "_view_module": "@jupyter-widgets/base",
       "_view_module_version": "1.2.0",
       "_view_name": "LayoutView",
       "align_content": null,
       "align_items": null,
       "align_self": null,
       "border": null,
       "bottom": null,
       "display": null,
       "flex": null,
       "flex_flow": null,
       "grid_area": null,
       "grid_auto_columns": null,
       "grid_auto_flow": null,
       "grid_auto_rows": null,
       "grid_column": null,
       "grid_gap": null,
       "grid_row": null,
       "grid_template_areas": null,
       "grid_template_columns": null,
       "grid_template_rows": null,
       "height": null,
       "justify_content": null,
       "justify_items": null,
       "left": null,
       "margin": null,
       "max_height": null,
       "max_width": null,
       "min_height": null,
       "min_width": null,
       "object_fit": null,
       "object_position": null,
       "order": null,
       "overflow": null,
       "overflow_x": null,
       "overflow_y": null,
       "padding": null,
       "right": null,
       "top": null,
       "visibility": null,
       "width": null
      }
     },
     "31a593aebe4b4e59bb9ba2b05f424159": {
      "model_module": "@jupyter-widgets/controls",
      "model_module_version": "1.5.0",
      "model_name": "HTMLModel",
      "state": {
       "_dom_classes": [],
       "_model_module": "@jupyter-widgets/controls",
       "_model_module_version": "1.5.0",
       "_model_name": "HTMLModel",
       "_view_count": null,
       "_view_module": "@jupyter-widgets/controls",
       "_view_module_version": "1.5.0",
       "_view_name": "HTMLView",
       "description": "",
       "description_tooltip": null,
       "layout": "IPY_MODEL_db6ab62f2d9844d1be481f09bc65caf6",
       "placeholder": "​",
       "style": "IPY_MODEL_c599ee72842b4226a60fdd6cca21952b",
       "value": " 1000000/1000000 [00:21&lt;00:00, 44107.85it/s]"
      }
     },
     "47fe134c67fb4ff4a2fc5c6fb35fe829": {
      "model_module": "@jupyter-widgets/controls",
      "model_module_version": "1.5.0",
      "model_name": "ProgressStyleModel",
      "state": {
       "_model_module": "@jupyter-widgets/controls",
       "_model_module_version": "1.5.0",
       "_model_name": "ProgressStyleModel",
       "_view_count": null,
       "_view_module": "@jupyter-widgets/base",
       "_view_module_version": "1.2.0",
       "_view_name": "StyleView",
       "bar_color": null,
       "description_width": ""
      }
     },
     "8c0ee008b0224dae838ce19b0e019b38": {
      "model_module": "@jupyter-widgets/base",
      "model_module_version": "1.2.0",
      "model_name": "LayoutModel",
      "state": {
       "_model_module": "@jupyter-widgets/base",
       "_model_module_version": "1.2.0",
       "_model_name": "LayoutModel",
       "_view_count": null,
       "_view_module": "@jupyter-widgets/base",
       "_view_module_version": "1.2.0",
       "_view_name": "LayoutView",
       "align_content": null,
       "align_items": null,
       "align_self": null,
       "border": null,
       "bottom": null,
       "display": null,
       "flex": null,
       "flex_flow": null,
       "grid_area": null,
       "grid_auto_columns": null,
       "grid_auto_flow": null,
       "grid_auto_rows": null,
       "grid_column": null,
       "grid_gap": null,
       "grid_row": null,
       "grid_template_areas": null,
       "grid_template_columns": null,
       "grid_template_rows": null,
       "height": null,
       "justify_content": null,
       "justify_items": null,
       "left": null,
       "margin": null,
       "max_height": null,
       "max_width": null,
       "min_height": null,
       "min_width": null,
       "object_fit": null,
       "object_position": null,
       "order": null,
       "overflow": null,
       "overflow_x": null,
       "overflow_y": null,
       "padding": null,
       "right": null,
       "top": null,
       "visibility": null,
       "width": null
      }
     },
     "9d29b22cf2ec4a51878f3c6d19a5ff9b": {
      "model_module": "@jupyter-widgets/base",
      "model_module_version": "1.2.0",
      "model_name": "LayoutModel",
      "state": {
       "_model_module": "@jupyter-widgets/base",
       "_model_module_version": "1.2.0",
       "_model_name": "LayoutModel",
       "_view_count": null,
       "_view_module": "@jupyter-widgets/base",
       "_view_module_version": "1.2.0",
       "_view_name": "LayoutView",
       "align_content": null,
       "align_items": null,
       "align_self": null,
       "border": null,
       "bottom": null,
       "display": null,
       "flex": null,
       "flex_flow": null,
       "grid_area": null,
       "grid_auto_columns": null,
       "grid_auto_flow": null,
       "grid_auto_rows": null,
       "grid_column": null,
       "grid_gap": null,
       "grid_row": null,
       "grid_template_areas": null,
       "grid_template_columns": null,
       "grid_template_rows": null,
       "height": null,
       "justify_content": null,
       "justify_items": null,
       "left": null,
       "margin": null,
       "max_height": null,
       "max_width": null,
       "min_height": null,
       "min_width": null,
       "object_fit": null,
       "object_position": null,
       "order": null,
       "overflow": null,
       "overflow_x": null,
       "overflow_y": null,
       "padding": null,
       "right": null,
       "top": null,
       "visibility": null,
       "width": null
      }
     },
     "9dd4738965e349f1aec0d534682ef564": {
      "model_module": "@jupyter-widgets/controls",
      "model_module_version": "1.5.0",
      "model_name": "HTMLModel",
      "state": {
       "_dom_classes": [],
       "_model_module": "@jupyter-widgets/controls",
       "_model_module_version": "1.5.0",
       "_model_name": "HTMLModel",
       "_view_count": null,
       "_view_module": "@jupyter-widgets/controls",
       "_view_module_version": "1.5.0",
       "_view_name": "HTMLView",
       "description": "",
       "description_tooltip": null,
       "layout": "IPY_MODEL_1396895699504b7baa6797bc75220802",
       "placeholder": "​",
       "style": "IPY_MODEL_c06996440a92417d84bfc6f41e91e7f3",
       "value": "100%"
      }
     },
     "c06996440a92417d84bfc6f41e91e7f3": {
      "model_module": "@jupyter-widgets/controls",
      "model_module_version": "1.5.0",
      "model_name": "DescriptionStyleModel",
      "state": {
       "_model_module": "@jupyter-widgets/controls",
       "_model_module_version": "1.5.0",
       "_model_name": "DescriptionStyleModel",
       "_view_count": null,
       "_view_module": "@jupyter-widgets/base",
       "_view_module_version": "1.2.0",
       "_view_name": "StyleView",
       "description_width": ""
      }
     },
     "c599ee72842b4226a60fdd6cca21952b": {
      "model_module": "@jupyter-widgets/controls",
      "model_module_version": "1.5.0",
      "model_name": "DescriptionStyleModel",
      "state": {
       "_model_module": "@jupyter-widgets/controls",
       "_model_module_version": "1.5.0",
       "_model_name": "DescriptionStyleModel",
       "_view_count": null,
       "_view_module": "@jupyter-widgets/base",
       "_view_module_version": "1.2.0",
       "_view_name": "StyleView",
       "description_width": ""
      }
     },
     "d093830c2d8e40d1b89de2b22908aa89": {
      "model_module": "@jupyter-widgets/controls",
      "model_module_version": "1.5.0",
      "model_name": "HBoxModel",
      "state": {
       "_dom_classes": [],
       "_model_module": "@jupyter-widgets/controls",
       "_model_module_version": "1.5.0",
       "_model_name": "HBoxModel",
       "_view_count": null,
       "_view_module": "@jupyter-widgets/controls",
       "_view_module_version": "1.5.0",
       "_view_name": "HBoxView",
       "box_style": "",
       "children": [
        "IPY_MODEL_9dd4738965e349f1aec0d534682ef564",
        "IPY_MODEL_f63e1e9e38ee40fcaab78fceae628500",
        "IPY_MODEL_31a593aebe4b4e59bb9ba2b05f424159"
       ],
       "layout": "IPY_MODEL_9d29b22cf2ec4a51878f3c6d19a5ff9b"
      }
     },
     "db6ab62f2d9844d1be481f09bc65caf6": {
      "model_module": "@jupyter-widgets/base",
      "model_module_version": "1.2.0",
      "model_name": "LayoutModel",
      "state": {
       "_model_module": "@jupyter-widgets/base",
       "_model_module_version": "1.2.0",
       "_model_name": "LayoutModel",
       "_view_count": null,
       "_view_module": "@jupyter-widgets/base",
       "_view_module_version": "1.2.0",
       "_view_name": "LayoutView",
       "align_content": null,
       "align_items": null,
       "align_self": null,
       "border": null,
       "bottom": null,
       "display": null,
       "flex": null,
       "flex_flow": null,
       "grid_area": null,
       "grid_auto_columns": null,
       "grid_auto_flow": null,
       "grid_auto_rows": null,
       "grid_column": null,
       "grid_gap": null,
       "grid_row": null,
       "grid_template_areas": null,
       "grid_template_columns": null,
       "grid_template_rows": null,
       "height": null,
       "justify_content": null,
       "justify_items": null,
       "left": null,
       "margin": null,
       "max_height": null,
       "max_width": null,
       "min_height": null,
       "min_width": null,
       "object_fit": null,
       "object_position": null,
       "order": null,
       "overflow": null,
       "overflow_x": null,
       "overflow_y": null,
       "padding": null,
       "right": null,
       "top": null,
       "visibility": null,
       "width": null
      }
     },
     "f63e1e9e38ee40fcaab78fceae628500": {
      "model_module": "@jupyter-widgets/controls",
      "model_module_version": "1.5.0",
      "model_name": "FloatProgressModel",
      "state": {
       "_dom_classes": [],
       "_model_module": "@jupyter-widgets/controls",
       "_model_module_version": "1.5.0",
       "_model_name": "FloatProgressModel",
       "_view_count": null,
       "_view_module": "@jupyter-widgets/controls",
       "_view_module_version": "1.5.0",
       "_view_name": "ProgressView",
       "bar_style": "success",
       "description": "",
       "description_tooltip": null,
       "layout": "IPY_MODEL_8c0ee008b0224dae838ce19b0e019b38",
       "max": 1000000.0,
       "min": 0.0,
       "orientation": "horizontal",
       "style": "IPY_MODEL_47fe134c67fb4ff4a2fc5c6fb35fe829",
       "value": 1000000.0
      }
     }
    },
    "version_major": 2,
    "version_minor": 0
   }
  }
 },
 "nbformat": 4,
 "nbformat_minor": 5
}
