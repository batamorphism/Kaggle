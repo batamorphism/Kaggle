{
 "cells": [
  {
   "cell_type": "markdown",
   "metadata": {},
   "source": [
    "## In a completely random distribution, using mean is good option?\n",
    "\n",
    "When following a normal distribution, the using mean method is a good way to lower the RMSE.\n",
    "\n",
    "Is this also true when following other distributions?\n",
    "\n",
    "I would guess that in any distribution, the using mean minimizes the RMSE and makes the RMSE a standard deviation."
   ]
  },
  {
   "cell_type": "code",
   "execution_count": 8,
   "metadata": {},
   "outputs": [],
   "source": [
    "def ternary_search_rmse_min(arr):\n",
    "    # search best rmse. O(log(n))\n",
    "    def check(x):\n",
    "        sum_sq = 0\n",
    "        for val in arr:\n",
    "            sum_sq += (val - x) ** 2\n",
    "        sum_sq /= len(arr)\n",
    "        return sum_sq**0.5\n",
    "\n",
    "    lo = -10\n",
    "    hi = 10\n",
    "    while abs(lo-hi) >= 1e-5:\n",
    "        c1 = (lo*2 + hi) / 3\n",
    "        c2 = (lo + hi*2) / 3\n",
    "        rmse1 = check(c1)\n",
    "        rmse2 = check(c2)\n",
    "        if rmse1 < rmse2:\n",
    "            hi = c2\n",
    "        else:\n",
    "            lo = c1\n",
    "    return lo, check(lo)"
   ]
  },
  {
   "cell_type": "code",
   "execution_count": 2,
   "metadata": {},
   "outputs": [
    {
     "data": {
      "image/png": "[encoded data removed]",
      "text/plain": [
       "<Figure size 432x288 with 1 Axes>"
      ]
     },
     "metadata": {
      "needs_background": "light"
     },
     "output_type": "display_data"
    }
   ],
   "source": [
    "# normal distribution\n",
    "import numpy as np\n",
    "import matplotlib.pyplot as plt\n",
    "\n",
    "x = np.random.normal(0, 1, 10**5)\n",
    "y = np.random.normal(0, 1, 10**5)\n",
    "count, bins, ignored = plt.hist(x, 100, density=True, align='mid')\n",
    "plt.show()"
   ]
  },
  {
   "cell_type": "code",
   "execution_count": 3,
   "metadata": {},
   "outputs": [
    {
     "name": "stdout",
     "output_type": "stream",
     "text": [
      "1.412429311083195\n"
     ]
    }
   ],
   "source": [
    "sum_sq = 0\n",
    "for xx, yy in zip(x, y):\n",
    "    sum_sq += (xx - yy) ** 2\n",
    "sum_sq /= len(x)\n",
    "print(sum_sq**0.5)"
   ]
  },
  {
   "cell_type": "code",
   "execution_count": 9,
   "metadata": {},
   "outputs": [
    {
     "data": {
      "text/plain": [
       "(0.003500318316721728, 0.9996972529810378)"
      ]
     },
     "execution_count": 9,
     "metadata": {},
     "output_type": "execute_result"
    }
   ],
   "source": [
    "ternary_search_rmse_min(x)"
   ]
  },
  {
   "cell_type": "markdown",
   "metadata": {},
   "source": [
    "When following a normal distribution, best strategy is using mean. and result is standard deviation"
   ]
  },
  {
   "cell_type": "code",
   "execution_count": 10,
   "metadata": {},
   "outputs": [
    {
     "data": {
      "image/png": "[encoded data removed]",
      "text/plain": [
       "<Figure size 432x288 with 1 Axes>"
      ]
     },
     "metadata": {
      "needs_background": "light"
     },
     "output_type": "display_data"
    }
   ],
   "source": [
    "# lognormal distribution\n",
    "import numpy as np\n",
    "import matplotlib.pyplot as plt\n",
    "\n",
    "x = np.random.lognormal(0, 1, 10**5)\n",
    "count, bins, ignored = plt.hist(x, 100, density=True, align='mid')\n",
    "plt.show()"
   ]
  },
  {
   "cell_type": "code",
   "execution_count": 11,
   "metadata": {},
   "outputs": [
    {
     "data": {
      "text/plain": [
       "1.6457389761767096"
      ]
     },
     "metadata": {},
     "output_type": "display_data"
    },
    {
     "data": {
      "text/plain": [
       "2.1435885288990004"
      ]
     },
     "metadata": {},
     "output_type": "display_data"
    }
   ],
   "source": [
    "display(x.mean())\n",
    "display(x.std())"
   ]
  },
  {
   "cell_type": "code",
   "execution_count": 12,
   "metadata": {},
   "outputs": [
    {
     "data": {
      "text/plain": [
       "(1.6457334524955964, 2.1435885289061254)"
      ]
     },
     "execution_count": 12,
     "metadata": {},
     "output_type": "execute_result"
    }
   ],
   "source": [
    "ternary_search_rmse_min(x)"
   ]
  },
  {
   "cell_type": "code",
   "execution_count": 16,
   "metadata": {},
   "outputs": [
    {
     "data": {
      "image/png": "[encoded data removed]",
      "text/plain": [
       "<Figure size 432x288 with 1 Axes>"
      ]
     },
     "metadata": {
      "needs_background": "light"
     },
     "output_type": "display_data"
    }
   ],
   "source": [
    "# double normal distribution\n",
    "import numpy as np\n",
    "import matplotlib.pyplot as plt\n",
    "\n",
    "x1 = np.random.normal(0, 1, 10**5)\n",
    "x2 = np.random.normal(5, 1, 10**5)\n",
    "x = np.concatenate((x1, x2))\n",
    "count, bins, ignored = plt.hist(x, 100, density=True, align='mid')\n",
    "plt.show()"
   ]
  },
  {
   "cell_type": "code",
   "execution_count": 17,
   "metadata": {},
   "outputs": [
    {
     "data": {
      "text/plain": [
       "2.4985084007141145"
      ]
     },
     "metadata": {},
     "output_type": "display_data"
    },
    {
     "data": {
      "text/plain": [
       "2.6881555359642255"
      ]
     },
     "metadata": {},
     "output_type": "display_data"
    }
   ],
   "source": [
    "display(x.mean())\n",
    "display(x.std())"
   ]
  },
  {
   "cell_type": "code",
   "execution_count": 18,
   "metadata": {},
   "outputs": [
    {
     "data": {
      "text/plain": [
       "(2.498504946650016, 2.688155535966447)"
      ]
     },
     "execution_count": 18,
     "metadata": {},
     "output_type": "execute_result"
    }
   ],
   "source": [
    "ternary_search_rmse_min(x)"
   ]
  },
  {
   "cell_type": "markdown",
   "metadata": {},
   "source": [
    "Apparently, the using mean is best for other distributions, as well as for the normal distribution."
   ]
  }
 ],
 "metadata": {
  "interpreter": {
   "hash": "60f8cdbf2a96461788475085dd1e9d6dd7137de331e19aa3c17c37cb4f0963a7"
  },
  "kernelspec": {
   "display_name": "Python 3.8.13 ('yourenvname')",
   "language": "python",
   "name": "python3"
  },
  "language_info": {
   "codemirror_mode": {
    "name": "ipython",
    "version": 3
   },
   "file_extension": ".py",
   "mimetype": "text/x-python",
   "name": "python",
   "nbconvert_exporter": "python",
   "pygments_lexer": "ipython3",
   "version": "3.8.13"
  },
  "orig_nbformat": 4
 },
 "nbformat": 4,
 "nbformat_minor": 2
}
