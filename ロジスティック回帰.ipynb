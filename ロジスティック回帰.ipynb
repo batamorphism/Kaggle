{
 "cells": [
  {
   "cell_type": "code",
   "execution_count": 1,
   "metadata": {},
   "outputs": [],
   "source": [
    "from kaggle.api.kaggle_api_extended import KaggleApi\n",
    "import csv\n",
    "import os"
   ]
  },
  {
   "cell_type": "code",
   "execution_count": 2,
   "metadata": {},
   "outputs": [],
   "source": [
    "class KaggleLoadSubmit:\n",
    "    def __init__(self, competition_name, csv_dir):\n",
    "        \"\"\"Kaggleのデータのダウンロードおよび提出を行うクラス\n",
    "\n",
    "        Args:\n",
    "            competition_name (string): Kaggleのコンペ名\n",
    "            csv_dir (string): ダウンロード先と、提出先のcsvのディレクトリをstringで指定\n",
    "        \"\"\"\n",
    "        self.kaggle_api = KaggleApi()\n",
    "        self.csv_dir = csv_dir\n",
    "        self.competition_name = competition_name\n",
    "        if self.csv_dir[-1] != '\\\\':\n",
    "            self.csv_dir += '\\\\'\n",
    "        self.kaggle_api.authenticate()\n",
    "\n",
    "    def download_zip(self):\n",
    "        \"\"\"コンペティションのzipファイルをダウンロードする\n",
    "        \"\"\"\n",
    "        ret = self.kaggle_api.competition_download_files(self.competition_name, self.csv_dir, force=True)\n",
    "        print(ret)\n",
    "\n",
    "    def submit_csv(self, csv_name, message):\n",
    "        \"\"\"csvデータを提出する\n",
    "\n",
    "        Args:\n",
    "            csv_name (string): csvの名前\n",
    "            message (string): 提出メッセージ\n",
    "        \"\"\"\n",
    "        csv_path = self.csv_dir + csv_name\n",
    "        self.kaggle_api.competition_submit(csv_path, message, self.competition_name)"
   ]
  },
  {
   "cell_type": "code",
   "execution_count": 3,
   "metadata": {},
   "outputs": [],
   "source": [
    "kls = KaggleLoadSubmit('titanic', 'C:\\\\Users\\\\Takanori\\\\Desktop\\\\Kaggle\\\\titanic')\n",
    "# kls.submit_csv('op.csv', 'hoge')"
   ]
  },
  {
   "cell_type": "markdown",
   "metadata": {},
   "source": [
    "# Titanic\n",
    "https://www.kaggle.com/c/titanic/"
   ]
  },
  {
   "cell_type": "code",
   "execution_count": 4,
   "metadata": {},
   "outputs": [],
   "source": [
    "import numpy as np\n",
    "import pandas as pd"
   ]
  },
  {
   "cell_type": "code",
   "execution_count": 5,
   "metadata": {},
   "outputs": [],
   "source": [
    "# データの読み込み\n",
    "data_dir = 'C:\\\\Users\\\\Takanori\\\\Desktop\\\\Kaggle\\\\titanic\\\\data'\n",
    "train = pd.read_csv(os.path.join(data_dir, 'train.csv'))\n",
    "test = pd.read_csv(os.path.join(data_dir, 'test.csv'))"
   ]
  },
  {
   "cell_type": "code",
   "execution_count": 6,
   "metadata": {},
   "outputs": [],
   "source": [
    "def fix(data: pd.DataFrame):\n",
    "    data.Sex.replace(['male', 'female'], [0, 1], inplace=True)\n",
    "    data.Embarked.fillna(('S'), inplace=True)\n",
    "    data['Embarked'] = data['Embarked'].map({'S': 0, 'C': 1, 'Q': 2}).astype(int)\n",
    "    data.Fare.fillna(np.mean(data.Fare), inplace=True)\n",
    "    age_avg = data.Age.mean()\n",
    "    age_std = data['Age'].std()\n",
    "    data['Age'].fillna(np.random.randint(age_avg - age_std, age_avg + age_std), inplace=True)\n",
    "    delete_columns = ['Name', 'PassengerId', 'SibSp', 'Parch', 'Ticket', 'Cabin']\n",
    "    data.drop(delete_columns, axis=1, inplace=True)\n",
    "\n",
    "fix(train)\n",
    "fix(test)\n"
   ]
  },
  {
   "cell_type": "code",
   "execution_count": 7,
   "metadata": {},
   "outputs": [
    {
     "data": {
      "text/html": [
       "<div>\n",
       "<style scoped>\n",
       "    .dataframe tbody tr th:only-of-type {\n",
       "        vertical-align: middle;\n",
       "    }\n",
       "\n",
       "    .dataframe tbody tr th {\n",
       "        vertical-align: top;\n",
       "    }\n",
       "\n",
       "    .dataframe thead th {\n",
       "        text-align: right;\n",
       "    }\n",
       "</style>\n",
       "<table border=\"1\" class=\"dataframe\">\n",
       "  <thead>\n",
       "    <tr style=\"text-align: right;\">\n",
       "      <th></th>\n",
       "      <th>Pclass</th>\n",
       "      <th>Sex</th>\n",
       "      <th>Age</th>\n",
       "      <th>Fare</th>\n",
       "      <th>Embarked</th>\n",
       "    </tr>\n",
       "  </thead>\n",
       "  <tbody>\n",
       "    <tr>\n",
       "      <th>0</th>\n",
       "      <td>3</td>\n",
       "      <td>0</td>\n",
       "      <td>34.5</td>\n",
       "      <td>7.8292</td>\n",
       "      <td>2</td>\n",
       "    </tr>\n",
       "    <tr>\n",
       "      <th>1</th>\n",
       "      <td>3</td>\n",
       "      <td>1</td>\n",
       "      <td>47.0</td>\n",
       "      <td>7.0000</td>\n",
       "      <td>0</td>\n",
       "    </tr>\n",
       "    <tr>\n",
       "      <th>2</th>\n",
       "      <td>2</td>\n",
       "      <td>0</td>\n",
       "      <td>62.0</td>\n",
       "      <td>9.6875</td>\n",
       "      <td>2</td>\n",
       "    </tr>\n",
       "    <tr>\n",
       "      <th>3</th>\n",
       "      <td>3</td>\n",
       "      <td>0</td>\n",
       "      <td>27.0</td>\n",
       "      <td>8.6625</td>\n",
       "      <td>0</td>\n",
       "    </tr>\n",
       "    <tr>\n",
       "      <th>4</th>\n",
       "      <td>3</td>\n",
       "      <td>1</td>\n",
       "      <td>22.0</td>\n",
       "      <td>12.2875</td>\n",
       "      <td>0</td>\n",
       "    </tr>\n",
       "    <tr>\n",
       "      <th>...</th>\n",
       "      <td>...</td>\n",
       "      <td>...</td>\n",
       "      <td>...</td>\n",
       "      <td>...</td>\n",
       "      <td>...</td>\n",
       "    </tr>\n",
       "    <tr>\n",
       "      <th>413</th>\n",
       "      <td>3</td>\n",
       "      <td>0</td>\n",
       "      <td>32.0</td>\n",
       "      <td>8.0500</td>\n",
       "      <td>0</td>\n",
       "    </tr>\n",
       "    <tr>\n",
       "      <th>414</th>\n",
       "      <td>1</td>\n",
       "      <td>1</td>\n",
       "      <td>39.0</td>\n",
       "      <td>108.9000</td>\n",
       "      <td>1</td>\n",
       "    </tr>\n",
       "    <tr>\n",
       "      <th>415</th>\n",
       "      <td>3</td>\n",
       "      <td>0</td>\n",
       "      <td>38.5</td>\n",
       "      <td>7.2500</td>\n",
       "      <td>0</td>\n",
       "    </tr>\n",
       "    <tr>\n",
       "      <th>416</th>\n",
       "      <td>3</td>\n",
       "      <td>0</td>\n",
       "      <td>32.0</td>\n",
       "      <td>8.0500</td>\n",
       "      <td>0</td>\n",
       "    </tr>\n",
       "    <tr>\n",
       "      <th>417</th>\n",
       "      <td>3</td>\n",
       "      <td>0</td>\n",
       "      <td>32.0</td>\n",
       "      <td>22.3583</td>\n",
       "      <td>1</td>\n",
       "    </tr>\n",
       "  </tbody>\n",
       "</table>\n",
       "<p>418 rows × 5 columns</p>\n",
       "</div>"
      ],
      "text/plain": [
       "     Pclass  Sex   Age      Fare  Embarked\n",
       "0         3    0  34.5    7.8292         2\n",
       "1         3    1  47.0    7.0000         0\n",
       "2         2    0  62.0    9.6875         2\n",
       "3         3    0  27.0    8.6625         0\n",
       "4         3    1  22.0   12.2875         0\n",
       "..      ...  ...   ...       ...       ...\n",
       "413       3    0  32.0    8.0500         0\n",
       "414       1    1  39.0  108.9000         1\n",
       "415       3    0  38.5    7.2500         0\n",
       "416       3    0  32.0    8.0500         0\n",
       "417       3    0  32.0   22.3583         1\n",
       "\n",
       "[418 rows x 5 columns]"
      ]
     },
     "metadata": {},
     "output_type": "display_data"
    }
   ],
   "source": [
    "display(test)"
   ]
  },
  {
   "cell_type": "code",
   "execution_count": 8,
   "metadata": {},
   "outputs": [
    {
     "name": "stderr",
     "output_type": "stream",
     "text": [
      "C:\\Users\\Takanori\\AppData\\Local\\Programs\\Python\\Python39\\lib\\site-packages\\sklearn\\linear_model\\_sag.py:328: ConvergenceWarning: The max_iter was reached which means the coef_ did not converge\n",
      "  warnings.warn(\"The max_iter was reached which means \"\n"
     ]
    }
   ],
   "source": [
    "# ロジスティック回帰で予測する\n",
    "from sklearn.linear_model import LogisticRegression\n",
    "\n",
    "def predict():\n",
    "    Y_train = train['Survived']\n",
    "    X_train = train.drop('Survived', axis=1)\n",
    "    X_test = test\n",
    "    clf = LogisticRegression(penalty='l2', solver='sag', random_state=0)\n",
    "    clf.fit(X_train, Y_train)\n",
    "    y_pred = clf.predict(X_test)\n",
    "    return y_pred\n",
    "\n",
    "y_pred = predict()\n"
   ]
  },
  {
   "cell_type": "code",
   "execution_count": 9,
   "metadata": {},
   "outputs": [],
   "source": [
    "# save_csv\n",
    "sub = pd.read_csv(os.path.join(data_dir, 'gender_submission.csv'))\n",
    "sub['Survived'] = y_pred\n",
    "sub.to_csv(os.path.join(data_dir, 'my_submission.csv'), index=False)"
   ]
  },
  {
   "cell_type": "code",
   "execution_count": 10,
   "metadata": {},
   "outputs": [
    {
     "name": "stderr",
     "output_type": "stream",
     "text": [
      "100%|██████████| 3.18k/3.18k [00:03<00:00, 872B/s]\n"
     ]
    }
   ],
   "source": [
    "kls.submit_csv(os.path.join('my_submission.csv'), '0314')"
   ]
  }
 ],
 "metadata": {
  "interpreter": {
   "hash": "f2a1534ca7ab28c7e826feaf6171392fbba122c8b12f3f6922ef1415ce719538"
  },
  "kernelspec": {
   "display_name": "Python 3.9.7 64-bit",
   "language": "python",
   "name": "python3"
  },
  "language_info": {
   "codemirror_mode": {
    "name": "ipython",
    "version": 3
   },
   "file_extension": ".py",
   "mimetype": "text/x-python",
   "name": "python",
   "nbconvert_exporter": "python",
   "pygments_lexer": "ipython3",
   "version": "3.9.7"
  },
  "orig_nbformat": 4
 },
 "nbformat": 4,
 "nbformat_minor": 2
}
